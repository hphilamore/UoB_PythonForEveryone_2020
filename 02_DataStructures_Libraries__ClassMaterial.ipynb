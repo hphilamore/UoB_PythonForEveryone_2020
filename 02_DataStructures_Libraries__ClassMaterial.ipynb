{
 "cells": [
  {
   "cell_type": "markdown",
   "metadata": {
    "slideshow": {
     "slide_type": "slide"
    }
   },
   "source": [
    "<img src=\"img/full-colour-logo-UoB.png\" alt=\"Drawing\" style=\"width: 200px;\"/>\n",
    "\n",
    "# Introduction to Programming for Everyone\n",
    "\n",
    "## Python 3\n",
    "\n",
    "\n"
   ]
  },
  {
   "cell_type": "markdown",
   "metadata": {
    "collapsed": true,
    "slideshow": {
     "slide_type": "slide"
    }
   },
   "source": [
    "# 02 Data Structures and Libraries\n",
    "## CLASS MATERIAL\n",
    "\n",
    "<br> <a href='#DataStructures'>1. Data Structures</a>\n",
    "<br> <a href='#Libraries__'>2. Libraries</a> \n",
    "<br> <a href='#InstallingPygame'>3. Installing Pygame</a>\n",
    "<br> <a href='#ReviewExercises'>4. Review Exercises</a>"
   ]
  },
  {
   "cell_type": "markdown",
   "metadata": {
    "slideshow": {
     "slide_type": "slide"
    }
   },
   "source": [
    "<a id='Summary'></a>\n",
    "# Supplementary Material Summary \n",
    "For more information refer to the primer notebook for this class 02_DataStructures_Libraries__SupplementaryMaterial.ipynb\n",
    "\n",
    "###### Data Structures\n",
    "\n",
    "- A data structure is used to assign a collection of values to a single collection name.\n",
    " - A Python list can store multiple items of data in sequentially numbered elements (numbering starts at zero)\n",
    " - Data stored in a list element can be referenced using the list name can be referenced using the list name followed by an index number in [] square brackets.\n",
    " - The `len()` function returns the length of a specified list. \n",
    "\n"
   ]
  },
  {
   "cell_type": "markdown",
   "metadata": {
    "slideshow": {
     "slide_type": "slide"
    }
   },
   "source": [
    "###### Libraries\n",
    "- Python has an extensive __standard library__ of built-in functions. \n",
    "- More specialised libraries of functions and constants are available. We call these __packages__. \n",
    "- Packages are imported using the keyword `import`\n",
    "- The function documentation tells is what it does and how to use it.\n",
    "- When calling a library function it must be prefixed with a __namespace__ is used to show from which package it should be called.  \n"
   ]
  },
  {
   "cell_type": "markdown",
   "metadata": {
    "slideshow": {
     "slide_type": "slide"
    }
   },
   "source": [
    "## Lesson Goal\n",
    "\n",
    "- Build a guessing game.\n",
    "- Build the game 0 and Xs or tic-tac-toe.\n",
    "\n",
    "<p align=\"center\">\n",
    "  <img src=\"img/noughts_and_crosses.jpg\" alt=\"Drawing\" style=\"width: 200px;\"/>\n",
    "</p>\n",
    "\n",
    "\n",
    "\n",
    "## Fundamental programming concepts\n",
    " - Importing existing libraries of code to use in your program\n",
    " - Storing and representing data e.g. a grid with 0 and X in each grid cell"
   ]
  },
  {
   "cell_type": "markdown",
   "metadata": {
    "slideshow": {
     "slide_type": "slide"
    }
   },
   "source": [
    "<a id='DataStructures'></a>\n",
    "# 1. Data Structures\n",
    "\n",
    "In the last seminar we learnt to generate a range of numbers for use in control flow of  a program, using the function `range()`:\n",
    "\n",
    "\n",
    "       for j in range(20):\n",
    "           ...\n",
    "    \n",
    "        \n",
    "Often we want to manipulate data that is more meaningful than ranges of numbers.\n",
    "\n",
    "These collections of variables might include:\n",
    " - the results of an experiment\n",
    " - a list of names\n",
    " - the components of a vector\n",
    " - a telephone directory with names and associated numbers.\n",
    "    "
   ]
  },
  {
   "cell_type": "markdown",
   "metadata": {
    "slideshow": {
     "slide_type": "slide"
    }
   },
   "source": [
    "Python has different __data structures__ that can be used to store and manipulate these values.\n",
    "\n",
    "Like variable types (`string`, `int`,`float`...) different data structures behave in different ways.\n",
    "\n",
    "Today we will learn to use `list`s "
   ]
  },
  {
   "cell_type": "markdown",
   "metadata": {
    "collapsed": true,
    "slideshow": {
     "slide_type": "slide"
    }
   },
   "source": [
    "A list is a container with compartments in which we can store data:\n",
    "<p align=\"center\">\n",
    "  <img src=\"img/ice_cube_tray.png\" alt=\"Drawing\" style=\"width: 500px;\"/>\n",
    "</p>"
   ]
  },
  {
   "cell_type": "markdown",
   "metadata": {
    "slideshow": {
     "slide_type": "slide"
    }
   },
   "source": [
    "Example\n",
    "\n",
    "If we want to store the names of students in a laboratory group, \n",
    "rather than representing each students using an individual string variable, we could use a list of names. \n",
    "\n"
   ]
  },
  {
   "cell_type": "code",
   "execution_count": 1,
   "metadata": {},
   "outputs": [
    {
     "name": "stdout",
     "output_type": "stream",
     "text": [
      "['Yukari', 'Sajid', 'Hemma', 'Ayako']\n",
      "['Sara', 'Mari', 'Quang', 'Sam', 'Ryo', 'Nao', 'Takashi']\n"
     ]
    }
   ],
   "source": [
    "lab_group0 = [\"Yukari\", \"Sajid\", \"Hemma\", \"Ayako\"]\n",
    "lab_group1 = [\"Sara\", \"Mari\", \"Quang\", \"Sam\", \"Ryo\", \"Nao\", \"Takashi\"]\n",
    "\n",
    "print(lab_group0)\n",
    "print(lab_group1)"
   ]
  },
  {
   "cell_type": "markdown",
   "metadata": {
    "slideshow": {
     "slide_type": "slide"
    }
   },
   "source": [
    "This is useful because we can perform operations on lists such as:\n",
    " - checking its length (number of students in a lab group)\n",
    " - sorting the names in the list into alphabetical order\n",
    " - making a list of lists (we call this a *nested list*):\n"
   ]
  },
  {
   "cell_type": "code",
   "execution_count": 2,
   "metadata": {},
   "outputs": [
    {
     "name": "stdout",
     "output_type": "stream",
     "text": [
      "[['Yukari', 'Sajid', 'Hemma', 'Ayako'], ['Sara', 'Mari', 'Quang', 'Sam', 'Ryo', 'Nao', 'Takashi']]\n"
     ]
    }
   ],
   "source": [
    "lab_groups = [lab_group0, lab_group1]\n",
    "print(lab_groups)"
   ]
  },
  {
   "cell_type": "markdown",
   "metadata": {
    "slideshow": {
     "slide_type": "slide"
    }
   },
   "source": [
    "<a id='ExampleChangePosition'></a>\n",
    "### Example: Change in Position: (Representing Vectors using Lists)\n",
    "\n",
    "__Vector:__ A quantity with magnitude and direction."
   ]
  },
  {
   "cell_type": "markdown",
   "metadata": {
    "slideshow": {
     "slide_type": "slide"
    }
   },
   "source": [
    "The position of a point in 2D space (e.g. the position of a character in a game), can be expressed in terms of horizontal (x) and vertical (y) conrdinates. \n",
    "\n",
    "The movement to a new position can be expressed as a change in x and y. \n",
    "\n",
    "<img src=\"img/schiffman_velocity_vector.png\" alt=\"Drawing\" style=\"width: 700px;\"/>\n",
    "\n",
    "[Daniel Schiffman, The Nature of Code]\n"
   ]
  },
  {
   "cell_type": "markdown",
   "metadata": {
    "slideshow": {
     "slide_type": "slide"
    }
   },
   "source": [
    "We can conveniently express the position $\\mathbf{r}$ in matrix (or basis vector) form using the coefficients $x$ and  $y$: \n",
    "$$\n",
    "\\mathbf{r} = [r_x, r_y]\n",
    "$$\n",
    "\n",
    "\n",
    "__...which looks a lot like a Python list!__\n"
   ]
  },
  {
   "cell_type": "markdown",
   "metadata": {
    "slideshow": {
     "slide_type": "slide"
    }
   },
   "source": [
    "When we move a character in a game, we change it's position. \n",
    "\n",
    "The change in position with each time-step is the __velocity__ of the character.\n",
    "\n",
    "__Velocity__ : the magnitude and direction of a change in position per time increment.\n",
    "\n",
    "$$\n",
    "\\mathbf{v} = [v_x, v_y]\n",
    "$$\n",
    "\n"
   ]
  },
  {
   "cell_type": "markdown",
   "metadata": {
    "slideshow": {
     "slide_type": "slide"
    }
   },
   "source": [
    "To get the position at the next time step we simply add the x and y component of the veclocity to the x and y component of the initial position vector:\n",
    "\n",
    " <img src=\"img/schiffman_vector.png\" alt=\"Drawing\" style=\"width: 800px;\"/>\n",
    " \n",
    "\n",
    "\n",
    "\\begin{align}\n",
    "      {\\displaystyle {\\begin{aligned}\\ \n",
    "      \\mathbf{w}\n",
    "      &=\\mathbf{u} + \\mathbf{u}\\\\\n",
    "      &=[(u_x+v_x),\\;\\;   (u_y+v_y)] \\\\ \\end{aligned}}} \n",
    "\\end{align}\n"
   ]
  },
  {
   "cell_type": "markdown",
   "metadata": {
    "slideshow": {
     "slide_type": "slide"
    }
   },
   "source": [
    "For example, let's find the position at the next timestep where:\n",
    " - initial position,  $\\mathbf{u} = [5, 2]$\n",
    " - velocity,  $\\mathbf{v} = [3, 4]$\n",
    " \n",
    " <img src=\"img/schiffman_vector.png\" alt=\"Drawing\" style=\"width: 500px;\"/>\n",
    " \n",
    " [Daniel Schiffman, The Nature of Code]"
   ]
  },
  {
   "cell_type": "code",
   "execution_count": 3,
   "metadata": {},
   "outputs": [],
   "source": [
    "# Example: Change in Position\n"
   ]
  },
  {
   "cell_type": "code",
   "execution_count": 4,
   "metadata": {
    "slideshow": {
     "slide_type": "slide"
    }
   },
   "outputs": [
    {
     "name": "stdout",
     "output_type": "stream",
     "text": [
      "[8, 6]\n"
     ]
    }
   ],
   "source": [
    "# Example Solution: Change in Position\n",
    "\n",
    "u = [5, 2]\n",
    "v = [3, 4]\n",
    "\n",
    "u = [u[0] + v[0], \n",
    "     u[1] + v[1]]\n",
    "\n",
    "print(u)"
   ]
  },
  {
   "cell_type": "markdown",
   "metadata": {
    "slideshow": {
     "slide_type": "slide"
    }
   },
   "source": [
    "Arranging the code on seperate lines:\n",
    " - makes the code more readable\n",
    " - does not effect how the code works\n",
    " \n",
    "Line breaks can only be used within code that is enclosed by at elast one set of brackets (), []. "
   ]
  },
  {
   "cell_type": "markdown",
   "metadata": {
    "slideshow": {
     "slide_type": "slide"
    }
   },
   "source": [
    "__Check Your Solution:__ \n",
    "\n",
    "\n",
    "$ \\mathbf{u} = [5, 2]$\n",
    "<br> $ \\mathbf{v} = [3, 4]$\n",
    "\n",
    "\n",
    "\\begin{align}\n",
    "      {\\displaystyle {\\begin{aligned}\\ \n",
    "      \\mathbf{u} + \\mathbf{v}\n",
    "      &=[5, 2]+ [3, 4]\\\\\n",
    "      &=[(5+3), \\quad (2+4)] \\\\\n",
    "      & = [8, 6] \\end{aligned}}} \n",
    "\\end{align}"
   ]
  },
  {
   "cell_type": "markdown",
   "metadata": {
    "slideshow": {
     "slide_type": "slide"
    }
   },
   "source": [
    "<a id='Libraries__'></a>\n",
    "# 2. Libraries\n",
    "\n",
    "<br> &emsp;&emsp; <a href='#StandardLibrary'>__2.1 The Standard Library__</a> \n",
    "<br> &emsp;&emsp; <a href='#Packages'>__2.2 Packages__ </a> \n",
    "<br> &emsp;&emsp; <a href='#FunctionDocumentation'>__2.3 Function Documentation__</a> \n",
    "<br> &emsp;&emsp; <a href='#Optimise'>__2.4 Using Package Functions to Optimise your Code__</a> \n",
    "   \n",
    "One of the most important concepts in good programming is to reuse code and avoid repetitions.\n",
    "\n",
    "Python, like other modern programming languages, has an extensive *library* of built-in functions. \n",
    "\n",
    "These functions are designed, tested and optimised by the developers of the Python langauge.  \n",
    "\n",
    "We can use these functions to make our code shorter, faster and more reliable.\n",
    "\n",
    "   "
   ]
  },
  {
   "cell_type": "markdown",
   "metadata": {
    "slideshow": {
     "slide_type": "slide"
    }
   },
   "source": [
    "<a id='StandardLibrary'></a>\n",
    "## 2.1 The Standard Library\n",
    "\n",
    "Python has a large standard library. \n",
    "\n",
    "e.g. `print()` takes the __input__ in the parentheses and __outputs__ a visible representation.\n",
    "\n",
    "They are listed on the Python website:\n",
    "https://docs.python.org/3/library/functions.html"
   ]
  },
  {
   "cell_type": "markdown",
   "metadata": {
    "collapsed": true,
    "slideshow": {
     "slide_type": "slide"
    }
   },
   "source": [
    "We could write our own code to find the minimum of a group of numbers\n",
    "\n",
    "\n"
   ]
  },
  {
   "cell_type": "code",
   "execution_count": 5,
   "metadata": {},
   "outputs": [
    {
     "name": "stdout",
     "output_type": "stream",
     "text": [
      "1\n"
     ]
    }
   ],
   "source": [
    "x0 = 1\n",
    "x1 = 2\n",
    "x2 = 4\n",
    "\n",
    "x_min = x0\n",
    "if x1 < x_min:\n",
    "    x_min = x1\n",
    "if x2 < x_min:\n",
    "    x_min = x2\n",
    "        \n",
    "print(x_min)"
   ]
  },
  {
   "cell_type": "markdown",
   "metadata": {
    "slideshow": {
     "slide_type": "slide"
    }
   },
   "source": [
    "However, it is much faster to use the build in function:"
   ]
  },
  {
   "cell_type": "code",
   "execution_count": 6,
   "metadata": {},
   "outputs": [
    {
     "name": "stdout",
     "output_type": "stream",
     "text": [
      "1\n"
     ]
    }
   ],
   "source": [
    "print(min(1,2,4))"
   ]
  },
  {
   "cell_type": "markdown",
   "metadata": {
    "slideshow": {
     "slide_type": "slide"
    }
   },
   "source": [
    "The built-in functions can be found in (.py) files called 'modules'.\n",
    "\n",
    "The files are neatly arranged into a system of __sub-packages__ (sub-folders) and __modules__ (files).\n",
    "\n",
    "These files are stored on the computer you are using."
   ]
  },
  {
   "cell_type": "markdown",
   "metadata": {
    "slideshow": {
     "slide_type": "slide"
    }
   },
   "source": [
    "A quick google search for \"python function to sum all the numbers in a list\"...\n",
    "\n",
    "https://www.google.co.jp/search?q=python+function+to+sum+all+the+numbers+in+a+list&rlz=1C5CHFA_enJP751JP751&oq=python+function+to+sum+&aqs=chrome.0.0j69i57j0l4.7962j0j7&sourceid=chrome&ie=UTF-8\n",
    "\n",
    "...returns the function `sum()`."
   ]
  },
  {
   "cell_type": "markdown",
   "metadata": {
    "slideshow": {
     "slide_type": "slide"
    }
   },
   "source": [
    "`sum()` finds the sum of the values in a data structure.\n",
    "\n",
    "\n",
    "\n"
   ]
  },
  {
   "cell_type": "code",
   "execution_count": 7,
   "metadata": {
    "slideshow": {
     "slide_type": "slide"
    }
   },
   "outputs": [
    {
     "name": "stdout",
     "output_type": "stream",
     "text": [
      "15\n",
      "15\n",
      "15\n"
     ]
    }
   ],
   "source": [
    "print(sum([1,2,3,4,5]))\n",
    "\n",
    "print(sum((1,2,3,4,5)))\n",
    "\n",
    "a = [1,2,3,4,5]\n",
    "print(sum(a))"
   ]
  },
  {
   "cell_type": "markdown",
   "metadata": {
    "slideshow": {
     "slide_type": "slide"
    }
   },
   "source": [
    "The function `max()` finds the maximum value in data structure."
   ]
  },
  {
   "cell_type": "markdown",
   "metadata": {
    "slideshow": {
     "slide_type": "slide"
    }
   },
   "source": [
    "<a id='Packages'></a>\n",
    "## 2.2 Packages\n",
    "\n",
    "The standard library tools are available in any Python environment.\n",
    "\n",
    "More specialised libraries, called packages, are available for more specific tasks \n",
    "<br>e.g. solving trigonometric functions.\n",
    "\n",
    "Packages contain functions and constants.  \n",
    "\n",
    "We install the packages to use them.   \n",
    "\n"
   ]
  },
  {
   "cell_type": "markdown",
   "metadata": {
    "slideshow": {
     "slide_type": "slide"
    }
   },
   "source": [
    "__Pygame__\n",
    "<br>For a large part of this course we will use functions from a package called `Pygame`.\n",
    "<br>`Pygame` is a set of Python modules designed for writing computer games, graphics and sound projects. \n",
    "<br>Instructions for how install pygame will be given later in today's seminar.\n",
    "\n",
    "__math__\n",
    "<br>`math` is already installed and allows you to use convenient mathematical functions and operators.\n",
    "\n",
    " \n",
    "\n",
    "A package is a collection of Python modules: \n",
    "- a __module__ is a single Python file\n",
    "- a __package__ is a directory of Python modules.<br>(It contains an __init__.py file, to distinguish it from folders that are not libraries)."
   ]
  },
  {
   "cell_type": "markdown",
   "metadata": {
    "slideshow": {
     "slide_type": "slide"
    }
   },
   "source": [
    "The files that are stored on your computer when Pygame is installed:\n",
    "<br>https://github.com/pygame/pygame"
   ]
  },
  {
   "cell_type": "markdown",
   "metadata": {},
   "source": [
    "<a id='ImportingPackage'></a>\n",
    "## Importing a Package\n",
    "\n",
    "To use an installed package, we  simply `import` it.\n",
    "\n",
    "We only need to import the package once.\n",
    "<br>The `import` statement must appear before the use of the package in the code so all packages are usually imported at the start of the program. \n",
    "\n",
    "        import math\n",
    "\n",
    "We can then use variable and functions defined within that package by prefixing them with the name of the package:"
   ]
  },
  {
   "cell_type": "code",
   "execution_count": 8,
   "metadata": {},
   "outputs": [],
   "source": [
    "import math"
   ]
  },
  {
   "cell_type": "markdown",
   "metadata": {},
   "source": [
    "After this, any constant, variable or function from the package can be used by prefixing it with the name of the package:\n",
    "\n",
    "Any constant in `math` can be called as:\n",
    "\n",
    "        `math.constant`.\n",
    "        \n",
    "\n",
    "Any function in `numpy` can be called as:\n",
    "\n",
    "        `math.function()`\n",
    "        \n",
    "\n",
    "\n"
   ]
  },
  {
   "cell_type": "code",
   "execution_count": 9,
   "metadata": {
    "slideshow": {
     "slide_type": "-"
    }
   },
   "outputs": [
    {
     "name": "stdout",
     "output_type": "stream",
     "text": [
      "3.141592653589793\n",
      "0.5403023058681398\n"
     ]
    }
   ],
   "source": [
    "# pi\n",
    "print(math.pi)\n",
    "\n",
    "x = 1\n",
    "\n",
    "# Trigonometric functions e.g. cosine\n",
    "y = math.cos(x)\n",
    "print(y)"
   ]
  },
  {
   "cell_type": "markdown",
   "metadata": {
    "slideshow": {
     "slide_type": "slide"
    }
   },
   "source": [
    "We can change the name of a package e.g. to keep our code short and neat.\n",
    "\n",
    "Using the __`as`__ keyword:"
   ]
  },
  {
   "cell_type": "code",
   "execution_count": 10,
   "metadata": {
    "slideshow": {
     "slide_type": "-"
    }
   },
   "outputs": [
    {
     "name": "stdout",
     "output_type": "stream",
     "text": [
      "3.141592653589793\n"
     ]
    }
   ],
   "source": [
    "import numpy as np\n",
    "print(np.pi)"
   ]
  },
  {
   "cell_type": "markdown",
   "metadata": {
    "slideshow": {
     "slide_type": "slide"
    }
   },
   "source": [
    "We only need to import a package once, at the start of the program or notebook."
   ]
  },
  {
   "cell_type": "markdown",
   "metadata": {
    "slideshow": {
     "slide_type": "slide"
    }
   },
   "source": [
    "<a id='UsingPackageFunctions'></a>\n",
    "## Using Package Functions. \n",
    "\n",
    "Let's learn to use `math` functions in our programs...\n",
    "\n",
    "\n",
    "\n"
   ]
  },
  {
   "cell_type": "code",
   "execution_count": 11,
   "metadata": {
    "slideshow": {
     "slide_type": "slide"
    }
   },
   "outputs": [
    {
     "name": "stdout",
     "output_type": "stream",
     "text": [
      "0.8414709848078965\n",
      "1.557407724654902\n",
      "0.7853981633974483\n"
     ]
    }
   ],
   "source": [
    "# Some examples math functions with their definitions (as given in the documentation)\n",
    "\n",
    "x = 1\n",
    "\n",
    "# Return the sine of x radians.\n",
    "print(math.sin(x))\n",
    "\n",
    "# Return the tangent of x radians.\n",
    "print(math.tan(x))\n",
    "\n",
    "# Return the inverse hyperbolic tangent of x.\n",
    "print(math.atan(x))\n",
    "\n"
   ]
  },
  {
   "cell_type": "code",
   "execution_count": 12,
   "metadata": {
    "slideshow": {
     "slide_type": "slide"
    }
   },
   "outputs": [
    {
     "name": "stdout",
     "output_type": "stream",
     "text": [
      "57.29577951308232\n",
      "1.0\n"
     ]
    }
   ],
   "source": [
    "x = 1\n",
    "\n",
    "# Convert angle x from radians to degrees.\n",
    "degrees = math.degrees(x)\n",
    "print(degrees)\n",
    "\n",
    "# Convert angle x from degrees to radians.\n",
    "radians = math.radians(degrees)\n",
    "print(radians)   "
   ]
  },
  {
   "cell_type": "markdown",
   "metadata": {
    "slideshow": {
     "slide_type": "slide"
    }
   },
   "source": [
    "<a id='FunctionDocumentation'></a>\n",
    "## 2.3 Function Documentation\n",
    "\n",
    "Online documentation can be used to find out: \n",
    "- what to include in the () parentheses\n",
    "- allowable data types to use as arguments\n",
    "- the order in which arguments should be given \n"
   ]
  },
  {
   "cell_type": "markdown",
   "metadata": {
    "slideshow": {
     "slide_type": "slide"
    }
   },
   "source": [
    "A google search for 'python math documentation' returns:\n",
    "\n",
    "https://docs.python.org/3/library/math.html\n",
    "\n",
    "(this list is not exhaustive). "
   ]
  },
  {
   "cell_type": "markdown",
   "metadata": {
    "slideshow": {
     "slide_type": "slide"
    }
   },
   "source": [
    "### Try it yourself:\n",
    "<br> Find a function in the Python math documentation (https://docs.python.org/3/library/math.html) that can be used to solve the following problem:   \n",
    "\n",
    "##### Return, $\\left| x \\right|$, the absolute value of x  \n",
    "\n",
    "\n",
    "Write your answer in the cell below:"
   ]
  },
  {
   "cell_type": "code",
   "execution_count": 13,
   "metadata": {},
   "outputs": [],
   "source": [
    "# Return the absolute value of x."
   ]
  },
  {
   "cell_type": "markdown",
   "metadata": {
    "slideshow": {
     "slide_type": "slide"
    }
   },
   "source": [
    "<a id='Examplemathpow'></a>\n",
    "### Example : math.pow ($x^y$)\n",
    "Documentation : https://docs.python.org/3/library/math.html#hyperbolic-functions\n",
    "\n",
    "<img src=\"img/math_pow.png\" alt=\"Drawing\" style=\"width: 700px;\"/> \n",
    "\n",
    "The documentation tells us the following information...\n",
    "\n",
    "##### What arguments to input:\n",
    "\"math.pow(x, y)\"\n",
    "\n",
    "##### What the function returns:\n",
    "\"Return x raised to the power y.\"\n",
    "\n",
    "##### The format of the returned argument:\n",
    "math.pow() converts both its arguments to type float\n",
    "\n"
   ]
  },
  {
   "cell_type": "markdown",
   "metadata": {
    "slideshow": {
     "slide_type": "slide"
    }
   },
   "source": [
    "<a id='Optimise'></a>\n",
    "## 2.4 Using Package Functions to Optimise your Code\n",
    "One  purpose of using imported functions is to make your code shorter and neater.\n",
    "\n",
    "\n",
    "<br>For example, when designing a game it can be very useful to generate (pseudo) random numbers so that the challenges and problems for the user to solve are not identical every time the game is played.\n",
    "\n",
    "Writing your own algorithm to generate random numbers is unecessarily time-consuming.\n",
    "\n"
   ]
  },
  {
   "cell_type": "markdown",
   "metadata": {
    "slideshow": {
     "slide_type": "slide"
    }
   },
   "source": [
    "`random` is a python module that implements pseudo-random number generators for various distributions.\n",
    "\n",
    "The documentation of the functions in this package can be found here:\n",
    "<br>https://docs.python.org/3/library/random.html#\n",
    "\n",
    "Import random to use functions from this package:"
   ]
  },
  {
   "cell_type": "code",
   "execution_count": 14,
   "metadata": {},
   "outputs": [],
   "source": [
    "import random"
   ]
  },
  {
   "cell_type": "markdown",
   "metadata": {
    "collapsed": true,
    "slideshow": {
     "slide_type": "slide"
    }
   },
   "source": [
    "Here are some examples of functions from `random`..."
   ]
  },
  {
   "cell_type": "code",
   "execution_count": 15,
   "metadata": {
    "slideshow": {
     "slide_type": "-"
    }
   },
   "outputs": [
    {
     "data": {
      "text/plain": [
       "11"
      ]
     },
     "execution_count": 15,
     "metadata": {},
     "output_type": "execute_result"
    }
   ],
   "source": [
    "# random.randint(a, b) \n",
    "# Return a random integer N such that a <= N <= b. \n",
    "random.randint(1, 15)\n"
   ]
  },
  {
   "cell_type": "code",
   "execution_count": 16,
   "metadata": {},
   "outputs": [
    {
     "data": {
      "text/plain": [
       "[3, 8, 4, 6]"
      ]
     },
     "execution_count": 16,
     "metadata": {},
     "output_type": "execute_result"
    }
   ],
   "source": [
    "# random.sample(population, k)\n",
    "# Return a k length list of unique elements chosen from the population sequence or set. \n",
    "# Used for random sampling without replacement.\n",
    "random.sample([1,2,3,4,5,6,7,8], 4)"
   ]
  },
  {
   "cell_type": "markdown",
   "metadata": {
    "slideshow": {
     "slide_type": "slide"
    }
   },
   "source": [
    "Random numbers can be used to introduce an element of uncertainty to your programs.\n",
    "\n",
    "This makes a game more intersting as the outcome may be different every time it is played.\n",
    "\n",
    "For example, an adventure game may have a different outcome depending on a random variable."
   ]
  },
  {
   "cell_type": "code",
   "execution_count": 17,
   "metadata": {
    "slideshow": {
     "slide_type": "slide"
    }
   },
   "outputs": [
    {
     "name": "stdout",
     "output_type": "stream",
     "text": [
      "Inside the castle you see a giant spider.\n",
      "Do you fight the spider?  (Yes/No) Yes\n",
      "you defeat the spider. \n",
      "You win!\n"
     ]
    }
   ],
   "source": [
    "print(\"Inside the castle you see a giant spider.\")\n",
    "answer = input(\"Do you fight the spider?  (Yes/No) \")\n",
    "        \n",
    "    \n",
    "if answer == 'Yes':\n",
    "    print(\"you defeat the spider. \\nYou win!\")\n",
    "        \n",
    "else:\n",
    "    print(\"The spider eats you. \\nYou lose!\")"
   ]
  },
  {
   "cell_type": "markdown",
   "metadata": {
    "slideshow": {
     "slide_type": "slide"
    }
   },
   "source": [
    "An adventure game where the outcome is random can be more interesting."
   ]
  },
  {
   "cell_type": "code",
   "execution_count": 18,
   "metadata": {},
   "outputs": [
    {
     "name": "stdout",
     "output_type": "stream",
     "text": [
      "Inside the castle you see a giant spider.\n",
      "Do you fight the spider?  (Yes/No) No\n",
      "The spider eats you. \n",
      "You lose!\n"
     ]
    }
   ],
   "source": [
    "print(\"Inside the castle you see a giant spider.\")\n",
    "answer = input(\"Do you fight the spider?  (Yes/No) \")\n",
    "        \n",
    "    \n",
    "if answer == 'Yes':\n",
    "    number = int(random.randint(0, 2))\n",
    "    if number < 2:\n",
    "        print(\"The spider defeats you. \\nYou lose!\")\n",
    "    else:\n",
    "        print(\"you defeat the spider. \\nYou win!\")\n",
    "        \n",
    "\n",
    "else:\n",
    "    print(\"The spider eats you. \\nYou lose!\")"
   ]
  },
  {
   "cell_type": "markdown",
   "metadata": {
    "slideshow": {
     "slide_type": "slide"
    }
   },
   "source": [
    "Random, computer generated values can also be used to build a game of rock, paper scissors where the user plays against the computer.\n",
    "\n",
    "The code section below shows the case that the player choses *rock*.\n",
    "\n",
    "```python\n",
    "\n",
    "computer = int(random.randint(0, 2))\n",
    "        if computer == 0:\n",
    "            c_choice = \"rock\"\n",
    "        elif computer == 1:\n",
    "            c_choice = \"paper\"\n",
    "        else:\n",
    "            c_choice = \"scissors\"\n",
    "```\n"
   ]
  },
  {
   "cell_type": "markdown",
   "metadata": {
    "slideshow": {
     "slide_type": "slide"
    }
   },
   "source": [
    "The full version of the code is given in example program: Examples/02_RockPaperScissors.py\n",
    "\n",
    "Try running this from the terminal by typing `python3 02_RockPaperScissors.py` from within the __PyEv2019/Examples__ directory."
   ]
  },
  {
   "cell_type": "markdown",
   "metadata": {
    "slideshow": {
     "slide_type": "slide"
    }
   },
   "source": [
    "<a id='InstallingPygame'></a>\n",
    "## 3. Installing Pygame\n",
    "Install Pygame now. We will begin using this package in next week's class.\n",
    "\n",
    "##### Windows \n",
    "\n",
    "1. Open the Anaconda Prompt from the terminal.\n",
    "<p align=\"center\">\n",
    "  <img src=\"img/anaconda_prompt.png\" alt=\"Drawing\" style=\"width: 300px;\"/>\n",
    "</p>\n",
    "\n",
    "1. The window that opens will look like the command line. In the window type the following code then press 'Enter':\n",
    ">`conda install -c anaconda pip`\n",
    "\n",
    "1. When the installation completes type the following code then press 'Enter':\n",
    ">`pip install pygame`\n",
    "\n",
    "##### Mac\n",
    "\n",
    "1. Open a terminal. \n",
    "\n",
    "1. Type the following code then press 'Enter':\n",
    ">`conda install -c anaconda pip`\n",
    "\n",
    "1. When the installation completes type the following code then press 'Enter':\n",
    ">`pip install pygame`\n",
    "\n"
   ]
  },
  {
   "cell_type": "markdown",
   "metadata": {
    "slideshow": {
     "slide_type": "slide"
    }
   },
   "source": [
    "To check the installation has worked type:\n",
    ">`import pygame` \n",
    "\n",
    "in a Jupyter notebook cell and run the cell. If no error is generated you have installed pygame successfully. "
   ]
  },
  {
   "cell_type": "markdown",
   "metadata": {
    "slideshow": {
     "slide_type": "slide"
    }
   },
   "source": [
    "<a id='ReviewExercises'></a>\n",
    "# 4. Review Exercises\n",
    "\n",
    "Compete the exercise below.\n",
    "\n",
    "Save your answers as .py files and email them to:\n",
    "<br>philamore.hemma.5s@kyoto-u.ac.jp"
   ]
  },
  {
   "cell_type": "markdown",
   "metadata": {},
   "source": [
    "## Review Exercise 1 : Guessing Game\n",
    "__(A)__\n",
    "<br>\n",
    "Write a game that:\n",
    "- chooses a random number between 1 and 10\n",
    "- asks the user to guess what it is\n",
    "- exits when the user guesses the right number\n",
    "\n",
    "Use:\n",
    "- a while loop\n",
    "- a break statement (to break out of the while loop)\n",
    "- a random number generator (from the package, `random`)\n",
    "\n",
    "\n",
    "\n",
    "<br>\n",
    "Example : The output from your game might look like this:\n",
    "\n",
    "```\n",
    "    I'm thinking of a random number between 1 and 10.\n",
    "    Can you guess what it is?\n",
    "\n",
    "    Guess what number I am thinking of: 5\n",
    "\n",
    "    Guess what number I am thinking of: 2\n",
    "\n",
    "    Guess what number I am thinking of: 1\n",
    "\n",
    "    Guess what number I am thinking of: 9\n",
    "\n",
    "    You win! I was thinking of 9.\n",
    "```\n",
    "\n",
    "*Hint: Remember that the function `input` returns a string even when a numerical value is entered.* "
   ]
  },
  {
   "cell_type": "code",
   "execution_count": 19,
   "metadata": {},
   "outputs": [],
   "source": [
    "# Review Exercise A: Guessing Game\n",
    "\n"
   ]
  },
  {
   "cell_type": "markdown",
   "metadata": {},
   "source": [
    "__(B)__\n",
    "<br>Use `if` and `else` to generate a __clue__ for the player gets the answer wrong \n",
    "\n",
    "<br>\n",
    "The output from your game might look like this:\n",
    "```\n",
    "    I'm thinking of a random number between 1 and 10.\n",
    "    Can you guess what it is?\n",
    "\n",
    "    Guess what number I am thinking of: 1\n",
    "    Too low.\n",
    "\n",
    "    Guess what number I am thinking of: 5\n",
    "    Too low.\n",
    "\n",
    "    Guess what number I am thinking of: 9\n",
    "\n",
    "    You win! I was thinking of 9.\n",
    "    ```"
   ]
  },
  {
   "cell_type": "code",
   "execution_count": 20,
   "metadata": {},
   "outputs": [],
   "source": [
    "# Review Exercise B: Guessing Game with Clues"
   ]
  },
  {
   "cell_type": "markdown",
   "metadata": {},
   "source": [
    "__(C)__\n",
    "<br>Use `break` to quit the game if the user makes three consecutive wrong guesses.\n",
    "\n",
    "<br>\n",
    "The output from your game might look something like this:\n",
    "\n",
    "    I'm thinking of a random number between 1 and 10.\n",
    "    Can you guess what it is? You have 3 guesses...\n",
    "\n",
    "    Guess what number I am thinking of: 1\n",
    "    Too low.\n",
    "\n",
    "    Guess what number I am thinking of: 2\n",
    "    Too low.\n",
    "\n",
    "    Guess what number I am thinking of: 5\n",
    "    \n",
    "    You used all your lives! You lose! I was thinking of 9."
   ]
  },
  {
   "cell_type": "code",
   "execution_count": 21,
   "metadata": {},
   "outputs": [],
   "source": [
    "# Review Exercise C: Guessing game with maximum number of tries\n"
   ]
  },
  {
   "cell_type": "markdown",
   "metadata": {},
   "source": [
    "## Review Exercise 2:  List with `for` loop.\n",
    "In the cell below, use a `for` loop to print the first letter of each month in the list.\n",
    "\n"
   ]
  },
  {
   "cell_type": "code",
   "execution_count": 22,
   "metadata": {},
   "outputs": [],
   "source": [
    "# Print the first letter of each month in the list\n",
    "\n",
    "months = [\"January\",\n",
    "         \"February\",\n",
    "         \"March\",\n",
    "         \"April\",\n",
    "         \"May\",\n",
    "         \"June\",\n",
    "         \"July\",\n",
    "         \"August\",\n",
    "         \"September\",\n",
    "         \"October\",\n",
    "         \"November\",\n",
    "         \"December\"]"
   ]
  },
  {
   "cell_type": "code",
   "execution_count": 23,
   "metadata": {},
   "outputs": [],
   "source": [
    "# Review Exercise: List with for loop\n",
    "# Example Solution"
   ]
  },
  {
   "cell_type": "markdown",
   "metadata": {
    "slideshow": {
     "slide_type": "slide"
    }
   },
   "source": [
    "<a id='ExampleTicTacToe'></a>\n",
    "## Review Exercise 3 : Tic-tac-toe\n",
    "A list of lists can be used to represent a discrete set of positions the a player can occupy.\n",
    "\n",
    "We can write a program that plays the the game tic-tac-toe, using a list of list. \n",
    "\n",
    "The program is shown in the cell below.   \n",
    "\n",
    "<p align=\"center\">\n",
    "  <img src=\"img/noughts_and_crosses.jpg\" alt=\"Drawing\" style=\"width: 200px;\"/>\n",
    "</p>"
   ]
  },
  {
   "cell_type": "markdown",
   "metadata": {},
   "source": [
    "__(A)__\n",
    "\n",
    "The program decides whether to quit the game based on user input after each turn taken.\n",
    "\n",
    "Copy and paste the program into the cell provided below.\n",
    " \n",
    "Edit the program to quit the game if either:\n",
    " - one of the players places three marks in a row.\n",
    " - all positions have been marked but noone has won.\n",
    "\n",
    "<br>*Hints:* \n",
    "- Use:\n",
    " - `if` and `else`\n",
    " - the boolean operators `and`, `or`, `not`\n",
    "- If the value of three colinear places is equal, the game has finished/been won.\n",
    "\n",
    "\n"
   ]
  },
  {
   "cell_type": "code",
   "execution_count": 24,
   "metadata": {
    "slideshow": {
     "slide_type": "slide"
    }
   },
   "outputs": [],
   "source": [
    "# tic-tac-toe \n",
    "#\n",
    "# Board positions:\n",
    "#\n",
    "# 00   01   02\n",
    "# 10   11   12\n",
    "# 20   21   22\n",
    "\n",
    "\n"
   ]
  },
  {
   "cell_type": "markdown",
   "metadata": {},
   "source": [
    "__(B)__\n",
    "\n",
    "<br>Edit the program to prevent a player from choosing a place that is already occupied.\n",
    "<br>For example, the program might ask the player to choose again.\n",
    "<br>e.g.\n",
    "\n",
    "        position already occupied, Player X choose a different position"
   ]
  },
  {
   "cell_type": "code",
   "execution_count": 25,
   "metadata": {},
   "outputs": [],
   "source": [
    "# Review Exercise: Tic-tac-toe "
   ]
  },
  {
   "cell_type": "code",
   "execution_count": 26,
   "metadata": {},
   "outputs": [],
   "source": [
    "# tic-tac-toe "
   ]
  }
 ],
 "metadata": {
  "celltoolbar": "Slideshow",
  "kernelspec": {
   "display_name": "Python 3",
   "language": "python",
   "name": "python3"
  },
  "language_info": {
   "codemirror_mode": {
    "name": "ipython",
    "version": 3
   },
   "file_extension": ".py",
   "mimetype": "text/x-python",
   "name": "python",
   "nbconvert_exporter": "python",
   "pygments_lexer": "ipython3",
   "version": "3.7.4"
  }
 },
 "nbformat": 4,
 "nbformat_minor": 2
}
