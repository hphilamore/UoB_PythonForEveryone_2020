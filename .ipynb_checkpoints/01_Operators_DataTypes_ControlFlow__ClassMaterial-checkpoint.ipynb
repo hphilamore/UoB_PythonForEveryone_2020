{
 "cells": [
  {
   "cell_type": "markdown",
   "metadata": {
    "slideshow": {
     "slide_type": "slide"
    }
   },
   "source": [
    "<img src=\"img/full-colour-logo-UoB.png\" alt=\"Drawing\" style=\"width: 200px;\"/>\n",
    "\n",
    "# Introduction to Programming for Everyone\n",
    "\n",
    "## Python 3\n",
    "\n",
    "\n"
   ]
  },
  {
   "cell_type": "markdown",
   "metadata": {
    "slideshow": {
     "slide_type": "slide"
    }
   },
   "source": [
    "# 01 Operators, Data Types & Control Flow\n",
    "## CLASS MATERIAL\n",
    "\n",
    "\n",
    "<br> <a href='#ArithmeticOperators'>__1. Arithmetic Operators__</a>\n",
    "<br> <a href='#BooleanOperators'>__2. Boolean Operators__</a>\n",
    "<br> <a href='#ControlStatements'>__3. Control Statements__</a>\n",
    "<br> <a href='#Loops'>__4. Loops__</a>\n",
    "<br> <a href='#ReviewExercises'>__5. Review Exercises__</a> "
   ]
  },
  {
   "cell_type": "markdown",
   "metadata": {
    "collapsed": true,
    "slideshow": {
     "slide_type": "slide"
    }
   },
   "source": [
    "<a id='Summary'></a>\n",
    "# Supplementary Material Summary \n",
    "For more information refer to the Supplementary Material notebooks for this class:\n",
    "- 01a_Operators_DataTypes__SupplementaryMaterial.ipynb\n",
    "- 01b_ControlFlow__SupplementaryMaterial.ipynb\n",
    "\n",
    "#### Arithmetic Operators\n",
    " - Simple *arithmetic operations* in Python : +, -, $\\times$, $\\div$.....\n",
    " \n",
    "\n"
   ]
  },
  {
   "cell_type": "markdown",
   "metadata": {
    "slideshow": {
     "slide_type": "slide"
    }
   },
   "source": [
    "#### Boolean Operators\n",
    " - *Comparison operators* (==, !=, <, >....) compare two __variables__.\n",
    " - The outcome of a comparison is a *Boolean* (True or False) value.\n",
    " - *Logical operators* (`and`, `or`) compares the outcomes of two __comparison operations__.\n",
    " - The outcome of a logical operation is a *Boolean* (True or False) value.\n",
    " - The logical `not` operator returns the inverse Boolean value of a comparison.\n",
    " "
   ]
  },
  {
   "cell_type": "markdown",
   "metadata": {
    "slideshow": {
     "slide_type": "slide"
    }
   },
   "source": [
    "#### Data Types\n",
    " - We can *assign* values to variables.\n",
    " - Every variable has a type (`int`, `float`, `string`....).\n",
    " - A type is automatically assigned when a variable is created. \n",
    " - Python's `type()` function can be used to determine the type of a variable.\n",
    " - The data type of a variable can be converted by casting (`int()`, `float()`....) "
   ]
  },
  {
   "cell_type": "markdown",
   "metadata": {
    "slideshow": {
     "slide_type": "skip"
    }
   },
   "source": [
    "#### Control Flow\n",
    "[*McGrath, Python in easy steps, 2013*]\n",
    "\n",
    " - The Python `if` keyword performs a conditional test on an expression for a Boolean value of True or False.\n",
    " - Alternatives to an `if` test are provided using `elif` and `else` tests.\n",
    " - A `while` loop repeats until a test expression returns `False`.\n",
    " - A `for`...`in`... loop iterates over each item in a specified data structure (or string).\n",
    " - The `range()` function generates a numerical sequence that can be used to specify the length of the `for` loop.\n",
    " - The `break` and `continue` keywords interrupt loop iterations."
   ]
  },
  {
   "cell_type": "markdown",
   "metadata": {
    "collapsed": true,
    "slideshow": {
     "slide_type": "slide"
    }
   },
   "source": [
    "## Lesson Goal\n",
    "\n",
    "Building a simple text-based adventure game. \n",
    "\n",
    "<img src=\"img/adventure_game.png\" alt=\"Drawing\" style=\"width: 400px;\"/>\n",
    "\n",
    "## Fundamental programming concepts\n",
    " - Using logic to direct the flow of a program.\n",
    " - Performing basic calculations.\n",
    " - Types of data storage.\n",
    "\n"
   ]
  },
  {
   "cell_type": "markdown",
   "metadata": {
    "slideshow": {
     "slide_type": "slide"
    }
   },
   "source": [
    "<a id='ArithmeticOperators'></a>\n",
    "# 1. Arithmetic Operators\n",
    "\n",
    "Let's do some examples using arithmetic operators to perform simple calculations in Python:\n"
   ]
  },
  {
   "cell_type": "markdown",
   "metadata": {
    "slideshow": {
     "slide_type": "slide"
    }
   },
   "source": [
    "## Volume of a Cone\n",
    "The volume of a cone is:\n",
    "$$\n",
    "V = \\frac{Ah}{3}\n",
    "$$\n",
    "\n",
    "where:\n",
    "<br>$A=$ base area\n",
    "<br>$h=$ perpendicular height\n",
    "\n",
    "![title](img/cone.png)\n",
    "\n"
   ]
  },
  {
   "cell_type": "markdown",
   "metadata": {
    "slideshow": {
     "slide_type": "slide"
    }
   },
   "source": [
    "Find the volume of a cone with:\n",
    "<br>$r = 5\\textrm{cm}$ (base radius)\n",
    "<br>$h = 15 \\textrm{cm} $\n",
    "\n",
    "$$\n",
    "V = \\frac{Ah}{3}\n",
    "$$"
   ]
  },
  {
   "cell_type": "code",
   "execution_count": 8,
   "metadata": {},
   "outputs": [
    {
     "name": "stdout",
     "output_type": "stream",
     "text": [
      "392.75\n"
     ]
    }
   ],
   "source": [
    "pi = 3.142\n",
    "r = 5\n",
    "h = 15\n",
    "\n",
    "A = pi * r**2\n",
    "\n",
    "V = A * h / 3\n",
    "\n",
    "print(V) # Print V measured in cm3"
   ]
  },
  {
   "cell_type": "markdown",
   "metadata": {
    "slideshow": {
     "slide_type": "slide"
    }
   },
   "source": [
    "<a id='BooleanOperators'></a>\n",
    "# 2. Boolean Operators\n",
    "\n",
    "Let's do some examples using boolean operators to make decisions in Python:\n",
    "\n",
    "__Commonly used comparison operators:__\n",
    "\n",
    "$==$   &nbsp; &nbsp; &nbsp; &nbsp; &nbsp;         Equality <br>\n",
    "$!=$   &nbsp; &nbsp; &nbsp; &nbsp; &nbsp;         Inequality <br>\n",
    "$>$    &nbsp; &nbsp; &nbsp; &nbsp; &nbsp; &nbsp;  Greater than <br>\n",
    "$<$    &nbsp; &nbsp; &nbsp; &nbsp; &nbsp; &nbsp;  Less than <br>\n",
    "$>=$   &nbsp; &nbsp; &nbsp; &nbsp;         Greater than or equal to <br>\n",
    "$<=$   &nbsp; &nbsp; &nbsp; &nbsp;         Less than or equal to <br>\n"
   ]
  },
  {
   "cell_type": "markdown",
   "metadata": {
    "slideshow": {
     "slide_type": "slide"
    }
   },
   "source": [
    "<a id='TimeTelling'></a>\n",
    "## Time-telling Example\n",
    "\n",
    "Let's write a simple computer program that uses these comparison and logical operators.\n",
    "\n",
    "Based on the current time of day, the program will answer two questions:\n",
    "\n",
    ">__Is it lunchtime?__\n",
    "\n",
    ">`True`\n",
    "\n",
    "if it is lunch time.\n",
    "\n",
    "<br>\n",
    "\n",
    ">__Is it time for work?__\n",
    "\n",
    ">`True`\n",
    "\n",
    "if it is `not`:\n",
    "- before work (`time < work_starts`)\n",
    "- after work (`time > work_ends `)\n",
    "- lunchtime (the previous question assigns the value `True` or `False` to variable `lunchtime`)."
   ]
  },
  {
   "cell_type": "code",
   "execution_count": 9,
   "metadata": {
    "slideshow": {
     "slide_type": "slide"
    }
   },
   "outputs": [
    {
     "name": "stdout",
     "output_type": "stream",
     "text": [
      "Is it work time?\n",
      "Is it lunchtime?\n"
     ]
    }
   ],
   "source": [
    "# Example : Time-telling program\n",
    "\n",
    "time = 9.00          # current time\n",
    "\n",
    "work_starts = 8.00    # time work starts \n",
    "work_ends =  17.00    # time work ends\n",
    "\n",
    "lunch_starts = 13.00  # time lunch starts\n",
    "lunch_ends =   14.00  # time lunch ends\n",
    "\n",
    "# lunchtime if the time is between the start and end of lunchtime\n",
    "\n",
    "\n",
    "# work_time if the time is not...\n",
    "# ... before work\n",
    "# ... or after work\n",
    "# ... or lunchtime            \n",
    "                 \n",
    "\n",
    "print(\"Is it work time?\")\n",
    "\n",
    "\n",
    "print(\"Is it lunchtime?\")\n",
    "\n"
   ]
  },
  {
   "cell_type": "code",
   "execution_count": 10,
   "metadata": {
    "slideshow": {
     "slide_type": "slide"
    }
   },
   "outputs": [
    {
     "name": "stdout",
     "output_type": "stream",
     "text": [
      "Is it lunchtime?\n",
      "False\n",
      "Is it work time?\n",
      "True\n"
     ]
    }
   ],
   "source": [
    "# Example : Time-telling program\n",
    "# Example solution\n",
    "\n",
    "time = 9.00          # current time\n",
    "\n",
    "work_starts = 8.00    # time work starts \n",
    "work_ends =  17.00    # time work ends\n",
    "\n",
    "lunch_starts = 13.00  # time lunch starts\n",
    "lunch_ends =   14.00  # time lunch ends\n",
    "\n",
    "# lunchtime if the time is between the start and end of lunchtime\n",
    "lunchtime = time >= lunch_starts and time < lunch_ends\n",
    "\n",
    "# work_time if the time is not...  \n",
    "work_time = not (   time < work_starts     # ... before work\n",
    "                 or time > work_ends       # ... or after work\n",
    "                 or lunchtime)             # ... or lunchtime\n",
    "                 \n",
    "\n",
    "print(\"Is it lunchtime?\")\n",
    "print(lunchtime)\n",
    "\n",
    "print(\"Is it work time?\")\n",
    "print(work_time)\n"
   ]
  },
  {
   "cell_type": "markdown",
   "metadata": {
    "slideshow": {
     "slide_type": "slide"
    }
   },
   "source": [
    "If we change the value of `time`, the program output changes. "
   ]
  },
  {
   "cell_type": "markdown",
   "metadata": {
    "slideshow": {
     "slide_type": "slide"
    }
   },
   "source": [
    "Note that the comparison operators (`>=`, `<=`, `<` and `>`) are evaluated before the Boolean operators (`and`, `or`).\n",
    "<a id='OperatorPrecedence'></a>\n",
    "### Operator Precedence\n",
    "\n",
    "\n",
    "> 1. Parentheses\n",
    "1. Exponents \n",
    "1. Multiplication, Division, Floor Division and Modulo (left to right)\n",
    "1. Addition and Subtraction (left to right)\n",
    "1. Comparison Operators (left to right)\n",
    "1. Boolean not\n",
    "1. Boolean and\n",
    "1. Boolean or"
   ]
  },
  {
   "cell_type": "code",
   "execution_count": 11,
   "metadata": {
    "slideshow": {
     "slide_type": "slide"
    }
   },
   "outputs": [],
   "source": [
    "a = 3 + 1 < 4 or 3 * 1 < 4\n",
    "\n",
    "a = ((3 + 1) < 4) or ((3 * 1) < 4)"
   ]
  },
  {
   "cell_type": "markdown",
   "metadata": {},
   "source": [
    "Both expressions show the same equation but the second is more __readable__.  "
   ]
  },
  {
   "cell_type": "markdown",
   "metadata": {
    "slideshow": {
     "slide_type": "slide"
    }
   },
   "source": [
    "<a id='StackingBooleanOperators'></a>\n",
    "###  Stacking Boolean Operators\n",
    "\n",
    "\n",
    "Extract from time-telling program:\n",
    "\n",
    "```python\n",
    "\n",
    "time = 13.05          # current time\n",
    "lunch_starts = 13.00  # time lunch starts\n",
    "lunch_ends =   14.00  # time lunch ends\n",
    "\n",
    "lunchtime = time >= lunch_starts and time < lunch_ends\n",
    "\n",
    "print(\"Is it lunchtime?\")\n",
    "print(lunchtime)\n",
    "\n",
    "```\n",
    "\n",
    "We can rewrite the line: <br>`lunchtime = time >= lunch_starts and time <= lunch_ends` \n",
    "<br> to *stack* the logical operations. \n",
    "\n",
    "```python\n",
    "\n",
    "lunchtime = lunch_starts <= time < lunch_ends\n",
    "\n",
    "\n",
    "```"
   ]
  },
  {
   "cell_type": "markdown",
   "metadata": {
    "slideshow": {
     "slide_type": "slide"
    }
   },
   "source": [
    "<a id='ControlStatements'></a>\n",
    "# 3. Control Statements\n",
    "\n",
    " \n",
    "<br> &emsp;&emsp; <a href='#ifelse'>3.1 `if` and `else` statements</a> \n",
    "<br> &emsp;&emsp; <a href='#GuidingProgramFlowUserInput'>3.2 Guiding Program Flow with User Input</a> \n",
    "<br> &emsp;&emsp; <a href='#ConditionalsMultipleAllowableStates'>3.3 Conditionals with Multiple Allowable States</a> \n",
    "\n",
    "What is a *__control statement__*?\n",
    "\n",
    "Let's start with an example you are already familiar with..."
   ]
  },
  {
   "cell_type": "markdown",
   "metadata": {
    "slideshow": {
     "slide_type": "slide"
    }
   },
   "source": [
    "\n",
    "Considerthe time-telling computer program that returned Boolean (True or False) variables... \n",
    "\n"
   ]
  },
  {
   "cell_type": "markdown",
   "metadata": {
    "slideshow": {
     "slide_type": "slide"
    }
   },
   "source": [
    "### Time-telling program\n",
    "\n",
    "Based on the current time of day, the program answers two questions:\n",
    "\n",
    ">__Is it lunchtime?__\n",
    "\n",
    ">`True`\n",
    "\n",
    "if it is lunch time.\n",
    "\n",
    "<br>\n",
    "\n",
    ">__Is it time for work?__\n",
    "\n",
    ">`True`\n",
    "\n",
    "if it is `not`:\n",
    "- before work (`time < work_starts`)\n",
    "- after work (`time > work_ends `)\n",
    "- lunchtime (the previous question assigns the value `True` or `False` to variable `lunchtime`)."
   ]
  },
  {
   "cell_type": "code",
   "execution_count": 12,
   "metadata": {
    "slideshow": {
     "slide_type": "slide"
    }
   },
   "outputs": [
    {
     "name": "stdout",
     "output_type": "stream",
     "text": [
      "Is it work time? False\n",
      "Is it lunchtime? True\n"
     ]
    }
   ],
   "source": [
    "# Time-telling program\n",
    "\n",
    "time = 13.05          # current time\n",
    "\n",
    "work_starts = 8.00    # time work starts \n",
    "work_ends =  17.00    # time work ends\n",
    "\n",
    "lunch_starts = 13.00  # time lunch starts\n",
    "lunch_ends =   14.00  # time lunch ends\n",
    "\n",
    "# lunchtime if the time is between the start and end of lunchtime\n",
    "lunchtime = time >= lunch_starts and time < lunch_ends\n",
    "\n",
    "# work_time if the time is not...  \n",
    "work_time = not (   time < work_starts     # ... before work\n",
    "                 or time > work_ends       # ... or after work\n",
    "                 or lunchtime)             # ... or lunchtime\n",
    "                 \n",
    "\n",
    "print(f\"Is it work time? {work_time}\")\n",
    "print(f\"Is it lunchtime? {lunchtime}\")"
   ]
  },
  {
   "cell_type": "markdown",
   "metadata": {
    "slideshow": {
     "slide_type": "slide"
    }
   },
   "source": [
    "What if we now want our computer program to do something based on these answers?\n",
    "\n",
    "To do this, we need to use *control statements*.\n",
    "\n",
    "Control statements allow us to make decisions in a program.\n",
    "\n",
    "This decision making is known as *control flow*. \n",
    "\n",
    "Control statements are a fundamental part of programming."
   ]
  },
  {
   "cell_type": "markdown",
   "metadata": {
    "slideshow": {
     "slide_type": "slide"
    }
   },
   "source": [
    "Here is a control statement in pseudo code:\n",
    "\n",
    "This is an `if` statement.\n",
    "\n",
    "    if A is true    \n",
    "        Perform task X\n",
    "        \n",
    "For example \n",
    "\n",
    "    if lunchtime is true    \n",
    "        Eat lunch\n",
    "\n",
    "<p align=\"center\">\n",
    "  <img src=\"img/flow_diag_if_lunctime.png\" alt=\"Drawing\" style=\"width: 300px;\"/>\n",
    "</p>"
   ]
  },
  {
   "cell_type": "markdown",
   "metadata": {
    "slideshow": {
     "slide_type": "slide"
    }
   },
   "source": [
    "We can check if an alternative to the `if` statement is true using an `else if` statement.\n",
    "\n",
    "\n",
    "    if A is true\n",
    "        Perform task X (only)\n",
    "        \n",
    "    else if B is true\n",
    "        Perform task Y (only)\n",
    "        "
   ]
  },
  {
   "cell_type": "markdown",
   "metadata": {
    "slideshow": {
     "slide_type": "slide"
    }
   },
   "source": [
    "Example:\n",
    "\n",
    "    if lunchtime is true\n",
    "        Eat lunch\n",
    "        \n",
    "    else if work_time is true\n",
    "        Do work\n",
    "        \n",
    "<p align=\"center\">\n",
    "  <img src=\"img/flow_diag_if_lunctime_elif_work.png\" alt=\"Drawing\" style=\"width: 300px;\"/>\n",
    "</p>"
   ]
  },
  {
   "cell_type": "markdown",
   "metadata": {
    "slideshow": {
     "slide_type": "slide"
    }
   },
   "source": [
    "Often it is useful to include an `else` statement.\n",
    "\n",
    "If none of the `if` and `else if` statements are satisfied, the code following the `else` statement will be executed.\n",
    "\n",
    "    if A is true\n",
    "        Perform task X (only)\n",
    "        \n",
    "    else if B is true\n",
    "        Perform task Y (only)\n",
    "        \n",
    "    else   \n",
    "        Perform task Z (only)\n",
    "        \n",
    "\n",
    "\n",
    "\n"
   ]
  },
  {
   "cell_type": "markdown",
   "metadata": {
    "slideshow": {
     "slide_type": "slide"
    }
   },
   "source": [
    "    if lunchtime is true\n",
    "        Eat lunch\n",
    "        \n",
    "    else if work_time is true\n",
    "        Do work\n",
    "        \n",
    "    else   \n",
    "        Go home\n",
    "        \n",
    "<p align=\"center\">\n",
    "  <img src=\"img/flow_diag_if_lunctime_elif_work_else_home.png\" alt=\"Drawing\" style=\"width: 400px;\"/>\n",
    "</p>"
   ]
  },
  {
   "cell_type": "markdown",
   "metadata": {
    "slideshow": {
     "slide_type": "slide"
    }
   },
   "source": [
    "Let's get a better understanding of control flow statements by completing some examples. "
   ]
  },
  {
   "cell_type": "markdown",
   "metadata": {
    "collapsed": true,
    "slideshow": {
     "slide_type": "slide"
    }
   },
   "source": [
    "<a id='ifelse'></a>\n",
    "# 3.1 `if` and `else` statements\n",
    "\n",
    "Here is what these control statements look like if we include them in the time-telling program...\n",
    "\n",
    "__Note:__ In Python, \"else if\" is written: `elif`"
   ]
  },
  {
   "cell_type": "code",
   "execution_count": 13,
   "metadata": {
    "slideshow": {
     "slide_type": "slide"
    }
   },
   "outputs": [
    {
     "name": "stdout",
     "output_type": "stream",
     "text": [
      "Do work\n"
     ]
    }
   ],
   "source": [
    "# Time-telling program\n",
    "\n",
    "time = 9.00          # current time\n",
    "\n",
    "work_starts = 8.00    # time work starts \n",
    "work_ends =  17.00    # time work ends\n",
    "\n",
    "lunch_starts = 13.00  # time lunch starts\n",
    "lunch_ends =   14.00  # time lunch ends\n",
    "\n",
    "# variable lunchtime is True if the time is between the start and end of lunchtime\n",
    "lunchtime = time >= lunch_starts and time < lunch_ends\n",
    "\n",
    "# variable work_time is True if the time is not...  \n",
    "work_time = not (   time < work_starts     # ... before work\n",
    "                 or time > work_ends       # ... or after work\n",
    "                 or lunchtime)             # ... or lunchtime\n",
    "\n",
    "if lunchtime:  \n",
    "    print(\"Eat lunch\")\n",
    "        \n",
    "elif work_time: \n",
    "    print(\"Do work\")\n",
    "        \n",
    "else:   \n",
    "    print(\"Go home\")\n"
   ]
  },
  {
   "cell_type": "markdown",
   "metadata": {
    "slideshow": {
     "slide_type": "slide"
    }
   },
   "source": [
    "__Remember:__ <br>The program assigns the variables lunchtime and work_time the values `True` or `False`.\n",
    "\n",
    "Therefore when we type: \n",
    "<br>`if lunchtime`\n",
    "\n",
    "<br>the meaning is the same as: \n",
    "<br>`if lunchtime == True`"
   ]
  },
  {
   "cell_type": "markdown",
   "metadata": {
    "slideshow": {
     "slide_type": "slide"
    }
   },
   "source": [
    "<a id='GuidingProgramFlowUserInput'></a>\n",
    "# 3.2 Guiding Program Flow with User Input\n",
    "We can use input from the user to dynamically control the flow of a program.\n",
    "\n",
    "This is a fundamental principle of how computer games work."
   ]
  },
  {
   "cell_type": "markdown",
   "metadata": {
    "slideshow": {
     "slide_type": "slide"
    }
   },
   "source": [
    "In the time-telling program, the output is determined by the input variable, `time`.\n",
    "\n",
    "The output of the program can, instead, be determined by user input:"
   ]
  },
  {
   "cell_type": "code",
   "execution_count": 14,
   "metadata": {},
   "outputs": [
    {
     "name": "stdout",
     "output_type": "stream",
     "text": [
      "Do you feel hungry, genki or tired? tired\n",
      "Go home\n"
     ]
    }
   ],
   "source": [
    "how_you_feel = input(\"Do you feel hungry, genki or tired? \")\n",
    "\n",
    "if how_you_feel=='hungry':  \n",
    "    print(\"Eat lunch\")\n",
    "        \n",
    "elif how_you_feel=='genki': \n",
    "    print(\"Do work\")\n",
    "        \n",
    "else:   \n",
    "    print(\"Go home\")"
   ]
  },
  {
   "cell_type": "markdown",
   "metadata": {
    "slideshow": {
     "slide_type": "slide"
    }
   },
   "source": [
    "### Look carefully at the structure of the `if`, `elif`, `else`, control statement:\n",
    "\n",
    "\n",
    "__The control statement begins with an `if`__, followed by the expression to check.  <br> \n",
    " At the end of the `if` statement you must put a colon (`:`) <br> \n",
    "````python\n",
    "if how_you_feel=='hungry':    \n",
    "````"
   ]
  },
  {
   "cell_type": "markdown",
   "metadata": {
    "slideshow": {
     "slide_type": "slide"
    }
   },
   "source": [
    "After the `if` statement, indent the code to be run in the case that the `if` statement is `True`. <br>\n",
    "\n",
    "\n",
    " To end the code to be run, simply stop indenting:\n",
    " \n",
    "````python\n",
    "if how_you_feel=='hungry':  \n",
    "    print(\"Eat lunch\")\n",
    "````"
   ]
  },
  {
   "cell_type": "markdown",
   "metadata": {
    "slideshow": {
     "slide_type": "slide"
    }
   },
   "source": [
    "The indent can be any number of spaces.\n",
    "\n",
    "The number of spaces must be the same for all lines of code to be run if the `if` statement is True.\n",
    "\n",
    "Jupyter Notebooks automatically indent 4 spaces.\n",
    "\n",
    "This is considered best practise. "
   ]
  },
  {
   "cell_type": "markdown",
   "metadata": {
    "slideshow": {
     "slide_type": "slide"
    }
   },
   "source": [
    "if `how_you_feel=='hungry'` is:\n",
    " - `True`:\n",
    "    - The indented code is executed.\n",
    "    - The control block is exited.\n",
    "    - The program moves past any subsequent `elif` or `else` statements.\n",
    "    <br>    \n",
    "    \n",
    "    \n",
    "  - `False`:\n",
    "  the program moves past the inented code to the next (non-indented) part of the program... <br>"
   ]
  },
  {
   "cell_type": "markdown",
   "metadata": {
    "slideshow": {
     "slide_type": "slide"
    }
   },
   "source": [
    "In this the next (non-indented) part of the program is `elif` (else if).\n",
    "\n",
    "The elif statement is evaluated.\n",
    "\n",
    "(Notice that the code is structured in the same way as the `if` statement.):\n",
    "\n",
    "```python\n",
    "if how_you_feel=='hungry':  \n",
    "    print(\"Eat lunch\")\n",
    "        \n",
    "elif how_you_feel=='genki': \n",
    "    print(\"Do work\")\n",
    "```  "
   ]
  },
  {
   "cell_type": "markdown",
   "metadata": {
    "slideshow": {
     "slide_type": "slide"
    }
   },
   "source": [
    "`elif how_you_feel=='genki'`:\n",
    "\n",
    "- `True`:\n",
    "    - The indented code is executed.\n",
    "    - The control block is exited. \n",
    "    - The program moves past any subsequent `elif` or `else` statements.\n",
    "    \n",
    "    \n",
    "- `False`:\n",
    "  the program moves past the indented code to the next (non-indented) part of the program. <br>\n",
    " \n",
    "\n",
    " "
   ]
  },
  {
   "cell_type": "markdown",
   "metadata": {
    "slideshow": {
     "slide_type": "slide"
    }
   },
   "source": [
    "If none of the preceding `if` or `elif` stements are true.\n",
    "<br> e.g. in this example:\n",
    " - `how_you_feel=='hungry'` is `False` \n",
    " - `how_you_feel=='genki'` is `False`\n",
    "\n",
    "the code following the `else` statement is executed.\n",
    "\n",
    "\n",
    "\n",
    "```python\n",
    "if how_you_feel=='hungry':  \n",
    "    print(\"Eat lunch\")\n",
    "        \n",
    "elif how_you_feel=='genki': \n",
    "    print(\"Do work\")\n",
    "        \n",
    "else:   \n",
    "    print(\"Go home\")\n",
    "```\n",
    "\n",
    "If you are not hungry or genki, the only other option given is tired.\n",
    "<br>You should go home."
   ]
  },
  {
   "cell_type": "markdown",
   "metadata": {
    "slideshow": {
     "slide_type": "slide"
    }
   },
   "source": [
    "<a id='ConditionalsMultipleAllowableStates'></a>\n",
    "# 3.3 Conditionals with Multiple Allowable States\n",
    "If we run the above code again, including a capital letter in the Input, for example `Hungry`, an error is generated.\n",
    "\n",
    "`Hungry` is not one of the options given in the question : `\"Do you feel hungry, genki or tired?\"`\n",
    "\n",
    "Conditional operators can be used for multiple allowable inputs from the user.\n",
    "\n",
    "Each distinct allowable answer should be enclosed in () parentheses."
   ]
  },
  {
   "cell_type": "code",
   "execution_count": 15,
   "metadata": {},
   "outputs": [
    {
     "name": "stdout",
     "output_type": "stream",
     "text": [
      "Do you feel hungry, genki or tired? tired\n",
      "Go home\n"
     ]
    }
   ],
   "source": [
    "how_you_feel = input(\"Do you feel hungry, genki or tired? \")\n",
    "\n",
    "if (how_you_feel=='hungry') or (how_you_feel=='Hungry') or (how_you_feel=='h'):  \n",
    "    print(\"Eat lunch\")\n",
    "        \n",
    "elif  (how_you_feel=='genki') or (how_you_feel=='Genki') or (how_you_feel=='g'): \n",
    "    print(\"Do work\")\n",
    "        \n",
    "else:   \n",
    "    print(\"Go home\")"
   ]
  },
  {
   "cell_type": "markdown",
   "metadata": {
    "slideshow": {
     "slide_type": "slide"
    }
   },
   "source": [
    "<a id='ExampleAdventureGame'></a>\n",
    "### Example : Adventure Game  (Decision-making using user input).\n",
    "In this example, we will build a simple text based adventure game.\n",
    "\n",
    "The possibilites for the flow of the program are shown in the following flow diagram. "
   ]
  },
  {
   "cell_type": "markdown",
   "metadata": {
    "slideshow": {
     "slide_type": "slide"
    }
   },
   "source": [
    "\n",
    "\n",
    "<p align=\"center\">\n",
    "  <img src=\"img/flow_diag_adventure_game.png\" alt=\"Drawing\" style=\"width: 400px;\"/>\n",
    "</p>"
   ]
  },
  {
   "cell_type": "code",
   "execution_count": 16,
   "metadata": {
    "slideshow": {
     "slide_type": "slide"
    }
   },
   "outputs": [
    {
     "name": "stdout",
     "output_type": "stream",
     "text": [
      "You approach a castle. \n",
      "The castle door is closed. \n",
      "You find a key.\n",
      "Do you pick the key up?  (Yes/No) Yes\n",
      "The key explodes! \n",
      "You die!\n"
     ]
    }
   ],
   "source": [
    "# Example : Basic adventure game\n",
    "\n",
    "print(\"You approach a castle. \\nThe castle door is closed. \\nYou find a key.\")\n",
    "\n",
    "\n",
    "# First decision \n",
    "answer = input(\"Do you pick the key up?  (Yes/No) \")\n",
    "if answer == 'Yes':\n",
    "    print(\"The key explodes! \\nYou die!\")\n",
    "\n",
    "else:\n",
    "    print(\"The castle door opens.\")\n",
    "    \n",
    "    # Second decision \n",
    "    answer = input(\"Do you enter the castle?  (Yes/No) \")\n",
    "    \n",
    "    if answer == 'Yes':\n",
    "        print(\"Find treasure. \\nYou win!\")\n",
    "    else:\n",
    "        print(\"No treasure. \\nYou lose!\")"
   ]
  },
  {
   "cell_type": "markdown",
   "metadata": {
    "slideshow": {
     "slide_type": "slide"
    }
   },
   "source": [
    "__Try using different inputs to get different outcomes from the game.__"
   ]
  },
  {
   "cell_type": "code",
   "execution_count": 17,
   "metadata": {
    "slideshow": {
     "slide_type": "slide"
    }
   },
   "outputs": [
    {
     "name": "stdout",
     "output_type": "stream",
     "text": [
      "You approach a castle. \n",
      "The castle door is closed. \n",
      "You find a key.\n",
      "Do you pick the key up?  (Yes/No) No\n",
      "Do you bend down to look more closely at the key?  (Yes/No) No\n",
      "The key turns into a prize. \n",
      "You win!\n"
     ]
    }
   ],
   "source": [
    "# Test-Yourself Exercise : Adventure Game \n",
    "# Example Solution with multiple pathways\n",
    "\n",
    "print(\"You approach a castle. \\nThe castle door is closed. \\nYou find a key.\")\n",
    "\n",
    "\n",
    "\n",
    "answer = input(\"Do you pick the key up?  (Yes/No) \")\n",
    "if answer == 'Yes':\n",
    "    \n",
    "    answer = input(\"Do you enter the castle?  (Yes/No) \")\n",
    "    \n",
    "    if answer == 'Yes':\n",
    "        \n",
    "        print(\"Inside the castle you see a giant spider.\")\n",
    "        answer = input(\"Do you fight the spider?  (Yes/No) \")\n",
    "        \n",
    "        if answer == 'Yes':\n",
    "            print(\"you defeat the spider. \\nYou win!\")\n",
    "        else:\n",
    "            print(\"The spider eats you. \\nYou lose!\")\n",
    "            \n",
    "    else:\n",
    "        print(\"You notice a path around the castle wall.\")\n",
    "        answer = input(\"Do you walk along the path?  (Yes/No) \")\n",
    "        \n",
    "        if answer == 'Yes':\n",
    "            print(\"Find treasure. \\nYou win!\")\n",
    "        else:\n",
    "            print(\"No treasure. \\nYou lose!\")\n",
    "\n",
    "else:   \n",
    "    \n",
    "\n",
    "    answer = input(\"Do you bend down to look more closely at the key?  (Yes/No) \")\n",
    "    \n",
    "    if answer == 'Yes':\n",
    "        print(\"The key explodes. \\nYou die!\")\n",
    "    else:\n",
    "        print(\"The key turns into a prize. \\nYou win!\")"
   ]
  },
  {
   "cell_type": "markdown",
   "metadata": {
    "slideshow": {
     "slide_type": "slide"
    }
   },
   "source": [
    "<a id='Loops'></a>\n",
    "# 4. Loops \n",
    "\n",
    "\n",
    "<br> <a href='#forLoops'>4.1 `for` loops</a> \n",
    "<br> <a href='#whileLoops'>4.2 `while` loops</a> \n",
    "<br> <a href='#breakcontinue'>4.3 `break` and `continue`</a>\n",
    "    <br> &emsp;&emsp; <a href='#break'>4.3.1 `break`</a>\n",
    "    <br> &emsp;&emsp; <a href='#while1'>4.3.2 The `while 1` or `while True` loop</a>\n",
    "    <br> &emsp;&emsp; <a href='#continue'>4.3.3 `continue`</a>\n",
    "\n",
    "*Loops* are used to execute a command repeatedly.\n",
    "<br>\n",
    "A loop is a block that repeats an operation a specified number of times (loops).\n",
    "\n",
    "There are two main types of loops in Python:\n",
    " - `for` loops  : repeat a certain number of times\n",
    " - `while` loops : repeat until something happens (e.g. user presses 'exit') \n",
    " \n",
    "\n",
    "\n"
   ]
  },
  {
   "cell_type": "markdown",
   "metadata": {
    "slideshow": {
     "slide_type": "slide"
    }
   },
   "source": [
    "Examples:\n",
    "- __`for` loop__ : print the health of each player in a game. (\"Print health `for` each player\")\n",
    "- __`while` loop__ : play a game until a user hits the exit button (\"`while` the exit button is not pressed, play the game.\")"
   ]
  },
  {
   "cell_type": "markdown",
   "metadata": {
    "slideshow": {
     "slide_type": "slide"
    }
   },
   "source": [
    "<a id='forLoops'></a>\n",
    "# 4.1 `for` loops"
   ]
  },
  {
   "cell_type": "markdown",
   "metadata": {
    "slideshow": {
     "slide_type": "-"
    }
   },
   "source": [
    "The statement \n",
    "```python\n",
    "for i in range(0, 5):   # Print numbers 0 to 4\n",
    "    print(i)   \n",
    "```\n",
    "\n",
    "\n",
    "<p align=\"center\">\n",
    "  <img src=\"img/flow_diag_for_loop_.png\" alt=\"Drawing\" style=\"width: 400px;\"/>\n",
    "</p>"
   ]
  },
  {
   "cell_type": "code",
   "execution_count": 18,
   "metadata": {
    "slideshow": {
     "slide_type": "slide"
    }
   },
   "outputs": [
    {
     "name": "stdout",
     "output_type": "stream",
     "text": [
      "0\n",
      "1\n",
      "2\n",
      "3\n",
      "4\n"
     ]
    }
   ],
   "source": [
    "for i in range(0, 5):   # Print numbers 0 to 4\n",
    "    print(i) "
   ]
  },
  {
   "cell_type": "markdown",
   "metadata": {
    "slideshow": {
     "slide_type": "slide"
    }
   },
   "source": [
    "\n",
    "Each time the code loops the value `i` moves to the next value in the range (0, 1, 2, 3, 4):"
   ]
  },
  {
   "cell_type": "markdown",
   "metadata": {
    "slideshow": {
     "slide_type": "slide"
    }
   },
   "source": [
    "The structure is similar to the `if` statement:\n",
    " - `for` is followed by the condition being checked.\n",
    " - : colon at the end of the `for` statement.   \n",
    " - The indented code that follows is run each time the code loops.  <br>\n",
    " (The __same of spaces__ should be used for all indents) \n",
    " <br> \n",
    " - To end the `for` loop, simply stop indenting. "
   ]
  },
  {
   "cell_type": "code",
   "execution_count": 19,
   "metadata": {
    "slideshow": {
     "slide_type": "-"
    }
   },
   "outputs": [
    {
     "name": "stdout",
     "output_type": "stream",
     "text": [
      "-2\n",
      "-1\n",
      "0\n",
      "1\n",
      "2\n",
      "The end of the loop\n"
     ]
    }
   ],
   "source": [
    "for i in range(-2, 3):\n",
    "    print(i)\n",
    "print('The end of the loop')"
   ]
  },
  {
   "cell_type": "markdown",
   "metadata": {
    "slideshow": {
     "slide_type": "slide"
    }
   },
   "source": [
    "The above loop starts from -2 and executes the indented code for each value of i in the range (-2, -1, 0, 1, 2).\n",
    "<br>\n",
    "When the loop has executed the code for the final value `i = 2`, it moves on to the next unindented line of code."
   ]
  },
  {
   "cell_type": "markdown",
   "metadata": {
    "slideshow": {
     "slide_type": "slide"
    }
   },
   "source": [
    "For loops are are useful for repeated operations.\n",
    "\n",
    "This includes:\n",
    "\n",
    "- generating repeated patterns, e.g. generating a \"board\" to play on.\n",
    "- checking a series of items, e.g. the \"health\" of each player in a game. \n"
   ]
  },
  {
   "cell_type": "markdown",
   "metadata": {
    "slideshow": {
     "slide_type": "slide"
    }
   },
   "source": [
    "A simple example of this is generating a pattern of symbols..."
   ]
  },
  {
   "cell_type": "markdown",
   "metadata": {
    "slideshow": {
     "slide_type": "slide"
    }
   },
   "source": [
    "<a id='ExamplePrintingPattern'></a>\n",
    "## Example: Printing a Pattern\n",
    "\n",
    "We can use two loops, (one of them nested), to print the following 10x10 rectangle:\n",
    "\n",
    "    * * * * * * * * * * *\n",
    "    * * * * * * * * * * *\n",
    "    * * * * * * * * * * *\n",
    "    * * * * * * * * * * *\n",
    "    * * * * * * * * * * *\n",
    "    * * * * * * * * * * *\n",
    "    * * * * * * * * * * *\n",
    "    * * * * * * * * * * *\n",
    "    * * * * * * * * * * *\n",
    "\n",
    "\n"
   ]
  },
  {
   "cell_type": "code",
   "execution_count": 20,
   "metadata": {
    "slideshow": {
     "slide_type": "slide"
    }
   },
   "outputs": [
    {
     "name": "stdout",
     "output_type": "stream",
     "text": [
      "* * * * * * * * * * \n",
      "* * * * * * * * * * \n",
      "* * * * * * * * * * \n",
      "* * * * * * * * * * \n",
      "* * * * * * * * * * \n",
      "* * * * * * * * * * \n",
      "* * * * * * * * * * \n",
      "* * * * * * * * * * \n",
      "* * * * * * * * * * \n",
      "* * * * * * * * * * \n"
     ]
    }
   ],
   "source": [
    "# Example : Printing a pattern\n",
    "# Example solution\n",
    "\n",
    "# First loop\n",
    "for row in range(10):\n",
    "    \n",
    "#     # Second loop\n",
    "    for column in range(10):\n",
    "        print(\"*\",end=\" \")\n",
    "        \n",
    "    # create a line break after each row\n",
    "    print()\n",
    "\n",
    "\n",
    "    \n",
    "    "
   ]
  },
  {
   "cell_type": "markdown",
   "metadata": {
    "slideshow": {
     "slide_type": "slide"
    }
   },
   "source": [
    "Notice that our program contains a second `for` loop. \n",
    "\n",
    "For each row, it loops through each column, printing a star. \n",
    "\n",
    "We call this a *nested* loop.\n",
    "\n",
    "The indents in the code show where loops are nested.\n"
   ]
  },
  {
   "cell_type": "markdown",
   "metadata": {
    "slideshow": {
     "slide_type": "slide"
    }
   },
   "source": [
    "<a id='whileLoops'></a>\n",
    "# 4.2 `while` loops\n",
    "\n",
    "A __`for`__ loop performs an operation a specified number of times. \n",
    "\n",
    "```python \n",
    "for x in range(5):\n",
    "    print(x)\n",
    "```   \n",
    "\n",
    "A __`while`__ loop performs a task *while* a specified statement is true. \n",
    "\n",
    "```python\n",
    "x = 0\n",
    "while x < 5:\n",
    "    print(x)\n",
    "    x += 1\n",
    "```\n",
    "\n",
    "<p align=\"center\">\n",
    "  <img src=\"img/flow_diag_while_loop.png\" alt=\"Drawing\" style=\"width: 400px;\"/>\n",
    "</p>"
   ]
  },
  {
   "cell_type": "markdown",
   "metadata": {
    "slideshow": {
     "slide_type": "slide"
    }
   },
   "source": [
    "We use the same structure as for `for` loops and `if-elif-else`:\n",
    "- `while` is followed by the condition being checked.\n",
    "- : colon at the end of the `while` statement.   \n",
    "- The indented code that follows is repeatedly executed until the `while` statement (e.g. `x < 5`) is `False`.  <br>\n",
    "\n",
    " "
   ]
  },
  {
   "cell_type": "markdown",
   "metadata": {
    "slideshow": {
     "slide_type": "slide"
    }
   },
   "source": [
    "For example a game loops through a sequence of operations until an intervention is made to close the program.\n",
    "\n",
    "<p align=\"center\">\n",
    "  <img src=\"img/game_loop.png\" alt=\"Drawing\" style=\"width: 700px;\"/>\n",
    "</p>"
   ]
  },
  {
   "cell_type": "markdown",
   "metadata": {
    "slideshow": {
     "slide_type": "slide"
    }
   },
   "source": [
    "A very common operation is to loop until the user performs a request to quit."
   ]
  },
  {
   "cell_type": "code",
   "execution_count": 21,
   "metadata": {
    "slideshow": {
     "slide_type": "-"
    }
   },
   "outputs": [
    {
     "name": "stdout",
     "output_type": "stream",
     "text": [
      "Do you want to quit? yes\n"
     ]
    }
   ],
   "source": [
    "quit = \"no\"\n",
    "while quit != \"yes\":\n",
    "    quit = input(\"Do you want to quit? \")"
   ]
  },
  {
   "cell_type": "markdown",
   "metadata": {
    "slideshow": {
     "slide_type": "slide"
    }
   },
   "source": [
    "Another practical use of the `while` loop is to keep looping until the user enters a valid answer.\n",
    "\n",
    "Until now we have considered that if the user enters an invalid answer (anything but Yes in the example below), the program defaults to else\n",
    "\n",
    "This can cause unexpected flow of the prgram.\n",
    "\n",
    "e.g. if the user accidentally presses 'Enter' before entering a value"
   ]
  },
  {
   "cell_type": "markdown",
   "metadata": {
    "slideshow": {
     "slide_type": "slide"
    }
   },
   "source": [
    "We can use while to re-request information until the user gives a valid answer."
   ]
  },
  {
   "cell_type": "code",
   "execution_count": 22,
   "metadata": {},
   "outputs": [
    {
     "name": "stdout",
     "output_type": "stream",
     "text": [
      "You approach a castle. \n",
      "The castle door is closed. \n",
      "You find a key.\n",
      "Do you pick the key up?  (Yes/No) No\n",
      "You put the key in your pocket...\n"
     ]
    }
   ],
   "source": [
    "print(\"You approach a castle. \\nThe castle door is closed. \\nYou find a key.\")\n",
    "\n",
    "\n",
    "answer = input(\"Do you pick the key up?  (Yes/No) \")\n",
    "while answer != \"Yes\" and answer != \"No\":\n",
    "    answer = input(\"Do you pick the key up?  (Yes/No) \")\n",
    "    \n",
    "if answer == 'Yes':\n",
    "    print('The key explodes! You die')\n",
    "\n",
    "else:   \n",
    "    print('You put the key in your pocket...')"
   ]
  },
  {
   "cell_type": "markdown",
   "metadata": {
    "slideshow": {
     "slide_type": "slide"
    }
   },
   "source": [
    "This allows us to display a message to the user indicating that they have chosen an invalid answer."
   ]
  },
  {
   "cell_type": "code",
   "execution_count": 23,
   "metadata": {
    "slideshow": {
     "slide_type": "-"
    }
   },
   "outputs": [
    {
     "name": "stdout",
     "output_type": "stream",
     "text": [
      "You approach a castle. \n",
      "The castle door is closed. \n",
      "You find a key.\n",
      "Do you pick the key up?  (Yes/No) Yes\n",
      "The key explodes! You die\n"
     ]
    }
   ],
   "source": [
    "print(\"You approach a castle. \\nThe castle door is closed. \\nYou find a key.\")\n",
    "\n",
    "\n",
    "answer = input(\"Do you pick the key up?  (Yes/No) \")\n",
    "while answer != \"Yes\" and answer != \"No\":\n",
    "    answer = input(\"Not a valid answer, choose Yes or No \")\n",
    "    \n",
    "if answer == 'Yes':\n",
    "    print('The key explodes! You die')\n",
    "\n",
    "else:   \n",
    "    print('You put the key in your pocket...')"
   ]
  },
  {
   "cell_type": "markdown",
   "metadata": {
    "slideshow": {
     "slide_type": "slide"
    }
   },
   "source": [
    "### Warning \n",
    "It can be quite easy to crash your computer using a `while` loop. \n",
    "\n",
    "e.g. if we don't modify the value of x each time the code loops:\n",
    "```python\n",
    "x = 0\n",
    "while x < 5:\n",
    "    print(x)\n",
    "    x += 1  \n",
    "```\n",
    "will continue indefinitely since `x < 5 == False`  will never be satisfied.\n",
    "\n",
    "This is called an *infinite loop*.\n",
    "\n"
   ]
  },
  {
   "cell_type": "code",
   "execution_count": 24,
   "metadata": {
    "slideshow": {
     "slide_type": "-"
    }
   },
   "outputs": [
    {
     "name": "stdout",
     "output_type": "stream",
     "text": [
      "Start of while statement\n",
      "0\n",
      "1\n",
      "2\n",
      "3\n",
      "4\n",
      "End of while statement\n"
     ]
    }
   ],
   "source": [
    "x = 0\n",
    "\n",
    "print(\"Start of while statement\")\n",
    "\n",
    "while x < 5:\n",
    "    print(x)\n",
    "    x += 1  # Increment x\n",
    "    \n",
    "print(\"End of while statement\")"
   ]
  },
  {
   "cell_type": "markdown",
   "metadata": {
    "slideshow": {
     "slide_type": "slide"
    }
   },
   "source": [
    "`for` loops are often safer when performing an operation on a set range of values."
   ]
  },
  {
   "cell_type": "code",
   "execution_count": 25,
   "metadata": {
    "slideshow": {
     "slide_type": "-"
    }
   },
   "outputs": [
    {
     "name": "stdout",
     "output_type": "stream",
     "text": [
      "Start of for statement\n",
      "-2\n",
      "-1\n",
      "0\n",
      "1\n",
      "2\n",
      "3\n",
      "4\n",
      "End of for statement\n"
     ]
    }
   ],
   "source": [
    "x = -2\n",
    "\n",
    "print(\"Start of for statement\")\n",
    "\n",
    "for y in range(x,5):\n",
    "    print(y)\n",
    "    \n",
    "print(\"End of for statement\")"
   ]
  },
  {
   "cell_type": "markdown",
   "metadata": {
    "slideshow": {
     "slide_type": "slide"
    }
   },
   "source": [
    "<a id='breakcontinue'></a>\n",
    "# 4.3 `break` and `continue`"
   ]
  },
  {
   "cell_type": "markdown",
   "metadata": {
    "slideshow": {
     "slide_type": "slide"
    }
   },
   "source": [
    "<a id='break'></a>\n",
    "## 4.3.1 `break`\n",
    "\n",
    "Sometimes we want to exit a `for` or `while` loop prematurely. \n",
    "\n",
    "<img src=\"img/algorithm-break-statement_if.jpg\" alt=\"Drawing\" style=\"width: 300px;\"/>"
   ]
  },
  {
   "cell_type": "markdown",
   "metadata": {
    "slideshow": {
     "slide_type": "slide"
    }
   },
   "source": [
    "<img src=\"img/algorithm-break-statement_while.jpg\" alt=\"Drawing\" style=\"width: 300px;\"/>"
   ]
  },
  {
   "cell_type": "markdown",
   "metadata": {
    "slideshow": {
     "slide_type": "slide"
    }
   },
   "source": [
    "Let's look at how we can use this in a program...\n"
   ]
  },
  {
   "cell_type": "code",
   "execution_count": 26,
   "metadata": {
    "scrolled": true,
    "slideshow": {
     "slide_type": "slide"
    }
   },
   "outputs": [
    {
     "name": "stdout",
     "output_type": "stream",
     "text": [
      "0\n",
      "1\n",
      "2\n",
      "3\n",
      "4\n",
      "5\n",
      "Time to break out\n"
     ]
    }
   ],
   "source": [
    "for x in range(10):\n",
    "    print(x)\n",
    "    \n",
    "    if x == 5:\n",
    "        print(\"Time to break out\")\n",
    "        break"
   ]
  },
  {
   "cell_type": "markdown",
   "metadata": {
    "collapsed": true,
    "slideshow": {
     "slide_type": "slide"
    }
   },
   "source": [
    "<a id='continue'></a>\n",
    "## 4.3.2 `continue`\n",
    "\n",
    "Sometimes, instead of *skipping all remaining values*, we want to skip *just one value* in a loop. \n",
    "\n",
    "For this we use `continue`. \n",
    "\n",
    "\n"
   ]
  },
  {
   "cell_type": "markdown",
   "metadata": {
    "slideshow": {
     "slide_type": "slide"
    }
   },
   "source": [
    "<img src=\"img/algorithm-continue-statement_if.jpg\" alt=\"Drawing\" style=\"width: 300px;\"/>"
   ]
  },
  {
   "cell_type": "markdown",
   "metadata": {
    "slideshow": {
     "slide_type": "slide"
    }
   },
   "source": [
    "<img src=\"img/algorithm-continue-statement_while.jpg\" alt=\"Drawing\" style=\"width: 300px;\"/>"
   ]
  },
  {
   "cell_type": "markdown",
   "metadata": {
    "slideshow": {
     "slide_type": "slide"
    }
   },
   "source": [
    "Let's compare break and continue..."
   ]
  },
  {
   "cell_type": "markdown",
   "metadata": {
    "slideshow": {
     "slide_type": "slide"
    }
   },
   "source": [
    "\n",
    "This program loops through numbers in the range 0 to 19.\n",
    "\n",
    "It prints a message about each number.\n",
    "\n",
    "It *stops* when it reaches a number that is a multiple of 4."
   ]
  },
  {
   "cell_type": "code",
   "execution_count": 27,
   "metadata": {
    "slideshow": {
     "slide_type": "-"
    }
   },
   "outputs": [
    {
     "name": "stdout",
     "output_type": "stream",
     "text": [
      "1 is not a multiple of 4\n",
      "2 is not a multiple of 4\n",
      "3 is not a multiple of 4\n"
     ]
    }
   ],
   "source": [
    "for j in range(1, 20):\n",
    "    \n",
    "    if j % 4 == 0:  # Check remainer of j/4\n",
    "        break    # continue to next value of j\n",
    "        \n",
    "    print(j, \"is not a multiple of 4\")"
   ]
  },
  {
   "cell_type": "markdown",
   "metadata": {
    "slideshow": {
     "slide_type": "slide"
    }
   },
   "source": [
    "This program loops through numbers in the range 0 to 19.\n",
    "\n",
    "It prints a message about each number.\n",
    "\n",
    "It *skips* this operation whenever it reaches a number that is a multiple of 4.\n",
    "\n",
    "If the number is not a multiple of 4 it *continues* to the next value in the loop, without printing."
   ]
  },
  {
   "cell_type": "code",
   "execution_count": 28,
   "metadata": {
    "slideshow": {
     "slide_type": "-"
    }
   },
   "outputs": [
    {
     "name": "stdout",
     "output_type": "stream",
     "text": [
      "1 is not a multiple of 4\n",
      "2 is not a multiple of 4\n",
      "3 is not a multiple of 4\n",
      "5 is not a multiple of 4\n",
      "6 is not a multiple of 4\n",
      "7 is not a multiple of 4\n",
      "9 is not a multiple of 4\n",
      "10 is not a multiple of 4\n",
      "11 is not a multiple of 4\n",
      "13 is not a multiple of 4\n",
      "14 is not a multiple of 4\n",
      "15 is not a multiple of 4\n",
      "17 is not a multiple of 4\n",
      "18 is not a multiple of 4\n",
      "19 is not a multiple of 4\n"
     ]
    }
   ],
   "source": [
    "for j in range(1, 20):\n",
    "    \n",
    "    if j % 4 == 0:  # Check remainer of j/4\n",
    "        continue    # continue to next value of j\n",
    "        \n",
    "    print(j, \"is not a multiple of 4\")"
   ]
  },
  {
   "cell_type": "markdown",
   "metadata": {
    "slideshow": {
     "slide_type": "slide"
    }
   },
   "source": [
    "Let's look at how we can use this in a program by first studying the `while 1` or `while True` loop..."
   ]
  },
  {
   "cell_type": "markdown",
   "metadata": {
    "slideshow": {
     "slide_type": "slide"
    }
   },
   "source": [
    "<a id='while1'></a>\n",
    "## 4.3.2 The `while 1` or `while True` loop\n",
    "\n",
    "A very common operation is to loop until the user performs a request to quit.\n",
    "\n",
    "When the request is made, the program needs a mechanism to *break out* of the loop. \n",
    "\n",
    "A common way to to loop until the user performs a request to is to use a while 1 loop."
   ]
  },
  {
   "cell_type": "markdown",
   "metadata": {
    "slideshow": {
     "slide_type": "slide"
    }
   },
   "source": [
    "\n",
    "\n",
    "Remember:\n",
    "        \n",
    "        True == 1\n",
    "        \n",
    " `while 1 ` loop will keep repeating \"infintely\".\n",
    "<br>To *break out* of an infinite loop, we can use the keyword, `break`."
   ]
  },
  {
   "cell_type": "code",
   "execution_count": 29,
   "metadata": {},
   "outputs": [
    {
     "name": "stdout",
     "output_type": "stream",
     "text": [
      "Do you want to quit? yes\n"
     ]
    }
   ],
   "source": [
    "while 1: \n",
    "    quit = input(\"Do you want to quit? \")\n",
    "    if quit == 'yes':\n",
    "        break"
   ]
  },
  {
   "cell_type": "markdown",
   "metadata": {
    "slideshow": {
     "slide_type": "slide"
    }
   },
   "source": [
    "<a id='ReviewExercises'></a>\n",
    "# 5. Review Exercises\n",
    "\n",
    "Save your answer and email them to:\n",
    "<br>philamore.hemma.5s@kyoto-u.ac.jp\n",
    "\n"
   ]
  },
  {
   "cell_type": "markdown",
   "metadata": {
    "slideshow": {
     "slide_type": "slide"
    }
   },
   "source": [
    "## Review Exercise : Adventure Game\n",
    "Earlier, we studied a very basic, text based adventure game.\n",
    "\n",
    "<p align=\"center\">\n",
    "  <img src=\"img/flow_diag_adventure_game.png\" alt=\"Drawing\" style=\"width: 400px;\"/>\n",
    "</p>\n",
    "\n",
    "Using the conditionals and loops you have learnt today, write your own adventure game. \n",
    "\n",
    "Try to include at least 5 different outcomes/endings. "
   ]
  },
  {
   "cell_type": "code",
   "execution_count": 30,
   "metadata": {},
   "outputs": [],
   "source": [
    "# Review Exercise : Adventure Game"
   ]
  },
  {
   "cell_type": "code",
   "execution_count": null,
   "metadata": {},
   "outputs": [],
   "source": []
  },
  {
   "cell_type": "code",
   "execution_count": null,
   "metadata": {},
   "outputs": [],
   "source": []
  }
 ],
 "metadata": {
  "celltoolbar": "Slideshow",
  "kernelspec": {
   "display_name": "Python 3",
   "language": "python",
   "name": "python3"
  },
  "language_info": {
   "codemirror_mode": {
    "name": "ipython",
    "version": 3
   },
   "file_extension": ".py",
   "mimetype": "text/x-python",
   "name": "python",
   "nbconvert_exporter": "python",
   "pygments_lexer": "ipython3",
   "version": "3.7.4"
  }
 },
 "nbformat": 4,
 "nbformat_minor": 2
}
