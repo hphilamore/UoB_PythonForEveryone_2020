{
 "cells": [
  {
   "cell_type": "markdown",
   "metadata": {
    "collapsed": true,
    "slideshow": {
     "slide_type": "slide"
    }
   },
   "source": [
    "# 02 Data Structures and Libraries\n",
    "# Review Exercises - Solutions"
   ]
  },
  {
   "cell_type": "markdown",
   "metadata": {},
   "source": [
    "## Review Exercise : Guessing Game\n",
    "__(A)__\n",
    "<br>\n",
    "Write a game that:\n",
    "- chooses a random number between 1 and 10\n",
    "- asks the user to guess what it is\n",
    "- exits when the user guesses the right number\n",
    "\n",
    "Use:\n",
    "- a while loop\n",
    "- a break statement (to break out of the while loop)\n",
    "- a random number generator (from the package, `random`)\n",
    "\n",
    "\n",
    "\n",
    "<br>\n",
    "Example : The output from your game might look like this:\n",
    "\n",
    "```\n",
    "    I'm thinking of a random number between 1 and 10.\n",
    "    Can you guess what it is?\n",
    "\n",
    "    Guess what number I am thinking of: 5\n",
    "\n",
    "    Guess what number I am thinking of: 2\n",
    "\n",
    "    Guess what number I am thinking of: 1\n",
    "\n",
    "    Guess what number I am thinking of: 9\n",
    "\n",
    "    You win! I was thinking of 9.\n",
    "```\n",
    "\n",
    "*Hint: Remember that the function `input` returns a string even when a numerical value is entered.* "
   ]
  },
  {
   "cell_type": "code",
   "execution_count": 1,
   "metadata": {},
   "outputs": [],
   "source": [
    "# Review Exercise : Guessing Game\n",
    "\n"
   ]
  },
  {
   "cell_type": "code",
   "execution_count": 2,
   "metadata": {},
   "outputs": [
    {
     "name": "stdout",
     "output_type": "stream",
     "text": [
      "I'm thinking of a random number between 1 and 10.\n",
      "Can you guess what it is?\n",
      "Guess what number I am thinking of: 3\n",
      "Guess what number I am thinking of: 4\n",
      "Guess what number I am thinking of: 5\n",
      "Guess what number I am thinking of: 6\n",
      "Guess what number I am thinking of: 7\n",
      "Guess what number I am thinking of: 8\n",
      "Guess what number I am thinking of: 9\n",
      "Guess what number I am thinking of: 2\n",
      "You win! I was thinking of 2\n"
     ]
    }
   ],
   "source": [
    "# Review Exercise : Guessing Game \n",
    "# Example Solution\n",
    "\n",
    "import random \n",
    "import math\n",
    "\n",
    "num = random.randint(1, 10)\n",
    "\n",
    "print(\"I'm thinking of a random number between 1 and 10.\")\n",
    "print(\"Can you guess what it is?\")\n",
    "\n",
    "while(1):\n",
    "\n",
    "    guess = int(input(\"Guess what number I am thinking of: \"))\n",
    "\n",
    "    if guess == num:\n",
    "        print(f\"You win! I was thinking of {num}\")\n",
    "        break"
   ]
  },
  {
   "cell_type": "markdown",
   "metadata": {},
   "source": [
    "__(B)__\n",
    "<br>Use `if` and `else` to generate a __clue__ for the player gets the answer wrong \n",
    "\n",
    "<br>\n",
    "The output from your game might look like this:\n",
    "```\n",
    "    I'm thinking of a random number between 1 and 10.\n",
    "    Can you guess what it is?\n",
    "\n",
    "    Guess what number I am thinking of: 1\n",
    "    Too low.\n",
    "\n",
    "    Guess what number I am thinking of: 5\n",
    "    Too low.\n",
    "\n",
    "    Guess what number I am thinking of: 9\n",
    "\n",
    "    You win! I was thinking of 9.\n",
    "    ```"
   ]
  },
  {
   "cell_type": "code",
   "execution_count": 3,
   "metadata": {},
   "outputs": [],
   "source": [
    "# Review Exercise : Guessing Game with Clues"
   ]
  },
  {
   "cell_type": "code",
   "execution_count": 4,
   "metadata": {},
   "outputs": [
    {
     "name": "stdout",
     "output_type": "stream",
     "text": [
      "I'm thinking of a random number between 1 and 10.\n",
      "Can you guess what it is?\n",
      "Guess what number I am thinking of: 2\n",
      "Too low\n",
      "Guess what number I am thinking of: 5\n",
      "Too low\n",
      "Guess what number I am thinking of: 7\n",
      "Too low\n",
      "Guess what number I am thinking of: 9\n",
      "Too high\n",
      "Guess what number I am thinking of: 8\n",
      "You win! I was thinking of 8\n"
     ]
    }
   ],
   "source": [
    "# Review Exercise : Guessing Game with Clues\n",
    "# Example Solution\n",
    "\n",
    "import random \n",
    "import math\n",
    "\n",
    "num = random.randint(1, 10)\n",
    "\n",
    "print(\"I'm thinking of a random number between 1 and 10.\")\n",
    "print(\"Can you guess what it is?\")\n",
    "\n",
    "while(1):\n",
    "\n",
    "    guess = int(input(\"Guess what number I am thinking of: \"))\n",
    "\n",
    "    if guess == num:\n",
    "        print(f\"You win! I was thinking of {num}\")\n",
    "        break\n",
    "\n",
    "    elif guess < num:\n",
    "        print(\"Too low\")\n",
    "\n",
    "    else: \n",
    "        print(\"Too high\")\n",
    "        "
   ]
  },
  {
   "cell_type": "markdown",
   "metadata": {},
   "source": [
    "__(C)__\n",
    "<br>Use `break` to quit the game if the user makes three consecutive wrong guesses.\n",
    "\n",
    "<br>\n",
    "The output from your game might look something like this:\n",
    "\n",
    "    I'm thinking of a random number between 1 and 10.\n",
    "    Can you guess what it is? You have 3 guesses...\n",
    "\n",
    "    Guess what number I am thinking of: 1\n",
    "    Too low.\n",
    "\n",
    "    Guess what number I am thinking of: 2\n",
    "    Too low.\n",
    "\n",
    "    Guess what number I am thinking of: 5\n",
    "    \n",
    "    You used all your lives! You lose! I was thinking of 9."
   ]
  },
  {
   "cell_type": "code",
   "execution_count": 5,
   "metadata": {},
   "outputs": [],
   "source": [
    "# Review Exercise : Guessing game with maximum number of tries\n"
   ]
  },
  {
   "cell_type": "code",
   "execution_count": 6,
   "metadata": {
    "scrolled": true
   },
   "outputs": [
    {
     "name": "stdout",
     "output_type": "stream",
     "text": [
      "I'm thinking of a random number between 1 and 10.\n",
      "Can you guess what it is?\n",
      "Guess what number I am thinking of: 2\n",
      "Too low\n",
      "Guess what number I am thinking of: 5\n",
      "Too low\n",
      "Guess what number I am thinking of: 9\n",
      "You win! I was thinking of 9\n",
      "You used all your lives! You lose! I was thinking of 9.\n"
     ]
    }
   ],
   "source": [
    "# Review Exercise : Guessing game with maximum number of tries\n",
    "# Example Solution\n",
    "\n",
    "import random \n",
    "import math\n",
    "\n",
    "num = random.randint(1, 10)\n",
    "\n",
    "print(\"I'm thinking of a random number between 1 and 10.\")\n",
    "print(\"Can you guess what it is?\")\n",
    "\n",
    "for i in range(3):\n",
    "    guess = int(input(\"Guess what number I am thinking of: \"))\n",
    "    \n",
    "    if guess == num:\n",
    "        print(f\"You win! I was thinking of {num}\")\n",
    "        break\n",
    "        \n",
    "    elif guess < num:\n",
    "        print(\"Too low\")\n",
    "        \n",
    "    else: \n",
    "        print(\"Too high\")\n",
    "        \n",
    "print(f\"You used all your lives! You lose! I was thinking of {num}.\")"
   ]
  },
  {
   "cell_type": "markdown",
   "metadata": {},
   "source": [
    "## Review Exercise 2:  List with `for` loop.\n",
    "In the cell below, use a `for` loop to print the first letter of each month in the list.\n",
    "\n"
   ]
  },
  {
   "cell_type": "code",
   "execution_count": 12,
   "metadata": {},
   "outputs": [],
   "source": [
    "# Print the first letter of each month in the list\n",
    "\n",
    "months = [\"January\",\n",
    "         \"February\",\n",
    "         \"March\",\n",
    "         \"April\",\n",
    "         \"May\",\n",
    "         \"June\",\n",
    "         \"July\",\n",
    "         \"August\",\n",
    "         \"September\",\n",
    "         \"October\",\n",
    "         \"November\",\n",
    "         \"December\"]"
   ]
  },
  {
   "cell_type": "code",
   "execution_count": 13,
   "metadata": {},
   "outputs": [],
   "source": [
    "# Review Exercise: List with for loop\n",
    "# Example Solution"
   ]
  },
  {
   "cell_type": "markdown",
   "metadata": {
    "slideshow": {
     "slide_type": "slide"
    }
   },
   "source": [
    "<a id='ExampleTicTacToe'></a>\n",
    "## Review Exercise 3 : Tic-tac-toe\n",
    "A list of lists can be used to represent a discrete set of positions the a player can occupy.\n",
    "\n",
    "We can write a program that plays the the game tic-tac-toe, using a list of list. \n",
    "\n",
    "The program is shown in the cell below.   \n",
    "\n",
    "<p align=\"center\">\n",
    "  <img src=\"img/noughts_and_crosses.jpg\" alt=\"Drawing\" style=\"width: 200px;\"/>\n",
    "</p>"
   ]
  },
  {
   "cell_type": "code",
   "execution_count": 14,
   "metadata": {
    "slideshow": {
     "slide_type": "slide"
    }
   },
   "outputs": [
    {
     "name": "stdout",
     "output_type": "stream",
     "text": [
      "_\t_\t_\t\n",
      "_\t_\t_\t\n",
      "_\t_\t_\t\n",
      "Player X, choose position: 01\n",
      "_\tX\t_\t\n",
      "_\t_\t_\t\n",
      "_\t_\t_\t\n",
      "\n",
      "next turn \n",
      "\n",
      "Game over?(Y/N): Y\n"
     ]
    }
   ],
   "source": [
    "# tic-tac-toe \n",
    "#\n",
    "# Board positions:\n",
    "#\n",
    "# 00   01   02\n",
    "# 10   11   12\n",
    "# 20   21   22\n",
    "\n",
    "\n",
    "# Example solution\n",
    "\n",
    "# # use a for loop to set-up the 3x3 grid \n",
    "board = []\n",
    "for row in range(3):\n",
    "    #board.append(['_', '_', '_'])\n",
    "    board.append(['_']*3)\n",
    "    \n",
    "    \n",
    "# print the output nicely       \n",
    "for row in board:\n",
    "    for column in row:\n",
    "        print(column, end='\\t')\n",
    "    # new line at end of row\n",
    "    print() \n",
    "\n",
    "    \n",
    "# choose who goes first, X or 0    \n",
    "player = 'X'\n",
    "\n",
    "\n",
    "# keep playing the game until told to quit\n",
    "while(1):\n",
    "    # use if and else to take turns at adding input from each player to the board\n",
    "    if player == 'X':\n",
    "        position = input('Player X, choose position: ')\n",
    "        board[int(position[0])][int(position[1])] = 'X'\n",
    "        player = '0'\n",
    "        \n",
    "    else: \n",
    "        position = input('Player 0, choose position: ')\n",
    "        board[int(position[0])][int(position[1])] = '0'\n",
    "        player = 'X'\n",
    "        \n",
    "        \n",
    "    #board[int(position[0])][int(position[1])] = player\n",
    "        \n",
    "    \n",
    "    # print the output nicely       \n",
    "    for row in board:\n",
    "        for column in row:\n",
    "            print(column, end='\\t')\n",
    "        # new line at end of row\n",
    "        print() \n",
    "        \n",
    "    print('\\nnext turn \\n')\n",
    "        \n",
    "        \n",
    "    game_over = input('Game over?(Y/N): ')\n",
    "    if game_over == 'Y':\n",
    "        break"
   ]
  },
  {
   "cell_type": "markdown",
   "metadata": {},
   "source": [
    "__(A)__\n",
    "\n",
    "The program decides whether to quit the game based on user input after each turn taken.\n",
    "\n",
    "Copy and paste the program into the cell provided below.\n",
    " \n",
    "Edit the program to quit the game if either:\n",
    " - one of the players places three marks in a row.\n",
    " - all positions have been marked but noone has won.\n",
    "\n",
    "<br>*Hints:* \n",
    "- Use:\n",
    " - `if` and `else`\n",
    " - the boolean operators `and`, `or`, `not`\n",
    "- If the value of three colinear places is equal, the game has finished/been won.\n",
    "\n",
    "\n"
   ]
  },
  {
   "cell_type": "markdown",
   "metadata": {},
   "source": [
    "__(B)__\n",
    "\n",
    "<br>Edit the program to prevent a player from choosing a place that is already occupied.\n",
    "<br>For example, the program might ask the player to choose again.\n",
    "<br>e.g.\n",
    "\n",
    "        position already occupied, Player X choose a different position"
   ]
  },
  {
   "cell_type": "code",
   "execution_count": 15,
   "metadata": {},
   "outputs": [],
   "source": [
    "# Review Exercise: Tic-tac-toe "
   ]
  },
  {
   "cell_type": "code",
   "execution_count": 16,
   "metadata": {},
   "outputs": [
    {
     "name": "stdout",
     "output_type": "stream",
     "text": [
      "_\t_\t_\t\n",
      "_\t_\t_\t\n",
      "_\t_\t_\t\n",
      "Player X, choose position: 01\n",
      "_\tX\t_\t\n",
      "_\t_\t_\t\n",
      "_\t_\t_\t\n",
      "Player 0, choose position: 00\n",
      "0\tX\t_\t\n",
      "_\t_\t_\t\n",
      "_\t_\t_\t\n",
      "Player X, choose position: 21\n",
      "0\tX\t_\t\n",
      "_\t_\t_\t\n",
      "_\tX\t_\t\n",
      "Player 0, choose position: 22\n",
      "0\tX\t_\t\n",
      "_\t_\t_\t\n",
      "_\tX\t0\t\n",
      "Player X, choose position: 00\n",
      "Position taken, Player X, choose again: 20\n",
      "0\tX\t_\t\n",
      "_\t_\t_\t\n",
      "X\tX\t0\t\n",
      "Player 0, choose position: 02\n",
      "0\tX\t0\t\n",
      "_\t_\t_\t\n",
      "X\tX\t0\t\n",
      "Player X, choose position: 11\n",
      "0\tX\t0\t\n",
      "_\tX\t_\t\n",
      "X\tX\t0\t\n",
      "Game over! Player 0 wins!\n"
     ]
    }
   ],
   "source": [
    "# Review Exercise: Tic-tac-toe \n",
    "# Example Solution\n",
    "\n",
    "# use a for loop to set-up the board\n",
    "board = []\n",
    "for row in range(3):\n",
    "    #board.append(['_', '_', '_'])\n",
    "    board.append(['_']*3)\n",
    "    \n",
    "    \n",
    "# display the output nicely    \n",
    "for lists in board:\n",
    "    for i in lists:\n",
    "        print(i,end='\\t')\n",
    "    # leave gap before next row\n",
    "    print()\n",
    "    \n",
    "    \n",
    "# choose who goes first, X or 0    \n",
    "player = 'X'\n",
    "\n",
    "# keep playing the game until told to quit\n",
    "while(1):\n",
    "    # use if and else to take turns at adding input from each player to the board\n",
    "    if player == 'X':\n",
    "        position = input('Player X, choose position: ')\n",
    "        while(board[int(position[0])][int(position[1])] != '_'):\n",
    "            position = input('Position taken, Player X, choose again: ')\n",
    "        board[int(position[0])][int(position[1])] = 'X'\n",
    "        player = '0'\n",
    "        \n",
    "    else: \n",
    "        position = input('Player 0, choose position: ')\n",
    "        while(board[int(position[0])][int(position[1])] != '_'):\n",
    "            position = input('Position taken, Player 0, choose again: ')\n",
    "        board[int(position[0])][int(position[1])] = '0'\n",
    "        player = 'X' \n",
    "        \n",
    "    \n",
    "    #board[int(position[0])][int(position[1])] = player\n",
    "        \n",
    "    \n",
    "    # display the output nicely    \n",
    "    for lists in board:\n",
    "        for i in lists:\n",
    "            print(i,end='\\t')\n",
    "        print()\n",
    "        \n",
    "        \n",
    "    # game over : one player gets 3 in a row\n",
    "    if((board[0][0] == board[1][1] == board[2][2]== 'X')or\n",
    "       (board[2][0] == board[1][1] == board[0][2]== 'X')or\n",
    "       \n",
    "       (board[0][0] == board[1][0] == board[2][0]== 'X')or\n",
    "       (board[0][1] == board[1][1] == board[2][1]== 'X')or\n",
    "       (board[0][2] == board[1][2] == board[2][2]== 'X')or\n",
    "       \n",
    "       (board[0][0] == board[0][1] == board[0][2]== 'X')or\n",
    "       (board[1][0] == board[1][1] == board[1][2]== 'X')or\n",
    "       (board[2][0] == board[2][1] == board[2][2]== 'X')or\n",
    "       \n",
    "       \n",
    "       (board[0][0] == board[1][1] == board[2][2]== '0')or\n",
    "       (board[2][0] == board[1][1] == board[0][2]== '0')or\n",
    "       \n",
    "       (board[0][0] == board[1][0] == board[2][0]== '0')or\n",
    "       (board[0][1] == board[1][1] == board[2][1]== '0')or\n",
    "       (board[0][2] == board[1][2] == board[2][2]== '0')or\n",
    "       \n",
    "       (board[0][0] == board[0][1] == board[0][2]== '0')or\n",
    "       (board[1][0] == board[1][1] == board[1][2]== '0')or\n",
    "       (board[2][0] == board[2][1] == board[2][2]== '0')):\n",
    "        print(\"Game over! Player \" + player + \" wins!\")\n",
    "        break\n",
    "    \n",
    "    # game over : no empty sapces remain\n",
    "    gameover = True\n",
    "    for lists in board:\n",
    "        for i in lists:\n",
    "            if i=='_':\n",
    "                gameover = False\n",
    "    if gameover:\n",
    "        print(\"Game over! No winner.\")         \n",
    "\n"
   ]
  },
  {
   "cell_type": "code",
   "execution_count": 22,
   "metadata": {},
   "outputs": [],
   "source": [
    "# tic-tac-toe "
   ]
  },
  {
   "cell_type": "code",
   "execution_count": null,
   "metadata": {},
   "outputs": [],
   "source": []
  }
 ],
 "metadata": {
  "kernelspec": {
   "display_name": "Python 3",
   "language": "python",
   "name": "python3"
  },
  "language_info": {
   "codemirror_mode": {
    "name": "ipython",
    "version": 3
   },
   "file_extension": ".py",
   "mimetype": "text/x-python",
   "name": "python",
   "nbconvert_exporter": "python",
   "pygments_lexer": "ipython3",
   "version": "3.7.4"
  }
 },
 "nbformat": 4,
 "nbformat_minor": 2
}
