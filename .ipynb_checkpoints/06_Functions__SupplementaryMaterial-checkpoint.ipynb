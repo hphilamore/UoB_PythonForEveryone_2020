{
 "cells": [
  {
   "cell_type": "markdown",
   "metadata": {
    "slideshow": {
     "slide_type": "slide"
    }
   },
   "source": [
    "<img src=\"img/full-colour-logo-UoB.png\" alt=\"Drawing\" style=\"width: 200px;\"/>\n",
    "\n",
    "# Introduction to Programming for Everyone\n",
    "\n",
    "## Python 3\n",
    "\n",
    "\n"
   ]
  },
  {
   "cell_type": "markdown",
   "metadata": {
    "collapsed": true,
    "slideshow": {
     "slide_type": "slide"
    }
   },
   "source": [
    "# 06 Functions\n",
    "## SUPPLEMENTARY MATERIAL\n",
    "\n",
    "\n",
    "<br> <a href='#AnatomyFunction'>1. The Anatomy of a Function</a>  \n",
    "<br> <a href='#Scope'>2. Scope</a>"
   ]
  },
  {
   "cell_type": "markdown",
   "metadata": {
    "slideshow": {
     "slide_type": "slide"
    }
   },
   "source": [
    "<a id='AnatomyFunction'></a>\n",
    "## 1. The Anatomy of a Function\n",
    "\n",
    "\n",
    "<br> <a href='#FunctionChecklist'>1.1 Function Checklist</a>  \n",
    "<a href='#DocumentationString'>1.2 The Documentation String</a>\n",
    "<br> <a href='#FunctionArguments'>1.3 Function Arguments</a>  \n",
    "<a href='#return'>1.4 `return`</a>\n",
    "\n",
    "\n",
    "A function is just a piece of code that we can use in our program by typing its name. \n",
    "\n",
    "\n",
    "\n",
    "Here is a python function:\n",
    "```python\n",
    "def sum_and_increment(a, b):    \n",
    "    c = a + b + 1\n",
    "    return c\n",
    "```\n",
    "\n",
    "Its name is `sum_and_increment`.\n",
    "            \n",
    "           \n",
    "\n"
   ]
  },
  {
   "cell_type": "markdown",
   "metadata": {
    "slideshow": {
     "slide_type": "slide"
    }
   },
   "source": [
    "<a id='FunctionChecklist'></a>\n",
    "## 1.1 Function Checklist\n",
    "\n",
    "A custom function is __declared__ using:\n",
    "1. The definition keyword, __`def`__.\n",
    "1. A __function name__ of your choice.\n",
    "1. __() parentheses__ which optionally contain __arguments__ (the *inputs* to the function)\n",
    "1. __: a colon__ character\n",
    "1. A __documentation string__ that says what the function does.\n",
    "1. The __body code__ to be executed when the function is *called*.\n",
    "1. An optional __return__ statement (the *output* of the function)\n",
    "\n",
    "<img src=\"img/function_anotated.png\" alt=\"Drawing\" style=\"width: 600px;\"/>\n"
   ]
  },
  {
   "cell_type": "code",
   "execution_count": 1,
   "metadata": {},
   "outputs": [
    {
     "name": "stdout",
     "output_type": "stream",
     "text": [
      "6\n",
      "6\n"
     ]
    }
   ],
   "source": [
    "def sum_and_increment(a, b):    \n",
    "    c = a + b + 1\n",
    "    return c\n",
    "\n",
    "d = sum_and_increment(2, 3)\n",
    "print(d)\n",
    "\n",
    "print(sum_and_increment(2, 3))"
   ]
  },
  {
   "cell_type": "markdown",
   "metadata": {
    "slideshow": {
     "slide_type": "slide"
    }
   },
   "source": [
    "__Function name:__  `sum_and_increment`\n",
    "\n",
    "__Arguments:__ \n",
    "<br>`a` and `b`\n",
    "<br> Function inputs are placed within () parentheses.\n",
    "<br> Function inputs are variables to be used within (\"parsed to\") the function.\n",
    "\n",
    "  ```python\n",
    "  def sum_and_increment(a, b): \n",
    "  \n",
    "  ```\n",
    " \n",
    "\n"
   ]
  },
  {
   "cell_type": "markdown",
   "metadata": {
    "slideshow": {
     "slide_type": "slide"
    }
   },
   "source": [
    "__Body:__ \n",
    "<br>The code to be executed when the function is called. \n",
    "<br>Indented (typically four spaces, automatic).  \n",
    "\n",
    "  ```python\n",
    "    def sum_and_increment(a, b): \n",
    "          c = a + b + 1\n",
    "\n",
    "  ```"
   ]
  },
  {
   "cell_type": "markdown",
   "metadata": {
    "slideshow": {
     "slide_type": "slide"
    }
   },
   "source": [
    "__`return`__ statement: \n",
    "<br>Defines the output of the function.\n",
    "<br>Often placed at the end of a function.\n",
    "\n",
    "\n",
    "  ```python\n",
    "    def sum_and_increment(a, b): \n",
    "          c = a + b + 1\n",
    "          return c\n",
    "    \n",
    "  ```"
   ]
  },
  {
   "cell_type": "markdown",
   "metadata": {
    "slideshow": {
     "slide_type": "slide"
    }
   },
   "source": [
    "To execute (*call*) the function, type:\n",
    " - a variable to store the output if the function `return`s a value\n",
    " - the function name\n",
    " - any arguments "
   ]
  },
  {
   "cell_type": "code",
   "execution_count": 2,
   "metadata": {},
   "outputs": [
    {
     "name": "stdout",
     "output_type": "stream",
     "text": [
      "8\n"
     ]
    }
   ],
   "source": [
    "m = sum_and_increment(3, 4)\n",
    "print(m)  # Expect 8"
   ]
  },
  {
   "cell_type": "code",
   "execution_count": 3,
   "metadata": {
    "slideshow": {
     "slide_type": "-"
    }
   },
   "outputs": [
    {
     "name": "stdout",
     "output_type": "stream",
     "text": [
      "21\n"
     ]
    }
   ],
   "source": [
    "m = 10\n",
    "n = sum_and_increment(m, m)\n",
    "print(n)  # Expect 21"
   ]
  },
  {
   "cell_type": "code",
   "execution_count": 4,
   "metadata": {
    "slideshow": {
     "slide_type": "subslide"
    }
   },
   "outputs": [
    {
     "name": "stdout",
     "output_type": "stream",
     "text": [
      "12\n"
     ]
    }
   ],
   "source": [
    "l = 5\n",
    "m = 6\n",
    "n = sum_and_increment(m, l)\n",
    "print(n) "
   ]
  },
  {
   "cell_type": "markdown",
   "metadata": {
    "slideshow": {
     "slide_type": "slide"
    }
   },
   "source": [
    "<a id='DocumentationString'></a>\n",
    "## 1.2 The Documentation String\n",
    "It is best practise to include a *documentation string* (\"docstring\").\n",
    " - Describes __in words__ what the function does.\n",
    " - Begins and end with `\"\"\"`.\n",
    " - *Optional* - however it makes your code much more understandadble. "
   ]
  },
  {
   "cell_type": "code",
   "execution_count": 5,
   "metadata": {
    "slideshow": {
     "slide_type": "slide"
    }
   },
   "outputs": [],
   "source": [
    "def sum_and_increment(a, b):\n",
    "    \"\"\"\n",
    "    Return the sum of a and b, plus 1\n",
    "    \"\"\"\n",
    "    c = a + b + 1\n",
    "    return c\n"
   ]
  },
  {
   "cell_type": "markdown",
   "metadata": {
    "slideshow": {
     "slide_type": "slide"
    }
   },
   "source": [
    "A function does not necessarily:\n",
    "- take input arguments\n",
    "- return output variables\n",
    "\n",
    "__Example__\n",
    "<br>A function with:\n",
    "- no input arguments - empty () parentheses\n",
    "- no output variables - no `return` statement "
   ]
  },
  {
   "cell_type": "code",
   "execution_count": 6,
   "metadata": {},
   "outputs": [
    {
     "name": "stdout",
     "output_type": "stream",
     "text": [
      "The function 'print_message' has been called.\n"
     ]
    }
   ],
   "source": [
    "def print_message():\n",
    "    print(\"The function 'print_message' has been called.\")\n",
    "\n",
    "print_message()"
   ]
  },
  {
   "cell_type": "markdown",
   "metadata": {
    "slideshow": {
     "slide_type": "slide"
    }
   },
   "source": [
    "<a id='FunctionArguments'></a>\n",
    "\n",
    "## 1.3 Function Arguments\n"
   ]
  },
  {
   "cell_type": "markdown",
   "metadata": {
    "slideshow": {
     "slide_type": "slide"
    }
   },
   "source": [
    "### What can be passed as a function argument?\n",
    "\n",
    "*Object* types that can be passed as arguments to functions include:\n",
    "- single variables (`int`, `float`...)\n",
    "- data structures (`list`, `array`...)\n",
    "- other functions \n",
    "\n"
   ]
  },
  {
   "cell_type": "markdown",
   "metadata": {
    "slideshow": {
     "slide_type": "slide"
    }
   },
   "source": [
    "<a id='SingleVariablesFunctionArguments'></a>\n",
    "### Single Variables as Function Arguments. \n",
    "We can define the position of a tree by how far it is offset from an initial set of x,y coordinates.\n"
   ]
  },
  {
   "cell_type": "code",
   "execution_count": 7,
   "metadata": {},
   "outputs": [
    {
     "name": "stdout",
     "output_type": "stream",
     "text": [
      "pygame 1.9.6\n",
      "Hello from the pygame community. https://www.pygame.org/contribute.html\n"
     ]
    }
   ],
   "source": [
    "import pygame\n",
    "\n",
    "def tree(x, y):\n",
    "    \"Draws a tree\"\n",
    "    pygame.draw.rect(window, black, [160+x, 300+y, 30, 45])\n",
    "    pygame.draw.polygon(window, green, [[250+x, 300+y], [175+x, 150+y], [100+x, 300+y]])\n",
    "    pygame.draw.polygon(window, green, [[240+x, 250+y], [175+x, 130+y], [110+x, 250+y]])"
   ]
  },
  {
   "cell_type": "code",
   "execution_count": 8,
   "metadata": {
    "slideshow": {
     "slide_type": "slide"
    }
   },
   "outputs": [
    {
     "ename": "NameError",
     "evalue": "name 'window' is not defined",
     "output_type": "error",
     "traceback": [
      "\u001b[0;31m---------------------------------------------------------------------------\u001b[0m",
      "\u001b[0;31mNameError\u001b[0m                                 Traceback (most recent call last)",
      "\u001b[0;32m<ipython-input-8-519caa7ea49d>\u001b[0m in \u001b[0;36m<module>\u001b[0;34m\u001b[0m\n\u001b[1;32m      1\u001b[0m \u001b[0;31m# Draw a tree at original position\u001b[0m\u001b[0;34m\u001b[0m\u001b[0;34m\u001b[0m\u001b[0;34m\u001b[0m\u001b[0m\n\u001b[0;32m----> 2\u001b[0;31m \u001b[0mtree\u001b[0m\u001b[0;34m(\u001b[0m\u001b[0;36m0\u001b[0m\u001b[0;34m,\u001b[0m \u001b[0;36m0\u001b[0m\u001b[0;34m)\u001b[0m\u001b[0;34m\u001b[0m\u001b[0;34m\u001b[0m\u001b[0m\n\u001b[0m\u001b[1;32m      3\u001b[0m \u001b[0;34m\u001b[0m\u001b[0m\n\u001b[1;32m      4\u001b[0m \u001b[0;34m\u001b[0m\u001b[0m\n\u001b[1;32m      5\u001b[0m \u001b[0;31m# Draw tree at offset (x, y) = (100, -100)\u001b[0m\u001b[0;34m\u001b[0m\u001b[0;34m\u001b[0m\u001b[0;34m\u001b[0m\u001b[0m\n",
      "\u001b[0;32m<ipython-input-7-bf0011b9ffcc>\u001b[0m in \u001b[0;36mtree\u001b[0;34m(x, y)\u001b[0m\n\u001b[1;32m      3\u001b[0m \u001b[0;32mdef\u001b[0m \u001b[0mtree\u001b[0m\u001b[0;34m(\u001b[0m\u001b[0mx\u001b[0m\u001b[0;34m,\u001b[0m \u001b[0my\u001b[0m\u001b[0;34m)\u001b[0m\u001b[0;34m:\u001b[0m\u001b[0;34m\u001b[0m\u001b[0;34m\u001b[0m\u001b[0m\n\u001b[1;32m      4\u001b[0m     \u001b[0;34m\"Draws a tree\"\u001b[0m\u001b[0;34m\u001b[0m\u001b[0;34m\u001b[0m\u001b[0m\n\u001b[0;32m----> 5\u001b[0;31m     \u001b[0mpygame\u001b[0m\u001b[0;34m.\u001b[0m\u001b[0mdraw\u001b[0m\u001b[0;34m.\u001b[0m\u001b[0mrect\u001b[0m\u001b[0;34m(\u001b[0m\u001b[0mwindow\u001b[0m\u001b[0;34m,\u001b[0m \u001b[0mblack\u001b[0m\u001b[0;34m,\u001b[0m \u001b[0;34m[\u001b[0m\u001b[0;36m160\u001b[0m\u001b[0;34m+\u001b[0m\u001b[0mx\u001b[0m\u001b[0;34m,\u001b[0m \u001b[0;36m300\u001b[0m\u001b[0;34m+\u001b[0m\u001b[0my\u001b[0m\u001b[0;34m,\u001b[0m \u001b[0;36m30\u001b[0m\u001b[0;34m,\u001b[0m \u001b[0;36m45\u001b[0m\u001b[0;34m]\u001b[0m\u001b[0;34m)\u001b[0m\u001b[0;34m\u001b[0m\u001b[0;34m\u001b[0m\u001b[0m\n\u001b[0m\u001b[1;32m      6\u001b[0m     \u001b[0mpygame\u001b[0m\u001b[0;34m.\u001b[0m\u001b[0mdraw\u001b[0m\u001b[0;34m.\u001b[0m\u001b[0mpolygon\u001b[0m\u001b[0;34m(\u001b[0m\u001b[0mwindow\u001b[0m\u001b[0;34m,\u001b[0m \u001b[0mgreen\u001b[0m\u001b[0;34m,\u001b[0m \u001b[0;34m[\u001b[0m\u001b[0;34m[\u001b[0m\u001b[0;36m250\u001b[0m\u001b[0;34m+\u001b[0m\u001b[0mx\u001b[0m\u001b[0;34m,\u001b[0m \u001b[0;36m300\u001b[0m\u001b[0;34m+\u001b[0m\u001b[0my\u001b[0m\u001b[0;34m]\u001b[0m\u001b[0;34m,\u001b[0m \u001b[0;34m[\u001b[0m\u001b[0;36m175\u001b[0m\u001b[0;34m+\u001b[0m\u001b[0mx\u001b[0m\u001b[0;34m,\u001b[0m \u001b[0;36m150\u001b[0m\u001b[0;34m+\u001b[0m\u001b[0my\u001b[0m\u001b[0;34m]\u001b[0m\u001b[0;34m,\u001b[0m \u001b[0;34m[\u001b[0m\u001b[0;36m100\u001b[0m\u001b[0;34m+\u001b[0m\u001b[0mx\u001b[0m\u001b[0;34m,\u001b[0m \u001b[0;36m300\u001b[0m\u001b[0;34m+\u001b[0m\u001b[0my\u001b[0m\u001b[0;34m]\u001b[0m\u001b[0;34m]\u001b[0m\u001b[0;34m)\u001b[0m\u001b[0;34m\u001b[0m\u001b[0;34m\u001b[0m\u001b[0m\n\u001b[1;32m      7\u001b[0m     \u001b[0mpygame\u001b[0m\u001b[0;34m.\u001b[0m\u001b[0mdraw\u001b[0m\u001b[0;34m.\u001b[0m\u001b[0mpolygon\u001b[0m\u001b[0;34m(\u001b[0m\u001b[0mwindow\u001b[0m\u001b[0;34m,\u001b[0m \u001b[0mgreen\u001b[0m\u001b[0;34m,\u001b[0m \u001b[0;34m[\u001b[0m\u001b[0;34m[\u001b[0m\u001b[0;36m240\u001b[0m\u001b[0;34m+\u001b[0m\u001b[0mx\u001b[0m\u001b[0;34m,\u001b[0m \u001b[0;36m250\u001b[0m\u001b[0;34m+\u001b[0m\u001b[0my\u001b[0m\u001b[0;34m]\u001b[0m\u001b[0;34m,\u001b[0m \u001b[0;34m[\u001b[0m\u001b[0;36m175\u001b[0m\u001b[0;34m+\u001b[0m\u001b[0mx\u001b[0m\u001b[0;34m,\u001b[0m \u001b[0;36m130\u001b[0m\u001b[0;34m+\u001b[0m\u001b[0my\u001b[0m\u001b[0;34m]\u001b[0m\u001b[0;34m,\u001b[0m \u001b[0;34m[\u001b[0m\u001b[0;36m110\u001b[0m\u001b[0;34m+\u001b[0m\u001b[0mx\u001b[0m\u001b[0;34m,\u001b[0m \u001b[0;36m250\u001b[0m\u001b[0;34m+\u001b[0m\u001b[0my\u001b[0m\u001b[0;34m]\u001b[0m\u001b[0;34m]\u001b[0m\u001b[0;34m)\u001b[0m\u001b[0;34m\u001b[0m\u001b[0;34m\u001b[0m\u001b[0m\n",
      "\u001b[0;31mNameError\u001b[0m: name 'window' is not defined"
     ]
    }
   ],
   "source": [
    "# Draw a tree at original position\n",
    "tree(0, 0)\n",
    "    \n",
    "\n",
    "# Draw tree at offset (x, y) = (100, -100)\n",
    "tree(100, -100)"
   ]
  },
  {
   "cell_type": "markdown",
   "metadata": {
    "slideshow": {
     "slide_type": "slide"
    }
   },
   "source": [
    "\n",
    "If we want to draw multiple objects, it can be convenient to express their coordinates usign a data structure.\n",
    "\n",
    "    trees = [[0, 0], [200, -150], [350, -150]]\n",
    "    \n",
    "    for t in trees:\n",
    "        tree(t[0], t[1])\n",
    "        "
   ]
  },
  {
   "cell_type": "markdown",
   "metadata": {
    "slideshow": {
     "slide_type": "slide"
    }
   },
   "source": [
    "<a id='DataStructuresFunctionArguments'></a>\n",
    "### Data Structures as Function Arguments. \n",
    "\n",
    "We can also write a function that accepts a data structure as an argument\n",
    "\n",
    "<a id='ExampleTrees'></a>\n",
    "#### Example: Trees"
   ]
  },
  {
   "cell_type": "code",
   "execution_count": null,
   "metadata": {
    "slideshow": {
     "slide_type": "slide"
    }
   },
   "outputs": [],
   "source": [
    "def draw_trees(trees):\n",
    "    \"Draws trees\"\n",
    "    \n",
    "    for t in trees:\n",
    "        \n",
    "        x = t[0]\n",
    "        y = t[1]\n",
    "        \n",
    "        pygame.draw.rect(window, black, [160+x, 300+y, 30, 45])\n",
    "        pygame.draw.polygon(window, green, [[250+x, 300+y], [175+x, 150+y], [100+x, 300+y]])\n",
    "        pygame.draw.polygon(window, green, [[240+x, 250+y], [175+x, 130+y], [110+x, 250+y]])"
   ]
  },
  {
   "cell_type": "markdown",
   "metadata": {
    "slideshow": {
     "slide_type": "slide"
    }
   },
   "source": [
    "<a id='FunctionsFunctionArguments'></a>\n",
    "### Functions as Function Arguments. \n",
    "Consider the two functions.\n",
    "<br>The docstring of each function explains what it does."
   ]
  },
  {
   "cell_type": "code",
   "execution_count": null,
   "metadata": {},
   "outputs": [],
   "source": [
    "# Function A\n",
    "def f0(y):\n",
    "    \"Computes y^2 - 10\"\n",
    "    return y*y - 10\n",
    "\n",
    "# Function B\n",
    "def is_positive(x):\n",
    "    \"Checks if x is positive\"\n",
    "    return x > 0\n",
    "\n",
    "print(f0(3))\n",
    "print(is_positive(3))"
   ]
  },
  {
   "cell_type": "markdown",
   "metadata": {
    "slideshow": {
     "slide_type": "slide"
    }
   },
   "source": [
    "Let's say we want to test if $y^2 - 1$ (*Function A*) is positive (*Function B*).\n",
    "\n",
    "We can nest one function within another function:"
   ]
  },
  {
   "cell_type": "code",
   "execution_count": null,
   "metadata": {},
   "outputs": [],
   "source": [
    "print(is_positive( f0(3) ))"
   ]
  },
  {
   "cell_type": "markdown",
   "metadata": {
    "slideshow": {
     "slide_type": "slide"
    }
   },
   "source": [
    "Alternatively we can re-write Function B to take a function and a variable as *seperate* input arguments: "
   ]
  },
  {
   "cell_type": "code",
   "execution_count": null,
   "metadata": {},
   "outputs": [],
   "source": [
    "# Function A\n",
    "def f0(y):\n",
    "    \"Computes y^2 - 1\"\n",
    "    return y*y - 10\n",
    "\n",
    "# Function B\n",
    "\n",
    "# def is_positive(x):\n",
    "#     \"Checks if x is positive\"\n",
    "#     return x > 0\n",
    "\n",
    "def is_positive(f, x):\n",
    "    \"Checks if the function value f(x) is positive\"\n",
    "    return f(x) > 0\n",
    "\n",
    "print(is_positive(f0, 3))\n",
    "    \n"
   ]
  },
  {
   "cell_type": "markdown",
   "metadata": {
    "slideshow": {
     "slide_type": "slide"
    }
   },
   "source": [
    "This is useful, for example, where the use of the function depends on the input value.\n",
    "\n",
    "This time *Function B* includes `if-else`:"
   ]
  },
  {
   "cell_type": "code",
   "execution_count": null,
   "metadata": {},
   "outputs": [],
   "source": [
    "# Function B\n",
    "def is_positive(f, x):\n",
    "    \"Checks if the function value f(x) is positive\"\n",
    "    # odd\n",
    "    if x%2:\n",
    "        return f(x) > 0\n",
    "    # even\n",
    "    else:\n",
    "        return x > 0\n",
    "\n",
    "print(is_positive(f0, 2))\n",
    "print(is_positive(f0, 3))"
   ]
  },
  {
   "cell_type": "markdown",
   "metadata": {
    "slideshow": {
     "slide_type": "slide"
    }
   },
   "source": [
    "Multiple functions can be input as arguments."
   ]
  },
  {
   "cell_type": "code",
   "execution_count": null,
   "metadata": {},
   "outputs": [],
   "source": [
    "# Function A\n",
    "def f0(y):\n",
    "    \"Computes y^2 - 1\"\n",
    "    return y*y - 10\n",
    "\n",
    "\n",
    "# Function A'\n",
    "def f1(y):\n",
    "    \"Computes y^2 - 1\"\n",
    "    return y*y*y - 10\n",
    "\n",
    "\n",
    "# Function B\n",
    "def is_positive(x, f_0, f_1):\n",
    "    \"Checks if the function value f(x) is positive\"\n",
    "    if x%2:\n",
    "        return f_0(x) > 0\n",
    "    else:\n",
    "        return f_1(x) > 0\n",
    "    \n",
    "    \n",
    "print(is_positive(2, f0, f1))\n",
    "print(is_positive(3, f0, f1))"
   ]
  },
  {
   "cell_type": "markdown",
   "metadata": {
    "slideshow": {
     "slide_type": "slide"
    }
   },
   "source": [
    "### Rules for Inputting Arguments\n",
    "<a id='RulesInputtingArguments'></a>"
   ]
  },
  {
   "cell_type": "markdown",
   "metadata": {
    "slideshow": {
     "slide_type": "slide"
    }
   },
   "source": [
    "It is important input arguments in the correct order.  "
   ]
  },
  {
   "cell_type": "code",
   "execution_count": null,
   "metadata": {
    "slideshow": {
     "slide_type": "slide"
    }
   },
   "outputs": [],
   "source": [
    "def sum_and_increment(a, b):\n",
    "    \"\"\"\"\n",
    "    Return the sum of a and b, plus 1\n",
    "    \"\"\"\n",
    "    c = a + b + 1\n",
    "    return c"
   ]
  },
  {
   "cell_type": "markdown",
   "metadata": {
    "slideshow": {
     "slide_type": "-"
    }
   },
   "source": [
    "The function `sum_and_increment` finds the sum of:\n",
    " - the first argument, `a`\n",
    " - the second argument `b`\n",
    " - 1\n",
    " \n",
    "If the order of a and b is switched, the result is the same.\n"
   ]
  },
  {
   "cell_type": "code",
   "execution_count": null,
   "metadata": {},
   "outputs": [],
   "source": [
    "print(sum_and_increment(3,4))\n",
    "print(sum_and_increment(4,3))"
   ]
  },
  {
   "cell_type": "markdown",
   "metadata": {
    "slideshow": {
     "slide_type": "slide"
    }
   },
   "source": [
    "However, if we subtract one argument from the other, the result depends on the input order: "
   ]
  },
  {
   "cell_type": "code",
   "execution_count": null,
   "metadata": {},
   "outputs": [],
   "source": [
    "def subtract_and_increment(a, b):\n",
    "    \"\"\"\"\n",
    "    Return a minus b, plus 1\n",
    "    \"\"\"\n",
    "    c = a - b + 1\n",
    "    return c\n",
    "\n",
    "print(subtract_and_increment(3,4))\n",
    "print(subtract_and_increment(4,3))"
   ]
  },
  {
   "cell_type": "markdown",
   "metadata": {
    "slideshow": {
     "slide_type": "slide"
    }
   },
   "source": [
    "### Named Arguments\n",
    "<a id='NamedArguments'></a>\n",
    "It can be easy to make a mistake in the input order, leading to incorrect output.  \n",
    "\n",
    "We can reduce this risk by giving inputs as *named* arguments. \n",
    "\n",
    "When we use named arguments, the order of input does not matter.  "
   ]
  },
  {
   "cell_type": "code",
   "execution_count": null,
   "metadata": {
    "slideshow": {
     "slide_type": "-"
    }
   },
   "outputs": [],
   "source": [
    "def subtract_and_increment(a, b):\n",
    "    \"Return a minus b, plus 1\"\n",
    "    c = a - b + 1\n",
    "    return c\n",
    "\n",
    "alpha = 3\n",
    "beta = 4\n",
    "\n",
    "print(subtract_and_increment(a=alpha, b=beta))\n",
    "print(subtract_and_increment(b=beta, a=alpha))  "
   ]
  },
  {
   "cell_type": "markdown",
   "metadata": {
    "slideshow": {
     "slide_type": "slide"
    }
   },
   "source": [
    "<a id='DefaultKeywordArguments'></a>\n",
    "### Default / Keyword Arguments\n",
    "\n",
    "'Default' or 'keyword' arguments have a default initial value.\n",
    "\n",
    "The default value can be overridden when the function is called. \n",
    "\n",
    "In some cases it just saves the programmer effort - they can write less code. \n",
    "\n",
    "In other cases default arguments allow a function to be applied to a wider range of problems. \n",
    "\n"
   ]
  },
  {
   "cell_type": "markdown",
   "metadata": {
    "slideshow": {
     "slide_type": "slide"
    }
   },
   "source": [
    "####  Example: Blue Trees\n",
    "<a id='ExampleBlueTrees'></a>\n",
    "Every time we have drawn a tree it has been green, with a black tree-trunk.\n",
    "\n",
    "We can therefore write the function `tree`:"
   ]
  },
  {
   "cell_type": "code",
   "execution_count": null,
   "metadata": {},
   "outputs": [],
   "source": [
    "# original code\n",
    "\n",
    "def tree(x, y):\n",
    "    \"Draws a tree\"\n",
    "    pygame.draw.rect(window, black, [160+x, 300+y, 30, 45])\n",
    "    pygame.draw.polygon(window, green, [[250+x, 300+y], [175+x, 150+y], [100+x, 300+y]])\n",
    "    pygame.draw.polygon(window, green, [[240+x, 250+y], [175+x, 130+y], [110+x, 250+y]])\n",
    "\n",
    "\n",
    "# function with keyword arguments\n",
    "\n",
    "def tree(x, y, tree_colour=green, trunk_colour=black):\n",
    "    \"Draws a tree\"\n",
    "    pygame.draw.rect(window, trunk_colour, [160+x, 300+y, 30, 45])\n",
    "    pygame.draw.polygon(window, tree_colour, [[250+x, 300+y], [175+x, 150+y], [100+x, 300+y]])\n",
    "    pygame.draw.polygon(window, tree_colour, [[240+x, 250+y], [175+x, 130+y], [110+x, 250+y]])"
   ]
  },
  {
   "cell_type": "markdown",
   "metadata": {
    "slideshow": {
     "slide_type": "slide"
    }
   },
   "source": [
    "The function can now take *up to* four arguments.\n",
    "\n",
    "However, we only need to enter the *first two arguments* (`x, y`), if using the default values (`tree_colour=green, trunk_colour=black`). \n"
   ]
  },
  {
   "cell_type": "code",
   "execution_count": null,
   "metadata": {},
   "outputs": [],
   "source": [
    "tree(0, 0)\n",
    "tree(100, -100)"
   ]
  },
  {
   "cell_type": "markdown",
   "metadata": {
    "slideshow": {
     "slide_type": "slide"
    }
   },
   "source": [
    "Sometimes we want to draw blue tree trunks. \n",
    "\n",
    "In this case, we simply override the default value for `trunk_colour`:  "
   ]
  },
  {
   "cell_type": "code",
   "execution_count": null,
   "metadata": {
    "slideshow": {
     "slide_type": "-"
    }
   },
   "outputs": [],
   "source": [
    "tree(100, -100, green, blue)"
   ]
  },
  {
   "cell_type": "markdown",
   "metadata": {
    "slideshow": {
     "slide_type": "slide"
    }
   },
   "source": [
    "__Note__ that we have *also* entered the `tree_colour`.\n",
    "\n",
    "As the value to overide is the 4th argument, the 3rd argument must also be input. \n",
    "\n",
    "The function interprets:\n",
    "\n",
    "    tree(100, -100, blue)\n",
    "    \n",
    "as\n",
    "\n",
    "    tree(100, -100, blue, black)\n",
    "    \n",
    "\n"
   ]
  },
  {
   "cell_type": "markdown",
   "metadata": {
    "slideshow": {
     "slide_type": "slide"
    }
   },
   "source": [
    "Manually inputting an argument, `tree_colour` when we want to use its default is a potential source of error.  \n",
    "\n",
    "We may accidentally input the default value of `tree_colour` incorrectly, causing a bug in our program. \n",
    "\n",
    "A more robust solution is to specify the colour by using a __named argument__. "
   ]
  },
  {
   "cell_type": "code",
   "execution_count": null,
   "metadata": {
    "slideshow": {
     "slide_type": "-"
    }
   },
   "outputs": [],
   "source": [
    "tree(100, -100, trunk_colour=black)"
   ]
  },
  {
   "cell_type": "markdown",
   "metadata": {
    "collapsed": true
   },
   "source": [
    "The program overwrites the correct default value.\n",
    "\n",
    "We do not have to specify `tree_colour`. "
   ]
  },
  {
   "cell_type": "markdown",
   "metadata": {
    "slideshow": {
     "slide_type": "slide"
    }
   },
   "source": [
    "### Forcing Default Arguments\n",
    "<a id='ForcingDefaultArguments'></a>\n",
    "As an additional safety measure, you can force arguments to be entered as named arguments by preceding them with a * star in the function definition.\n",
    "\n",
    "All arguments after the star must be entered as named arguments.\n",
    "\n",
    "Below is an example:"
   ]
  },
  {
   "cell_type": "code",
   "execution_count": null,
   "metadata": {},
   "outputs": [],
   "source": [
    "# redefine tree function, forcing keyword arguments\n",
    "\n",
    "def tree(x, y, *, tree_colour=green, trunk_colour=black):\n",
    "    \"Draws a tree\"\n",
    "    pygame.draw.rect(window, trunk_colour, [160+x, 300+y, 30, 45])\n",
    "    pygame.draw.polygon(window, tree_colour, [[250+x, 300+y], [175+x, 150+y], [100+x, 300+y]])\n",
    "    pygame.draw.polygon(window, tree_colour, [[240+x, 250+y], [175+x, 130+y], [110+x, 250+y]])\n",
    "\n",
    "    \n",
    "tree(x, y, tree_colour=blue)\n",
    "#tree(x, y, blue)"
   ]
  },
  {
   "cell_type": "markdown",
   "metadata": {
    "slideshow": {
     "slide_type": "slide"
    }
   },
   "source": [
    "<a id='return'></a>\n",
    "## 1.4 `return` \n",
    "\n",
    "The `return` keyword defines the outputs of the function.\n",
    "\n",
    "A __single__ Python function can return:\n",
    "- no values\n",
    "- a single value \n",
    "- multiple return values"
   ]
  },
  {
   "cell_type": "markdown",
   "metadata": {
    "slideshow": {
     "slide_type": "slide"
    }
   },
   "source": [
    "For example, we could have a function that:\n",
    " - takes three values (`x0, x1, x2`)\n",
    " - returns the maximum, the minimum and the mean"
   ]
  },
  {
   "cell_type": "code",
   "execution_count": null,
   "metadata": {
    "slideshow": {
     "slide_type": "slide"
    }
   },
   "outputs": [],
   "source": [
    "def compute_max_min_mean(x0, x1, x2):\n",
    "    \"Return maximum, minimum and mean values\"\n",
    "    \n",
    "    x_min = x0\n",
    "    if x1 < x_min:\n",
    "        x_min = x1\n",
    "    if x2 < x_min:\n",
    "        x_min = x2\n",
    "\n",
    "    x_max = x0\n",
    "    if x1 > x_max:\n",
    "        x_max = x1\n",
    "    if x2 > x_max:\n",
    "        x_max = x2\n",
    "\n",
    "    x_mean = (x0 + x1 + x2)/3    \n",
    "        \n",
    "    return x_min, x_max, x_mean\n",
    "\n",
    "\n",
    "Xmin, Xmax, Xmean = compute_max_min_mean(0.5, 0.1, -20)\n",
    "\n",
    "X = compute_max_min_mean(0.5, 0.1, -20)\n",
    "\n",
    "#print(Xmin, Xmax, Xmean)\n",
    "print(X)\n",
    "print(X[2])"
   ]
  },
  {
   "cell_type": "markdown",
   "metadata": {
    "slideshow": {
     "slide_type": "slide"
    }
   },
   "source": [
    "The __`return`__ keyword works a bit like the __`break`__ statement does in a loop.\n",
    "\n",
    "It returns the value and then exits the function before running the rest of the code."
   ]
  },
  {
   "cell_type": "markdown",
   "metadata": {
    "slideshow": {
     "slide_type": "slide"
    }
   },
   "source": [
    "Any code following the `return` statement will not be run.\n",
    "\n",
    "In this example, the code to increase x by 1 comes after the return statement. "
   ]
  },
  {
   "cell_type": "code",
   "execution_count": null,
   "metadata": {
    "slideshow": {
     "slide_type": "slide"
    }
   },
   "outputs": [],
   "source": [
    "x = 1\n",
    "\n",
    "def process_value(X):\n",
    "    \"Returns a value that depends on the input value x \"\n",
    "    \n",
    "    if X > 10:\n",
    "        return str(X) + \" > 10\"\n",
    "    elif X > 5:\n",
    "        return str(X) + \" > 5\"\n",
    "    elif X > 0:\n",
    "        return str(X) + \" > 0\"\n",
    "    else:\n",
    "        return str(X)\n",
    "    \n",
    "    # Increment global x by +1\n",
    "    global x\n",
    "    x = X + 1 \n",
    "    \n",
    "print(process_value(x))\n",
    "print(process_value(x))\n",
    "print(process_value(x))"
   ]
  },
  {
   "cell_type": "markdown",
   "metadata": {
    "slideshow": {
     "slide_type": "slide"
    }
   },
   "source": [
    "The return statement must come last."
   ]
  },
  {
   "cell_type": "code",
   "execution_count": null,
   "metadata": {},
   "outputs": [],
   "source": [
    "x = 1\n",
    "\n",
    "def process_value(X):\n",
    "    \"Returns a value that depends on the input value x \"\n",
    "    \n",
    "    #Increment global x by +1 \n",
    "    global x\n",
    "    x = X + 1 \n",
    "    \n",
    "    if x > 10:\n",
    "        return str(X) + \" > 10\"\n",
    "    elif x > 5:\n",
    "        return str(X) + \" > 5\"\n",
    "    elif x > 0:\n",
    "        return str(X) + \" > 0\"\n",
    "    else:\n",
    "        return str(X)    \n",
    "    \n",
    "print(process_value(x))\n",
    "print(process_value(x))\n",
    "print(process_value(x))"
   ]
  },
  {
   "cell_type": "markdown",
   "metadata": {
    "slideshow": {
     "slide_type": "slide"
    }
   },
   "source": [
    "It may be more appropriate to store the return item as a varable if multiple items are to be returned...\n",
    "<br> "
   ]
  },
  {
   "cell_type": "code",
   "execution_count": null,
   "metadata": {
    "slideshow": {
     "slide_type": "-"
    }
   },
   "outputs": [],
   "source": [
    "x = -3\n",
    "\n",
    "def process_value(X):    \n",
    "    \"Returns two values that depend on the input value x \"\n",
    "    if X > 10:\n",
    "        i = (str(X) + \" > 10\")\n",
    "    elif X > 0:\n",
    "        i = (str(X) + \" > 0\")\n",
    "    else:\n",
    "        i = None\n",
    "        \n",
    "    if X < 0:\n",
    "        j = (str(X) + \" < 0\")\n",
    "    elif X < 10:\n",
    "        j = (str(X) + \" < 10\")\n",
    "    else:\n",
    "        j = None\n",
    "    \n",
    "    global x\n",
    "    x = X + 1 \n",
    "    \n",
    "    return i, j\n",
    "\n",
    "\n",
    "#     if i and j:    \n",
    "#         return i, j  \n",
    "#     elif i:\n",
    "#         return (i,)\n",
    "#     else:\n",
    "#         return (j,)\n",
    "\n",
    "\n",
    "for k in range(14):\n",
    "    print(process_value(x))"
   ]
  },
  {
   "cell_type": "markdown",
   "metadata": {
    "slideshow": {
     "slide_type": "slide"
    }
   },
   "source": [
    "<a id='Scope'></a>\n",
    "# 2. Scope\n",
    "\n",
    "__Global variables:__ Variable that are *declared* __outside__ of a function *can* be used __inside__ of the function. <br>\n",
    "They have *global scope*. \n",
    "\n",
    "__Local variables:__ Variables that are *declared* __inside__ of a function *can not* be used __outside__ of the function. \n",
    "<br>\n",
    "They have *local scope*. "
   ]
  },
  {
   "cell_type": "markdown",
   "metadata": {},
   "source": [
    "#### Example: Global Variables\n",
    "Global variables are accessible anywhere"
   ]
  },
  {
   "cell_type": "code",
   "execution_count": null,
   "metadata": {
    "slideshow": {
     "slide_type": "slide"
    }
   },
   "outputs": [],
   "source": [
    "# global variable\n",
    "global_var = \"Global variable\"\n",
    "\n",
    "# define function\n",
    "def my_func():\n",
    "    \"\"\"\n",
    "    Prints a global variable \n",
    "    \"\"\"\n",
    "    # the function can access the global variable\n",
    "    print(global_var)    \n",
    "    \n",
    "\n",
    "\n",
    "# call function\n",
    "my_func()        "
   ]
  },
  {
   "cell_type": "markdown",
   "metadata": {},
   "source": [
    "The global variable may be created *after* the function is __defined__,\n",
    "<br>*but must* be created *before* the function is __called__."
   ]
  },
  {
   "cell_type": "code",
   "execution_count": null,
   "metadata": {
    "slideshow": {
     "slide_type": "slide"
    }
   },
   "outputs": [],
   "source": [
    "# define function\n",
    "def my_func():\n",
    "    \"\"\"\n",
    "    Prints a global variable \n",
    "    \"\"\"\n",
    "    # the function can access the global variable\n",
    "    print(global_var)  \n",
    "    \n",
    "    \n",
    "    \n",
    "# global variable\n",
    "global_var = \"Global variable\"\n",
    "\n",
    "\n",
    "# call function\n",
    "my_func()        "
   ]
  },
  {
   "cell_type": "markdown",
   "metadata": {
    "slideshow": {
     "slide_type": "subslide"
    }
   },
   "source": [
    "A global variable can be __created__ *inside* a function using the `global` keyword:"
   ]
  },
  {
   "cell_type": "code",
   "execution_count": null,
   "metadata": {},
   "outputs": [],
   "source": [
    "def my_func():\n",
    "     \n",
    "    # Locally assigned global variable\n",
    "    global var\n",
    "    var = \"Locally assigned global variable\"\n",
    "    \n",
    "\n",
    "# global variable does not exit before function call\n",
    "# print(var)\n",
    "\n",
    "my_func()\n",
    "\n",
    "print(var)"
   ]
  },
  {
   "cell_type": "markdown",
   "metadata": {
    "slideshow": {
     "slide_type": "slide"
    }
   },
   "source": [
    "#### Example: Local Variables\n",
    "Local variables only accessible within the function in which they are defined"
   ]
  },
  {
   "cell_type": "code",
   "execution_count": null,
   "metadata": {
    "slideshow": {
     "slide_type": "-"
    }
   },
   "outputs": [],
   "source": [
    "# define function\n",
    "def my_func():\n",
    "    \"\"\"\n",
    "    Prints a local variable \n",
    "    \"\"\"  \n",
    "    \n",
    "    # global variable\n",
    "    local_var = \"Local variable\"\n",
    "    print(local_var)\n",
    "    \n",
    "    \n",
    "# call function\n",
    "my_func()\n",
    "\n",
    "\n",
    "# try to print local variable\n",
    "# print(local_var)"
   ]
  },
  {
   "cell_type": "markdown",
   "metadata": {
    "slideshow": {
     "slide_type": "subslide"
    }
   },
   "source": [
    "__Readability:__ \n",
    "\n",
    "The limited scope of local variables can be useful。\n",
    "\n",
    "For example, some variable names can be useful for different tasks in our program. \n",
    "\n",
    "We may not want to \"use them up\" on a single task."
   ]
  },
  {
   "cell_type": "markdown",
   "metadata": {
    "slideshow": {
     "slide_type": "slide"
    }
   },
   "source": [
    "Due to scope, variables with the *same name* can appear globally and locally without conflict. \n",
    "\n",
    "This prevents variables declared inside a function from unexpectedly affecting other parts of a program. \n",
    "\n"
   ]
  },
  {
   "cell_type": "markdown",
   "metadata": {
    "slideshow": {
     "slide_type": "slide"
    }
   },
   "source": [
    "Where a local and global variable have the same name, the program will use the __local__ version.\n",
    "\n",
    "Let's modify our function `my_func` so now both the local and global varibale have the same name...\n",
    "\n",
    "This time the first `print(var)` raises an error.\n",
    "\n",
    "The local variable overrides the global variable, \n",
    "<br>however the local variable has not yet been assigned a value."
   ]
  },
  {
   "cell_type": "code",
   "execution_count": null,
   "metadata": {
    "slideshow": {
     "slide_type": "slide"
    }
   },
   "outputs": [],
   "source": [
    "# global variable\n",
    "var = \"Global variable\"\n",
    "\n",
    "\n",
    "def my_func():\n",
    "    # notice what happens this time if we try to access the global variable within the function\n",
    "    print(var)    \n",
    "     \n",
    "    # local variable of the same name\n",
    "    var = \"Local variable\"\n",
    "    print(var)\n",
    "\n",
    "    \n",
    "# Call the function.\n",
    "# print(my_func())"
   ]
  },
  {
   "cell_type": "code",
   "execution_count": null,
   "metadata": {},
   "outputs": [],
   "source": []
  },
  {
   "cell_type": "markdown",
   "metadata": {
    "slideshow": {
     "slide_type": "slide"
    }
   },
   "source": [
    "\n",
    "\n",
    "The global variable `var` is unaffected by the local variable `var`."
   ]
  },
  {
   "cell_type": "code",
   "execution_count": null,
   "metadata": {},
   "outputs": [],
   "source": [
    "# global variable\n",
    "var = \"Global variable\"\n",
    "\n",
    "def my_func():\n",
    "     \n",
    "    # local variable of the same name\n",
    "    var = \"Local variable\"\n",
    "    return var\n",
    "\n",
    "\n",
    "# Call the function.\n",
    "print(my_func())\n",
    "\n",
    "\n",
    "# The global variable is unaffected by the local variable\n",
    "print(var)\n",
    "\n",
    "\n",
    "# We can overwrite the global varibale with the returned value\n",
    "var = my_func()\n",
    "print(var)"
   ]
  },
  {
   "cell_type": "markdown",
   "metadata": {
    "slideshow": {
     "slide_type": "slide"
    }
   },
   "source": [
    "If we *really* want to use a global variable and a local variable:\n",
    "- with the same name \n",
    "- within the same function\n",
    "\n",
    "we can input use the global variable as a __function argument__.  \n",
    "\n",
    "By inputting it as an argument we rename the global variable for use within the function...."
   ]
  },
  {
   "cell_type": "code",
   "execution_count": null,
   "metadata": {
    "slideshow": {
     "slide_type": "slide"
    }
   },
   "outputs": [],
   "source": [
    "# Global \n",
    "var = \"Global variable\"\n",
    "\n",
    "\n",
    "def my_func(input_var):\n",
    "    # The global variable is renameed for use within a function with a local variable with the same name\n",
    "    print(input_var)    \n",
    "     \n",
    "    # Local\n",
    "    var = \"Local variable\"\n",
    "    print(var)\n",
    "    \n",
    "    return (input_var + \" \" + var)\n",
    "\n",
    "\n",
    "# Run the function, giving the global variable as an argument\n",
    "print(my_func(var))"
   ]
  },
  {
   "cell_type": "markdown",
   "metadata": {
    "slideshow": {
     "slide_type": "slide"
    }
   },
   "source": [
    "The global variable is unaffected by the function"
   ]
  },
  {
   "cell_type": "code",
   "execution_count": null,
   "metadata": {},
   "outputs": [],
   "source": [
    "print(var)"
   ]
  },
  {
   "cell_type": "markdown",
   "metadata": {
    "slideshow": {
     "slide_type": "slide"
    }
   },
   "source": [
    "...unless we overwrite the value of the global variable."
   ]
  },
  {
   "cell_type": "code",
   "execution_count": null,
   "metadata": {},
   "outputs": [],
   "source": [
    "print(var)\n",
    "\n",
    "var = my_func(var)\n",
    "\n",
    "print(var)"
   ]
  },
  {
   "cell_type": "markdown",
   "metadata": {
    "slideshow": {
     "slide_type": "subslide"
    }
   },
   "source": [
    "__Try it yourself__\n",
    "In the cell below:\n",
    "1. Create a global variable called `my_var`, with a numeric value\n",
    "1. Create a function, called `my_func`, that:\n",
    "    - takes a single argument, `input_var` \n",
    "    - creates a local variable called `my_var` (same name as global variable).\n",
    "    - returns the sum of the function argument and the local variable: `input_var + my_var`.<br><br>\n",
    "1. Print the output when the function `my_func` is called, giving the global varable `my_var` as the input agument.\n",
    "1. print the global variable `my_var`.\n",
    "1. Add a docstring to say what your function does"
   ]
  },
  {
   "cell_type": "markdown",
   "metadata": {
    "slideshow": {
     "slide_type": "slide"
    }
   },
   "source": [
    "A global variable can be __modified__ from *inside* a function using the `global` keyword:\n",
    "1. Use Python `global` keyword. Give the variable a name.\n",
    "```python\n",
    "global var\n",
    "```\n",
    "1. Assign the variable a value.\n",
    "```python\n",
    "var = 10\n",
    "```"
   ]
  },
  {
   "cell_type": "code",
   "execution_count": null,
   "metadata": {
    "slideshow": {
     "slide_type": "-"
    }
   },
   "outputs": [],
   "source": [
    "# global variable\n",
    "var = \"Global variable\"\n",
    "\n",
    "\n",
    "def my_func():\n",
    "     \n",
    "    # Locally assigned global variable\n",
    "    global var\n",
    "    var = \"Locally assigned global variable\"\n",
    "    \n",
    "\n",
    "    \n",
    "print(\"Before function call, var =\", var)\n",
    "\n",
    "\n",
    "# Call the function.\n",
    "my_func()\n",
    "\n",
    "\n",
    "print(\"After function call, var =\", var)"
   ]
  },
  {
   "cell_type": "markdown",
   "metadata": {
    "slideshow": {
     "slide_type": "subslide"
    }
   },
   "source": [
    "__Try it yourself__\n",
    "\n",
    "In the cell below:\n",
    "1. Copy and paste your code from the previous exercise.\n",
    "1. Edit your code so that:\n",
    " - The function `my_func` takes no input arguments. \n",
    " - The global variable `my_var` is overwritten within the function using the prefix `global`.  \n",
    "1. Print the global variable before and after calling the function to check your code. \n",
    "1. Modify the docstring as necessary."
   ]
  },
  {
   "cell_type": "code",
   "execution_count": null,
   "metadata": {},
   "outputs": [],
   "source": [
    "# Copy and paste code here:"
   ]
  },
  {
   "cell_type": "code",
   "execution_count": null,
   "metadata": {},
   "outputs": [],
   "source": [
    "# Global and local scope"
   ]
  },
  {
   "cell_type": "markdown",
   "metadata": {
    "slideshow": {
     "slide_type": "subslide"
    }
   },
   "source": [
    "As we have seen, a *local variable* can be accessed from outside the function by *returning* it. "
   ]
  },
  {
   "cell_type": "markdown",
   "metadata": {
    "collapsed": true,
    "slideshow": {
     "slide_type": "slide"
    }
   },
   "source": [
    "# Summary\n",
    "<a id='Summary'></a>\n",
    " - Functions are defined using the `def` keyword.\n",
    " - Functions contain indented statements to execute when the function is called.\n",
    " - Global variables can be used eveywhere.\n",
    " - Local variables can be used within the function in which they are defined.\n",
    " - Function arguments (inputs) are declared between () parentheses, seperated by commas.\n",
    " - Function arguments muct be specified each time a function is called. \n",
    " - Default arguments do not need to be specified when a function is called unless different values are to be used. \n",
    " - The keyword used to define the function outputs is `return`\n"
   ]
  },
  {
   "cell_type": "code",
   "execution_count": null,
   "metadata": {},
   "outputs": [],
   "source": []
  }
 ],
 "metadata": {
  "kernelspec": {
   "display_name": "Python 3",
   "language": "python",
   "name": "python3"
  },
  "language_info": {
   "codemirror_mode": {
    "name": "ipython",
    "version": 3
   },
   "file_extension": ".py",
   "mimetype": "text/x-python",
   "name": "python",
   "nbconvert_exporter": "python",
   "pygments_lexer": "ipython3",
   "version": "3.7.4"
  }
 },
 "nbformat": 4,
 "nbformat_minor": 2
}
