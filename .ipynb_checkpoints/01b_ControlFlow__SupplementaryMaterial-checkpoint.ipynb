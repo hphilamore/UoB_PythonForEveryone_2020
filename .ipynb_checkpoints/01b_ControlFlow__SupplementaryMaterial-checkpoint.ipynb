{
 "cells": [
  {
   "cell_type": "markdown",
   "metadata": {
    "slideshow": {
     "slide_type": "slide"
    }
   },
   "source": [
    "<img src=\"img/full-colour-logo-UoB.png\" alt=\"Drawing\" style=\"width: 200px;\"/>\n",
    "\n",
    "# Introduction to Programming for Everyone\n",
    "\n",
    "## Python 3\n",
    "\n",
    "\n"
   ]
  },
  {
   "cell_type": "markdown",
   "metadata": {
    "collapsed": true,
    "slideshow": {
     "slide_type": "slide"
    }
   },
   "source": [
    "# 01b Control Flow \n",
    "\n",
    "## SUPPLEMENTARY MATERIAL\n",
    "\n",
    "    \n",
    "<br> <a href='#UserInput'>1. User Input</a>\n",
    "<br> <a href='#Loops'>2. Loops</a> \n",
    "<br> <a href='#breakcontinue'>__3. `break` and `continue`__</a> \n",
    "\n",
    "\n",
    "\n",
    "    \n",
    "    \n",
    "   \n",
    "\t"
   ]
  },
  {
   "cell_type": "markdown",
   "metadata": {
    "collapsed": true,
    "slideshow": {
     "slide_type": "slide"
    }
   },
   "source": [
    "<a id='UserInput'></a>\n",
    "# 1. User Input\n",
    "Just as value can be assigned to a variable in a Python program, a dynamically user-specified value can also be assigned to a variable.\n",
    "\n",
    "User input can be requested by including the built-in `input()` function.  \n",
    "\n",
    "`input` function argument: A string \n",
    "\n",
    "The string is dislpayed to prompt the user for input.\n",
    "<br>The program then waits for input to be entered by pressing the Enter key before proceeding.  \n",
    "\n"
   ]
  },
  {
   "cell_type": "code",
   "execution_count": 1,
   "metadata": {
    "slideshow": {
     "slide_type": "slide"
    }
   },
   "outputs": [
    {
     "name": "stdout",
     "output_type": "stream",
     "text": [
      "Please enter your name and press Enter hemma\n"
     ]
    },
    {
     "data": {
      "text/plain": [
       "'hemma'"
      ]
     },
     "execution_count": 1,
     "metadata": {},
     "output_type": "execute_result"
    }
   ],
   "source": [
    "input(\"Please enter your name and press Enter \")"
   ]
  },
  {
   "cell_type": "markdown",
   "metadata": {
    "slideshow": {
     "slide_type": "slide"
    }
   },
   "source": [
    "Input can be assigned to a variable: "
   ]
  },
  {
   "cell_type": "code",
   "execution_count": 2,
   "metadata": {
    "slideshow": {
     "slide_type": "-"
    }
   },
   "outputs": [
    {
     "name": "stdout",
     "output_type": "stream",
     "text": [
      "Please enter your name and press Enter hemma\n",
      "Current user is hemma\n"
     ]
    }
   ],
   "source": [
    "user = input(\"Please enter your name and press Enter \")\n",
    "\n",
    "print(f'Current user is {user}')"
   ]
  },
  {
   "cell_type": "markdown",
   "metadata": {
    "slideshow": {
     "slide_type": "slide"
    }
   },
   "source": [
    "User input is read as a text string, even when it’s numeric.\n",
    "\n",
    "Inputs can be converted to numerical values by casting."
   ]
  },
  {
   "cell_type": "code",
   "execution_count": 3,
   "metadata": {},
   "outputs": [
    {
     "name": "stdout",
     "output_type": "stream",
     "text": [
      "Please enter your age 32\n",
      "16.0\n"
     ]
    }
   ],
   "source": [
    "age = input(\"Please enter your age \")\n",
    "\n",
    "half_age = float(age)/2\n",
    "\n",
    "print(half_age)"
   ]
  },
  {
   "cell_type": "markdown",
   "metadata": {
    "slideshow": {
     "slide_type": "slide"
    }
   },
   "source": [
    "The `input` function takes a *single* input.\n",
    "\n",
    "We will consider multiple inputs later in the course. \n"
   ]
  },
  {
   "cell_type": "markdown",
   "metadata": {
    "collapsed": true
   },
   "source": [
    "##### Caution when using the  `input` in Jupyter Notebook\n",
    "\n",
    "When using `input` in Jupyter notebook, if you run a cell *again* while it is still waiting for input the cell will freeze.\n",
    "\n",
    "This means you will be unable to run other cells.\n",
    "\n",
    "If this happens just select Kernel >> Interrupt from the menu at the top of the notebook.\n",
    "\n",
    "This will un-freeze the cell. "
   ]
  },
  {
   "cell_type": "markdown",
   "metadata": {
    "slideshow": {
     "slide_type": "slide"
    }
   },
   "source": [
    "<a id='Loops'></a>\n",
    "# 2. Loops \n",
    "\n",
    "<br> &emsp;&emsp; <a href='#range'>__2.1 `range`__</a> \n",
    "<br> &emsp;&emsp; <a href='#forLoops'>__2.2 `for`Loops__</a> \n",
    "<br> &emsp;&emsp; <a href='#whileLoops'>__2.3 `while` Loops__</a> \n",
    "\n",
    "\n",
    "\n",
    "\n",
    "*Loops* are used to execute a command repeatedly.\n",
    "<br>\n",
    "A loop is a block that repeats an operation a specified number of times (loops).\n",
    "\n",
    "There are two main types of loops in Python:\n",
    " - `for` loops  : repeat a certain number of times\n",
    " - `while` loops : repeat until something happens (e.g. user presses 'exit') \n",
    " \n",
    "\n",
    "\n"
   ]
  },
  {
   "cell_type": "markdown",
   "metadata": {
    "slideshow": {
     "slide_type": "slide"
    }
   },
   "source": [
    "Examples:\n",
    "- __`for` loop__ print the health of each player in a game records (there is a set number of players stored as a list on a computer). \n",
    "- __`while` loop__ check for when a user hits the mouse button since (the computer has no idea how long it will have to wait)."
   ]
  },
  {
   "cell_type": "markdown",
   "metadata": {
    "slideshow": {
     "slide_type": "slide"
    }
   },
   "source": [
    " \n",
    "\n",
    "To learn about loops we are going to use the function `range()`."
   ]
  },
  {
   "cell_type": "markdown",
   "metadata": {
    "slideshow": {
     "slide_type": "slide"
    }
   },
   "source": [
    "<a id='range'></a>\n",
    "## 2.1 `range`\n",
    "\n",
    "The function `range` gives us a sequence of *integer* numbers.\n",
    "\n",
    "`range(3, 6)` returns integer values starting from 3 and ending at 6.\n",
    "\n",
    "i.e.\n",
    "\n",
    "> 3, 4, 5\n",
    "\n",
    "Note this does not include 6.\n",
    "\n"
   ]
  },
  {
   "cell_type": "markdown",
   "metadata": {
    "slideshow": {
     "slide_type": "slide"
    }
   },
   "source": [
    "We can change the starting value.\n",
    " \n",
    "For example for integer values starting at 0 and ending at 4:\n",
    " \n",
    "`range(0,4)`\n",
    "\n",
    "returns:\n",
    "\n",
    "> 0, 1, 2, 3\n",
    "\n",
    "`range(4)` is a __shortcut__ for range(0, 4) "
   ]
  },
  {
   "cell_type": "markdown",
   "metadata": {
    "slideshow": {
     "slide_type": "slide"
    }
   },
   "source": [
    "<a id='forLoops'></a>\n",
    "## 2.2 `for` loops"
   ]
  },
  {
   "cell_type": "markdown",
   "metadata": {
    "slideshow": {
     "slide_type": "-"
    }
   },
   "source": [
    "The statement \n",
    "```python\n",
    "for i in range(0, 5):   # Print numbers 0 to 4\n",
    "    print(i)   \n",
    "```\n",
    "\n",
    "\n",
    "<p align=\"center\">\n",
    "  <img src=\"img/flow_diag_for_loop.png\" alt=\"Drawing\" style=\"width: 400px;\"/>\n",
    "</p>"
   ]
  },
  {
   "cell_type": "code",
   "execution_count": 4,
   "metadata": {
    "slideshow": {
     "slide_type": "slide"
    }
   },
   "outputs": [
    {
     "name": "stdout",
     "output_type": "stream",
     "text": [
      "0\n",
      "1\n",
      "2\n",
      "3\n",
      "4\n"
     ]
    }
   ],
   "source": [
    "for i in range(0, 5):\n",
    "    print(i)"
   ]
  },
  {
   "cell_type": "markdown",
   "metadata": {
    "slideshow": {
     "slide_type": "subslide"
    }
   },
   "source": [
    "The first time through, the value of i is equal to 0.\n",
    "<br>\n",
    "The second time through, its value is 1.\n",
    "<br>\n",
    "Each loop the value `i` increases by 1 (0, 1, 2, 3, 4) until the last time when its value is 4. "
   ]
  },
  {
   "cell_type": "markdown",
   "metadata": {
    "slideshow": {
     "slide_type": "slide"
    }
   },
   "source": [
    "The structure is similar to the `if` statement:\n",
    " - `for` is followed by the condition being checked.\n",
    " - : colon at the end of the `for` statement.   \n",
    " - The indented code that follows is run each time the code loops.  <br>\n",
    " (The __same of spaces__ should be used for all indents) \n",
    " <br> \n",
    " - To end the `for` loop, simply stop indenting."
   ]
  },
  {
   "cell_type": "code",
   "execution_count": 5,
   "metadata": {
    "slideshow": {
     "slide_type": "-"
    }
   },
   "outputs": [
    {
     "name": "stdout",
     "output_type": "stream",
     "text": [
      "-2\n",
      "-1\n",
      "0\n",
      "1\n",
      "2\n",
      "The end of the loop\n"
     ]
    }
   ],
   "source": [
    "for i in range(-2, 3):\n",
    "    print(i)\n",
    "print('The end of the loop')"
   ]
  },
  {
   "cell_type": "markdown",
   "metadata": {
    "slideshow": {
     "slide_type": "subslide"
    }
   },
   "source": [
    "The above loop starts from -2 and executes the indented code for each value of i in the range (-2, -1, 0, 1, 2).\n",
    "<br>\n",
    "When the loop has executed the code for the final value `i = 2`, it moves on to the next unindented line of code."
   ]
  },
  {
   "cell_type": "code",
   "execution_count": 6,
   "metadata": {
    "slideshow": {
     "slide_type": "subslide"
    }
   },
   "outputs": [
    {
     "name": "stdout",
     "output_type": "stream",
     "text": [
      "----\n",
      "0 0\n",
      "----\n",
      "1 1\n",
      "----\n",
      "2 4\n",
      "----\n",
      "3 9\n"
     ]
    }
   ],
   "source": [
    "for n in range(4):\n",
    "    \n",
    "    print(\"----\")\n",
    "    \n",
    "    print(n, n**2)"
   ]
  },
  {
   "cell_type": "markdown",
   "metadata": {
    "slideshow": {
     "slide_type": "subslide"
    }
   },
   "source": [
    "The above executes 4 loops.\n",
    "\n",
    "The statement \n",
    "```python\n",
    "for n in range(4):\n",
    "```\n",
    "says that we want to loop over four integers, starting from 0. \n",
    "\n",
    "Each loop the value `n` increases by 1 (0, 1, 2 3).\n",
    "\n",
    "\n"
   ]
  },
  {
   "cell_type": "markdown",
   "metadata": {
    "slideshow": {
     "slide_type": "subslide"
    }
   },
   "source": [
    "### Practical Exercise 2A : Range\n",
    "<br>\n",
    "Go back and change the __range__ of input values in the last three cells and observe the change in output. \n"
   ]
  },
  {
   "cell_type": "markdown",
   "metadata": {
    "collapsed": true,
    "slideshow": {
     "slide_type": "slide"
    }
   },
   "source": [
    "If we want to step by three rather than one:"
   ]
  },
  {
   "cell_type": "code",
   "execution_count": 7,
   "metadata": {
    "slideshow": {
     "slide_type": "-"
    }
   },
   "outputs": [
    {
     "name": "stdout",
     "output_type": "stream",
     "text": [
      "0\n",
      "3\n",
      "6\n",
      "9\n"
     ]
    }
   ],
   "source": [
    "for n in range(0, 10, 3):\n",
    "    print(n)"
   ]
  },
  {
   "cell_type": "markdown",
   "metadata": {
    "slideshow": {
     "slide_type": "slide"
    }
   },
   "source": [
    "If we want to step backwards rather than forwards we __must__ include the step size:"
   ]
  },
  {
   "cell_type": "code",
   "execution_count": 8,
   "metadata": {
    "slideshow": {
     "slide_type": "-"
    }
   },
   "outputs": [
    {
     "name": "stdout",
     "output_type": "stream",
     "text": [
      "10\n",
      "9\n",
      "8\n",
      "7\n",
      "6\n",
      "5\n",
      "4\n",
      "3\n",
      "2\n",
      "1\n"
     ]
    }
   ],
   "source": [
    "for n in range(10, 0, -1):\n",
    "    print(n)"
   ]
  },
  {
   "cell_type": "markdown",
   "metadata": {
    "slideshow": {
     "slide_type": "subslide"
    }
   },
   "source": [
    "For example..."
   ]
  },
  {
   "cell_type": "code",
   "execution_count": 9,
   "metadata": {},
   "outputs": [],
   "source": [
    "for n in range(10, 0):\n",
    "    print(n)"
   ]
  },
  {
   "cell_type": "markdown",
   "metadata": {},
   "source": [
    "...does not return any values because there are no values that lie between 10 and 0 when counting in the positive direction from 10. "
   ]
  },
  {
   "cell_type": "markdown",
   "metadata": {
    "slideshow": {
     "slide_type": "subslide"
    }
   },
   "source": [
    "### Practical Exercise 2B : `for` loops \n",
    "\n",
    "In the cell below write a `for` loop that:\n",
    "- starts at `n = 9`\n",
    "- ends at `n = 3` (and includes `n = 3`)\n",
    "- loops __backwards__ through the range in steps of -3 \n",
    "- prints `n`$^2$ at each loop.\n"
   ]
  },
  {
   "cell_type": "code",
   "execution_count": 10,
   "metadata": {},
   "outputs": [],
   "source": [
    "# For loop"
   ]
  },
  {
   "cell_type": "markdown",
   "metadata": {
    "slideshow": {
     "slide_type": "slide"
    }
   },
   "source": [
    "For loops are are useful for repeated operations.\n",
    "\n",
    "This includes:\n",
    "\n",
    "- generating repeated patterns, e.g. generating a \"board\" to play on.\n",
    "- checking a series of items, e.g. the \"health\" of each player in a game. \n"
   ]
  },
  {
   "cell_type": "markdown",
   "metadata": {
    "slideshow": {
     "slide_type": "slide"
    }
   },
   "source": [
    "<a id='whileLoops'></a>\n",
    "## 2.3 `while` loops\n",
    "\n",
    "A __`for`__ loop performs an operation a specified number of times. \n",
    "\n",
    "```python \n",
    "for x in range(5):\n",
    "    print(x)\n",
    "```   \n",
    "\n",
    "A __`while`__ loop performs a task *while* a specified statement is true. \n",
    "\n",
    "```python\n",
    "x = 0\n",
    "while x < 5:\n",
    "    print(x)\n",
    "```\n",
    "\n",
    "<p align=\"center\">\n",
    "  <img src=\"img/flow_diag_while_loop.png\" alt=\"Drawing\" style=\"width: 400px;\"/>\n",
    "</p>"
   ]
  },
  {
   "cell_type": "markdown",
   "metadata": {
    "slideshow": {
     "slide_type": "slide"
    }
   },
   "source": [
    "We use the same structure as for `for` loops and `if-elif-else`:\n",
    "- `while` is followed by the condition being checked.\n",
    "- : colon at the end of the `while` statement.   \n",
    "- The indented code that follows is repeatedly executed until the `while` statement (e.g. `x < 5`) is `False`.  <br>\n",
    "\n",
    " "
   ]
  },
  {
   "cell_type": "markdown",
   "metadata": {
    "slideshow": {
     "slide_type": "slide"
    }
   },
   "source": [
    "For example a game loops through a sequence of operations until an intervention is made to close the program.\n",
    "\n",
    "<p align=\"center\">\n",
    "  <img src=\"img/game_loop.png\" alt=\"Drawing\" style=\"width: 700px;\"/>\n",
    "</p>"
   ]
  },
  {
   "cell_type": "markdown",
   "metadata": {
    "slideshow": {
     "slide_type": "slide"
    }
   },
   "source": [
    "A very common operation is to loop until the user performs a request to quit."
   ]
  },
  {
   "cell_type": "code",
   "execution_count": 11,
   "metadata": {
    "slideshow": {
     "slide_type": "-"
    }
   },
   "outputs": [
    {
     "name": "stdout",
     "output_type": "stream",
     "text": [
      "Do you want to quit? yes\n"
     ]
    }
   ],
   "source": [
    "quit = \"no\"\n",
    "while quit != \"yes\":\n",
    "    quit = input(\"Do you want to quit? \")"
   ]
  },
  {
   "cell_type": "markdown",
   "metadata": {
    "slideshow": {
     "slide_type": "slide"
    }
   },
   "source": [
    "It can be quite easy to crash your computer using a `while` loop. \n",
    "\n",
    "e.g. if we don't modify the value of x each time the code loops:\n",
    "```python\n",
    "x = 0\n",
    "while x < 5:\n",
    "    print(x)\n",
    "    # x += 1  \n",
    "```\n",
    "will continue indefinitely since `x < 5 == False`  will never be satisfied.\n",
    "\n",
    "This is called an *infinite loop*.\n",
    "\n"
   ]
  },
  {
   "cell_type": "markdown",
   "metadata": {
    "slideshow": {
     "slide_type": "slide"
    }
   },
   "source": [
    "To perform the same function as the `for` loop we need to increment the value of `x` within the loop:"
   ]
  },
  {
   "cell_type": "code",
   "execution_count": 12,
   "metadata": {
    "slideshow": {
     "slide_type": "-"
    }
   },
   "outputs": [
    {
     "name": "stdout",
     "output_type": "stream",
     "text": [
      "Start of while statement\n",
      "0\n",
      "1\n",
      "2\n",
      "3\n",
      "4\n",
      "End of while statement\n"
     ]
    }
   ],
   "source": [
    "x = 0\n",
    "\n",
    "print(\"Start of while statement\")\n",
    "\n",
    "while x < 5:\n",
    "    print(x)\n",
    "    x += 1  # Increment x\n",
    "    \n",
    "print(\"End of while statement\")"
   ]
  },
  {
   "cell_type": "markdown",
   "metadata": {
    "slideshow": {
     "slide_type": "slide"
    }
   },
   "source": [
    "`for` loops are often safer when performing an operation on a set range of values."
   ]
  },
  {
   "cell_type": "code",
   "execution_count": 13,
   "metadata": {
    "slideshow": {
     "slide_type": "-"
    }
   },
   "outputs": [
    {
     "name": "stdout",
     "output_type": "stream",
     "text": [
      "Start of for statement\n",
      "-2\n",
      "-1\n",
      "0\n",
      "1\n",
      "2\n",
      "3\n",
      "4\n",
      "End of for statement\n"
     ]
    }
   ],
   "source": [
    "x = -2\n",
    "\n",
    "print(\"Start of for statement\")\n",
    "\n",
    "for y in range(x,5):\n",
    "    print(y)\n",
    "    \n",
    "print(\"End of for statement\")"
   ]
  },
  {
   "cell_type": "markdown",
   "metadata": {
    "slideshow": {
     "slide_type": "slide"
    }
   },
   "source": [
    "<a id='breakcontinue'></a>\n",
    "# 3. `break` and `continue`.\n",
    "\n",
    "<br> &emsp;&emsp; <a href='#break'>__3.1 `break`__</a> \n",
    "<br> &emsp;&emsp; <a href='#while1'>__3.2  The `while 1` or `while True` loop__</a> \n",
    "<br> &emsp;&emsp; <a href='#continue'>__3.3 `continue`__</a> "
   ]
  },
  {
   "cell_type": "markdown",
   "metadata": {
    "slideshow": {
     "slide_type": "slide"
    }
   },
   "source": [
    "<a id='break'></a>\n",
    "## 3.1 `break`\n",
    "\n",
    "Sometimes we want to exit a `for` or `while` loop prematurely. \n",
    "\n",
    "<img src=\"img/algorithm-break-statement.jpg\" alt=\"Drawing\" style=\"width: 300px;\"/>"
   ]
  },
  {
   "cell_type": "markdown",
   "metadata": {
    "slideshow": {
     "slide_type": "slide"
    }
   },
   "source": [
    "<p align=\"center\">\n",
    "  <img src=\"img/flow_diag_break.png\" alt=\"Drawing\" style=\"width: 300px;\"/>\n",
    "</p>"
   ]
  },
  {
   "cell_type": "code",
   "execution_count": 14,
   "metadata": {
    "slideshow": {
     "slide_type": "slide"
    }
   },
   "outputs": [
    {
     "name": "stdout",
     "output_type": "stream",
     "text": [
      "0\n",
      "1\n",
      "2\n",
      "3\n",
      "4\n",
      "5\n",
      "Time to break out\n"
     ]
    }
   ],
   "source": [
    "for x in range(10):\n",
    "    print(x)\n",
    "    \n",
    "    if x == 5:\n",
    "        print(\"Time to break out\")\n",
    "        break"
   ]
  },
  {
   "cell_type": "markdown",
   "metadata": {
    "slideshow": {
     "slide_type": "slide"
    }
   },
   "source": [
    "Let's look at how we can use this in a program by first studying the `while 1` or `while True` loop...\n"
   ]
  },
  {
   "cell_type": "markdown",
   "metadata": {
    "slideshow": {
     "slide_type": "slide"
    }
   },
   "source": [
    "<a id='while1'></a>\n",
    "## 3.2  The `while 1` or `while True` loop\n",
    "\n",
    "A very common operation is to loop until the user performs a request to quit.\n",
    "\n",
    "When the request is made, the program needs a mechanism to *break out* of the loop. \n",
    "\n",
    "A common way to to loop until the user performs a request to is to use a while 1 loop."
   ]
  },
  {
   "cell_type": "markdown",
   "metadata": {
    "slideshow": {
     "slide_type": "slide"
    }
   },
   "source": [
    "\n",
    "\n",
    "Remember:\n",
    "        \n",
    "        True == 1\n",
    "        \n",
    " `while 1 ` loop will keep repeating \"infintely\".\n",
    "<br>To *break out* of an infinite loop, we can use the keyword, `break`."
   ]
  },
  {
   "cell_type": "code",
   "execution_count": 15,
   "metadata": {},
   "outputs": [
    {
     "name": "stdout",
     "output_type": "stream",
     "text": [
      "Do you want to quit? yes\n"
     ]
    }
   ],
   "source": [
    "while 1: \n",
    "    quit = input(\"Do you want to quit? \")\n",
    "    if quit == 'yes':\n",
    "        break"
   ]
  },
  {
   "cell_type": "markdown",
   "metadata": {
    "collapsed": true,
    "slideshow": {
     "slide_type": "slide"
    }
   },
   "source": [
    "<a id='continue'></a>\n",
    "## 3.3 `continue`\n",
    "\n",
    "Sometimes, instead of *skipping all remaining values*, we want to skip *just one value* in a loop. \n",
    "\n",
    "For this we use `continue`. \n",
    "\n",
    "<p align=\"center\">\n",
    "  <img src=\"img/flow_diag_continue.png\" alt=\"Drawing\" style=\"width: 300px;\"/>\n",
    "</p>\n",
    "\n"
   ]
  },
  {
   "cell_type": "markdown",
   "metadata": {
    "slideshow": {
     "slide_type": "slide"
    }
   },
   "source": [
    "<img src=\"img/algorithm-continue-statement.jpg\" alt=\"Drawing\" style=\"width: 300px;\"/>"
   ]
  },
  {
   "cell_type": "markdown",
   "metadata": {
    "slideshow": {
     "slide_type": "slide"
    }
   },
   "source": [
    "Let's compare break and continue..."
   ]
  },
  {
   "cell_type": "markdown",
   "metadata": {
    "slideshow": {
     "slide_type": "slide"
    }
   },
   "source": [
    "\n",
    "This program loops through numbers in the range 0 to 19.\n",
    "\n",
    "It prints a message about each number.\n",
    "\n",
    "It *stops* when it reaches a number that is not a multiple of 4."
   ]
  },
  {
   "cell_type": "code",
   "execution_count": 16,
   "metadata": {
    "slideshow": {
     "slide_type": "-"
    }
   },
   "outputs": [
    {
     "name": "stdout",
     "output_type": "stream",
     "text": [
      "1 is not a multiple of 4\n",
      "2 is not a multiple of 4\n",
      "3 is not a multiple of 4\n"
     ]
    }
   ],
   "source": [
    "for j in range(1, 20):\n",
    "    \n",
    "    if j % 4 == 0:  # Check remainer of j/4\n",
    "        break    # continue to next value of j\n",
    "        \n",
    "    print(j, \"is not a multiple of 4\")"
   ]
  },
  {
   "cell_type": "markdown",
   "metadata": {
    "slideshow": {
     "slide_type": "slide"
    }
   },
   "source": [
    "This program loops through numbers in the range 0 to 19.\n",
    "\n",
    "It prints a message about each number.\n",
    "\n",
    "It *skips* this operation whenever it reaches a number that is not a multiple of 4.\n",
    "\n",
    "If the number is divisible by 4 it *continues* to the next value in the loop, without printing."
   ]
  },
  {
   "cell_type": "code",
   "execution_count": 17,
   "metadata": {
    "slideshow": {
     "slide_type": "-"
    }
   },
   "outputs": [
    {
     "name": "stdout",
     "output_type": "stream",
     "text": [
      "1 is not a multiple of 4\n",
      "2 is not a multiple of 4\n",
      "3 is not a multiple of 4\n",
      "5 is not a multiple of 4\n",
      "6 is not a multiple of 4\n",
      "7 is not a multiple of 4\n",
      "9 is not a multiple of 4\n",
      "10 is not a multiple of 4\n",
      "11 is not a multiple of 4\n",
      "13 is not a multiple of 4\n",
      "14 is not a multiple of 4\n",
      "15 is not a multiple of 4\n",
      "17 is not a multiple of 4\n",
      "18 is not a multiple of 4\n",
      "19 is not a multiple of 4\n"
     ]
    }
   ],
   "source": [
    "for j in range(1, 20):\n",
    "    \n",
    "    if j % 4 == 0:  # Check remainer of j/4\n",
    "        continue    # continue to next value of j\n",
    "        \n",
    "    print(j, \"is not a multiple of 4\")"
   ]
  },
  {
   "cell_type": "markdown",
   "metadata": {
    "slideshow": {
     "slide_type": "subslide"
    }
   },
   "source": [
    "\n",
    "We can use a `for` loop to perform an operation on each character of a string.\n",
    "\n",
    "```Python\n",
    "string = \"string\"\n",
    "\n",
    "for i in range(len(sting)):\n",
    "    print(sting[i])\n",
    "```"
   ]
  },
  {
   "cell_type": "markdown",
   "metadata": {
    "slideshow": {
     "slide_type": "subslide"
    }
   },
   "source": [
    "### Practical Exercise 3A : `for` loops \n",
    "\n",
    "In the cell below, loop through the characters of the string.\n",
    "Use `continue` to only print the letters of the word *sting*."
   ]
  },
  {
   "cell_type": "code",
   "execution_count": 18,
   "metadata": {},
   "outputs": [],
   "source": [
    "# Print the letters of the word sting\n",
    "string = \"string\""
   ]
  },
  {
   "cell_type": "markdown",
   "metadata": {
    "slideshow": {
     "slide_type": "slide"
    }
   },
   "source": [
    "<a id='Summary'></a>\n",
    "# Summary\n",
    "\n",
    "[*McGrath, Python in easy steps, 2013*]\n",
    "\n",
    " - The Python `if` keyword performs a conditional test on an expression for a Boolean value of True or False.\n",
    " - Alternatives to an `if` test are provided using `elif` and `else` tests.\n",
    " - A `while` loop repeats until a test expression returns `False`.\n",
    " - A `for`...`in`... loop iterates over each item in a specified data structure (or string).\n",
    " - The `range()` function generates a numerical sequence that can be used to specify the length of the `for` loop.\n",
    " - The `break` and `continue` keywords interrupt loop iterations."
   ]
  },
  {
   "cell_type": "code",
   "execution_count": null,
   "metadata": {},
   "outputs": [],
   "source": []
  },
  {
   "cell_type": "code",
   "execution_count": null,
   "metadata": {},
   "outputs": [],
   "source": []
  }
 ],
 "metadata": {
  "celltoolbar": "Slideshow",
  "kernelspec": {
   "display_name": "Python 3",
   "language": "python",
   "name": "python3"
  },
  "language_info": {
   "codemirror_mode": {
    "name": "ipython",
    "version": 3
   },
   "file_extension": ".py",
   "mimetype": "text/x-python",
   "name": "python",
   "nbconvert_exporter": "python",
   "pygments_lexer": "ipython3",
   "version": "3.7.4"
  }
 },
 "nbformat": 4,
 "nbformat_minor": 2
}
