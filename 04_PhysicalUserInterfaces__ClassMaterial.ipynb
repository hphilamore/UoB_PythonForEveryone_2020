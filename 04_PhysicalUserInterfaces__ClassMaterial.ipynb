{
 "cells": [
  {
   "cell_type": "markdown",
   "metadata": {
    "slideshow": {
     "slide_type": "slide"
    }
   },
   "source": [
    "<img src=\"img/full-colour-logo-UoB.png\" alt=\"Drawing\" style=\"width: 200px;\"/>\n",
    "\n",
    "# Introduction to Programming for Everyone\n",
    "\n",
    "## Python 3\n",
    "\n",
    "\n"
   ]
  },
  {
   "cell_type": "markdown",
   "metadata": {
    "collapsed": true,
    "slideshow": {
     "slide_type": "slide"
    }
   },
   "source": [
    "# 04 Physical User Interfaces\n",
    "## CLASS MATERIAL\n",
    "\n",
    "<br> <a href='#Pong'>1. Pong</a>\n",
    "<br> <a href='#KeyboardPress'>2. Keyboard Press</a>  \n",
    "<a href='#RunningProgramUsesPhysicalInterfaces'>3. Running a Program that Uses Physical Interfaces</a> \n",
    "<br> <a href='#MousePosition'>4. Mouse Position</a> \n",
    "<br> <a href='#MouseButtonPress'>5. Mouse Button Press</a> \n",
    "<br> <a href='#ReviewExercises'>6. Review Exercises</a> "
   ]
  },
  {
   "cell_type": "markdown",
   "metadata": {
    "slideshow": {
     "slide_type": "slide"
    }
   },
   "source": [
    "# Download the new class notes.\n",
    "__Navigate to the directory where your files are stored.__\n",
    "\n",
    "__Update the course notes by downloading the changes__"
   ]
  },
  {
   "cell_type": "markdown",
   "metadata": {
    "slideshow": {
     "slide_type": "slide"
    }
   },
   "source": [
    "### Lesson Goal\n",
    "\n",
    "Use a physical control interface to manipulate objects on the screen."
   ]
  },
  {
   "cell_type": "markdown",
   "metadata": {
    "slideshow": {
     "slide_type": "slide"
    }
   },
   "source": [
    "### Fundamental programming concepts\n",
    "Writing code to interact with physical interfaces of the computer e.g. mouse and keyboard. "
   ]
  },
  {
   "cell_type": "markdown",
   "metadata": {
    "slideshow": {
     "slide_type": "slide"
    }
   },
   "source": [
    "Today we will study examples based on primative arcade game design to learn how to use physical interfaces of your computer (the keyboard and the mouse) to interact with a display. \n",
    "\n",
    "We will study three physical interface types:\n",
    "- keyboard press\n",
    "- mouse move\n",
    "- mouse press\n",
    "\n"
   ]
  },
  {
   "cell_type": "markdown",
   "metadata": {
    "slideshow": {
     "slide_type": "slide"
    }
   },
   "source": [
    "This example will also demonstrate how to use all of the programming fundamentals we have studied so far in a complete game."
   ]
  },
  {
   "cell_type": "markdown",
   "metadata": {
    "slideshow": {
     "slide_type": "slide"
    }
   },
   "source": [
    "Possible applications of this outside of a game: \n",
    "- An interface for an experiment where a participant clicks to indicate a response (you may do this for your project).\n",
    "- A simulation where you dynamically change parameters by turning virtual “knobs”\n",
    "- Building a simple light or sound controller \n"
   ]
  },
  {
   "cell_type": "markdown",
   "metadata": {
    "slideshow": {
     "slide_type": "slide"
    }
   },
   "source": [
    "<a id='Pong'></a>\n",
    "# 1. Pong\n",
    "\n",
    "Pong is one of the earliest arcade video games. \n",
    "\n",
    "It is a table tennis sports game with simple 2D graphics. \n",
    "\n",
    "The game was originally which released in 1972. \n",
    "\n",
    "<p align=\"center\">\n",
    "  <img src=\"img/pong.gif\" alt=\"Drawing\" style=\"width: 300px;\"/>\n",
    "</p>"
   ]
  },
  {
   "cell_type": "markdown",
   "metadata": {
    "slideshow": {
     "slide_type": "slide"
    }
   },
   "source": [
    "Your homework from last week's class was to write a program to:\n",
    "1. draw the game layout shown below\n",
    "1. give the circle a starting velocity of:\n",
    "    - x direction: 3 pixels per timestep\n",
    "    - y direction: -2 pixels per timestep\n",
    "    <br>(Extension task :  random starting velocity). \n",
    "1. Invert the velocity of the circle if it collides with the edge of the window.\n",
    "\n",
    "<p align=\"center\">\n",
    "<img src=\"img/pong_setup.png\" alt=\"Drawing\" style=\"width: 400px;\"/>\n",
    "</p>"
   ]
  },
  {
   "cell_type": "markdown",
   "metadata": {
    "slideshow": {
     "slide_type": "slide"
    }
   },
   "source": [
    "If you weren't able to complete the homework, there is a code template for you to use in the `templates` folder of the `ILAS_PyEv2019` repository.\n",
    "\n",
    "The file name is __04_pong_template.py__"
   ]
  },
  {
   "cell_type": "markdown",
   "metadata": {
    "slideshow": {
     "slide_type": "slide"
    }
   },
   "source": [
    "If you run this code, the ball : the red circle will move automatically."
   ]
  },
  {
   "cell_type": "markdown",
   "metadata": {
    "slideshow": {
     "slide_type": "slide"
    }
   },
   "source": [
    "Let's go through an example of what your homework might look like by analysing the file pong_template.py.\n",
    "\n",
    "Check your work as we go though the code.\n",
    "\n",
    "There are a few imoprtant points to note..."
   ]
  },
  {
   "cell_type": "markdown",
   "metadata": {
    "slideshow": {
     "slide_type": "slide"
    }
   },
   "source": [
    "Import the packages you need and initialise the pygame library:"
   ]
  },
  {
   "cell_type": "code",
   "execution_count": null,
   "metadata": {},
   "outputs": [],
   "source": [
    "import pygame as pg\n",
    "from pygame.draw import circle, rect\n",
    "import sys\n",
    "import random\n",
    "\n",
    "\n",
    "# 1. Initailise the pg library\n",
    "pg.init()"
   ]
  },
  {
   "cell_type": "markdown",
   "metadata": {
    "slideshow": {
     "slide_type": "slide"
    }
   },
   "source": [
    "Create variables for numerical values in the code."
   ]
  },
  {
   "cell_type": "code",
   "execution_count": 7,
   "metadata": {},
   "outputs": [],
   "source": [
    "# 2. Variables\n",
    "x = 0\n",
    "y = 1\n",
    "\n",
    "# 2.1 colours \n",
    "black = (0,0,0)\n",
    "white = (255, 255, 255)\n",
    "red =   (255, 0, 0)\n",
    "green = (0, 255, 0)\n",
    "blue =  (0, 0, 255)\n",
    "\n",
    "# 2.2 window\n",
    "win_width = 600\n",
    "win_height = 400\n",
    "\n",
    "# 2.3 ball\n",
    "radius = 20 \n",
    "ball_vel = [random.randrange(2,4), random.randrange(1,3)]\n",
    "if random.randrange(0,2) == 0:\n",
    "    ball_vel[x] *= -1\n",
    "if random.randrange(0,2) == 0:\n",
    "    ball_vel[y] *= -1\n",
    "ball_pos = [win_width//2, win_height//2] \n",
    "      \n",
    "# 2.4 paddles\n",
    "pad_width = 40\n",
    "pad_height = 120\n",
    "pad1_vel = [0,0]\n",
    "pad2_vel = [0,0]\n",
    "pad1_pos = [0,                       win_height//2 - pad_height//2]\n",
    "pad2_pos = [win_width - pad_width,   win_height//2 - pad_height//2] \n",
    "\n",
    "pad_pos = [pad1_pos, pad2_pos]\n",
    "pad_vel = [pad1_vel, pad2_vel] "
   ]
  },
  {
   "cell_type": "markdown",
   "metadata": {
    "slideshow": {
     "slide_type": "slide"
    }
   },
   "source": [
    "__Change in size of ball and paddles.__\n",
    "\n",
    "The dimensions given in the homework:\n",
    "<br>Ball radius = 40\n",
    "<br>Paddle width = 10\n",
    "<br>Paddle height = 80\n",
    "\n",
    "Dimensions in pong_template.py:\n",
    "```python\n",
    "radius = 20 # ball radius   \n",
    "pad_width = 40 # paddle width\n",
    "pad_height = 120 # paddle height\n",
    "```\n",
    "\n",
    "You can choose the dimenions you prefer by changing the varibale values. "
   ]
  },
  {
   "cell_type": "markdown",
   "metadata": {
    "slideshow": {
     "slide_type": "slide"
    }
   },
   "source": [
    "__In pong_template.py, the ball has random initial velocity.__\n",
    "\n",
    "- Import the `random` library <br>(if you need a reminder of how to do this, see 03_ProgramStructure_Graphics.ipynb).\n",
    "\n",
    "        import random\n",
    "\n",
    "- Choose a positive integer at random from a specified range:\n",
    "\n",
    "        ball_vel = [random.randrange(2,4), random.randrange(1,3)]\n",
    "        \n",
    "- Choose a positive integer at random to choose whether to reverse the directionof travel:\n",
    "        if random.randrange(0,2) == 0:\n",
    "            ball_vel[x] *= -1\n",
    "        if random.randrange(0,2) == 0:\n",
    "            ball_vel[y] *= -1"
   ]
  },
  {
   "cell_type": "markdown",
   "metadata": {
    "slideshow": {
     "slide_type": "slide"
    }
   },
   "source": [
    "__In pong_template.py, x and y are used as indices.__\n",
    "\n",
    "By creating variables: \n",
    "\n",
    "        x = 0\n",
    "        y = 1\n",
    "        \n",
    "\n"
   ]
  },
  {
   "cell_type": "markdown",
   "metadata": {
    "slideshow": {
     "slide_type": "slide"
    }
   },
   "source": [
    "By using named variables, we can make the code more readable.\n",
    "<br>The code below reverses the direction of trvel of the ball if number chosen randomly from the set (0, 1) is equal to 0.  \n",
    "```python\n",
    "        if random.randrange(0,2) == 0:\n",
    "            ball_vel[x] *= -1\n",
    "        if random.randrange(0,2) == 0:\n",
    "            ball_vel[y] *= -1\n",
    "\n",
    "This is more readable than:\n",
    "\n",
    "        if random.randrange(0,2) == 0:\n",
    "            ball_vel[0] *= -1\n",
    "        if random.randrange(0,2) == 0:\n",
    "            ball_vel[1] *= -1\n",
    "            ```"
   ]
  },
  {
   "cell_type": "markdown",
   "metadata": {
    "slideshow": {
     "slide_type": "slide"
    }
   },
   "source": [
    "Launch a game window.\n",
    "\n",
    "Set up the main game loop.\n",
    "\n",
    "Create an event processing loop to check if the user has quit the game."
   ]
  },
  {
   "cell_type": "code",
   "execution_count": null,
   "metadata": {},
   "outputs": [],
   "source": [
    "# 4. Set up the main game loop\n",
    "while True:\n",
    "    \n",
    "    # 5. Event processing\n",
    "    event = pg.event.poll()\n",
    "    \n",
    "    # 5.1 Check if the user has quit the game\n",
    "    if event.type == pg.QUIT:        \n",
    "        pg.quit()\n",
    "        sys.exit() "
   ]
  },
  {
   "cell_type": "markdown",
   "metadata": {
    "slideshow": {
     "slide_type": "slide"
    }
   },
   "source": [
    "Update the ball position.\n",
    "\n",
    "Draw everything.\n",
    "\n",
    "Update the display."
   ]
  },
  {
   "cell_type": "code",
   "execution_count": null,
   "metadata": {},
   "outputs": [],
   "source": [
    "# 6.3 Update ball position\n",
    "ball_pos[x] += ball_vel[x]\n",
    "ball_pos[y] += ball_vel[y]\n",
    "\n",
    "\n",
    "# 7. Draw everything\n",
    "# 7.1 Draw Window\n",
    "window.fill(blue)\n",
    "\n",
    "\n",
    "# 7.2 Draw ball and paddles\n",
    "circle(window, red, (int(ball_pos[x]), int(ball_pos[y])), radius)\n",
    "rect(window, white, pg.Rect(int(pad1_pos[x]), int(pad1_pos[y]), pad_width, pad_height))\n",
    "rect(window, white, pg.Rect(int(pad2_pos[x]), int(pad2_pos[y]), pad_width, pad_height))\n",
    "\n",
    "\n",
    "# 8. Update display\n",
    "pg.display.update()\n",
    "\n",
    "\n",
    "# 9. Frame rate\n",
    "clock = pg.time.Clock().tick(60)"
   ]
  },
  {
   "cell_type": "markdown",
   "metadata": {
    "slideshow": {
     "slide_type": "slide"
    }
   },
   "source": [
    "__3. Position must be given using integer values__\n",
    "\n",
    "If you have tried to enter floating point values for position or velocity, you may have noticed that en error is generated.\n",
    "\n",
    "Position and velocity are measured in units of pixels.\n",
    "\n",
    "As a pixel is a basic unit of programmable color on a computer display, it is not possible to use non-integer values.\n"
   ]
  },
  {
   "cell_type": "markdown",
   "metadata": {
    "slideshow": {
     "slide_type": "slide"
    }
   },
   "source": [
    "To safegaurd against non-integer position values that may arise from calculations in your code, we can use casting when inputting the position values to draw the shapes:"
   ]
  },
  {
   "cell_type": "code",
   "execution_count": null,
   "metadata": {
    "slideshow": {
     "slide_type": "slide"
    }
   },
   "outputs": [],
   "source": [
    "# 7.2 Draw ball and paddles\n",
    "circle(window, red, (int(ball_pos[x]), int(ball_pos[y])), radius)"
   ]
  },
  {
   "cell_type": "markdown",
   "metadata": {
    "slideshow": {
     "slide_type": "slide"
    }
   },
   "source": [
    "We will use the pong game to learn two things:\n",
    "1. Using keyboard presses to move objects on the screen\n",
    "1. Dealing with collisions between objects. <br>(Building on collisions with the environment).\n",
    "\n",
    "<p align=\"center\">\n",
    "  <img src=\"img/pong.gif\" alt=\"Drawing\" style=\"width: 300px;\"/>\n",
    "</p>"
   ]
  },
  {
   "cell_type": "markdown",
   "metadata": {
    "slideshow": {
     "slide_type": "slide"
    }
   },
   "source": [
    "<a id='KeyboardPress'></a>\n",
    "# 2. Keyboard Press\n",
    "\n",
    "In last week's class, we started to learn about the __event processing loop__.\n",
    "\n",
    "The event processing is the block of the game loop that \"Gets user input\".\n",
    "\n",
    "<img src=\"img/game_loop.png\" alt=\"Drawing\" style=\"width: 400px;\"/>\n"
   ]
  },
  {
   "cell_type": "markdown",
   "metadata": {
    "slideshow": {
     "slide_type": "slide"
    }
   },
   "source": [
    "Remind yourself of the code shown below.\n",
    "\n",
    "The code checks if the user has:\n",
    "- chosen to exit the game\n",
    "- clicked on the game screen\n",
    "\n"
   ]
  },
  {
   "cell_type": "code",
   "execution_count": null,
   "metadata": {
    "slideshow": {
     "slide_type": "-"
    }
   },
   "outputs": [],
   "source": [
    "# 4. Set up the main game loop\n",
    "while True:\n",
    "    \n",
    "    # 5. Event processing\n",
    "    event = pg.event.poll()\n",
    "    \n",
    "    # 5.1 Check if the user has quit the game\n",
    "    if event.type == pg.QUIT:        \n",
    "        pg.quit()\n",
    "        sys.exit()  \n",
    "    \n",
    "    # 5.2 Check if a mouse button has been pressed    \n",
    "    elif event.type == pg.MOUSEBUTTONDOWN:\n",
    "        print(\"User pressed a mouse button\")"
   ]
  },
  {
   "cell_type": "markdown",
   "metadata": {
    "slideshow": {
     "slide_type": "slide"
    }
   },
   "source": [
    "We later commented out or deleted the part of the code that detects if the user had pressed a mouse button: "
   ]
  },
  {
   "cell_type": "code",
   "execution_count": 1,
   "metadata": {},
   "outputs": [
    {
     "ename": "NameError",
     "evalue": "name 'pg' is not defined",
     "output_type": "error",
     "traceback": [
      "\u001b[0;31m---------------------------------------------------------------------------\u001b[0m",
      "\u001b[0;31mNameError\u001b[0m                                 Traceback (most recent call last)",
      "\u001b[0;32m<ipython-input-1-81bad888496e>\u001b[0m in \u001b[0;36m<module>\u001b[0;34m\u001b[0m\n\u001b[1;32m      2\u001b[0m \u001b[0;34m\u001b[0m\u001b[0m\n\u001b[1;32m      3\u001b[0m     \u001b[0;31m# 5. Event processing\u001b[0m\u001b[0;34m\u001b[0m\u001b[0;34m\u001b[0m\u001b[0;34m\u001b[0m\u001b[0m\n\u001b[0;32m----> 4\u001b[0;31m     \u001b[0mevent\u001b[0m \u001b[0;34m=\u001b[0m \u001b[0mpg\u001b[0m\u001b[0;34m.\u001b[0m\u001b[0mevent\u001b[0m\u001b[0;34m.\u001b[0m\u001b[0mpoll\u001b[0m\u001b[0;34m(\u001b[0m\u001b[0;34m)\u001b[0m\u001b[0;34m\u001b[0m\u001b[0;34m\u001b[0m\u001b[0m\n\u001b[0m\u001b[1;32m      5\u001b[0m \u001b[0;34m\u001b[0m\u001b[0m\n\u001b[1;32m      6\u001b[0m     \u001b[0;31m# 5.1 Check if the user has quit the game\u001b[0m\u001b[0;34m\u001b[0m\u001b[0;34m\u001b[0m\u001b[0;34m\u001b[0m\u001b[0m\n",
      "\u001b[0;31mNameError\u001b[0m: name 'pg' is not defined"
     ]
    }
   ],
   "source": [
    "while True:\n",
    "    \n",
    "    # 5. Event processing\n",
    "    event = pg.event.poll()\n",
    "    \n",
    "    # 5.1 Check if the user has quit the game\n",
    "    if event.type == pg.QUIT:        \n",
    "        pg.quit()\n",
    "        sys.exit() \n",
    "    \n",
    "#     # 5.2 Check if a mouse button has been pressed    \n",
    "#     elif event.type == pg.MOUSEBUTTONDOWN:\n",
    "#         print(\"User pressed a mouse button\")"
   ]
  },
  {
   "cell_type": "markdown",
   "metadata": {
    "slideshow": {
     "slide_type": "slide"
    }
   },
   "source": [
    "The program you wrote for homework should look similar to this."
   ]
  },
  {
   "cell_type": "markdown",
   "metadata": {
    "slideshow": {
     "slide_type": "slide"
    }
   },
   "source": [
    "We are going to add some events to the event processing loop.\n",
    "\n",
    "Copy the folowing code and paste it underneath the line: `sys.exit()`.\n",
    "\n",
    "\n",
    "\n"
   ]
  },
  {
   "cell_type": "code",
   "execution_count": 4,
   "metadata": {
    "slideshow": {
     "slide_type": "-"
    }
   },
   "outputs": [
    {
     "ename": "NameError",
     "evalue": "name 'pygame' is not defined",
     "output_type": "error",
     "traceback": [
      "\u001b[0;31m---------------------------------------------------------------------------\u001b[0m",
      "\u001b[0;31mNameError\u001b[0m                                 Traceback (most recent call last)",
      "\u001b[0;32m<ipython-input-4-4fe7b65326bc>\u001b[0m in \u001b[0;36m<module>\u001b[0;34m()\u001b[0m\n\u001b[1;32m      1\u001b[0m \u001b[0;31m# 5.2 Check if any keys have been pressed\u001b[0m\u001b[0;34m\u001b[0m\u001b[0;34m\u001b[0m\u001b[0m\n\u001b[0;32m----> 2\u001b[0;31m \u001b[0mpressed\u001b[0m \u001b[0;34m=\u001b[0m \u001b[0mpygame\u001b[0m\u001b[0;34m.\u001b[0m\u001b[0mkey\u001b[0m\u001b[0;34m.\u001b[0m\u001b[0mget_pressed\u001b[0m\u001b[0;34m(\u001b[0m\u001b[0;34m)\u001b[0m\u001b[0;34m\u001b[0m\u001b[0m\n\u001b[0m\u001b[1;32m      3\u001b[0m \u001b[0;34m\u001b[0m\u001b[0m\n\u001b[1;32m      4\u001b[0m \u001b[0;31m# 5.5 Check if paddles have been moved\u001b[0m\u001b[0;34m\u001b[0m\u001b[0;34m\u001b[0m\u001b[0m\n\u001b[1;32m      5\u001b[0m \u001b[0;31m# 5.5.1 Right rectangle\u001b[0m\u001b[0;34m\u001b[0m\u001b[0;34m\u001b[0m\u001b[0m\n",
      "\u001b[0;31mNameError\u001b[0m: name 'pygame' is not defined"
     ]
    }
   ],
   "source": [
    "# 5.2 Check if any keys have been pressed    \n",
    "pressed = pg.key.get_pressed()\n",
    "\n",
    "\n",
    "# 5.3 Check if paddles have been moved\n",
    "# 5.3.1 Right rectangle \n",
    "if pressed[pg.K_UP] & pressed[pg.K_DOWN] : \n",
    "    pad2_vel[y] = 0\n",
    "elif pressed[pg.K_UP]: \n",
    "    pad2_vel[y] = -8\n",
    "elif pressed[pg.K_DOWN]: \n",
    "    pad2_vel[y] = 8\n",
    "else: \n",
    "    pad2_vel[y] = 0"
   ]
  },
  {
   "cell_type": "markdown",
   "metadata": {
    "slideshow": {
     "slide_type": "slide"
    }
   },
   "source": [
    "__Throughout this class you may need to change the variable names in the pasted code to match those in your program.__"
   ]
  },
  {
   "cell_type": "markdown",
   "metadata": {
    "slideshow": {
     "slide_type": "slide"
    }
   },
   "source": [
    "It should be at the same level of indentation as shown below:\n",
    "```python    \n",
    "    # 4. Set up the main game loop\n",
    "    while True:\n",
    "\n",
    "        # 5. Event processing\n",
    "        event = pg.event.poll()\n",
    "\n",
    "        # 5.1 Check if the user has quit the game\n",
    "        if event.type == pg.QUIT:        \n",
    "            pg.quit()\n",
    "            sys.exit()  \n",
    "\n",
    "        # 5.2 Check if any keys have been pressed    \n",
    "        pressed = pg.key.get_pressed()\n",
    "\n",
    "\n",
    "        # 5.3 Check if paddles have been moved\n",
    "        # 5.3.1 Right rectangle \n",
    "        if pressed[pg.K_UP] & pressed[pg.K_DOWN] : \n",
    "            pad2_vel[y] = 0\n",
    "        elif pressed[pg.K_UP]                        : \n",
    "            pad2_vel[y] = -8\n",
    "        elif pressed[pg.K_DOWN]                      : \n",
    "            pad2_vel[y] = 8\n",
    "        else: \n",
    "            pad2_vel[y] = 0\n",
    "```"
   ]
  },
  {
   "cell_type": "markdown",
   "metadata": {
    "slideshow": {
     "slide_type": "slide"
    }
   },
   "source": [
    "##### What does this code do?\n",
    "\n",
    ">`pressed = pygame.key.get_pressed()`\n",
    "\n",
    "This creates a data structure with the variable name `pressed`.\n",
    "\n",
    "The data strcuture holds a value (1 or 0) for each key on the keyboard.\n",
    "\n",
    "If the key is pressed, the element representing that key is 1.\n",
    "\n",
    "Otherwise the value of the element is 0."
   ]
  },
  {
   "cell_type": "markdown",
   "metadata": {
    "slideshow": {
     "slide_type": "slide"
    }
   },
   "source": [
    "```python\n",
    "    if pressed[pg.K_UP] & pressed[pg.K_DOWN] : \n",
    "        pad2_vel[y] = 0\n",
    "    elif pressed[pg.K_UP]                        : \n",
    "        pad2_vel[y] = -8\n",
    "    elif pressed[pg.K_DOWN]                      : \n",
    "        pad2_vel[y] = 8\n",
    "    else: \n",
    "        pad2_vel[y] = 0\n",
    "    \n",
    "\n",
    "```\n",
    "\n",
    "This code checks the element of the data structure `pressed` that represent the keys:\n",
    "- up : `pressed[pg.K_UP]`\n",
    "- down : `pressed[pg.K_DOWN]`\n"
   ]
  },
  {
   "cell_type": "markdown",
   "metadata": {
    "slideshow": {
     "slide_type": "slide"
    }
   },
   "source": [
    "\n",
    "The status of the keys deterimines the velocity of the paddle. \n",
    "\n",
    "- If up=1 and down=1 --> paddle velocity = 0\n",
    "- If up=1 and down=0 --> paddle velocity = -8 px/frame\n",
    "- If up=0 and down=1 --> paddle velocity = 8 px/frame\n",
    "- Otherwise (up=0 and down=0) --> paddle velocity = 0"
   ]
  },
  {
   "cell_type": "markdown",
   "metadata": {
    "slideshow": {
     "slide_type": "slide"
    }
   },
   "source": [
    "##### Try it Yourself?\n",
    "If you want to see the data structure and the change from 0 to 1 when a key is pressed, add the followig line after `pressed = pygame.key.get_pressed()`:\n",
    "\n",
    "        print(pressed)"
   ]
  },
  {
   "cell_type": "markdown",
   "metadata": {
    "slideshow": {
     "slide_type": "slide"
    }
   },
   "source": [
    "To update the paddle position due to the velocity, copy the following line of code.\n",
    "<br>Paste it after the code to update the postion of the ball:"
   ]
  },
  {
   "cell_type": "code",
   "execution_count": null,
   "metadata": {},
   "outputs": [],
   "source": [
    "pad2_pos[y] += pad2_vel[y]"
   ]
  },
  {
   "cell_type": "markdown",
   "metadata": {
    "slideshow": {
     "slide_type": "slide"
    }
   },
   "source": [
    "Your code should look somthing like this:\n",
    "```python    \n",
    "    # 6. Calculations \n",
    "    # 6.3 Update ball position\n",
    "    ball_pos[x] += ball_vel[x]\n",
    "    ball_pos[y] += ball_vel[y]\n",
    "    \n",
    "    # 6.4 Update paddle position  \n",
    "    pad2_pos[y] += pad2_vel[y]    \n",
    "```   \n"
   ]
  },
  {
   "cell_type": "markdown",
   "metadata": {
    "slideshow": {
     "slide_type": "slide"
    }
   },
   "source": [
    "Remember all drawing code should:\n",
    "- be grouped together.\n",
    "- appear *before* the line:<br>`pg.display.update()`"
   ]
  },
  {
   "cell_type": "markdown",
   "metadata": {
    "slideshow": {
     "slide_type": "slide"
    }
   },
   "source": [
    "Run the code again.\n",
    "\n"
   ]
  },
  {
   "cell_type": "markdown",
   "metadata": {
    "slideshow": {
     "slide_type": "slide"
    }
   },
   "source": [
    "<a id='RunningProgramUsesPhysicalInterfaces'></a>\n",
    "## 3. Running a Program that Uses Physical Interfaces\n",
    "\n",
    "In this class we will use the physical interfaces (keyboard) of the computer to control the game.\n",
    "\n",
    "Whe running the code it is necessary to access the part of the computer operating system which controls operations relating to interactive user interfaces.\n",
    "\n"
   ]
  },
  {
   "cell_type": "markdown",
   "metadata": {
    "slideshow": {
     "slide_type": "slide"
    }
   },
   "source": [
    "This is different for Windows and Linux users than for Mac. \n",
    "\n",
    "##### If using Windows or Linux...\n",
    "You can run your code in spyder.\n",
    "\n",
    "##### If using Mac...\n",
    "You must run your code from the terminal using the command:\n",
    ">`pythonw filename.py`\n",
    "\n",
    "where `filename` is the name you have given your file."
   ]
  },
  {
   "cell_type": "markdown",
   "metadata": {
    "slideshow": {
     "slide_type": "slide"
    }
   },
   "source": [
    "<br>Using `pythonw` will allow you to access the WindowManager library on the OSX operating system which is needed to run operations relating to interactive user interfaces.\n",
    "\n",
    "###### Note : \n",
    "`pythonw` is not available on Linux or Windows.\n",
    "<br>\n",
    "\n",
    "Instructions for this are given below..."
   ]
  },
  {
   "cell_type": "markdown",
   "metadata": {
    "slideshow": {
     "slide_type": "slide"
    }
   },
   "source": [
    "### Instructions for running your code from the terminal on mac\n",
    "\n",
    "### Step 1 : Navigate to the directory where your files are stored.  \n",
    "Open a terminal. \n",
    "\n",
    "Using `cd`, navigate to *inside* the folder where you have stored the file you are working on in Spyder.\n",
    "\n",
    "### Step 2 : Run the code.\n",
    "Type:\n",
    ">`pythonw filename.py`\n",
    "\n",
    "where `filename` is the name you have given your file."
   ]
  },
  {
   "cell_type": "markdown",
   "metadata": {
    "slideshow": {
     "slide_type": "slide"
    }
   },
   "source": [
    "### Instructions for running your code from the terminal on windows\n",
    "\n",
    "\n",
    "### Step 1 : Navigate to the directory where your files are stored.  \n",
    "Open a terminal. \n",
    "\n",
    "Using `cd`, navigate to *inside* the folder where you have stored the file you are working on in Spyder.\n",
    "\n",
    "### Step 2 : Run the code.\n",
    "Type:\n",
    ">`python filename.py`\n",
    "\n",
    "where `filename` is the name you have given your file."
   ]
  },
  {
   "cell_type": "markdown",
   "metadata": {
    "slideshow": {
     "slide_type": "slide"
    }
   },
   "source": [
    "When the game window appears, try pressing the up and down arrows on your keyboard.\n",
    "\n",
    "You should see the rectangle on the right move up and down."
   ]
  },
  {
   "cell_type": "markdown",
   "metadata": {
    "slideshow": {
     "slide_type": "slide"
    }
   },
   "source": [
    "Now we need to add the other paddle. \n",
    "\n",
    "We need to choose on the oposite side of the keyboard to the arrows, to control the second paddle. \n",
    "<br>For example you could use:\n",
    "- W for up\n",
    "- S for down\n",
    "\n",
    "(as W is above S on the keyboard)."
   ]
  },
  {
   "cell_type": "markdown",
   "metadata": {
    "slideshow": {
     "slide_type": "slide"
    }
   },
   "source": [
    "Copy the following code and paste it below the code to move the rectangle on the right:"
   ]
  },
  {
   "cell_type": "code",
   "execution_count": 2,
   "metadata": {
    "slideshow": {
     "slide_type": "-"
    }
   },
   "outputs": [
    {
     "ename": "NameError",
     "evalue": "name 'pressed' is not defined",
     "output_type": "error",
     "traceback": [
      "\u001b[0;31m---------------------------------------------------------------------------\u001b[0m",
      "\u001b[0;31mNameError\u001b[0m                                 Traceback (most recent call last)",
      "\u001b[0;32m<ipython-input-2-6f27a1e91164>\u001b[0m in \u001b[0;36m<module>\u001b[0;34m\u001b[0m\n\u001b[1;32m      1\u001b[0m \u001b[0;31m# 5.3.2 Left rectangle\u001b[0m\u001b[0;34m\u001b[0m\u001b[0;34m\u001b[0m\u001b[0;34m\u001b[0m\u001b[0m\n\u001b[0;32m----> 2\u001b[0;31m \u001b[0;32mif\u001b[0m \u001b[0mpressed\u001b[0m\u001b[0;34m[\u001b[0m\u001b[0mpg\u001b[0m\u001b[0;34m.\u001b[0m\u001b[0mK_w\u001b[0m\u001b[0;34m]\u001b[0m \u001b[0;34m&\u001b[0m \u001b[0mpressed\u001b[0m\u001b[0;34m[\u001b[0m\u001b[0mpg\u001b[0m\u001b[0;34m.\u001b[0m\u001b[0mK_s\u001b[0m\u001b[0;34m]\u001b[0m \u001b[0;34m:\u001b[0m\u001b[0;34m\u001b[0m\u001b[0;34m\u001b[0m\u001b[0m\n\u001b[0m\u001b[1;32m      3\u001b[0m     \u001b[0mpad1_vel\u001b[0m\u001b[0;34m[\u001b[0m\u001b[0my\u001b[0m\u001b[0;34m]\u001b[0m \u001b[0;34m=\u001b[0m \u001b[0;36m0\u001b[0m\u001b[0;34m\u001b[0m\u001b[0;34m\u001b[0m\u001b[0m\n\u001b[1;32m      4\u001b[0m \u001b[0;32melif\u001b[0m \u001b[0mpressed\u001b[0m\u001b[0;34m[\u001b[0m\u001b[0mpg\u001b[0m\u001b[0;34m.\u001b[0m\u001b[0mK_w\u001b[0m\u001b[0;34m]\u001b[0m                     \u001b[0;34m:\u001b[0m\u001b[0;34m\u001b[0m\u001b[0;34m\u001b[0m\u001b[0m\n\u001b[1;32m      5\u001b[0m     \u001b[0mpad1_vel\u001b[0m\u001b[0;34m[\u001b[0m\u001b[0my\u001b[0m\u001b[0;34m]\u001b[0m \u001b[0;34m=\u001b[0m \u001b[0;34m-\u001b[0m\u001b[0;36m8\u001b[0m\u001b[0;34m\u001b[0m\u001b[0;34m\u001b[0m\u001b[0m\n",
      "\u001b[0;31mNameError\u001b[0m: name 'pressed' is not defined"
     ]
    }
   ],
   "source": [
    "# 5.3.2 Left rectangle \n",
    "if pressed[pg.K_w] & pressed[pg.K_s] : \n",
    "    pad1_vel[y] = 0\n",
    "elif pressed[pg.K_w]                     : \n",
    "    pad1_vel[y] = -8\n",
    "elif pressed[pg.K_s]                     : \n",
    "    pad1_vel[y] = 8\n",
    "else: \n",
    "    pad1_vel[y] = 0"
   ]
  },
  {
   "cell_type": "markdown",
   "metadata": {
    "slideshow": {
     "slide_type": "slide"
    }
   },
   "source": [
    "Note that this code is identical to the code to move the rectangle on the right aside from the following changes:\n",
    "\n",
    "- `pad2_vel` --> `pad1_vel`\n",
    "- `pg.UP` --> `pg.K_w`\n",
    "- `pg.DOWN` --> `pg.K_s`"
   ]
  },
  {
   "cell_type": "markdown",
   "metadata": {
    "slideshow": {
     "slide_type": "slide"
    }
   },
   "source": [
    "To update the paddle position due to the velocity, copy the following line of code.\n",
    "<br>Paste it after the code to update the postion of the ball:"
   ]
  },
  {
   "cell_type": "code",
   "execution_count": null,
   "metadata": {},
   "outputs": [],
   "source": [
    "pad1_pos[y] += pad1_vel[y]"
   ]
  },
  {
   "cell_type": "markdown",
   "metadata": {
    "slideshow": {
     "slide_type": "slide"
    }
   },
   "source": [
    "Your code should look somthing like this:\n",
    "```python\n",
    "    # 6.3 Update ball position\n",
    "    ball_pos[x] += ball_vel[x]\n",
    "    ball_pos[y] += ball_vel[y]\n",
    "    \n",
    "    \n",
    "    # 6.4 Update paddle position  \n",
    "    pad1_pos[y] += pad1_vel[y]\n",
    "    pad2_pos[y] += pad2_vel[y]\n",
    "```"
   ]
  },
  {
   "cell_type": "markdown",
   "metadata": {
    "slideshow": {
     "slide_type": "slide"
    }
   },
   "source": [
    "If you are running your code using the terminal, you must save your changes in Spyder before running the code.\n",
    "\n",
    "<p align=\"center\">\n",
    "<img src=\"img/Spyder_save.png\" alt=\"Drawing\" style=\"width: 600px;\"/>\n",
    "</p>"
   ]
  },
  {
   "cell_type": "markdown",
   "metadata": {
    "slideshow": {
     "slide_type": "slide"
    }
   },
   "source": [
    "Run your code.\n",
    "\n",
    "You should now be able to control both paddles using the keyboard keys."
   ]
  },
  {
   "cell_type": "markdown",
   "metadata": {
    "slideshow": {
     "slide_type": "slide"
    }
   },
   "source": [
    "### Preventing the Paddle from Moving off the Screen\n",
    "<a id='PreventingPaddleMovingScreen'></a>\n",
    "If we press K, S, UP or DOWN, the paddle moves. \n",
    "    \n",
    "    # 6.4 Update paddle position  \n",
    "    pad1_pos[y] += pad1_vel[y]\n",
    "    pad2_pos[y] += pad2_vel[y]"
   ]
  },
  {
   "cell_type": "markdown",
   "metadata": {},
   "source": [
    "Let's use comparison operators to stop the paddle moving off the screen. "
   ]
  },
  {
   "cell_type": "markdown",
   "metadata": {
    "slideshow": {
     "slide_type": "slide"
    }
   },
   "source": [
    "__Replace__ the block of code that updates the paddle position (Section 6.4) with the following code:"
   ]
  },
  {
   "cell_type": "code",
   "execution_count": null,
   "metadata": {
    "slideshow": {
     "slide_type": "-"
    }
   },
   "outputs": [],
   "source": [
    "# 6.4 Update paddle position  \n",
    "if ((pad1_pos[y] > 0 and pad1_pos[y] < win_height - pad_height) or\n",
    "    (pad1_pos[y] >= win_height - pad_height and pad1_vel[y] < 0) or \n",
    "    (pad1_pos[y] <= 0 and pad1_vel[y] > 0)):\n",
    "    \n",
    "        pad1_pos[y] += pad1_vel[y]\n",
    "\n",
    "if ((pad2_pos[y] > 0 and pad2_pos[y] < win_height - pad_height) or\n",
    "    (pad2_pos[y] >= win_height - pad_height and pad2_vel[y] < 0) or \n",
    "    (pad2_pos[y] <= 0 and pad2_vel[y] > 0)):\n",
    "    \n",
    "        pad2_pos[y] += pad2_vel[y]\n"
   ]
  },
  {
   "cell_type": "markdown",
   "metadata": {
    "slideshow": {
     "slide_type": "slide"
    }
   },
   "source": [
    "##### What does this code do?\n",
    "\n",
    "```\n",
    "if ((pad1_pos[y] > 0 and pad1_pos[y] < win_height - pad_height) or\n",
    "    (pad1_pos[y] >= win_height - pad_height and pad1_vel[y] < 0) or \n",
    "    (pad1_pos[y] <= 0 and pad1_vel[y] > 0)):```\n",
    "\n"
   ]
  },
  {
   "cell_type": "markdown",
   "metadata": {
    "slideshow": {
     "slide_type": "slide"
    }
   },
   "source": [
    "The conditional `if` checks if one of three cases is satisfied:\n",
    "\n",
    "1. The paddle is between the top and bottom of the window <br>\n",
    "`pad1_pos[y] > 0 and pad1_pos[y] < win_height - pad_height`\n",
    "1. The paddle is at the top of the window but the velocity is in the downward direction.<br>`pad1_pos[y] >= win_height - pad_height and pad1_vel[y] < 0`\n",
    "1. The paddle is at the bottom of the window but the velocity is in the upward direction.<br>`pad1_pos[y] <= 0 and pad1_vel[y] > 0`\n",
    "\n",
    "\n"
   ]
  },
  {
   "cell_type": "markdown",
   "metadata": {
    "slideshow": {
     "slide_type": "slide"
    }
   },
   "source": [
    "The `or` comparison operator means that if any one of these cases is satified then...\n",
    "\n",
    ">`pad1_pos[y] += pad1_vel[y]`\n",
    "\n",
    "...the paddle will move.\n",
    "\n",
    "(Otherwise it will remain at its current position)."
   ]
  },
  {
   "cell_type": "markdown",
   "metadata": {
    "slideshow": {
     "slide_type": "slide"
    }
   },
   "source": [
    "It is best practise to avoid repetition where possible.\n",
    "\n",
    "We can rewrite this code by looping though each paddle.\n",
    "\n",
    "\n",
    "\n"
   ]
  },
  {
   "cell_type": "markdown",
   "metadata": {
    "slideshow": {
     "slide_type": "slide"
    }
   },
   "source": [
    "<a id='ExampleOptimisingCodeLooping'></a>\n",
    "\n",
    "### Example: Optimising Code by Looping.\n",
    "\n",
    "Preventing the Paddle from Moving off the Screen\n",
    "1. create a `for` loop\n",
    "1. iterate through items in lists `pad_pos` (paddle positions) and `pad_vel` (paddle velocities) using `zip`.\n",
    "1. indent code to loop through\n",
    "1. replace all variables in code with `pos` and `vel` variable names used within loop"
   ]
  },
  {
   "cell_type": "code",
   "execution_count": null,
   "metadata": {},
   "outputs": [],
   "source": [
    "# Original Code\n",
    "\n",
    "# 6.4 Update paddle position  \n",
    "if ((pad1_pos[y] > 0 and pad1_pos[y] < win_height - pad_height) or\n",
    "    (pad1_pos[y] >= win_height - pad_height and pad1_vel[y] < 0) or \n",
    "    (pad1_pos[y] <= 0 and pad1_vel[y] > 0)):\n",
    "    \n",
    "        pad1_pos[y] += pad1_vel[y]\n",
    "\n",
    "if ((pad2_pos[y] > 0 and pad2_pos[y] < win_height - pad_height) or\n",
    "    (pad2_pos[y] >= win_height - pad_height and pad2_vel[y] < 0) or \n",
    "    (pad2_pos[y] <= 0 and pad2_vel[y] > 0)):\n",
    "    \n",
    "        pad2_pos[y] += pad2_vel[y]\n"
   ]
  },
  {
   "cell_type": "code",
   "execution_count": null,
   "metadata": {},
   "outputs": [],
   "source": [
    "# 6.4 Update paddle position  \n",
    "\n",
    "for pos, vel in zip(pad_pos, pad_vel):\n",
    "    if ((pos[y] > 0 and pos[y] < win_height - pad_height) or\n",
    "        (pos[y] >= win_height - pad_height and vel[y] < 0) or \n",
    "        (pos[y] <= 0 and vel[y] > 0)):\n",
    "            pos[y] += vel[y]"
   ]
  },
  {
   "cell_type": "markdown",
   "metadata": {
    "slideshow": {
     "slide_type": "slide"
    }
   },
   "source": [
    "__Save your file now.__\n",
    "\n",
    "__Now save a *copy* of your file (\"File >> Save As...\") now!__\n",
    "\n",
    "__Call the copy `physical_interfaces.py`__\n",
    "\n",
    "You should now have two files with identical content. \n",
    "\n",
    "(We will come back to the first file later to finish building the Pong game)"
   ]
  },
  {
   "cell_type": "markdown",
   "metadata": {
    "slideshow": {
     "slide_type": "slide"
    }
   },
   "source": [
    "<a id='MousePosition'></a>\n",
    "\n",
    "## 4. Mouse Position\n",
    "\n",
    "We have a basic program structure with user input.\n",
    "\n",
    "We will now edit the program so that the ball is controlled by the movement of the mouse, instead of moving with a randomly determined velocity.\n",
    "\n"
   ]
  },
  {
   "cell_type": "markdown",
   "metadata": {
    "slideshow": {
     "slide_type": "slide"
    }
   },
   "source": [
    "You should now be working on the file __physical_interfaces.py__\n",
    "\n",
    "(There is a sample file called 04_physical_interfaces_template.py in the Templates folder in case you have had difficulty creating your own.)"
   ]
  },
  {
   "cell_type": "markdown",
   "metadata": {
    "slideshow": {
     "slide_type": "slide"
    }
   },
   "source": [
    "We can obtain the position of the mouse in the window by adding the following code to the event processing loop:\n",
    "\n",
    "    pygame.mouse.get_pos()"
   ]
  },
  {
   "cell_type": "markdown",
   "metadata": {
    "slideshow": {
     "slide_type": "slide"
    }
   },
   "source": [
    "This returns the x,y coordinates of the current mouse postion.\n",
    "\n",
    "So we can assign this code to a variable name and print the output to see the coordinates.\n",
    "\n",
    "Copy the code below and paste it at the end of the event processing loop."
   ]
  },
  {
   "cell_type": "code",
   "execution_count": null,
   "metadata": {
    "slideshow": {
     "slide_type": "slide"
    }
   },
   "outputs": [],
   "source": [
    "# 5.3 Get the mouse position   \n",
    "mouse_pos = pg.mouse.get_pos()\n",
    "print(mouse_pos)    "
   ]
  },
  {
   "cell_type": "markdown",
   "metadata": {
    "slideshow": {
     "slide_type": "slide"
    }
   },
   "source": [
    "The event processing loop section of your code should now look like this:\n",
    "```python    \n",
    "    # 5. Event processing\n",
    "    event = pg.event.poll()\n",
    "    \n",
    "    # 5.1 Check if the user has quit the game\n",
    "    if event.type == pg.QUIT:        \n",
    "        pg.quit()\n",
    "        sys.exit()  \n",
    "    \n",
    "    # 5.2 Check if any keys have been pressed    \n",
    "    pressed = pg.key.get_pressed()\n",
    "    \n",
    "    # 5.3 Get the mouse position   \n",
    "    mouse_pos = pg.mouse.get_pos()   \n",
    "```"
   ]
  },
  {
   "cell_type": "markdown",
   "metadata": {
    "slideshow": {
     "slide_type": "slide"
    }
   },
   "source": [
    "Run the code and move the mouse around to see the coordinates appear in the terminal / Spyder output window."
   ]
  },
  {
   "cell_type": "markdown",
   "metadata": {
    "slideshow": {
     "slide_type": "slide"
    }
   },
   "source": [
    "We are going to use the mouse position to control the ball."
   ]
  },
  {
   "cell_type": "markdown",
   "metadata": {
    "slideshow": {
     "slide_type": "slide"
    }
   },
   "source": [
    "The first thing we are going to do is set the initial velocity of the ball to 0.\n",
    "\n",
    "The ball will initially be still when the game begins.\n",
    "\n"
   ]
  },
  {
   "cell_type": "markdown",
   "metadata": {
    "slideshow": {
     "slide_type": "slide"
    }
   },
   "source": [
    "Find the line:\n",
    "    \n",
    "    ball_vel = [random.randrange(2,4), random.randrange(1,3)]\n",
    "    \n",
    "in the __variables__ section of your code and change it to:\n",
    "\n",
    "    ball_vel = [0, 0]"
   ]
  },
  {
   "cell_type": "markdown",
   "metadata": {
    "slideshow": {
     "slide_type": "slide"
    }
   },
   "source": [
    "Now we are going to make the ball follow the mouse..."
   ]
  },
  {
   "cell_type": "markdown",
   "metadata": {
    "slideshow": {
     "slide_type": "slide"
    }
   },
   "source": [
    "The ball at the point LOCATION.\n",
    "\n",
    "The mouse is at the point NEW LOCATION.\n",
    "\n",
    "<p align=\"center\">\n",
    "<img src=\"img/schiffman_velocity_vector.png\" alt=\"Drawing\" style=\"width: 600px;\"/>\n",
    "</p>\n",
    "\n",
    "*(Daniel Schiffman, The Nature of Code)*"
   ]
  },
  {
   "cell_type": "markdown",
   "metadata": {
    "slideshow": {
     "slide_type": "slide"
    }
   },
   "source": [
    "We want to move one step in the direction of the mouse each time the code loops.\n",
    "\n",
    "The vector telling us how to get from the ball's current position to the mouse has:\n",
    "- direction\n",
    "- magnitude\n",
    "\n",
    "The __magnitude__ can be found using Pythagoras' theorum:\n",
    "\n",
    "For a right angle triangle with sides a, b, c:\n",
    "\n",
    "$c= \\sqrt{a^2 + b^2}$\n",
    "\n",
    "<p align=\"center\">\n",
    "<img src=\"img/pythagoras.png\" alt=\"Drawing\" style=\"width: 300px;\"/>\n",
    "</p>\n",
    "*Daniel Schiffman, The Nature of Code*"
   ]
  },
  {
   "cell_type": "markdown",
   "metadata": {
    "slideshow": {
     "slide_type": "slide"
    }
   },
   "source": [
    "To find the change in x and y position needed to move a unit of length 1 along  the vector, we simply divide all three sides of the triangle by the __magnitude__ of the vector.\n",
    "\n",
    "<p align=\"center\">\n",
    "<img src=\"img/normalise_triangle.png\" alt=\"Drawing\" style=\"width: 800px;\"/>\n",
    "</p>\n",
    "\n",
    "\n",
    "*Daniel Schiffman, The Nature of Code*"
   ]
  },
  {
   "cell_type": "markdown",
   "metadata": {
    "slideshow": {
     "slide_type": "slide"
    }
   },
   "source": [
    "This process is known as __normalisation__.\n",
    "\n",
    "It is a fundamental part of computer graphics.\n",
    "<p align=\"center\">\n",
    "<img src=\"img/normalise_vector.png\" alt=\"Drawing\" style=\"width: 800px;\"/>\n",
    "</p>\n",
    "\n",
    "*Daniel Schiffman, The Nature of Code*"
   ]
  },
  {
   "cell_type": "markdown",
   "metadata": {
    "slideshow": {
     "slide_type": "slide"
    }
   },
   "source": [
    "To save us doing these calculations ourselves, pygame has a function to return the *normalised* x and y velocities for an input vector of any size.\n",
    "\n",
    "Add the following line at the start of your program, where you import all libraries.\n",
    "\n",
    "    from pygame.math import Vector2\n",
    "    \n"
   ]
  },
  {
   "cell_type": "markdown",
   "metadata": {
    "slideshow": {
     "slide_type": "slide"
    }
   },
   "source": [
    "No find the section of your code that updates ball position.\n",
    "```python\n",
    "    # 6.3 Update ball position\n",
    "    ball_pos[x] += ball_vel[x]\n",
    "    ball_pos[y] += ball_vel[y]\n",
    "```"
   ]
  },
  {
   "cell_type": "markdown",
   "metadata": {
    "slideshow": {
     "slide_type": "slide"
    }
   },
   "source": [
    "Instead of changing:\n",
    "- the x position by `ball_vel[x]`\n",
    "- the y position by `ball_vel[y]`\n",
    "\n",
    "Edit your code...\n"
   ]
  },
  {
   "cell_type": "markdown",
   "metadata": {
    "slideshow": {
     "slide_type": "slide"
    }
   },
   "source": [
    "Change:"
   ]
  },
  {
   "cell_type": "code",
   "execution_count": 4,
   "metadata": {},
   "outputs": [],
   "source": [
    "# 6.3 Update ball position\n",
    "ball_pos[x] += ball_vel[x]\n",
    "ball_pos[y] += ball_vel[y]"
   ]
  },
  {
   "cell_type": "markdown",
   "metadata": {},
   "source": [
    "...to:"
   ]
  },
  {
   "cell_type": "code",
   "execution_count": 5,
   "metadata": {
    "slideshow": {
     "slide_type": "-"
    }
   },
   "outputs": [],
   "source": [
    "# 6.3 Update ball position\n",
    "distx = pos[x]-ball_pos[x]\n",
    "disty = pos[y]-ball_pos[y]\n",
    "norm = Vector2(distx, disty).normalize()\n",
    "\n",
    "ball_pos[x] += norm[x]\n",
    "ball_pos[y] += norm[y]"
   ]
  },
  {
   "cell_type": "markdown",
   "metadata": {
    "slideshow": {
     "slide_type": "slide"
    }
   },
   "source": [
    "##### What does this code do?\n",
    "\n",
    "```python\n",
    "    # 6.3 Update ball position\n",
    "    distx = pos[x]-ball_pos[x]\n",
    "    disty = pos[y]-ball_pos[y]```\n",
    "    \n",
    "We find:\n",
    "- the distance between the mouse and the ball in the x direction (`pos[x]-ball_pos[x]`)\n",
    "- the distance between the mouse and the ball in the y direction (`pos[y]-ball_pos[y]`)\n",
    "\n"
   ]
  },
  {
   "cell_type": "markdown",
   "metadata": {
    "slideshow": {
     "slide_type": "slide"
    }
   },
   "source": [
    "```python\n",
    "    norm = Vector2(distx, disty).normalize()```\n",
    "    \n",
    "Then we use the function to find the normalised x and y values..."
   ]
  },
  {
   "cell_type": "markdown",
   "metadata": {
    "slideshow": {
     "slide_type": "slide"
    }
   },
   "source": [
    "```\n",
    "ball_pos[x] += norm[x]\n",
    "ball_pos[y] += norm[y]\n",
    "```\n",
    "  \n",
    "... and use these to update the ball velocity."
   ]
  },
  {
   "cell_type": "markdown",
   "metadata": {
    "slideshow": {
     "slide_type": "slide"
    }
   },
   "source": [
    "Run your code.\n",
    "\n",
    "The ball should now follow the mouse."
   ]
  },
  {
   "cell_type": "markdown",
   "metadata": {
    "slideshow": {
     "slide_type": "slide"
    }
   },
   "source": [
    "To increase the speed, we can multiply the normalised values by a scale factor:\n",
    "    \n",
    "        norm = Vector2(distx, disty).normalize() * 5"
   ]
  },
  {
   "cell_type": "markdown",
   "metadata": {
    "slideshow": {
     "slide_type": "slide"
    }
   },
   "source": [
    "We can also hide the mouse curser using:\n",
    "        \n",
    "        pg.mouse.set_visible(False)"
   ]
  },
  {
   "cell_type": "markdown",
   "metadata": {
    "slideshow": {
     "slide_type": "slide"
    }
   },
   "source": [
    "To vary the speed of the ball with distance from the mouse, instead of updating the ball position, update the ball velocity.\n",
    "\n",
    "i.e. change:\n",
    "\n",
    "```\n",
    "ball_pos[x] += norm[x]\n",
    "ball_pos[y] += norm[y]\n",
    "```\n",
    "    \n",
    "    \n",
    "...to:\n",
    "    \n",
    "```\n",
    "ball_vel[x] += norm[x] * 0.2\n",
    "ball_vel[y] += norm[y] * 0.2\n",
    "```\n"
   ]
  },
  {
   "cell_type": "markdown",
   "metadata": {},
   "source": [
    "The scaler reduces the speed of the ball."
   ]
  },
  {
   "cell_type": "markdown",
   "metadata": {
    "slideshow": {
     "slide_type": "slide"
    }
   },
   "source": [
    "<a id='MouseButtonPress'></a>\n",
    "\n",
    "## 5. Mouse Button Press\n",
    "\n",
    "We can also interact with the game by pressing the left, right and centre mouse buttons.\n",
    "\n"
   ]
  },
  {
   "cell_type": "markdown",
   "metadata": {
    "slideshow": {
     "slide_type": "slide"
    }
   },
   "source": [
    "To do this, we first need to add another event to the __event processing loop__.\n",
    "\n",
    "Copy the code below and paste it at the end of the event processing loop.\n",
    "```python\n",
    "    # 5.4 Check if any mouse buttons have been pressed\n",
    "    mouse_press = pygame.mouse.get_pressed()\n",
    "    left_click = mouse_press[0]\n",
    "    mid_click = mouse_press[1]\n",
    "    right_click = mouse_press[2]\n",
    "```\n"
   ]
  },
  {
   "cell_type": "markdown",
   "metadata": {
    "slideshow": {
     "slide_type": "slide"
    }
   },
   "source": [
    "Your code should now look like this:\n",
    "```python\n",
    "    # 5. Event processing\n",
    "    event = pg.event.poll()\n",
    "    \n",
    "    # 5.1 Check if the user has quit the game\n",
    "    if event.type == pg.QUIT:        \n",
    "        pg.quit()\n",
    "        sys.exit()  \n",
    "    \n",
    "    # 5.2 Check if any keys have been pressed    \n",
    "    pressed = pg.key.get_pressed()\n",
    "    \n",
    "    # 5.3 Get the mouse position   \n",
    "    mouse_pos = pg.mouse.get_pos()\n",
    "    #print(mouse_pos)    \n",
    "    \n",
    "    # 5.4 Check for mouse press\n",
    "    mouse_press = pg.mouse.get_pressed()\n",
    "    left_click = mouse_press[0]\n",
    "    mid_click = mouse_press[1]\n",
    "    right_click = mouse_press[2]\n",
    "```"
   ]
  },
  {
   "cell_type": "markdown",
   "metadata": {
    "slideshow": {
     "slide_type": "slide"
    }
   },
   "source": [
    "##### What does this code do?\n",
    ">`mouse_press = pg.mouse.get_pressed()`\n",
    "\n",
    "Boolean `True` or `False` values indicating whether the left, middle and right values are being pressed are stored as a three-element data structure.\n",
    "<br>e.g. `(True, False, True)`\n",
    "\n"
   ]
  },
  {
   "cell_type": "markdown",
   "metadata": {
    "slideshow": {
     "slide_type": "slide"
    }
   },
   "source": [
    ">`left_click = mouse_press[0]\n",
    " mid_click = mouse_press[1]\n",
    " right_click = mouse_press[2]`\n",
    "  \n",
    "We can store these boolean values using more meaningful variable names for use in our code."
   ]
  },
  {
   "cell_type": "markdown",
   "metadata": {
    "slideshow": {
     "slide_type": "slide"
    }
   },
   "source": [
    "Now let's use the mouse clicks to trigger some events.\n",
    "\n",
    "Copy the code below and paste it below the block of code that checks if the paddles have been moved:\n"
   ]
  },
  {
   "cell_type": "code",
   "execution_count": null,
   "metadata": {
    "slideshow": {
     "slide_type": "slide"
    }
   },
   "outputs": [],
   "source": [
    "# 5.6 Change ball radius using mouse\n",
    "if left_click and not right_click:\n",
    "    radius += 1\n",
    "elif right_click and not left_click:\n",
    "    radius -= 1"
   ]
  },
  {
   "cell_type": "markdown",
   "metadata": {
    "slideshow": {
     "slide_type": "slide"
    }
   },
   "source": [
    "##### What does this code do?\n",
    "\n",
    ">`if left_click and not right_click:\n",
    "    radius += 1`\n",
    "    \n",
    "Clicking the left button makes the circle radius bigger.\n",
    "\n",
    ">`if right_click and not left_click:\n",
    "    radius -= 1`\n",
    "    \n",
    "Clicking the right button makes the circle radius smaller."
   ]
  },
  {
   "cell_type": "markdown",
   "metadata": {
    "slideshow": {
     "slide_type": "slide"
    }
   },
   "source": [
    "Run the code to test it.\n",
    "\n",
    "Notice that the program crashes if the radius of the circle is less than or equal to zero."
   ]
  },
  {
   "cell_type": "markdown",
   "metadata": {},
   "source": [
    "We can prevent this from happening by capping the value of the radius in the same way we prevented the paddles from leaving the screen in the pong game.\n",
    "\n",
    "Add the following line to code block 5.6 so that it looks like the cell below: \n",
    "``` \n",
    "if radius <= 0:\n",
    "    radius = 1\n",
    "    \n",
    "```"
   ]
  },
  {
   "cell_type": "code",
   "execution_count": 5,
   "metadata": {},
   "outputs": [
    {
     "ename": "NameError",
     "evalue": "name 'left_click' is not defined",
     "output_type": "error",
     "traceback": [
      "\u001b[0;31m---------------------------------------------------------------------------\u001b[0m",
      "\u001b[0;31mNameError\u001b[0m                                 Traceback (most recent call last)",
      "\u001b[0;32m<ipython-input-5-e036f25b31fe>\u001b[0m in \u001b[0;36m<module>\u001b[0;34m()\u001b[0m\n\u001b[1;32m      1\u001b[0m \u001b[0;31m# 5.6 Change ball radius using mouse\u001b[0m\u001b[0;34m\u001b[0m\u001b[0;34m\u001b[0m\u001b[0m\n\u001b[0;32m----> 2\u001b[0;31m \u001b[0;32mif\u001b[0m \u001b[0mleft_click\u001b[0m \u001b[0;32mand\u001b[0m \u001b[0;32mnot\u001b[0m \u001b[0mright_click\u001b[0m\u001b[0;34m:\u001b[0m\u001b[0;34m\u001b[0m\u001b[0m\n\u001b[0m\u001b[1;32m      3\u001b[0m     \u001b[0mradius\u001b[0m \u001b[0;34m+=\u001b[0m \u001b[0;36m1\u001b[0m\u001b[0;34m\u001b[0m\u001b[0m\n\u001b[1;32m      4\u001b[0m \u001b[0;32melif\u001b[0m \u001b[0mright_click\u001b[0m \u001b[0;32mand\u001b[0m \u001b[0;32mnot\u001b[0m \u001b[0mleft_click\u001b[0m\u001b[0;34m:\u001b[0m\u001b[0;34m\u001b[0m\u001b[0m\n\u001b[1;32m      5\u001b[0m     \u001b[0mradius\u001b[0m \u001b[0;34m-=\u001b[0m \u001b[0;36m1\u001b[0m\u001b[0;34m\u001b[0m\u001b[0m\n",
      "\u001b[0;31mNameError\u001b[0m: name 'left_click' is not defined"
     ]
    }
   ],
   "source": [
    "# 5.6 Change ball radius using mouse\n",
    "if left_click and not right_click:\n",
    "    radius += 1\n",
    "elif right_click and not left_click:\n",
    "    radius -= 1\n",
    "\n",
    "if radius <= 0:\n",
    "    radius = 1"
   ]
  },
  {
   "cell_type": "markdown",
   "metadata": {
    "slideshow": {
     "slide_type": "slide"
    }
   },
   "source": [
    "# Summary\n",
    "<a id='Summary'></a>\n",
    "- When a key or button is pressed or released, or the mouse is moved, an event is added to the event queue. \n",
    "- `pygame.event.poll` gets the next event from the queue.\n",
    "- A way to address physical user inputs specifically is to use the commands:\n",
    "    - `pygame.key.get_pressed()` : to detect keyboard presses.\n",
    "    - `pygame.mouse.get_pos()` : to detect mouse position.\n",
    "    - `pygame.mouse.get_pressed()` : to detect mouse presses.\n",
    "- If using a mac, the command `pythonw` followed by the name of the python (.py) you want to run must be used to access the physical interfaces of the computer.\n",
    "- Looping can be used to make your code more effficient and less prone to error by avoiding repetition. "
   ]
  },
  {
   "cell_type": "markdown",
   "metadata": {
    "slideshow": {
     "slide_type": "slide"
    }
   },
   "source": [
    "<a id='ReviewExercises'></a>\n",
    "# 6. Review Exercises\n",
    "\n",
    "__*Save and close physical_interfaces.py*__\n",
    "\n",
    "__*Open the Pong game we starting building at the beginning of the class.*__\n",
    "\n",
    "Complete the following exercises to finish building the game of Pong.\n",
    "\n",
    "The questions are to help you practise:\n",
    "- using `for` loops to:\n",
    "    - avoid repetition\n",
    "    - make your code more efficient\n",
    "\n",
    "Refer to the examples we studied in class to help you complete the exercises.\n",
    "\n",
    "You will also add some finishing touches to the game."
   ]
  },
  {
   "cell_type": "markdown",
   "metadata": {
    "slideshow": {
     "slide_type": "slide"
    }
   },
   "source": [
    "## Review Exercise 1 : Collisions Between Objects\n",
    "<a id='CollisionsBetweenObjects'></a>\n",
    "Until now, we have considered *only* what happens when an object collides with the sides of the game window.\n",
    "\n",
    "In the game of pong the ball should bounce when it hits:\n",
    "- the top of the window\n",
    "- the bottom of the window\n",
    "- the left paddle\n",
    "- the right paddle\n",
    "\n",
    "<p align=\"center\">\n",
    "  <img src=\"img/pong.gif\" alt=\"Drawing\" style=\"width: 300px;\"/>\n",
    "</p>"
   ]
  },
  {
   "cell_type": "markdown",
   "metadata": {
    "slideshow": {
     "slide_type": "slide"
    }
   },
   "source": [
    "### Using the Paddles to Stop the Ball. \n",
    "<a id='UsingPaddlesStopBall'></a>\n",
    "Notice that the ball does not bounce off the paddles in your game; it goes straight through them.\n",
    "\n",
    "Let's add some code to make the ball bounce when a collision with a paddle happens.\n",
    "\n"
   ]
  },
  {
   "cell_type": "markdown",
   "metadata": {
    "slideshow": {
     "slide_type": "slide"
    }
   },
   "source": [
    "We do this in exactly the same way as when detecting collisions between an object and the environment.\n",
    "\n",
    "However, there is one important difference..."
   ]
  },
  {
   "cell_type": "markdown",
   "metadata": {
    "slideshow": {
     "slide_type": "slide"
    }
   },
   "source": [
    "As the two objects *move* relative to one another in the xy plane, we must consider both the x and y coordinates of each object in order to detect the collision."
   ]
  },
  {
   "cell_type": "markdown",
   "metadata": {
    "slideshow": {
     "slide_type": "slide"
    }
   },
   "source": [
    "Copy the code from the box below and paste it into your program:"
   ]
  },
  {
   "cell_type": "code",
   "execution_count": null,
   "metadata": {
    "slideshow": {
     "slide_type": "slide"
    }
   },
   "outputs": [],
   "source": [
    "# 6. Calculations     \n",
    "# 6.1 Collisions\n",
    "# 6.1.1 Collision with left paddle\n",
    "if (ball_pos[x] <= (radius + pad_width) and \n",
    "   pad1_pos[y] < ball_pos[y] < pad1_pos[y] + pad_height):\n",
    "    ball_vel[x] = -ball_vel[x]\n",
    "        \n",
    "        \n",
    "# 6.1.2 Collision with right paddle    \n",
    "if (ball_pos[x] >= win_width - (radius + pad_width) and \n",
    "   pad2_pos[y] < ball_pos[y] < pad2_pos[y] + pad_height):\n",
    "    ball_vel[x] = -ball_vel[x]\n"
   ]
  },
  {
   "cell_type": "markdown",
   "metadata": {
    "slideshow": {
     "slide_type": "slide"
    }
   },
   "source": [
    "##### What does this code do?\n",
    "\n",
    ">`if (ball_pos[x] >= win_width - (radius + pad_width) and \n",
    "   pad2_pos[y] < ball_pos[y] < pad2_pos[y] + pad_height):`\n",
    "\n",
    "Look carefully at this code.\n",
    "\n",
    "Comparison operators are used to check if the ball edge has collided with the paddle edge by comparing the x *and* y positions... \n",
    "\n",
    ">`ball_vel[x] = -ball_vel[x]`\n",
    "\n",
    "...and reverses the direction of travel if there has been a collision."
   ]
  },
  {
   "cell_type": "markdown",
   "metadata": {
    "slideshow": {
     "slide_type": "slide"
    }
   },
   "source": [
    "*There is a slight inaccuracy in that, for simplicity of coding, only collision of paddle with the left-most/right-most point of the ball is detected in this example.*"
   ]
  },
  {
   "cell_type": "markdown",
   "metadata": {
    "slideshow": {
     "slide_type": "slide"
    }
   },
   "source": [
    "To make the game more interesting, we could also increase the velocity of the ball, every time it hits a paddle.\n",
    "\n",
    "This makes the game more difficult the longer it goes on.\n",
    "\n",
    "In the example below, the ball velocity increases by 10% in the x and y direction. \n",
    "\n",
    "Notice that the code is repetitive; almost identical code is run for each paddle.\n"
   ]
  },
  {
   "cell_type": "code",
   "execution_count": null,
   "metadata": {
    "slideshow": {
     "slide_type": "-"
    }
   },
   "outputs": [],
   "source": [
    "# 6.1.1 Collision with left paddle\n",
    "if (ball_pos[x] <= (radius + pad_width) and \n",
    "   pad1_pos[y] < ball_pos[y] < pad1_pos[y] + pad_height):\n",
    "    ball_vel[x] = -ball_vel[x]\n",
    "    ball_vel[0] *= 1.1 # increse ball velocity\n",
    "    ball_vel[1] *= 1.1\n",
    "\n",
    "\n",
    "# 6.1.2 Collision with right paddle    \n",
    "if (ball_pos[x] >= win_width - (radius + pad_width) and \n",
    "   pad2_pos[y] < ball_pos[y] < pad2_pos[y] + pad_height):\n",
    "    ball_vel[x] = -ball_vel[x]\n",
    "    ball_vel[0] *= 1.1\n",
    "    ball_vel[1] *= 1.1"
   ]
  },
  {
   "cell_type": "markdown",
   "metadata": {
    "slideshow": {
     "slide_type": "slide"
    }
   },
   "source": [
    "\n",
    "We can reduce repetition using a `for` loop. \n",
    "\n",
    "Look at the example we studied earlier <a href='#ExampleOptimisingCodeLooping'>__Example : Optimising Code by Looping__.</a> \n",
    "\n",
    "\n",
    "\n",
    "Follow this example to avoid repetition in code Blocks 6.1.1 and 6.1.2:\n",
    "1. create a `for` loop\n",
    "1. iterate through items in lists `pad_pos` (paddle positions) and `collision` (x direction collisions).\n",
    "1. indent code to loop through\n",
    "1. replace all variables in code with `pos` and `col` variable names used within loop\n",
    "1. create a new list to store the conditional expressions defining a collision\n",
    "1. delete repeated code\n",
    "1. (move the list to the list of variables)\n",
    "\n"
   ]
  },
  {
   "cell_type": "code",
   "execution_count": 1,
   "metadata": {
    "slideshow": {
     "slide_type": "-"
    }
   },
   "outputs": [
    {
     "ename": "NameError",
     "evalue": "name 'pad1_pos' is not defined",
     "output_type": "error",
     "traceback": [
      "\u001b[0;31m---------------------------------------------------------------------------\u001b[0m",
      "\u001b[0;31mNameError\u001b[0m                                 Traceback (most recent call last)",
      "\u001b[0;32m<ipython-input-1-63fee8e17ef9>\u001b[0m in \u001b[0;36m<module>\u001b[0;34m()\u001b[0m\n\u001b[1;32m      2\u001b[0m \u001b[0;31m# Example solution:\u001b[0m\u001b[0;34m\u001b[0m\u001b[0;34m\u001b[0m\u001b[0m\n\u001b[1;32m      3\u001b[0m \u001b[0;34m\u001b[0m\u001b[0m\n\u001b[0;32m----> 4\u001b[0;31m \u001b[0mpad_pos\u001b[0m \u001b[0;34m=\u001b[0m \u001b[0;34m[\u001b[0m\u001b[0mpad1_pos\u001b[0m\u001b[0;34m,\u001b[0m \u001b[0mpad2_pos\u001b[0m\u001b[0;34m]\u001b[0m\u001b[0;34m\u001b[0m\u001b[0m\n\u001b[0m\u001b[1;32m      5\u001b[0m \u001b[0;34m\u001b[0m\u001b[0m\n\u001b[1;32m      6\u001b[0m \u001b[0;31m# collision = [(ball_pos[x] <= (radius + pad_width),\u001b[0m\u001b[0;34m\u001b[0m\u001b[0;34m\u001b[0m\u001b[0m\n",
      "\u001b[0;31mNameError\u001b[0m: name 'pad1_pos' is not defined"
     ]
    }
   ],
   "source": [
    "# Review Exercise 1 : Collisions Between Objects\n"
   ]
  },
  {
   "cell_type": "markdown",
   "metadata": {
    "slideshow": {
     "slide_type": "slide"
    }
   },
   "source": [
    "## Review Exercise 2: Letting the Ball Move through the Left and Right Walls.\n",
    "<a id='LeftRithgWalls'></a>\n",
    "So that we can see when a round has been won, the ball should \n",
    "- bounce off the top and bottom of the window\n",
    "- go through the left and right wall\n",
    "\n"
   ]
  },
  {
   "cell_type": "markdown",
   "metadata": {
    "slideshow": {
     "slide_type": "slide"
    }
   },
   "source": [
    "Find this block of code in your program.\n",
    "```python\n",
    "    6.1.3 Reverse direction of travel if edge is reached\n",
    "    if ball_pos[x] > (win_width-radius) or ball_pos[x] < radius:\n",
    "        ball_vel[x] *= -1\n",
    "    if ball_pos[y] > (win_height-radius) or ball_pos[y] < radius:\n",
    "        ball_vel[y] *= -1\n",
    "        ```"
   ]
  },
  {
   "cell_type": "markdown",
   "metadata": {
    "slideshow": {
     "slide_type": "slide"
    }
   },
   "source": [
    "We need to REMOVE the `if` statement that makes the ball bounce off the left and right walls.\n",
    "\n",
    "We need to KEEP the `if` statement that makes the ball bounce off the top and bottom walls.\n",
    "\n",
    "Which  `if` statement should we remove?\n",
    "\n",
    "Remove or comment out the correct `if` statement in your Pong game."
   ]
  },
  {
   "cell_type": "markdown",
   "metadata": {
    "slideshow": {
     "slide_type": "slide"
    }
   },
   "source": [
    "Save your code in Spyder (if running it from the terminal).\n",
    "\n",
    "Run your code again to check that the ball goes off the screen if not deflected by a paddle. "
   ]
  },
  {
   "cell_type": "markdown",
   "metadata": {
    "slideshow": {
     "slide_type": "slide"
    }
   },
   "source": [
    "## Review Exercise 3 : Retrieving the Ball.\n",
    "<a id='RetrievingBall'></a>\n",
    "Now that your program allows the ball to leave the screen, the final thing you need to do is write a code section to retrieve the ball.\n",
    "\n",
    "We can use two more `if` statements to:\n",
    "- check of the ball has exited the screen via the left or right side.\n",
    "- return it to the centre\n",
    "\n",
    "Copy and paste the following code block to your Pong game program:"
   ]
  },
  {
   "cell_type": "code",
   "execution_count": null,
   "metadata": {
    "scrolled": true
   },
   "outputs": [],
   "source": [
    "# 6.2 Reset ball position if bal goes off screen\n",
    "if (ball_pos[x] < -radius) or (ball_pos[x] > win_width + radius):\n",
    "\n",
    "    ball_vel = [random.randrange(2,4), random.randrange(1,3)]    \n",
    "    if random.randrange(0,2) == 0:\n",
    "        ball_vel[y] *= -1\n",
    "    # if player on left loses, ball starts by firing to the left\n",
    "    if ball_pos[x] < 0:\n",
    "        ball_vel[x] *= -1\n",
    "\n",
    "    ball_pos = [win_width//2, win_height//2]"
   ]
  },
  {
   "cell_type": "markdown",
   "metadata": {
    "slideshow": {
     "slide_type": "slide"
    }
   },
   "source": [
    "##### What does this code do?\n",
    "\n",
    ">`if (ball_pos[x] <= -radius) or (ball_pos[x] > win_width + radius):`\n",
    "\n",
    "The `if` statement checks if the ball has moved off the screen...\n",
    "\n"
   ]
  },
  {
   "cell_type": "markdown",
   "metadata": {
    "slideshow": {
     "slide_type": "slide"
    }
   },
   "source": [
    "...In the case that it has, the code used to set-up the ball in at the start of the program is repeated.\n",
    "\n",
    "```python\n",
    "# 2.3 ball\n",
    "...\n",
    "\n",
    "ball_vel = [random.randrange(2,4), random.randrange(1,3)]\n",
    "if random.randrange(0,2) == 0:\n",
    "    ball_vel[x] *= -1\n",
    "if random.randrange(0,2) == 0:\n",
    "    ball_vel[y] *= -1\n",
    "ball_pos = [win_width//2, win_height//2]\n",
    "```\n",
    "\n"
   ]
  },
  {
   "cell_type": "markdown",
   "metadata": {
    "slideshow": {
     "slide_type": "slide"
    }
   },
   "source": [
    "The only difference is the x component of the ball velocity is determined by which player won the last round (rather than random, as it was initially). \n",
    "\n",
    "```python\n",
    "# 6.2 Reset ball position if ball goes off screen\n",
    "...\n",
    "ball_pos = [win_width//2, win_height//2]\n",
    "ball_vel = [random.randrange(2,4), random.randrange(1,3)]    \n",
    "if random.randrange(0,2) == 0:\n",
    "    ball_vel[y] *= -1\n",
    "if ball_pos[x] < 0:\n",
    "    ball_vel[x] *= -1\n",
    "ball_pos = [win_width//2, win_height//2]\n",
    "        ```"
   ]
  },
  {
   "cell_type": "markdown",
   "metadata": {
    "slideshow": {
     "slide_type": "slide"
    }
   },
   "source": [
    "We will study how to deal with situations like this (where *almost* idnetical code is used) in the next class. "
   ]
  },
  {
   "cell_type": "markdown",
   "metadata": {
    "slideshow": {
     "slide_type": "slide"
    }
   },
   "source": [
    "You should now have a working game of pong. \n",
    "\n",
    "<p align=\"center\">\n",
    "  <img src=\"img/pong.gif\" alt=\"Drawing\" style=\"width: 300px;\"/>\n",
    "</p>\n",
    "\n",
    "Try playing it with the person sitting next to you."
   ]
  },
  {
   "cell_type": "code",
   "execution_count": null,
   "metadata": {},
   "outputs": [],
   "source": []
  }
 ],
 "metadata": {
  "celltoolbar": "Slideshow",
  "kernelspec": {
   "display_name": "Python 3",
   "language": "python",
   "name": "python3"
  },
  "language_info": {
   "codemirror_mode": {
    "name": "ipython",
    "version": 3
   },
   "file_extension": ".py",
   "mimetype": "text/x-python",
   "name": "python",
   "nbconvert_exporter": "python",
   "pygments_lexer": "ipython3",
   "version": "3.7.4"
  }
 },
 "nbformat": 4,
 "nbformat_minor": 2
}
