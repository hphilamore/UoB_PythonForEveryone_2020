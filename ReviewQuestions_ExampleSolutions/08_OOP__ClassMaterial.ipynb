{
 "cells": [
  {
   "cell_type": "markdown",
   "metadata": {
    "collapsed": true,
    "slideshow": {
     "slide_type": "slide"
    }
   },
   "source": [
    "# 08 Object Oriented Programming (OOP)\n",
    "# Review Exercises - Solutions"
   ]
  },
  {
   "cell_type": "markdown",
   "metadata": {
    "slideshow": {
     "slide_type": "slide"
    }
   },
   "source": [
    "# Review Exercise 1: An instance of a class\n",
    "In the cell below, write code to create an instance of this class and set its attributes. "
   ]
  },
  {
   "cell_type": "code",
   "execution_count": 5,
   "metadata": {},
   "outputs": [],
   "source": [
    "# Review Exercise 1: An instance of a class\n",
    "class Cat():\n",
    "    def __init__(self):\n",
    "        self.age = None\n",
    "        self.name = None\n",
    "        self.weight = None"
   ]
  },
  {
   "cell_type": "code",
   "execution_count": 6,
   "metadata": {},
   "outputs": [],
   "source": [
    "# Review Exercise 1: An instance of a class\n",
    "# Example Solution\n",
    "cat = Cat()\n",
    "cat.age = 4\n",
    "cat.name = \"Meow\"\n",
    "cat.weight = 5"
   ]
  },
  {
   "cell_type": "markdown",
   "metadata": {
    "slideshow": {
     "slide_type": "slide"
    }
   },
   "source": [
    "# Review Exercise 2: Multiple objects \n",
    "Write code to create two different instances of this class and set attributes for both objects. \n",
    "\n",
    "*Hint: While a phone number is a number BUT it should be stored as string to keep leading zeros and dashes*."
   ]
  },
  {
   "cell_type": "code",
   "execution_count": 7,
   "metadata": {},
   "outputs": [],
   "source": [
    "# Review Exercise 2: Multiple objects \n",
    "class Person():\n",
    "    def __init__(self):\n",
    "        self.name = \"\"\n",
    "        self.cell_phone = \"\"\n",
    "        self.email = \"\""
   ]
  },
  {
   "cell_type": "code",
   "execution_count": 8,
   "metadata": {},
   "outputs": [],
   "source": [
    "# Review Exercise 2: Multiple objects \n",
    "# Example Solution"
   ]
  },
  {
   "cell_type": "markdown",
   "metadata": {},
   "source": [
    "# Review Exercise 3: Write a Class\n",
    "\n",
    "For the code below, write a class that has the appropriate class name and attributes that will allow the code to work."
   ]
  },
  {
   "cell_type": "code",
   "execution_count": 12,
   "metadata": {},
   "outputs": [],
   "source": [
    "# Review Exercise 3: Write a Class\n",
    "my_fish = Fish()\n",
    "my_fish.color = \"green\"\n",
    "my_fish.name = \"Eric\"\n",
    "my_fish.breed = \"Saba\""
   ]
  },
  {
   "cell_type": "code",
   "execution_count": 11,
   "metadata": {},
   "outputs": [],
   "source": [
    "# Review Exercise 3: Write a Class\n",
    "# Example Solution \n",
    "class Fish():\n",
    "    def __init__(self):\n",
    "        self.colour = \"\"\n",
    "        self.name = \"\"\n",
    "        self.breed = \"\""
   ]
  },
  {
   "cell_type": "markdown",
   "metadata": {},
   "source": [
    "# Review Exercise 4: Write your own Class\n",
    "\n",
    "In the cell below, define a class to represent a character in a simple game. \n",
    "\n",
    "Include attributes for:\n",
    "- position\n",
    "- name\n",
    "- strength"
   ]
  },
  {
   "cell_type": "code",
   "execution_count": null,
   "metadata": {},
   "outputs": [],
   "source": [
    "# Review Exercise 4: Write your own Class\n",
    "\n"
   ]
  },
  {
   "cell_type": "code",
   "execution_count": 13,
   "metadata": {},
   "outputs": [],
   "source": [
    "# Review Exercise 4: Write your own Class\n",
    "# Example Solution\n",
    "\n",
    "class Character():\n",
    "    def __init__(self):\n",
    "        self.position = None\n",
    "        self.name = None\n",
    "        self.strength = None"
   ]
  },
  {
   "cell_type": "markdown",
   "metadata": {},
   "source": [
    "# Review Exercise 5: Correct the Errors\n",
    "\n",
    "Find and correct the errors in the code below:\n",
    "\n",
    "a) The code should give the person `hemma` 100 units of money.\n",
    "\n",
    "b) The code should print `Farhad has 0 yen`. "
   ]
  },
  {
   "cell_type": "code",
   "execution_count": 15,
   "metadata": {},
   "outputs": [
    {
     "name": "stdout",
     "output_type": "stream",
     "text": [
      "0\n"
     ]
    }
   ],
   "source": [
    "# Review Exercise 5a: Correct the Errors\n",
    "class Person():\n",
    "    def __init__(self):\n",
    "        self.name = \"\"\n",
    "        self.money = 0\n",
    " \n",
    "hemma = Person()\n",
    "name = \"Hemma\"\n",
    "money = 100\n",
    "print(hemma.money)"
   ]
  },
  {
   "cell_type": "code",
   "execution_count": 16,
   "metadata": {},
   "outputs": [
    {
     "name": "stdout",
     "output_type": "stream",
     "text": [
      "100\n"
     ]
    }
   ],
   "source": [
    "# Review Exercise 5a: Correct the Errors\n",
    "# Example Solution\n",
    "class Person():\n",
    "    def __init__(self):\n",
    "        self.name = \"\"\n",
    "        self.money = 0\n",
    " \n",
    "hemma = Person()\n",
    "name = \"Hemma\"\n",
    "hemma.money = 100\n",
    "print(hemma.money)"
   ]
  },
  {
   "cell_type": "code",
   "execution_count": 18,
   "metadata": {},
   "outputs": [
    {
     "name": "stdout",
     "output_type": "stream",
     "text": [
      " has 100 yen\n"
     ]
    }
   ],
   "source": [
    "# Review Exercise 5b: Correct the Errors\n",
    "class Human():\n",
    "    def __init__(self):\n",
    "        self.name = \"\"\n",
    "        self.money = 0\n",
    " \n",
    "farhad = Human()\n",
    "print(farhad.name, \"has\", money, \"yen\")"
   ]
  },
  {
   "cell_type": "code",
   "execution_count": 19,
   "metadata": {},
   "outputs": [
    {
     "name": "stdout",
     "output_type": "stream",
     "text": [
      "Farhad has 100 yen\n"
     ]
    }
   ],
   "source": [
    "# Review Exercise 5b: Correct the Errors\n",
    "# Example Solution\n",
    "class Human():\n",
    "    def __init__(self):\n",
    "        self.name = \"\"\n",
    "        self.money = 0\n",
    " \n",
    "farhad = Human()\n",
    "farhad.name = \"Farhad\"\n",
    "print(farhad.name, \"has\", money, \"yen\")"
   ]
  },
  {
   "cell_type": "code",
   "execution_count": null,
   "metadata": {},
   "outputs": [],
   "source": []
  }
 ],
 "metadata": {
  "celltoolbar": "Slideshow",
  "kernelspec": {
   "display_name": "Python 3",
   "language": "python",
   "name": "python3"
  },
  "language_info": {
   "codemirror_mode": {
    "name": "ipython",
    "version": 3
   },
   "file_extension": ".py",
   "mimetype": "text/x-python",
   "name": "python",
   "nbconvert_exporter": "python",
   "pygments_lexer": "ipython3",
   "version": "3.7.4"
  }
 },
 "nbformat": 4,
 "nbformat_minor": 2
}
