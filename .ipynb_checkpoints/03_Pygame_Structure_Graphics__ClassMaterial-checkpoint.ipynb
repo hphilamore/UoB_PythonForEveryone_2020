{
 "cells": [
  {
   "cell_type": "markdown",
   "metadata": {
    "slideshow": {
     "slide_type": "slide"
    }
   },
   "source": [
    "<img src=\"img/full-colour-logo-UoB.png\" alt=\"Drawing\" style=\"width: 200px;\"/>\n",
    "\n",
    "# Introduction to Programming for Everyone\n",
    "\n",
    "## Python 3\n",
    "\n",
    "\n"
   ]
  },
  {
   "cell_type": "markdown",
   "metadata": {
    "collapsed": true,
    "slideshow": {
     "slide_type": "slide"
    }
   },
   "source": [
    "# 03 Program Structure and Graphics\n",
    "## CLASS MATERIAL\n",
    "\n",
    "\n",
    "\n",
    "<br> <a href='#SettingUp'>1. Setting Up</a> \n",
    "<br> <a href='#DrawingBasics'>2. Drawing Basics</a>\n",
    "<br> <a href='#ReviewExercises'>3. Review Exercises</a> \n",
    "\n",
    " \n",
    "\n",
    "\n"
   ]
  },
  {
   "cell_type": "markdown",
   "metadata": {
    "slideshow": {
     "slide_type": "slide"
    }
   },
   "source": [
    "## Fundamental programming concepts\n",
    " - Generic program structure\n",
    " - Animated computer graphics"
   ]
  },
  {
   "cell_type": "markdown",
   "metadata": {
    "slideshow": {
     "slide_type": "slide"
    }
   },
   "source": [
    "You must have `pygame` installed to complete this class."
   ]
  },
  {
   "cell_type": "markdown",
   "metadata": {
    "slideshow": {
     "slide_type": "slide"
    }
   },
   "source": [
    "## Lesson Goal\n",
    "\n",
    "Build an animated aquarium.\n",
    "\n",
    "<p align=\"center\">\n",
    "  <img src=\"img/aquarium.gif\" alt=\"Drawing\" style=\"width: 600px;\"/>\n",
    "</p>\n",
    "http://titusalexius.co.vu/post/149466261064\n",
    "\n",
    "\n",
    "\n",
    "\n",
    "\n",
    "\n",
    "\n",
    "\n"
   ]
  },
  {
   "cell_type": "markdown",
   "metadata": {
    "slideshow": {
     "slide_type": "slide"
    }
   },
   "source": [
    "Your aquarium will contain \"fish\" that move and interact with their environment.\n",
    "\n",
    "<p align=\"center\">\n",
    "  <img src=\"img/shapes_moving.gif\" alt=\"Drawing\" style=\"width: 400px;\"/>\n",
    "</p>\n"
   ]
  },
  {
   "cell_type": "markdown",
   "metadata": {
    "slideshow": {
     "slide_type": "slide"
    }
   },
   "source": [
    "### Fundamental programming concepts\n",
    " - Generic program structure\n",
    " - Animated computer graphics"
   ]
  },
  {
   "cell_type": "markdown",
   "metadata": {
    "slideshow": {
     "slide_type": "slide"
    }
   },
   "source": [
    "# Program Structure: The Game loop\n",
    "<a id='ProgramStructure'></a>"
   ]
  },
  {
   "cell_type": "markdown",
   "metadata": {},
   "source": [
    "Now that you have learnt about loops, we will learn how to use loops to construct the basic structure on which you will base your program.\n",
    "\n"
   ]
  },
  {
   "cell_type": "markdown",
   "metadata": {
    "slideshow": {
     "slide_type": "slide"
    }
   },
   "source": [
    "We considered the __game loop__ and how a `while(1)` loop can be used to loop indefnintely until the user decides to quit.\n",
    "\n",
    "Today we will learn how we can use the imported `pygame` package to simplify this structure.\n",
    "\n",
    "<p align=\"center\">\n",
    "  <img src=\"img/game_loop.png\" alt=\"Drawing\" style=\"width: 400px;\"/>\n",
    "</p>"
   ]
  },
  {
   "cell_type": "markdown",
   "metadata": {
    "collapsed": true,
    "slideshow": {
     "slide_type": "slide"
    }
   },
   "source": [
    "We also learnt about __nested loops__ (a loop within another loop).\n",
    "\n",
    "(If you need to remind yourself about nested loops, look at the *Printing a Pattern* example from last week's class).\n",
    "\n",
    "We will focus on the \"Draw everything\" block in the game loop...\n",
    "\n",
    "\n",
    "\n"
   ]
  },
  {
   "cell_type": "markdown",
   "metadata": {
    "slideshow": {
     "slide_type": "slide"
    }
   },
   "source": [
    "We will construct a __graphics loop__ in this block that:\n",
    "- draws with all the visual elements of the game\n",
    "- updates the display at the frame rate of the game\n",
    "\n",
    "<p align=\"center\">\n",
    "  <img src=\"img/graphics_loop.png\" alt=\"Drawing\" style=\"width: 400px;\"/>\n",
    "</p>"
   ]
  },
  {
   "cell_type": "markdown",
   "metadata": {
    "slideshow": {
     "slide_type": "slide"
    }
   },
   "source": [
    "<a id='SettingUp'></a>\n",
    "# 1. Setting Up\n",
    "\n",
    "\n",
    "<br> <a href='#GameWindow'>1.1 The Game Window</a> \n",
    "<br> <a href='#MainGameLoop'>1.2 The Main Game Loop</a> \n",
    "<br> <a href='#ProcessingEachFrame'>1.3 Processing Each Frame</a> \n",
    "<br> <a href='#EventProcessingLoop'>1.4 The Event Processing Loop</a> \n",
    "<br> <a href='#Graphics'>1.5 Graphics</a> \n",
    "<br> <a href='#Variables'>1.6 Variables</a> \n",
    "<br> <a href='#FrameRate'>1.7 Frame Rate</a>\n",
    "\n"
   ]
  },
  {
   "cell_type": "markdown",
   "metadata": {
    "slideshow": {
     "slide_type": "slide"
    }
   },
   "source": [
    "Open a new file in Spyder.\n",
    "\n",
    "Type:"
   ]
  },
  {
   "cell_type": "code",
   "execution_count": 1,
   "metadata": {},
   "outputs": [
    {
     "name": "stdout",
     "output_type": "stream",
     "text": [
      "pygame 1.9.6\n",
      "Hello from the pygame community. https://www.pygame.org/contribute.html\n"
     ]
    }
   ],
   "source": [
    "import pygame"
   ]
  },
  {
   "cell_type": "markdown",
   "metadata": {
    "slideshow": {
     "slide_type": "slide"
    }
   },
   "source": [
    "Run the code...\n",
    "\n"
   ]
  },
  {
   "cell_type": "markdown",
   "metadata": {
    "slideshow": {
     "slide_type": "slide"
    }
   },
   "source": [
    "When prompted, save your code as `aquarium.py` \n",
    "\n",
    "You must use the file extension `.py`\n",
    "\n",
    "\n",
    "\n"
   ]
  },
  {
   "cell_type": "markdown",
   "metadata": {
    "slideshow": {
     "slide_type": "slide"
    }
   },
   "source": [
    "Never call your file pygame.py!\n",
    "\n",
    "`import pygame`\n",
    "<br>Tells your computer to search for a *library file* called pygame.\n",
    "<br>If you create a file named pygame, the computer will try to use this file instead. \n",
    "\n"
   ]
  },
  {
   "cell_type": "markdown",
   "metadata": {
    "slideshow": {
     "slide_type": "slide"
    }
   },
   "source": [
    "If an error is generated saying the command is not recognised, you may need to install pygame.\n",
    "\n"
   ]
  },
  {
   "cell_type": "markdown",
   "metadata": {
    "slideshow": {
     "slide_type": "slide"
    }
   },
   "source": [
    "Type or copy and paste the following code, underneath `import pygame` in your program."
   ]
  },
  {
   "cell_type": "code",
   "execution_count": 2,
   "metadata": {},
   "outputs": [
    {
     "data": {
      "text/plain": [
       "(6, 0)"
      ]
     },
     "execution_count": 2,
     "metadata": {},
     "output_type": "execute_result"
    }
   ],
   "source": [
    "import sys\n",
    "\n",
    "# 1. Initailise the pygame library\n",
    "pygame.init()"
   ]
  },
  {
   "cell_type": "markdown",
   "metadata": {
    "slideshow": {
     "slide_type": "-"
    }
   },
   "source": [
    "The comments in this tutorial are numbered to help you to place blocks of code in the correct order in your program.\n",
    "\n"
   ]
  },
  {
   "cell_type": "markdown",
   "metadata": {
    "slideshow": {
     "slide_type": "slide"
    }
   },
   "source": [
    "So, your whole program should now look like this:\n",
    "\n",
    "    import pygame \n",
    "    import sys\n",
    "\n",
    "    # 1. Initailise the pygame library\n",
    "    pygame.init()"
   ]
  },
  {
   "cell_type": "markdown",
   "metadata": {
    "slideshow": {
     "slide_type": "slide"
    }
   },
   "source": [
    "##### What does this code do?\n",
    "\n",
    ">`import sys`\n",
    "\n",
    "`sys` is another python package that enables your program to talk to other parts of the computer `sys`tem.\n",
    "\n",
    ">`pygame.init()`\n",
    "\n",
    "This command enables you to use the functions and constants in the pygame library.\n",
    "\n",
    "(This is specific to pygame, other libraries do not usually require the command \"package_name\"`.init()`)\n",
    "\n"
   ]
  },
  {
   "cell_type": "markdown",
   "metadata": {
    "slideshow": {
     "slide_type": "slide"
    }
   },
   "source": [
    "<a id='GameWindow'></a>\n",
    "## 1.1 The Game Window\n",
    "\n",
    "First step : use pygame to launch a *window* in which the game will be played.\n",
    "\n",
    "This is actually quite a complex procedure; our code has to \"talk to\" other parts of the computer to launch a window.\n",
    "\n",
    "This is an example of where imported packages are useful for simplifying tasks.\n",
    "\n",
    "The code to launch a window is stored as a function in the Pgyame files on your computer. \n",
    "\n"
   ]
  },
  {
   "cell_type": "markdown",
   "metadata": {
    "slideshow": {
     "slide_type": "slide"
    }
   },
   "source": [
    "To use this function, copy and paste the following code at the end of your program:"
   ]
  },
  {
   "cell_type": "code",
   "execution_count": 3,
   "metadata": {},
   "outputs": [],
   "source": [
    "# 3. Launch a game window\n",
    "window = pygame.display.set_mode((600, 400))"
   ]
  },
  {
   "cell_type": "markdown",
   "metadata": {
    "slideshow": {
     "slide_type": "slide"
    }
   },
   "source": [
    "##### What does this code do?\n",
    "It creates a window with size 600 x 400 pixels.\n",
    "<br>This window will contain your computer game.\n",
    "\n",
    "\n",
    "\n"
   ]
  },
  {
   "cell_type": "markdown",
   "metadata": {
    "slideshow": {
     "slide_type": "slide"
    }
   },
   "source": [
    "Recall...\n",
    "<br>The `import` statement must appear before the use of the package in the code.  \n",
    "\n",
    "        import pygame \n",
    "\n",
    "After this, any function in `pygame` can be called as:\n",
    "\n",
    "        `pygame.function()`\n",
    "        \n",
    "and, any constant in `pygame` can be called as:\n",
    "\n",
    "        `pygame.constant`."
   ]
  },
  {
   "cell_type": "markdown",
   "metadata": {
    "slideshow": {
     "slide_type": "slide"
    }
   },
   "source": [
    "*Why does the command to import the `set_mode` function contain two dots?*\n",
    "\n",
    "`pygame.display.set_mode((600, 400))`\n",
    "\n",
    "The functions of the pygame library are stored as a system of:\n",
    "- __sub-packages__ (sub-folders)\n",
    "- __modules__ (.py files)."
   ]
  },
  {
   "cell_type": "markdown",
   "metadata": {
    "slideshow": {
     "slide_type": "slide"
    }
   },
   "source": [
    "By writing:\n",
    "\n",
    "    `pygame.display.set_mode((600, 400))`\n",
    "\n",
    "We are telling the computer to use:\n",
    " - the function `set_mode`...\n",
    " - ...from the module `display`...\n",
    " - ...from the package `pygame`\n",
    " \n",
    " <img src=\"img/directory_tree_pygame_.png\" alt=\"Drawing\" style=\"width: 200px;\"/>"
   ]
  },
  {
   "cell_type": "markdown",
   "metadata": {
    "slideshow": {
     "slide_type": "slide"
    }
   },
   "source": [
    "<img src=\"img/1_make_window.png\" alt=\"Drawing\" style=\"width: 400px;\"/>"
   ]
  },
  {
   "cell_type": "markdown",
   "metadata": {
    "slideshow": {
     "slide_type": "-"
    }
   },
   "source": [
    "Run the code.\n",
    "\n",
    "Notice that the window:\n",
    "\n",
    "appears, then disappears again (if running the code from the command line).\n",
    "\n",
    "OR\n",
    "\n",
    "opens, but does not allow you to close the window (if running the code in Spyder).\n",
    "\n"
   ]
  },
  {
   "cell_type": "markdown",
   "metadata": {
    "slideshow": {
     "slide_type": "slide"
    }
   },
   "source": [
    "To stop the program running, type __one__ of the following commands in the IPython console / output window and press enter:\n",
    "- `exit`\n",
    "- `quit`\n",
    "- `Ctrl-D`"
   ]
  },
  {
   "cell_type": "markdown",
   "metadata": {
    "slideshow": {
     "slide_type": "slide"
    }
   },
   "source": [
    "We need code to:\n",
    " - keep the window open\n",
    " - allow us to close it when we want to\n",
    " \n",
    "For this, we need the main __game loop__."
   ]
  },
  {
   "cell_type": "markdown",
   "metadata": {
    "collapsed": true,
    "slideshow": {
     "slide_type": "slide"
    }
   },
   "source": [
    "<a id='MainGameLoop'></a>\n",
    "## 1.2 The Game Loop\n",
    "\n",
    "\n",
    "<p align=\"center\">\n",
    "  <img src=\"img/game_loop.png\" alt=\"Drawing\" style=\"width: 500px;\"/>\n",
    "</p>\n",
    "\n",
    "\n",
    "\n"
   ]
  },
  {
   "cell_type": "markdown",
   "metadata": {
    "slideshow": {
     "slide_type": "slide"
    }
   },
   "source": [
    "\n",
    "Type or copy and paste the following code at the end of your program."
   ]
  },
  {
   "cell_type": "code",
   "execution_count": 4,
   "metadata": {},
   "outputs": [
    {
     "ename": "SystemExit",
     "evalue": "",
     "output_type": "error",
     "traceback": [
      "An exception has occurred, use %tb to see the full traceback.\n",
      "\u001b[0;31mSystemExit\u001b[0m\n"
     ]
    },
    {
     "name": "stderr",
     "output_type": "stream",
     "text": [
      "/opt/anaconda3/lib/python3.7/site-packages/IPython/core/interactiveshell.py:3334: UserWarning: To exit: use 'exit', 'quit', or Ctrl-D.\n",
      "  warn(\"To exit: use 'exit', 'quit', or Ctrl-D.\", stacklevel=1)\n"
     ]
    }
   ],
   "source": [
    "# 4. Set up the main game loop\n",
    "while True:\n",
    "    \n",
    "    # 5. Event Processing\n",
    "    event = pygame.event.poll()\n",
    "    \n",
    "    if event.type == pygame.QUIT:        \n",
    "        pygame.quit()\n",
    "        sys.exit()    \n"
   ]
  },
  {
   "cell_type": "markdown",
   "metadata": {
    "slideshow": {
     "slide_type": "slide"
    }
   },
   "source": [
    "##### What does this code do?\n",
    ">```Python\n",
    "while True:\n",
    "```\n",
    "\n",
    "The `while(1)` or `while(True)` loop : \"do what is written next, until told to stop\".\n",
    "\n",
    "It tells the computer to do everything that is:\n",
    "1. written after `while True:`\n",
    "1. *indented* (moved to the right)\n",
    "*repeatedly*, until we tell it to __stop__."
   ]
  },
  {
   "cell_type": "markdown",
   "metadata": {
    "slideshow": {
     "slide_type": "slide"
    }
   },
   "source": [
    "\n",
    ">```Python\n",
    "event = pygame.event.poll()\n",
    "if event.type == pygame.QUIT:`\n",
    "```\n",
    "\n",
    "<br>\n",
    "`event = pygame.event.poll()` : checks if an \"event\" has happened.\n",
    "<br>e.g. a key on the keyboard being pressed or the mouse being clicked\n",
    "\n",
    "`event.type == pygame.QUIT` : checks if the event type `pygame.QUIT` has happened. \n",
    "<br>`pygame.QUIT` is triggered when we click on the x button in the top left corner of the game window.   \n",
    "\n",
    "If `pygame.QUIT` is triggered..."
   ]
  },
  {
   "cell_type": "markdown",
   "metadata": {
    "slideshow": {
     "slide_type": "slide"
    }
   },
   "source": [
    "```Python\n",
    "pygame.quit()\n",
    "sys.exit()\n",
    " ```\n",
    " \n",
    "<br>\n",
    "`pygame.quit()` :  stops the game\n",
    "\n",
    "`sys.exit()` :  exits the game window\n"
   ]
  },
  {
   "cell_type": "markdown",
   "metadata": {
    "slideshow": {
     "slide_type": "slide"
    }
   },
   "source": [
    "Run your code again.\n",
    "\n",
    "The window should appear again. \n",
    "\n",
    "Click on the x button in the top left of the window to close it. \n"
   ]
  },
  {
   "cell_type": "markdown",
   "metadata": {
    "slideshow": {
     "slide_type": "slide"
    }
   },
   "source": [
    "A note on using Spyder...\n",
    "\n",
    "Depending on your operating system, you may *still* need to type __one__ of the following commands in the IPython console / output window and press enter to close the window:\n",
    "- `exit`\n",
    "- `quit`\n",
    "- `Ctrl-D`\n",
    "\n",
    "This is not required if running the code from the command line."
   ]
  },
  {
   "cell_type": "markdown",
   "metadata": {
    "slideshow": {
     "slide_type": "slide"
    }
   },
   "source": [
    "<a id='ProcessingEachFrame'></a>\n",
    "## 1.3 Processing Each Frame\n",
    "\n",
    "The game loops repeats once each time step or frame.\n",
    "\n",
    "In general, your programs will be easier to read and understand if the operations to:\n",
    "- Get user input\n",
    "- Calculate position, scores etc.\n",
    "- Draw eveything \n",
    "- (Close program)\n",
    "\n",
    "are grouped together in steps. \n",
    "\n",
    "i.e. Avoid organising your code as calculation, drawing, more calculation, more drawing, for example. "
   ]
  },
  {
   "cell_type": "markdown",
   "metadata": {
    "collapsed": true,
    "slideshow": {
     "slide_type": "slide"
    }
   },
   "source": [
    "<a id='EventProcessingLoop'></a>\n",
    "## 1.4 The Event Processing Loop\n",
    "\n",
    "Consider the lines:\n",
    "```python\n",
    "        event = pygame.event.poll()\n",
    "        if event.type == pygame.QUIT:        \n",
    "            pygame.quit()\n",
    "            sys.exit()  \n",
    "```\n",
    "These lines are the __event processing loop__.\n"
   ]
  },
  {
   "cell_type": "markdown",
   "metadata": {
    "slideshow": {
     "slide_type": "slide"
    }
   },
   "source": [
    "The __event processing loop__ is the block of the game loop that \"Gets user input\".\n",
    "\n",
    "<p align=\"center\">\n",
    "  <img src=\"img/game_loop.png\" alt=\"Drawing\" style=\"width: 300px;\"/>\n",
    "</p>"
   ]
  },
  {
   "cell_type": "markdown",
   "metadata": {
    "slideshow": {
     "slide_type": "slide"
    }
   },
   "source": [
    "The event processing loop \"Gets user input\" once per timestep.\n",
    "\n",
    "Currently our program only checks for one event type:\n",
    "```python\n",
    "    if event.type == pygame.QUIT:        \n",
    "                pygame.quit()\n",
    "                sys.exit() \n",
    "```\n",
    "A typical program checks for multiple possible events."
   ]
  },
  {
   "cell_type": "markdown",
   "metadata": {
    "slideshow": {
     "slide_type": "slide"
    }
   },
   "source": [
    "Multipe events should be grouped together.   \n",
    "\n",
    "An `if`, `elif` or `else` statement is used to check whether each event has occurred. \n"
   ]
  },
  {
   "cell_type": "markdown",
   "metadata": {
    "slideshow": {
     "slide_type": "slide"
    }
   },
   "source": [
    "To demonstrate this, let's briefly look at some other events the computer can recognise.\n",
    "\n",
    "We will study these events in greater detail in a class dedicated to physical interfaces.\n",
    "\n"
   ]
  },
  {
   "cell_type": "markdown",
   "metadata": {
    "slideshow": {
     "slide_type": "slide"
    }
   },
   "source": [
    "Copy the following code.\n",
    "<br> Paste it at the end of your program.\n",
    "<br>The pasted code must be at the same *indentation level* (distance from the left side of the screen) as the last `if` statement:\n",
    "```python\n",
    "        elif event.type == pygame.MOUSEBUTTONDOWN:\n",
    "            print(\"User pressed a mouse button\")\n",
    "            ```"
   ]
  },
  {
   "cell_type": "markdown",
   "metadata": {
    "slideshow": {
     "slide_type": "slide"
    }
   },
   "source": [
    "Your main game loop should now look like this:\n",
    "```python\n",
    "\n",
    "        # 4. Set up the main game loop\n",
    "        while True:\n",
    "            \n",
    "            # 5. Event Processing\n",
    "            event = pygame.event.poll()\n",
    "            if event.type == pygame.QUIT:        \n",
    "                pygame.quit()\n",
    "                sys.exit() \n",
    "            elif event.type == pygame.MOUSEBUTTONDOWN:\n",
    "                print(\"User pressed a mouse button\")\n",
    "                ```"
   ]
  },
  {
   "cell_type": "markdown",
   "metadata": {
    "slideshow": {
     "slide_type": "slide"
    }
   },
   "source": [
    "This code checks if a mouse button has been pressed and prints a message."
   ]
  },
  {
   "cell_type": "markdown",
   "metadata": {
    "slideshow": {
     "slide_type": "slide"
    }
   },
   "source": [
    "Run your code.\n",
    "\n",
    "When the game launches try clicking on the game window using the mouse.\n",
    "\n",
    "View the output in Spyder.\n"
   ]
  },
  {
   "cell_type": "markdown",
   "metadata": {
    "slideshow": {
     "slide_type": "slide"
    }
   },
   "source": [
    "\"Comment out\" or delete the lines for keyboard and mouse events.\n",
    "\n",
    "Recall, commented lines begin with `#` and are not read when the program is run.\n",
    "\n",
    "You can do this by selecting the lines to comment and pressing 'Ctrl' + '/'\n",
    "<br>(Note, this keyboard shortcut may vary)."
   ]
  },
  {
   "cell_type": "code",
   "execution_count": null,
   "metadata": {
    "slideshow": {
     "slide_type": "-"
    }
   },
   "outputs": [],
   "source": [
    "# elif event.type == pygame.MOUSEBUTTONDOWN:\n",
    "#     print(\"User pressed a mouse button\")"
   ]
  },
  {
   "cell_type": "markdown",
   "metadata": {
    "collapsed": true,
    "slideshow": {
     "slide_type": "slide"
    }
   },
   "source": [
    "<a id='Graphics'></a>\n",
    "## 1.5 Graphics\n",
    "\n",
    "All graphics are redrawn each loop.\n",
    "\n",
    "After all items have been drawn the display is updated, making the items visible.\n",
    "\n",
    "Doing this as the final step avoids generating a display that \"jitters\" as individual drawn elements update a fraction of a second out of time with each other.\n",
    "\n"
   ]
  },
  {
   "cell_type": "markdown",
   "metadata": {
    "slideshow": {
     "slide_type": "slide"
    }
   },
   "source": [
    "To demonstrate how to draw graphics and update the display, let's add a colour background to the game window."
   ]
  },
  {
   "cell_type": "markdown",
   "metadata": {
    "slideshow": {
     "slide_type": "slide"
    }
   },
   "source": [
    "### Changing the Window Colour\n",
    "<a id='ChangingWindowColour'></a>\n",
    "Copy and the code from the box below."
   ]
  },
  {
   "cell_type": "code",
   "execution_count": null,
   "metadata": {
    "scrolled": true,
    "slideshow": {
     "slide_type": "-"
    }
   },
   "outputs": [],
   "source": [
    "# 7. Draw\n",
    "window.fill((255, 255, 255))\n",
    "\n",
    "# 8. Update display\n",
    "pygame.display.update()"
   ]
  },
  {
   "cell_type": "markdown",
   "metadata": {
    "slideshow": {
     "slide_type": "slide"
    }
   },
   "source": [
    "Paste the copied code end of the program.  \n",
    "\n",
    "The pasted code should be at the same *indentation level* (distance from the left side of the screen) as the line:\n",
    "    \n",
    "    if event.type == pygame.QUIT:\n",
    "        \n",
    "In other words, the last part of your program in the code window should look like this:\n",
    "```python\n",
    "    if event.type == pygame.QUIT:    \t\n",
    "        pygame.quit()\n",
    "        sys.exit()\n",
    "\n",
    "    # 7. Draw\n",
    "    window.fill((255, 255, 255))\n",
    "\n",
    "    # 8. Update display\n",
    "    pygame.display.update()\n",
    "\n",
    "```"
   ]
  },
  {
   "cell_type": "markdown",
   "metadata": {
    "slideshow": {
     "slide_type": "slide"
    }
   },
   "source": [
    "##### What does this code do?\n",
    "> `window.fill((255, 255, 255))` \n",
    "\n",
    "sets the colour of the screen. \n",
    "<br>In the sequence of numbers: `255, 255, 255`:\n",
    "- the first number sets the amout of <font color='red'>red</font>\n",
    "- the second number sets the amout of <font color='green'>green</font> \n",
    "- the third number sets the amout of <font color='blue'>blue</font> \n",
    "that get mixed together to create the colour of the screen.\n",
    "\n",
    "\n",
    "\n"
   ]
  },
  {
   "cell_type": "markdown",
   "metadata": {
    "slideshow": {
     "slide_type": "slide"
    }
   },
   "source": [
    "Each number must be between 0 and 255\n",
    "<br>`(0,0,0)` &nbsp;&nbsp; &nbsp; &nbsp; &nbsp; &nbsp; &nbsp; &nbsp; &nbsp; &nbsp; &nbsp; means black \n",
    "<br>`(255, 255, 255)` &nbsp; &nbsp; means white\n",
    "<br>`(255, 0, 0)` &nbsp; &nbsp; &nbsp; &nbsp; &nbsp; &nbsp; means <font color='red'>red</font>\n",
    "<br>`(0, 255, 0)` &nbsp; &nbsp; &nbsp; &nbsp; &nbsp; &nbsp; means <font color='green'>green</font>\n",
    "<br>`(0, 0, 255)` &nbsp; &nbsp; &nbsp; &nbsp; &nbsp; &nbsp; means <font color='blue'>blue</font>\n",
    "\n",
    "\n"
   ]
  },
  {
   "cell_type": "markdown",
   "metadata": {
    "slideshow": {
     "slide_type": "slide"
    }
   },
   "source": [
    ">`pygame.display.update()` \n",
    "\n",
    "...tells the computer to *update the display in the window* with the change you have made.\n",
    "<br>Failure to include this command will just shows a blank screen. \n",
    "<br>Any drawing code after this command will not display.\n",
    "\n"
   ]
  },
  {
   "cell_type": "markdown",
   "metadata": {
    "slideshow": {
     "slide_type": "slide"
    }
   },
   "source": [
    "Try some different number combinations until you get a colour that your like. \n",
    "\n",
    "Each time you change the numbers, run the code to view your changes.\n",
    "\n",
    "Depending on the speed of your computer, you may find that: \n",
    " - First, the window will appear.\n",
    " - After a few moments, it will change to the colour you set.\n",
    "\n",
    "__Close the window__ by clicking the x button in the top left of the window before running your code again."
   ]
  },
  {
   "cell_type": "markdown",
   "metadata": {
    "slideshow": {
     "slide_type": "slide"
    }
   },
   "source": [
    "__Window colour changed using:__\n",
    "> `window.fill((100, 0, 100))` \n",
    "<img src=\"img/3_colour_window.png\" alt=\"Drawing\" style=\"width: 400px;\"/>"
   ]
  },
  {
   "cell_type": "markdown",
   "metadata": {
    "slideshow": {
     "slide_type": "slide"
    }
   },
   "source": [
    "<a id='Variables'></a>\n",
    "\n",
    "# 1.6 Variables\n",
    "\n",
    "Entering all these numbers can be confusing. \n",
    "\n",
    "It can be difficult to remember what they mean, for example when choosing a colour.\n",
    "\n",
    "An easier way is to assign the numbers to *variables*."
   ]
  },
  {
   "cell_type": "markdown",
   "metadata": {
    "slideshow": {
     "slide_type": "slide"
    }
   },
   "source": [
    "For example, earlier we learnt that: \n",
    "\n",
    ">black =`(0,0,0)` \n",
    "><br>white = `(255, 255, 255)` \n",
    "><br>red = `(255, 0, 0)` \n",
    "><br>green = `(0, 255, 0)` \n",
    "><br>blue = `(0, 0, 255)` \n",
    "\n",
    "So in our program we can write:"
   ]
  },
  {
   "cell_type": "code",
   "execution_count": null,
   "metadata": {},
   "outputs": [],
   "source": [
    "black = (0,0,0)\n",
    "white = (255, 255, 255)\n",
    "red =   (255, 0, 0)\n",
    "green = (0, 255, 0)\n",
    "blue =  (0, 0, 255)"
   ]
  },
  {
   "cell_type": "markdown",
   "metadata": {
    "slideshow": {
     "slide_type": "slide"
    }
   },
   "source": [
    "So now, to change the colour of the screen to green, instead of:"
   ]
  },
  {
   "cell_type": "code",
   "execution_count": null,
   "metadata": {},
   "outputs": [],
   "source": [
    "window.fill((0, 255, 0))"
   ]
  },
  {
   "cell_type": "markdown",
   "metadata": {},
   "source": [
    "we can use"
   ]
  },
  {
   "cell_type": "code",
   "execution_count": null,
   "metadata": {},
   "outputs": [],
   "source": [
    "window.fill(green)"
   ]
  },
  {
   "cell_type": "markdown",
   "metadata": {
    "slideshow": {
     "slide_type": "slide"
    }
   },
   "source": [
    "#### Try it yourself\n",
    "Copy the variables from the cell below.\n",
    "\n",
    "Each variable is a tuple: the individual comma-sperated values cannot be changed independently of each other. \n"
   ]
  },
  {
   "cell_type": "code",
   "execution_count": null,
   "metadata": {},
   "outputs": [],
   "source": [
    "# 2. Variables\n",
    "black = (0,0,0)\n",
    "white = (255, 255, 255)\n",
    "red =   (255, 0, 0)\n",
    "green = (0, 255, 0)\n",
    "blue =  (0, 0, 255)"
   ]
  },
  {
   "cell_type": "markdown",
   "metadata": {
    "slideshow": {
     "slide_type": "slide"
    }
   },
   "source": [
    "Paste the list in your program *immediately after* step 1 like this:\n",
    "```Python\n",
    "import pygame\n",
    "import sys \n",
    "# 1. Initailise the pygame library\n",
    "pygame.init()\n",
    "\n",
    "# 2. Variables\n",
    "black = (0,0,0)\n",
    "white = (255, 255, 255)\n",
    "red =   (255, 0, 0)\n",
    "green = (0, 255, 0)\n",
    "blue =  (0, 0, 255)\n",
    "```"
   ]
  },
  {
   "cell_type": "markdown",
   "metadata": {
    "slideshow": {
     "slide_type": "slide"
    }
   },
   "source": [
    "What colour did you make the game window earlier?\n",
    "\n",
    "Add the colour you made to the list of variables. \n",
    "\n",
    "\n"
   ]
  },
  {
   "cell_type": "markdown",
   "metadata": {
    "slideshow": {
     "slide_type": "slide"
    }
   },
   "source": [
    "##### Creating a variable\n",
    "__1.__ Choose a name for the colour and add it to the list.\n",
    "\n",
    ">__A rule when choosing names__\n",
    "<br>The name cannot contain spaces e.g.<br>`dark blue` is not allowed.<br>`dark_blue` is allowed.<br>An underscore _ is a useful way to sperate words in a name.\n",
    "\n",
    "\n",
    "__2.__ Put an equals sign. \n",
    "\n",
    "__3.__ After the equals sign put the number you used to make the colour, in () brackets.<br>If you made the screen purple, you could write:\n",
    "```Python\n",
    "purple = (100, 0, 100)\n",
    "```"
   ]
  },
  {
   "cell_type": "markdown",
   "metadata": {
    "slideshow": {
     "slide_type": "slide"
    }
   },
   "source": [
    "\n",
    "\n",
    "\n",
    "Now change the colour of the screen using the new *variable* you just created, instead of a *number*.   \n",
    "<br>For example, replace:\n",
    "```Python\n",
    "window.fill((240, 0, 240))\n",
    "```\n",
    "<br>with:\n",
    "```Python\n",
    "window.fill(purple)\n",
    "```\n"
   ]
  },
  {
   "cell_type": "markdown",
   "metadata": {
    "slideshow": {
     "slide_type": "slide"
    }
   },
   "source": [
    "Variables can also be used to store the size of the game window for example:\n",
    "\n",
    "```python\n",
    "# 2. Variables\n",
    "# 2.1 colours\n",
    "black = (0,0,0)\n",
    "white = (255, 255, 255)\n",
    "red =   (255, 0, 0)\n",
    "green = (0, 255, 0)\n",
    "blue =  (0, 0, 255)\n",
    "\n",
    "# 2.2 window\n",
    "win_width = 600\n",
    "win_height = 400\n",
    "\n",
    "# 3. Launch a game window\n",
    "window = pygame.display.set_mode((win_width, win_height))\n",
    "```\n",
    "\n",
    "This allows us to easily reference the dimensions of the game window when doing calculations e.g. player position. "
   ]
  },
  {
   "cell_type": "markdown",
   "metadata": {
    "slideshow": {
     "slide_type": "slide"
    }
   },
   "source": [
    "## 1.6 Frame Rate\n",
    "<a id='FrameRate'></a>\n",
    "The final thing we are going to add before you do some drawing, is the frame rate.\n",
    "\n",
    "__Frame rate__ : The number of times the code loops per second. "
   ]
  },
  {
   "cell_type": "markdown",
   "metadata": {
    "slideshow": {
     "slide_type": "slide"
    }
   },
   "source": [
    "Copy the following line of code and paste it at the end of your program, at the same *indentation level* as the lines before."
   ]
  },
  {
   "cell_type": "code",
   "execution_count": null,
   "metadata": {
    "slideshow": {
     "slide_type": "slide"
    }
   },
   "outputs": [],
   "source": [
    "# 9. Frame rate\n",
    "clock = pygame.time.Clock().tick(60)"
   ]
  },
  {
   "cell_type": "markdown",
   "metadata": {
    "slideshow": {
     "slide_type": "slide"
    }
   },
   "source": [
    "This sets the frame rate at 60Hz.\n",
    "\n",
    "The computer will:\n",
    "- register user inputs (the event processing loop)\n",
    "- update the display\n",
    "\n",
    "60 times per second.\n",
    "\n",
    "(Note: If the frame rate is too high, the computer will become sluggish due to memory spent updating the screen.)"
   ]
  },
  {
   "cell_type": "markdown",
   "metadata": {
    "slideshow": {
     "slide_type": "slide"
    }
   },
   "source": [
    "## Recap\n",
    "\n",
    "In general, each game program you write should contain the following code:\n",
    "```python\n",
    "    # 0. Import libraries\n",
    "    import pygame \n",
    "    import sys\n",
    "\n",
    "    # 1. Initailise the pygame library\n",
    "    pygame.init()\n",
    "\n",
    "    # 2. Variables\n",
    "    black = (0,0,0)\n",
    "    white = (255, 255, 255)\n",
    "\n",
    "    # 3. Launch a game window\n",
    "    window = pygame.display.set_mode((600, 400))\n",
    "\n",
    "    # 4. Set up the main game loop\n",
    "    while True:\n",
    "        event = pygame.event.poll()\n",
    "\n",
    "        if event.type == pygame.QUIT:        \n",
    "            pygame.quit()\n",
    "            sys.exit()  \n",
    "        \n",
    "        \n",
    "    # 7. Draw\n",
    "    window.fill(blue)\n",
    "\n",
    "    # 8. Update display\n",
    "    pygame.display.update()\n",
    "    \n",
    "    # 9. Frame rate\n",
    "    clock = pygame.time.Clock().tick(60)\n",
    "    ```"
   ]
  },
  {
   "cell_type": "markdown",
   "metadata": {
    "slideshow": {
     "slide_type": "slide"
    }
   },
   "source": [
    "A template of the code up to this point is stored as a file `03_game_template.py`, in the __Examples__ folder within the __ILAS_PyEv2019__ folder."
   ]
  },
  {
   "cell_type": "markdown",
   "metadata": {
    "slideshow": {
     "slide_type": "slide"
    }
   },
   "source": [
    "<a id='ImportingFunction'></a>\n",
    "## 1.7 Importing a Function\n",
    "\n",
    "We can change the name of a package e.g. to keep our code short and neat.\n",
    "\n",
    "Using the __`as`__ keyword:"
   ]
  },
  {
   "cell_type": "code",
   "execution_count": null,
   "metadata": {},
   "outputs": [],
   "source": [
    "import pygame \n",
    "pygame.init()"
   ]
  },
  {
   "cell_type": "code",
   "execution_count": null,
   "metadata": {
    "slideshow": {
     "slide_type": "-"
    }
   },
   "outputs": [],
   "source": [
    "import pygame as pg\n",
    "pg.init()"
   ]
  },
  {
   "cell_type": "markdown",
   "metadata": {
    "slideshow": {
     "slide_type": "slide"
    }
   },
   "source": [
    "\n",
    "Single functions can be imported without importing the entire package e.g. use:\n",
    "\n",
    "        from pygame.display import set_mode\n",
    "\n",
    "instead of:\n",
    "\n",
    "        import pygame \n",
    "\n",
    "After this you call the function without the numpy prefix: "
   ]
  },
  {
   "cell_type": "code",
   "execution_count": null,
   "metadata": {
    "slideshow": {
     "slide_type": "-"
    }
   },
   "outputs": [],
   "source": [
    "from pygame.display import set_mode\n",
    "window = set_mode((600, 400))"
   ]
  },
  {
   "cell_type": "markdown",
   "metadata": {},
   "source": [
    "Using these techniques, we can re-write the basic game structure above:\n",
    "- shortening `pygame` to `pg`\n",
    "- importing individual functions"
   ]
  },
  {
   "cell_type": "markdown",
   "metadata": {},
   "source": [
    "```python\n",
    "    # 0. Import libraries\n",
    "    import pygame as pg\n",
    "    from pygame.display import set_mode, update\n",
    "    from pygame.event import poll\n",
    "    from pygame.time import Clock\n",
    "    import sys\n",
    "\n",
    "    # 1. Initailise the pygame library\n",
    "    pg.init()\n",
    "\n",
    "    # 2. Variables\n",
    "    black = (0,0,0)\n",
    "    white = (255, 255, 255)\n",
    "\n",
    "    # 3. Launch a game window\n",
    "    window = set_mode((600, 400))\n",
    "\n",
    "    # 4. Set up the main game loop\n",
    "    while True:\n",
    "        event = poll()\n",
    "\n",
    "        if event.type == pg.QUIT:        \n",
    "            pg.quit()\n",
    "            sys.exit()  \n",
    "\n",
    "\n",
    "    # 7. Draw\n",
    "    window.fill(blue)\n",
    "\n",
    "    # 8. Update display\n",
    "    update()\n",
    "\n",
    "    # 9. Frame rate\n",
    "    clock = Clock().tick(60)\n",
    "    ```"
   ]
  },
  {
   "cell_type": "markdown",
   "metadata": {
    "slideshow": {
     "slide_type": "slide"
    }
   },
   "source": [
    "# 2. Drawing Basics\n",
    "<a id='DrawingBasics'></a>\n",
    "\n",
    " \n",
    "<br> <a href='#ComputerXYCoordinateSystem'>2.1 The Computer XY Coordinate System</a> \n",
    "<br> <a href='#AnimatingDrawnObjects'>2.2 Animating Drawn Objects</a>  \n",
    "<a href='#Collisions'>2.3 Collisions</a> \n",
    "<br> <a href='#AnimatingMultipleObjects'>2.4 Animating Multiple Objects</a> \n",
    "<br> <a href='#ListsLoopsAnimateMultipleObjects'>2.5 Optional Extension: Using Lists and Loops to Animate Multiple Objects</a>  \n",
    "\n",
    "\n",
    "This is the *documentation* for the module pygame.draw.\n",
    "\n",
    "http://www.pygame.org/docs/ref/draw.html\n",
    "\n",
    "Use what you learnt about function documentation last week to work out how to draw some shapes on your screen."
   ]
  },
  {
   "cell_type": "markdown",
   "metadata": {
    "slideshow": {
     "slide_type": "slide"
    }
   },
   "source": [
    "### Example : Drawing a circle\n",
    "<a id='ExamplesDrawingCircle'></a>\n",
    "\n",
    "\n",
    "The function pygame.draw.circle() draws a circle.\n",
    "\n",
    "It requires the user to input 4 arguments:\n",
    "- surface\n",
    "- color\n",
    "- pos\n",
    "- radius\n",
    "\n",
    "It has one default argument:\n",
    "- width = 0"
   ]
  },
  {
   "cell_type": "markdown",
   "metadata": {
    "slideshow": {
     "slide_type": "slide"
    }
   },
   "source": [
    "To draw the following circle:\n",
    "- surface = game window\n",
    "- colour = black\n",
    "- position of centre = (x = 100, y = 50) (pixels)\n",
    "- radius = 20 (pixels)\n",
    "\n",
    "Type:"
   ]
  },
  {
   "cell_type": "code",
   "execution_count": null,
   "metadata": {},
   "outputs": [],
   "source": [
    "pygame.draw.circle(window, black, (100, 50), 20)"
   ]
  },
  {
   "cell_type": "code",
   "execution_count": null,
   "metadata": {},
   "outputs": [],
   "source": [
    "import pygame as pg\n",
    "pg.draw.circle(window, black, (100, 50), 20)"
   ]
  },
  {
   "cell_type": "markdown",
   "metadata": {
    "slideshow": {
     "slide_type": "slide"
    }
   },
   "source": [
    "__Drawing a rectangle__\n",
    "<a id='ExamplesDrawingRectangle'></a>\n",
    "\n",
    "The function pygame.draw.rect() draws a rectangle.\n",
    "\n",
    "It requires the user to input 3 arguments:\n",
    "- Surface\n",
    "- color\n",
    "- rect\n",
    "\n",
    "It has one default argument:\n",
    "- width = 0"
   ]
  },
  {
   "cell_type": "markdown",
   "metadata": {
    "slideshow": {
     "slide_type": "slide"
    }
   },
   "source": [
    "To draw the following rectangle\n",
    "- surface = game window\n",
    "- colour = black\n",
    "- x and y coordinates of the top left corner = (x = 30, y = 300) (pixels)\n",
    "- width = 60 (pixels)\n",
    "- height = 80 (pixels)\n",
    "\n",
    "Type:"
   ]
  },
  {
   "cell_type": "code",
   "execution_count": null,
   "metadata": {},
   "outputs": [],
   "source": [
    "pg.draw.rect(window, white, pygame.Rect(30, 300, 60, 80))"
   ]
  },
  {
   "cell_type": "markdown",
   "metadata": {
    "slideshow": {
     "slide_type": "slide"
    }
   },
   "source": [
    "For today, these shapes are going to be the \"fish\" in your aquarium. \n",
    "<img src=\"img/shapes_moving.gif\" alt=\"Drawing\" style=\"width: 400px;\"/>\n",
    "\n",
    "\n",
    "\n",
    "\n",
    "\n",
    "\n",
    "\n"
   ]
  },
  {
   "cell_type": "markdown",
   "metadata": {
    "slideshow": {
     "slide_type": "slide"
    }
   },
   "source": [
    "They don't *look* much like fish at the moment, but we are going to animate them so that they *behave* like fish.\n",
    "\n",
    "<table><tr><td> \n",
    " </td><td> \n",
    "<img src=\"img/tuna_swim.gif\" alt=\"Drawing\" style=\"width: 400px;\"/> </td><td> \n",
    "<img src=\"img/dolphin_crash.gif\" alt=\"Drawing\" style=\"width: 400px;\"/>\n",
    "http://bestanimations.com/Animals/Fish/Fish2.html </td></tr>\n",
    "</table>"
   ]
  },
  {
   "cell_type": "markdown",
   "metadata": {
    "slideshow": {
     "slide_type": "slide"
    }
   },
   "source": [
    "__Things to remember:__\n",
    "- Keep all drawing code together in one step (Step 7)\n",
    " - after `window.fill()`\n",
    " - before `pygame.display.update()`\n",
    "- The computer xy coordinate system works a little differently to the conventional cartesian system used in mathematics. Read the section below for an exaplanation.\n"
   ]
  },
  {
   "cell_type": "markdown",
   "metadata": {
    "slideshow": {
     "slide_type": "slide"
    }
   },
   "source": [
    "<a id='ComputerXYCoordinateSystem'></a>\n",
    "## 2.1 The Computer XY Coordinate System\n",
    "\n",
    "The Cartesian coordinate system, is the system most people are used to when plotting graphics. \n",
    "\n",
    "<img src=\"img/Cartesian_coordinates_2D.png\" alt=\"Drawing\" style=\"width: 400px;\"/>\n",
    "\n",
    "(Wikimedia Commons)"
   ]
  },
  {
   "cell_type": "markdown",
   "metadata": {
    "slideshow": {
     "slide_type": "slide"
    }
   },
   "source": [
    "The computer uses a slightly different, coordinate system from what you might be used to. \n",
    "\n",
    "The reason comes from computer history."
   ]
  },
  {
   "cell_type": "markdown",
   "metadata": {
    "slideshow": {
     "slide_type": "slide"
    }
   },
   "source": [
    "During the early '80s, most computer systems were text-based and did not support graphics. \n",
    "\n",
    "<img src=\"img/apple3screen.png\" alt=\"Drawing\" style=\"width: 400px;\"/>\n",
    "\n",
    "This is an early spreadsheet program run on a 1980s Apple computer. (Wikimedia Commons)\n",
    "\n",
    "When positioning text on the screen, programmers started at the top, calling it line 1, and continued *down*.\n",
    "\n",
    "i.e. Items the further down the screen an item appeared, the *higher* the number of its vertical index. \n",
    "\n"
   ]
  },
  {
   "cell_type": "markdown",
   "metadata": {
    "slideshow": {
     "slide_type": "slide"
    }
   },
   "source": [
    "This resulted in the coordinate system shown below.\n",
    "<br>(0,0) is in the top-left corner\n",
    "<br>The y coordinate becomes more positive, lower down the screen.\n",
    "\n",
    "<img src=\"img/Computer_coordinates_2D.png\" alt=\"Drawing\" style=\"width: 400px;\"/>"
   ]
  },
  {
   "cell_type": "markdown",
   "metadata": {
    "slideshow": {
     "slide_type": "slide"
    }
   },
   "source": [
    "Computer technology progressed to being able to control individual pixels for graphics.\n",
    "\n",
    "However, the text-based coordinate system stuck."
   ]
  },
  {
   "cell_type": "markdown",
   "metadata": {
    "slideshow": {
     "slide_type": "slide"
    }
   },
   "source": [
    "__So remember, when considering the coordinates of drawn items:__\n",
    "- __(0,0) is in the top-left corner__\n",
    "- __the y coordinate becomes more positive, lower down the screen.__"
   ]
  },
  {
   "cell_type": "markdown",
   "metadata": {
    "collapsed": true,
    "slideshow": {
     "slide_type": "slide"
    }
   },
   "source": [
    "<a id='AnimatingDrawnObjects'></a>\n",
    "## 2.2 Animating Drawn Objects\n",
    "\n",
    "We are going to animate one object in the aquarium.\n",
    "\n",
    "<img src=\"img/shapes_moving.gif\" alt=\"Drawing\" style=\"width: 400px;\"/>"
   ]
  },
  {
   "cell_type": "markdown",
   "metadata": {
    "slideshow": {
     "slide_type": "slide"
    }
   },
   "source": [
    "### Velocity\n",
    "<a id='Velocity'></a>\n",
    "Consider a circle.\n",
    "\n",
    "The two numbers in () parentheses refer to the position of the centre of the circle.\n",
    "\n",
    "    pg.draw.circle(window, black, (100, 50), 20)\n",
    "\n",
    "This circle will be drawn at:\n",
    "- x coordinate 100\n",
    "- y coordinate 50\n"
   ]
  },
  {
   "cell_type": "markdown",
   "metadata": {
    "slideshow": {
     "slide_type": "slide"
    }
   },
   "source": [
    "Each time the game loops, the circle will be drawn at (100,50).\n",
    "\n",
    "Until those numbers change, the circle will not move."
   ]
  },
  {
   "cell_type": "markdown",
   "metadata": {
    "slideshow": {
     "slide_type": "slide"
    }
   },
   "source": [
    "To move the circle:\n",
    "- use a variable, instead of a number, for the x and y coodinates\n",
    "- change the value of the variable each time the code loops"
   ]
  },
  {
   "cell_type": "markdown",
   "metadata": {
    "slideshow": {
     "slide_type": "slide"
    }
   },
   "source": [
    "For example, to move the circle 1 pixel to the right each time the code loops:\n",
    "\n",
    "(Pseudocode)\n",
    "\n",
    "    velocity = +1 pixel per timestep \n",
    "\n",
    "\n",
    "\n",
    "\n"
   ]
  },
  {
   "cell_type": "markdown",
   "metadata": {
    "slideshow": {
     "slide_type": "slide"
    }
   },
   "source": [
    "##### OUTSIDE THE GAME LOOP\n",
    "Initial x coordinate of the circle\n",
    "    \n",
    "    x_pos = 100\n",
    "\n",
    "    \n",
    "##### INSIDE THE GAME LOOP\n",
    "Update the x coordinate.\n",
    "\n",
    "    x_pos += 1\n",
    "    \n",
    "Draw the circle.\n",
    "\n",
    "    pg.draw.circle(window, black, (x_pos, 50), 20)\n",
    "    \n"
   ]
  },
  {
   "cell_type": "markdown",
   "metadata": {
    "slideshow": {
     "slide_type": "slide"
    }
   },
   "source": [
    "Add the initial x coordinate of the circle to your list of variables. of  code to your program.\n",
    "\n",
    "##### OUTSIDE THE GAME LOOP\n",
    "    # 0. Import libraries\n",
    "    from pygame.draw import circle, rect\n",
    "\n",
    "    # 2. Variables\n",
    "    black = (0,0,0)\n",
    "    white = (255, 255, 255)\n",
    "    red =   (255, 0, 0)\n",
    "    green = (0, 255, 0)\n",
    "    blue =  (0, 0, 255)\n",
    "    purple = (100, 0, 100)\n",
    "    x_pos = 100\n",
    "        \n"
   ]
  },
  {
   "cell_type": "markdown",
   "metadata": {
    "slideshow": {
     "slide_type": "slide"
    }
   },
   "source": [
    "##### INSIDE THE GAME LOOP \n",
    "Add a circle to the aquarium now.\n",
    "\n",
    "Update the variable `x_pos` each time the code loops.\n",
    "\n",
    "\n",
    "\n",
    "    # 6. Calculations\n",
    "    # 6.2 Update circle position\n",
    "    x_pos += 1\n",
    "\n",
    "    # 7.1 Draw Circle\n",
    "    circle(window, black, (x_pos, 50), 20)\n",
    "    \n",
    "We will follow the game loop format and do all calculations before updating the graphics.\n",
    "\n"
   ]
  },
  {
   "cell_type": "markdown",
   "metadata": {
    "slideshow": {
     "slide_type": "slide"
    }
   },
   "source": [
    "Run your code.\n",
    "\n",
    "You should see the circle move accross the screen."
   ]
  },
  {
   "cell_type": "markdown",
   "metadata": {
    "slideshow": {
     "slide_type": "slide"
    }
   },
   "source": [
    "To move the box faster, increase `x_pos` by a greater number each time the code loops:\n",
    "\n",
    "    x_pos += 5"
   ]
  },
  {
   "cell_type": "markdown",
   "metadata": {
    "slideshow": {
     "slide_type": "slide"
    }
   },
   "source": [
    "If we increase *both* the x and y coordinate of the circle it will move down *and* right:\n",
    "\n",
    "    \n",
    "\n",
    "    # 6.2 Update circle position\n",
    "    x_pos += 5\n",
    "    y_pos += 1\n",
    "    \n",
    "    # 7.1 Draw Circle\n",
    "    circle(window, black, (x_pos, y_pos), 20)\n",
    "    \n",
    "    "
   ]
  },
  {
   "cell_type": "markdown",
   "metadata": {
    "slideshow": {
     "slide_type": "slide"
    }
   },
   "source": [
    "We can express the circles:\n",
    "- position\n",
    "- velocity (the direction and amount it moves by) \n",
    "\n",
    "as *lists* or *vectors*.\n",
    "\n"
   ]
  },
  {
   "cell_type": "markdown",
   "metadata": {
    "slideshow": {
     "slide_type": "slide"
    }
   },
   "source": [
    "Recall __Example: Change in Position: (Representing Vectors using Lists)__  from last week's seminar.\n",
    "\n",
    "\n",
    " <img src=\"img/schiffman_vector.png\" alt=\"Drawing\" style=\"width: 500px;\"/>"
   ]
  },
  {
   "cell_type": "markdown",
   "metadata": {
    "slideshow": {
     "slide_type": "slide"
    }
   },
   "source": [
    "We update the value of the postion, `r`, by adding each component of the velocity, `v`."
   ]
  },
  {
   "cell_type": "code",
   "execution_count": null,
   "metadata": {
    "slideshow": {
     "slide_type": "slide"
    }
   },
   "outputs": [],
   "source": [
    "r = [5, 2]\n",
    "v = [3, 4]\n",
    "\n",
    "r = [(r[0] + v[0]), \n",
    "     (r[1] + v[1])]"
   ]
  },
  {
   "cell_type": "markdown",
   "metadata": {
    "slideshow": {
     "slide_type": "slide"
    }
   },
   "source": [
    "Edit section 3.1 and 5.1 of your program to express the circle's:\n",
    "- position\n",
    "- velocity\n",
    "\n",
    "as lists."
   ]
  },
  {
   "cell_type": "markdown",
   "metadata": {
    "slideshow": {
     "slide_type": "slide"
    }
   },
   "source": [
    "\n",
    "##### OUTSIDE THE GAME LOOP    \n",
    "    # 2. Variables\n",
    "    black = (0, 0, 0)\n",
    "    white = (255, 255, 255)\n",
    "    red =   (255, 0, 0)\n",
    "    green = (0, 255, 0)\n",
    "    blue =  (0, 0, 255)\n",
    "    purple = (100, 0, 100)\n",
    "    \n",
    "    circ_vel = [5, 1]\n",
    "    circ_pos = [100, 50]   \n",
    " \n",
    "##### INSIDE THE GAME LOOP \n",
    "\n",
    "    # 6.2 Update circle position\n",
    "    circ_pos[0] += circ_vel[0]  \n",
    "    circ_pos[1] += circ_vel[1]  \n",
    "    \n",
    "    \n",
    "    # 7.1 Draw Circle\n",
    "    circle(window, black, (circ_pos[0], circ_pos[1]), 20)\n",
    "    \n"
   ]
  },
  {
   "cell_type": "markdown",
   "metadata": {
    "slideshow": {
     "slide_type": "slide"
    }
   },
   "source": [
    "We can also express the radius of the circle as a variable."
   ]
  },
  {
   "cell_type": "markdown",
   "metadata": {
    "slideshow": {
     "slide_type": "slide"
    }
   },
   "source": [
    "##### OUTSIDE THE GAME LOOP    \n",
    "    # 2. Variables    \n",
    "    circ_vel = [5, 1]\n",
    "    circ_pos = [100, 50]  \n",
    "    radius = 20  \n",
    "\n",
    "##### INSIDE THE GAME LOOP \n",
    "    # 7.1 Draw Circle\n",
    "    circle(window, black, (circ_pos[0], circ_pos[1]), radius)"
   ]
  },
  {
   "cell_type": "markdown",
   "metadata": {
    "slideshow": {
     "slide_type": "slide"
    }
   },
   "source": [
    "*What is an advantage of storing the velocity and radius (as well as the position) as variables? *"
   ]
  },
  {
   "cell_type": "markdown",
   "metadata": {
    "slideshow": {
     "slide_type": "slide"
    }
   },
   "source": [
    "<a id='Collisions'></a>\n",
    "## 2.3 Collisions\n",
    "\n",
    "When the circle reaches the edge of the screen it will keep going. \n",
    "\n",
    "In this section, we will learn how to make shapes interact with the environment. \n",
    "\n",
    "<img src=\"img/aquarium_bump.gif\" alt=\"Drawing\" style=\"width: 400px;\"/>\n",
    "\n",
    "i.e. We will make your \"fish\" bounce off the sides of your \"aquarium\" instead of swimming straight through the wall. \n",
    "\n"
   ]
  },
  {
   "cell_type": "markdown",
   "metadata": {
    "slideshow": {
     "slide_type": "slide"
    }
   },
   "source": [
    "### Collisions with the Environment \n",
    "<a id='CollisionsEnvironment'></a>\n",
    "To reverse the direction so the circle travels towards the left, circle_vel[0] needs to change from 5 to -5.\n",
    "\n",
    "The circle has reached the right side of the screen when circle_pos[0] is greater than the width of the screen.\n",
    "\n"
   ]
  },
  {
   "cell_type": "markdown",
   "metadata": {
    "slideshow": {
     "slide_type": "slide"
    }
   },
   "source": [
    "Each time the cose loops, the program must:\n",
    "- perform this check\n",
    "- reverse the direction of travel if an edge has been reached.\n",
    "\n",
    "We can perform this check using __conditional operators__, `if` and `else`...\n",
    "\n",
    "If you need to review how these work, refer to the previous class. \n",
    "\n"
   ]
  },
  {
   "cell_type": "markdown",
   "metadata": {
    "slideshow": {
     "slide_type": "slide"
    }
   },
   "source": [
    "In Section 3. we set the width (600 pixels) and height (400 pixels) of the game window. \n",
    "\n",
    "     # 3. Launch a game window\n",
    "    window = pg.display.set_mode((600, 400))\n",
    "    \n",
    "So to reverse the direction of travel if an edge has been reached...\n",
    "\n",
    "\n",
    "    \n",
    "    "
   ]
  },
  {
   "cell_type": "code",
   "execution_count": null,
   "metadata": {
    "slideshow": {
     "slide_type": "slide"
    }
   },
   "outputs": [],
   "source": [
    "# 6.1 Reverse direction of travel if edge is reached\n",
    "if circ_pos[0] > (win_width-radius) or circ_pos[0] < radius:\n",
    "    circ_vel[0] *= -1\n",
    "    \n",
    "if circ_pos[1] > (win_height-radius) or circ_pos[1] < radius:\n",
    "    circ_vel[1] *= -1\n",
    "\n",
    "    \n",
    "# 6.2 Update circle position\n",
    "circ_pos[0] += circ_vel[0]  \n",
    "circ_pos[1] += circ_vel[1] \n",
    "\n",
    "\n",
    "\n",
    "# 7.1 Draw Circle\n",
    "circle(window, black, (circ_pos[0], circ_pos[1]), radius)\n",
    "\n",
    "\n"
   ]
  },
  {
   "cell_type": "markdown",
   "metadata": {
    "slideshow": {
     "slide_type": "slide"
    }
   },
   "source": [
    "__*What is the advantage of storing the velocity and radius (as well as the position) as variables? *__\n",
    "\n",
    " \n",
    "__1.__ \n",
    "\n",
    "You specify the actual value of the variable once.\n",
    "\n",
    "You can use then use it lots of times throughout the code by calling the variable name. \n",
    "\n",
    "So if you decide to change the velocity e.g. from 10 to 20, you only need to change the code in one place.\n",
    "\n",
    "By using a variable to represent the velocity we can easily change the value in response to an event such as a mouse click."
   ]
  },
  {
   "cell_type": "markdown",
   "metadata": {
    "slideshow": {
     "slide_type": "slide"
    }
   },
   "source": [
    "__2.__ \n",
    "\n",
    "Using a descriptive name to make the significance of the variable clear \n",
    "\n",
    "<br>e.g. \n",
    "<br>circ_vel = the __velocity__ or the __circle__\n",
    "<br>radius = the __radius__ of a circle"
   ]
  },
  {
   "cell_type": "markdown",
   "metadata": {
    "slideshow": {
     "slide_type": "slide"
    }
   },
   "source": [
    "##### Try it yourself\n",
    "\n",
    "1. If you haven't done so already, update your code to include sections 5.1 - 5.3.\n",
    "\n",
    "1. Add variables to represent the *width* and *height* of the screen to the list of variables (Section 2. of your program). \n",
    "<br>Make Section 5.3 of your program more *readable* by replacing the numerical values for height and width with variable names. "
   ]
  },
  {
   "cell_type": "markdown",
   "metadata": {
    "slideshow": {
     "slide_type": "slide"
    }
   },
   "source": [
    "<a id='AnimatingMultipleObjects'></a>\n",
    "## 2.4 Animating Multiple Objects\n",
    "\n",
    "There is more than one object in the aquarium. \n",
    "\n",
    "How do we animate multiple objects at the same time? \n",
    "\n",
    "<img src=\"img/shapes_moving.gif\" alt=\"Drawing\" style=\"width: 400px;\"/>\n"
   ]
  },
  {
   "cell_type": "markdown",
   "metadata": {
    "collapsed": true,
    "slideshow": {
     "slide_type": "slide"
    }
   },
   "source": [
    "The display updates, once per timestep.\n",
    "    \n",
    "    # 8. Update display\n",
    "    pg.display.update()\n",
    "    \n",
    "That means:\n",
    "<br>we can write code *sequentially* to make object move\n",
    "<br>__BUT__\n",
    "<br>the movements will appear *simultaneously*. \n"
   ]
  },
  {
   "cell_type": "markdown",
   "metadata": {
    "slideshow": {
     "slide_type": "slide"
    }
   },
   "source": [
    "For example, we can animate a rectangle at the same time as the circle."
   ]
  },
  {
   "cell_type": "code",
   "execution_count": null,
   "metadata": {
    "slideshow": {
     "slide_type": "slide"
    }
   },
   "outputs": [],
   "source": [
    "##### OUTSIDE THE GAME LOOP (in 2. Variables)   \n",
    "\n",
    "# circle variables\n",
    "circ_vel = [5, 1]\n",
    "circ_pos = [100, 50]  \n",
    "radius = 20  \n",
    "\n",
    "# rectangle variables\n",
    "rect_vel = [-2, -3]\n",
    "rect_pos = [30, 300]  \n",
    "rect_height = 80\n",
    "rect_width = 60\n",
    "\n",
    "##### INSIDE THE GAME LOOP \n",
    "\n",
    "# 6.1 Reverse direction of travel if edge is reached\n",
    "if circ_pos[0] > (600-radius) or circ_pos[0] < radius:\n",
    "    circ_vel[0] *= -1\n",
    "if circ_pos[1] > (400-radius) or circ_pos[1] < radius:\n",
    "    circ_vel[1] *= -1\n",
    "    \n",
    "if rect_pos[0] > (600-rect_width) or rect_pos[0] < 0:\n",
    "    rect_vel[0] *= -1\n",
    "if rect_pos[1] > (400-rect_height) or rect_pos[1] < 0:\n",
    "    rect_vel[1] *= -1\n",
    "    \n",
    "\n",
    "# 6.2 Update shape position\n",
    "circ_pos[0] += circ_vel[0]  \n",
    "circ_pos[1] += circ_vel[1] \n",
    "\n",
    "rect_pos[0] += rect_vel[0]  \n",
    "rect_pos[1] += rect_vel[1] \n",
    "\n",
    "# 7. Draw\n",
    "# window.fill((255, 255, 255))\n",
    "window.fill(purple)\n",
    "# 7.1 Draw Shapes\n",
    "circle(window, black, (circ_pos[0], circ_pos[1]), radius)\n",
    "rect(window, white, pygame.Rect(rect_pos[0], rect_pos[1], rect_width, rect_height))\n",
    "\n",
    "\n"
   ]
  },
  {
   "cell_type": "markdown",
   "metadata": {
    "slideshow": {
     "slide_type": "slide"
    }
   },
   "source": [
    "<a id='ListsLoopsAnimateMultipleObjects'></a>\n",
    "\n",
    "## 2.5 Optional Extension: Using Lists and Loops to Animate Multiple Objects.\n",
    "\n",
    "Notice that as we add more objects, our code starts to look repetative. \n",
    "\n",
    "We can keep things tidy by:\n",
    "\n",
    "- storing information in *lists*\n",
    "<p align=\"center\">\n",
    "  <img src=\"img/ice_cube_tray.png\" alt=\"Drawing\" style=\"width: 300px;\"/>\n",
    "</p>\n",
    "\n",
    "- using *loops* to cycle through each object\n"
   ]
  },
  {
   "cell_type": "markdown",
   "metadata": {
    "slideshow": {
     "slide_type": "slide"
    }
   },
   "source": [
    "Let's create four lists:\n",
    "1. position\n",
    "2. velocity\n",
    "3. horizontal distance shape edge to reference point\n",
    "4. vertical distance shape edge to reference point"
   ]
  },
  {
   "cell_type": "code",
   "execution_count": null,
   "metadata": {
    "slideshow": {
     "slide_type": "-"
    }
   },
   "outputs": [],
   "source": [
    "position = [circ_pos, rect_pos]\n",
    "velocity = [circ_vel, rect_vel]  \n",
    "horizontal = [[radius, radius], [rect_width, 0]]\n",
    "vertical = [[radius, radius], [rect_height, 0]]\n"
   ]
  },
  {
   "cell_type": "markdown",
   "metadata": {
    "slideshow": {
     "slide_type": "-"
    }
   },
   "source": [
    "This code should appear at the end of the list of variables."
   ]
  },
  {
   "cell_type": "markdown",
   "metadata": {
    "slideshow": {
     "slide_type": "slide"
    }
   },
   "source": [
    "Now we can use what we have learnt about for loops and `zip` in the previous class to perform the *same operations*  on multiple items."
   ]
  },
  {
   "cell_type": "code",
   "execution_count": null,
   "metadata": {
    "slideshow": {
     "slide_type": "slide"
    }
   },
   "outputs": [],
   "source": [
    "for vel, pos, vert, horiz in zip(velocity, position, vertical, horizontal):\n",
    "\n",
    "    # 6.1 Reverse direction of travel if edge is reached\n",
    "    if pos[0] > (600-horiz[0]) or pos[0] < vert[1]:\n",
    "        vel[0] *= -1\n",
    "    if pos[1] > (400-vert[0]) or pos[1] < horiz[1]:\n",
    "        vel[1] *= -1\n",
    "\n",
    "    # 6.2 Update shape position\n",
    "    pos[0] += vel[0]  \n",
    "    pos[1] += vel[1]\n",
    "    \n",
    "    \n",
    "# 7.1 Draw Shapes\n",
    "circle(window, black, (circ_pos[0], circ_pos[1]), radius)\n",
    "rect(window, white, pygame.Rect(rect_pos[0], rect_pos[1], rect_width, rect_height))"
   ]
  },
  {
   "cell_type": "markdown",
   "metadata": {
    "slideshow": {
     "slide_type": "slide"
    }
   },
   "source": [
    "# 3. Review Exercises\n",
    "<a id='ReviewExercises'></a>\n",
    "Compete the exercise below. In this exercise you will create the basic layout for a game of Pong that we will build together next week. \n"
   ]
  },
  {
   "cell_type": "markdown",
   "metadata": {},
   "source": [
    "### Review Exercise 1: Aquarium.\n",
    "Try animating a another object in your aquarium.\n",
    "\n",
    "__First__ try writing out the code to move the object.\n",
    "\n",
    "__Second__ try using *loops* and *lists* to tidy up your code"
   ]
  },
  {
   "cell_type": "code",
   "execution_count": null,
   "metadata": {},
   "outputs": [],
   "source": [
    "# Review Exercise : Aquarium"
   ]
  },
  {
   "cell_type": "markdown",
   "metadata": {
    "slideshow": {
     "slide_type": "slide"
    }
   },
   "source": [
    "### Review Exercise 2: Game Set-up. \n",
    "\n",
    "Create a new python file in spyder.\n",
    "\n",
    "__We will use this code to build a game next week!__\n",
    "\n",
    "Use what you have learnt today to set up the objects shown in the picture:\n",
    "- 2 rectangles\n",
    "- 1 circle\n",
    "\n",
    "Use the dimensions (in pixels) shown. You can choose the colours. \n",
    "\n",
    "<img src=\"img/pong_setup.png\" alt=\"Drawing\" style=\"width: 400px;\"/>\n",
    "\n",
    "Give the circle a starting velocity of:\n",
    "- x direction: 3 pixels per timestep\n",
    "- y direction: -2 pixels per timestep\n",
    "\n",
    "Invert the velocity of the circle if it collides with the edge of the window.\n",
    "\n",
    "##### Optional Extension...\n",
    "\n",
    "Use the `random` library to generate a random starting velocity for the circle. "
   ]
  },
  {
   "cell_type": "code",
   "execution_count": null,
   "metadata": {},
   "outputs": [],
   "source": []
  }
 ],
 "metadata": {
  "celltoolbar": "Slideshow",
  "kernelspec": {
   "display_name": "Python 3",
   "language": "python",
   "name": "python3"
  },
  "language_info": {
   "codemirror_mode": {
    "name": "ipython",
    "version": 3
   },
   "file_extension": ".py",
   "mimetype": "text/x-python",
   "name": "python",
   "nbconvert_exporter": "python",
   "pygments_lexer": "ipython3",
   "version": "3.7.4"
  }
 },
 "nbformat": 4,
 "nbformat_minor": 2
}
