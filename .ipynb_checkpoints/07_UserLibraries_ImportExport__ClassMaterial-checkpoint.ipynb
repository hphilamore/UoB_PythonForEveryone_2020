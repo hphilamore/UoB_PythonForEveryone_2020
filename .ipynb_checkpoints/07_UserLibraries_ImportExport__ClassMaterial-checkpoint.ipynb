{
 "cells": [
  {
   "cell_type": "markdown",
   "metadata": {
    "slideshow": {
     "slide_type": "slide"
    }
   },
   "source": [
    "<img src=\"img/full-colour-logo-UoB.png\" alt=\"Drawing\" style=\"width: 200px;\"/>\n",
    "\n",
    "# Introduction to Programming for Everyone\n",
    "\n",
    "## Python 3\n",
    "\n",
    "\n"
   ]
  },
  {
   "cell_type": "markdown",
   "metadata": {
    "collapsed": true,
    "slideshow": {
     "slide_type": "slide"
    }
   },
   "source": [
    "# 07 User-Defined Libraries, Import & Export\n",
    "## CLASS MATERIAL\n",
    "\n",
    "<br> <a href='#StoringFunctions'>1. Storing Functions and Variables</a>\n",
    "<br> <a href='#WritingYourOwnLibaray'>2. Writing Your Own Libaray</a> \n",
    "<br> <a href='#Namespaces'>3. Namespaces</a> \n",
    "<br><a href='#VariableScope'>4. Variable Scope</a> \n",
    "<br><a href='#ImportExport'>5. Import and Export</a>\n",
    "<br> <a href='#CreatingApplication'>6. Creating an Application</a>\n",
    "<br> <a href='#ReviewExercises'>7. Review Exercises</a>"
   ]
  },
  {
   "cell_type": "markdown",
   "metadata": {
    "slideshow": {
     "slide_type": "slide"
    }
   },
   "source": [
    "### Lesson Goal\n",
    "\n",
    "Store functions and variable that you have written in external files and import them to your programs.\n",
    "\n",
    "### Fundamental programming concepts\n",
    " - File hierarchy\n",
    " - Making your code more readable by storing it in multiple files\n",
    " - Using specific function constructs to write code more efficiently\n",
    " - Importing and exporting data from your Python programs. "
   ]
  },
  {
   "cell_type": "markdown",
   "metadata": {
    "slideshow": {
     "slide_type": "slide"
    }
   },
   "source": [
    "<a id='StoringFunctions'></a>\n",
    "# 1. Storing Functions and Variables\n",
    "\n",
    "Python function definitions, variables, and constants can be stored in one or more separate files.\n",
    "\n",
    "This keeps things tidy and allows the functions to be used in multiple programs without re-writing the code.  \n",
    "\n"
   ]
  },
  {
   "cell_type": "markdown",
   "metadata": {
    "slideshow": {
     "slide_type": "slide"
    }
   },
   "source": [
    "The file containing the function definitions is called a “module”.\n",
    "\n",
    "The module name is the file name without the “.py” extension.\n",
    "\n"
   ]
  },
  {
   "cell_type": "markdown",
   "metadata": {
    "slideshow": {
     "slide_type": "slide"
    }
   },
   "source": [
    "These are saved to you computer when you install a module e.g. Pygame.\n",
    "<br>(Note: Many widely used packages are automatically installed with Anaconda)."
   ]
  },
  {
   "cell_type": "markdown",
   "metadata": {
    "slideshow": {
     "slide_type": "slide"
    }
   },
   "source": [
    "For example, the functions of the Pygame library are stored as a system of:\n",
    "- __sub-packages__ (sub-folders)\n",
    "- __modules__ (.py files).\n",
    "\n",
    " <img src=\"img/directory_tree_pygame_rect.png\" alt=\"Drawing\" style=\"width: 400px;\"/>"
   ]
  },
  {
   "cell_type": "markdown",
   "metadata": {
    "slideshow": {
     "slide_type": "slide"
    }
   },
   "source": [
    "By writing:\n",
    "\n",
    "    `pygame.draw.rect(window, white, pygame.Rect(x_position, y_position, width, height))`\n",
    "\n",
    "We are telling the computer to use:\n",
    " - the function `rect`...\n",
    " - ...from the module `draw`...\n",
    " - ...from the package `pygame`"
   ]
  },
  {
   "cell_type": "markdown",
   "metadata": {
    "slideshow": {
     "slide_type": "slide"
    }
   },
   "source": [
    "This function draws a rectangle described by the input arguments.\n",
    "<br>`x_position`\n",
    "<br>`y_position`\n",
    "<br>`width`\n",
    "<br>`height`\n",
    "\n",
    "\n"
   ]
  },
  {
   "cell_type": "markdown",
   "metadata": {
    "slideshow": {
     "slide_type": "slide"
    }
   },
   "source": [
    "A directory should contain a file called `__init__.py` for Python to treat the Python files within it as packages.\n",
    "\n",
    "(However, the examples in this notebook should work without the `__init__.py file`.)\n",
    "\n",
    "<img src=\"img/directory_tree__init__.png\" alt=\"Drawing\" style=\"width: 200px;\"/>"
   ]
  },
  {
   "cell_type": "markdown",
   "metadata": {
    "slideshow": {
     "slide_type": "slide"
    }
   },
   "source": [
    "In the simplest case, `__init__.py` can just be an empty file\n",
    "\n",
    "It can also execute initialization code for a package.\n",
    "\n",
    "We will learn about the role of this file later in today's class."
   ]
  },
  {
   "cell_type": "markdown",
   "metadata": {
    "slideshow": {
     "slide_type": "slide"
    }
   },
   "source": [
    "# 2. Writing Your Own Library\n",
    "<a id='WritingYourOwnLibrary'></a>\n",
    "It can be useful to store the functions that you write as multiple files."
   ]
  },
  {
   "cell_type": "markdown",
   "metadata": {
    "slideshow": {
     "slide_type": "slide"
    }
   },
   "source": [
    "Typically, you will have one main program into which the other modules are imported.\n",
    "\n",
    "<img src=\"img/importing_packages_.png\" alt=\"Drawing\" style=\"width: 900px;\"/>"
   ]
  },
  {
   "cell_type": "markdown",
   "metadata": {
    "slideshow": {
     "slide_type": "slide"
    }
   },
   "source": [
    "This allows you to:\n",
    "- keep your code readable and tidy\n",
    "- re-use functions in multiple programs without re-writing the code"
   ]
  },
  {
   "cell_type": "markdown",
   "metadata": {
    "slideshow": {
     "slide_type": "slide"
    }
   },
   "source": [
    "Like other libraries, user-defined modules are made available within a program using the Python `import` keyword. \n",
    "\n",
    "Example\n",
    "\n",
    ">`import pygame`\n",
    "\n",
    "It is general practise to place all import statements at the beginning of the program."
   ]
  },
  {
   "cell_type": "markdown",
   "metadata": {
    "slideshow": {
     "slide_type": "-"
    }
   },
   "source": [
    "As we hae already studied, imported functions or variables can be called using the module name followed by the function name.\n",
    "\n",
    "Example\n",
    "\n",
    ">`pygame.quit()`"
   ]
  },
  {
   "cell_type": "markdown",
   "metadata": {
    "slideshow": {
     "slide_type": "slide"
    }
   },
   "source": [
    "Let's learnt to import code from a user-defined library...\n",
    "\n",
    "Open Spyder.\n",
    "\n",
    "Create two new files with the names:\n",
    "- `file_A.py`\n",
    "- `file_B.py`\n",
    "\n",
    "Save them in a new folder called `functions_example`."
   ]
  },
  {
   "cell_type": "markdown",
   "metadata": {
    "slideshow": {
     "slide_type": "-"
    }
   },
   "source": [
    "<img src=\"img/fileA_fileB.png\" alt=\"Drawing\" style=\"width: 500px;\"/>"
   ]
  },
  {
   "cell_type": "markdown",
   "metadata": {
    "slideshow": {
     "slide_type": "slide"
    }
   },
   "source": [
    "Copy and paste the code from the cell below into `file_B.py`"
   ]
  },
  {
   "cell_type": "code",
   "execution_count": 1,
   "metadata": {},
   "outputs": [],
   "source": [
    "number_B = 2\n",
    "\n",
    "def print_a_number():\n",
    "    print(number_B)    \n",
    "    \n",
    "def type_interrogate(data):\n",
    "    print(type(data))"
   ]
  },
  {
   "cell_type": "markdown",
   "metadata": {
    "slideshow": {
     "slide_type": "slide"
    }
   },
   "source": [
    "Save the file :\n",
    "\n",
    "File >> Save"
   ]
  },
  {
   "cell_type": "markdown",
   "metadata": {
    "slideshow": {
     "slide_type": "slide"
    }
   },
   "source": [
    "In File_A:\n",
    "- import file_B.py\n",
    "\n",
    "        import file_B\n",
    "\n",
    "- call the two functions\n",
    "\n",
    "        file_B.print_a_number()\n",
    "        \n",
    "        file_B.type_interrogate('hello')\n",
    "        \n",
    "        print(file_B.number_B)\n",
    "\n"
   ]
  },
  {
   "cell_type": "markdown",
   "metadata": {
    "slideshow": {
     "slide_type": "slide"
    }
   },
   "source": [
    "*What happens if `print_a_number` is called without an argument?*\n",
    "\n"
   ]
  },
  {
   "cell_type": "markdown",
   "metadata": {
    "slideshow": {
     "slide_type": "slide"
    }
   },
   "source": [
    "*What happpens if `type_interrogate` is called without an argument? *"
   ]
  },
  {
   "cell_type": "markdown",
   "metadata": {
    "collapsed": true,
    "slideshow": {
     "slide_type": "slide"
    }
   },
   "source": [
    "<a id='Namespaces'></a>\n",
    "# 3. Namespaces\n",
    "\n",
    "\n",
    "<br> &emsp;&emsp; <a href='#LocalNamespace'>3.1 The Local Namespace</a> \n",
    "<br> &emsp;&emsp; <a href='#ModuleSearchPath'>3.2 The Module Search Path</a> \n",
    "<br> &emsp;&emsp; <a href='#FilesLocatedSameDirectory'>3.3 Files Located in the Same Directory</a> \n",
    "<br> &emsp;&emsp; <a href='#__init__.py'>3.4 `__init__.py`</a> \n",
    "    \n",
    "    \n",
    "We prefix `print_a_number`, `type_interrogate` and `number_B` with the __namespace__,  `file_B`.\n",
    "\n",
    "This shows which package we want to import the functions from.\n",
    "\n",
    "\n",
    "\n"
   ]
  },
  {
   "cell_type": "markdown",
   "metadata": {
    "slideshow": {
     "slide_type": "slide"
    }
   },
   "source": [
    "For example, when using the function `math.cos()`, we use the name space `math`:"
   ]
  },
  {
   "cell_type": "code",
   "execution_count": 2,
   "metadata": {},
   "outputs": [
    {
     "data": {
      "text/plain": [
       "-1.0"
      ]
     },
     "execution_count": 2,
     "metadata": {},
     "output_type": "execute_result"
    }
   ],
   "source": [
    "import math\n",
    "\n",
    "math.cos(math.pi)"
   ]
  },
  {
   "cell_type": "markdown",
   "metadata": {
    "slideshow": {
     "slide_type": "slide"
    }
   },
   "source": [
    "The __namespace__ shows we want to use the `cos` function from the `math` package.\n",
    "\n",
    "If `cos` appears in more than one package we import, then there will be more than one `cos` function available.\n",
    "\n",
    "We must make it clear which `cos` we want to use. \n",
    "\n",
    "\n"
   ]
  },
  {
   "cell_type": "markdown",
   "metadata": {
    "slideshow": {
     "slide_type": "slide"
    }
   },
   "source": [
    "#### Example: Square Root\n",
    "\n",
    "Below are two functions, both named `sqrt`. \n",
    "\n",
    "Both functions compute the square root of the input.\n",
    "\n",
    " - `math.sqrt`, from the package, `math`, gives an error if the input is a negative number. It does not support complex numbers.\n",
    " - `cmath.sqrt`, from the package, `cmath`, supports complex numbers.\n"
   ]
  },
  {
   "cell_type": "code",
   "execution_count": 3,
   "metadata": {
    "slideshow": {
     "slide_type": "slide"
    }
   },
   "outputs": [
    {
     "name": "stdout",
     "output_type": "stream",
     "text": [
      "2.0\n"
     ]
    }
   ],
   "source": [
    "import math\n",
    "import cmath\n",
    "print(math.sqrt(4))\n",
    "#print(math.sqrt(-5))\n",
    "#print(cmath.sqrt(-5))"
   ]
  },
  {
   "cell_type": "markdown",
   "metadata": {
    "slideshow": {
     "slide_type": "slide"
    }
   },
   "source": [
    "Two people collaborating on the same program might choose the same name for two functions that perform similar tasks. \n",
    "\n",
    "If these functions are in different modules, there will be no name clash since the module name provides a 'namespace'. "
   ]
  },
  {
   "cell_type": "markdown",
   "metadata": {
    "slideshow": {
     "slide_type": "slide"
    }
   },
   "source": [
    "<a id='LocalNamespace'></a>\n",
    "## 3.1 The Local Namespace.\n",
    "\n",
    "Internally, each Python module and program has its own local namespace.\n",
    "\n",
    "The local namesapce is a “symbol table” which contains the names of all functions and variables that you don't have to prepend with a namespace."
   ]
  },
  {
   "cell_type": "markdown",
   "metadata": {
    "slideshow": {
     "slide_type": "slide"
    }
   },
   "source": [
    "When you import a module with an import statement, only the module’s name gets added to the local namespace – <br>(i.e. the imported module’s local namespace does not get added.)\n",
    "\n",
    "This is to avoid possible conflicts due to functions with the same name appearing in multiple imported modules. \n",
    "\n",
    "This is why you must prefix the function name with the module name. "
   ]
  },
  {
   "cell_type": "markdown",
   "metadata": {
    "slideshow": {
     "slide_type": "slide"
    }
   },
   "source": [
    "You can change the module name in the local namespace.\n",
    "\n",
    "In file_A.py, you can change the line:\n",
    "\n",
    "    import file_B\n",
    "\n",
    "to \n",
    "\n",
    "    import file_B as fb\n",
    "    \n"
   ]
  },
  {
   "cell_type": "markdown",
   "metadata": {
    "slideshow": {
     "slide_type": "slide"
    }
   },
   "source": [
    "We can now call a function using a shortened version of the module name\n",
    "\n",
    "    file_B.print_a_number()\n",
    "    \n",
    "to\n",
    "\n",
    "    fb.print_a_number()"
   ]
  },
  {
   "cell_type": "markdown",
   "metadata": {
    "slideshow": {
     "slide_type": "slide"
    }
   },
   "source": [
    "You can import *individual functions* and remove the need for the module name altogether:\n",
    "\n",
    "        import file_B as fb\n",
    "        from file_B import print_a_number\n",
    "\n",
    "        print_a_number()\n",
    "        \n",
    "        fb.interrogate_type('hello')\n"
   ]
  },
  {
   "cell_type": "markdown",
   "metadata": {
    "slideshow": {
     "slide_type": "slide"
    }
   },
   "source": [
    "To import *all functions* and varibales from a module, and remove the need for the module name altogether:\n",
    "\n",
    "        from file_B import *\n",
    "\n",
    "        print_a_number()\n",
    "\n",
    "        interrogate_type('hello')"
   ]
  },
  {
   "cell_type": "markdown",
   "metadata": {
    "slideshow": {
     "slide_type": "slide"
    }
   },
   "source": [
    "It is inadvisable to use `from ... import *` where you do not know the full content of a module e.g. a library such as Pygame.\n",
    "\n",
    "It may be appropraite to use * with a small, *specific*, user-defined module. "
   ]
  },
  {
   "cell_type": "markdown",
   "metadata": {
    "slideshow": {
     "slide_type": "slide"
    }
   },
   "source": [
    "<a id='ModuleSearchPath'></a>\n",
    "## 3.2 The Module Search Path\n",
    "\n",
    "When a module is imported, the Python interpreter searches a collection of directories for a module with that name. \n",
    "\n",
    "The collection of directories is called the Python path.\n",
    "\n",
    "It is stored as a list of strings. \n",
    "\n"
   ]
  },
  {
   "cell_type": "markdown",
   "metadata": {
    "slideshow": {
     "slide_type": "slide"
    }
   },
   "source": [
    "You can display the Python path for your computer by running:"
   ]
  },
  {
   "cell_type": "code",
   "execution_count": 4,
   "metadata": {},
   "outputs": [
    {
     "name": "stdout",
     "output_type": "stream",
     "text": [
      "['/Users/hemma/Documents/Code/Jupyter_NBooks/Teaching/UoB/UoB_PythonForEveryone_2020', '/opt/anaconda3/lib/python37.zip', '/opt/anaconda3/lib/python3.7', '/opt/anaconda3/lib/python3.7/lib-dynload', '', '/opt/anaconda3/lib/python3.7/site-packages', '/opt/anaconda3/lib/python3.7/site-packages/aeosa', '/opt/anaconda3/lib/python3.7/site-packages/IPython/extensions', '/Users/hemma/.ipython']\n"
     ]
    }
   ],
   "source": [
    "import sys\n",
    "print(sys.path)"
   ]
  },
  {
   "cell_type": "markdown",
   "metadata": {
    "slideshow": {
     "slide_type": "slide"
    }
   },
   "source": [
    "`sys` is a module with useful functions for accessing your computer system."
   ]
  },
  {
   "cell_type": "markdown",
   "metadata": {
    "slideshow": {
     "slide_type": "slide"
    }
   },
   "source": [
    "For a module to be available for import, it must feature in the Python path. \n",
    "\n",
    "When you *install* a python module, the action you are doing is adding the module location to the python path.\n",
    "\n"
   ]
  },
  {
   "cell_type": "markdown",
   "metadata": {
    "slideshow": {
     "slide_type": "slide"
    }
   },
   "source": [
    "There are multiple ways to add a module to the search path.\n",
    "\n",
    "Today we will focus on the simplest, (and arguably the most useful) ways to import modules.  \n",
    "\n",
    "\n",
    "\n",
    "\n",
    "\n"
   ]
  },
  {
   "cell_type": "markdown",
   "metadata": {
    "slideshow": {
     "slide_type": "slide"
    }
   },
   "source": [
    "<a id='FilesLocatedSameDirectory'></a>\n",
    "## 3.3. Files Located in the Same Directory.\n"
   ]
  },
  {
   "cell_type": "markdown",
   "metadata": {
    "slideshow": {
     "slide_type": "slide"
    }
   },
   "source": [
    "file_A and file_B are in the same folder.\n",
    "\n",
    "<img src=\"img/fileA_fileB.png\" alt=\"Drawing\" style=\"width: 600px;\"/>"
   ]
  },
  {
   "cell_type": "markdown",
   "metadata": {
    "slideshow": {
     "slide_type": "slide"
    }
   },
   "source": [
    "We therefore refer to them as 'sibling' files.\n",
    "\n",
    "The file can 'see' it's siblings.\n",
    "\n",
    "We can import code just by using the `import` keyword.\n",
    "\n"
   ]
  },
  {
   "cell_type": "markdown",
   "metadata": {
    "collapsed": true,
    "slideshow": {
     "slide_type": "slide"
    }
   },
   "source": [
    "The file can also 'see' folders in the same directory.\n",
    "\n",
    "Create a new folder, called `sibling_folder`, in the same directory as file_A.py and file_B.py.\n",
    "\n",
    "Within this folder, use spyder to create a new file called `file_C.py`. \n",
    "\n",
    "<img src=\"img/sibling_folder.png\" alt=\"Drawing\" style=\"width: 600px;\"/>"
   ]
  },
  {
   "cell_type": "markdown",
   "metadata": {
    "slideshow": {
     "slide_type": "slide"
    }
   },
   "source": [
    "Copy and paste the code from the cell below into file_C.py\n",
    "\n",
    "Save the file."
   ]
  },
  {
   "cell_type": "code",
   "execution_count": 5,
   "metadata": {},
   "outputs": [],
   "source": [
    "def subtract_and_increment(a, b):\n",
    "    \"\"\"\"\n",
    "    Return a minus b, plus 1\n",
    "    \"\"\"\n",
    "    c = a - b + 1\n",
    "    return c"
   ]
  },
  {
   "cell_type": "markdown",
   "metadata": {
    "collapsed": true,
    "slideshow": {
     "slide_type": "slide"
    }
   },
   "source": [
    "__Importing file_C to file_A __\n",
    "\n",
    "In `file_A.py`:\n",
    "\n",
    "```python\n",
    "import sibling_folder.file_C\n",
    "print(sibling_folder.file_C.subtract_and_increment(8, 10))\n",
    "```"
   ]
  },
  {
   "cell_type": "markdown",
   "metadata": {
    "slideshow": {
     "slide_type": "slide"
    }
   },
   "source": [
    "__Importing all code from file_C to file_A __\n",
    "\n",
    "In `file_A.py`:\n",
    "\n",
    "```python\n",
    "from sibling_folder.file_C import *\n",
    "print(subtract_and_increment(8, 10))\n",
    "```"
   ]
  },
  {
   "cell_type": "markdown",
   "metadata": {
    "slideshow": {
     "slide_type": "slide"
    }
   },
   "source": [
    "If a file is located one level or more higher than a program, it cannot automatically be seen by the program. \n",
    "\n",
    "To import the file we need to add its location to the Python path. \n",
    "<br>(the places the Python interpreter looks for modules).\n",
    "\n",
    "The easiest way to do this is using the module `sys`."
   ]
  },
  {
   "cell_type": "markdown",
   "metadata": {
    "slideshow": {
     "slide_type": "slide"
    }
   },
   "source": [
    "Use spyder to create a new file in the same folder as `file_C.py`.\n",
    "\n",
    "Call it `file_D.py`.\n",
    "\n",
    "<img src=\"img/fileD.png\" alt=\"Drawing\" style=\"width: 600px;\"/>"
   ]
  },
  {
   "cell_type": "markdown",
   "metadata": {
    "slideshow": {
     "slide_type": "slide"
    }
   },
   "source": [
    "Copy and paste the following code to `file_D.py`\n",
    "\n",
    "The code `append`s (adds) the directory one level up (`../`) to the python path list.\n"
   ]
  },
  {
   "cell_type": "code",
   "execution_count": 6,
   "metadata": {},
   "outputs": [
    {
     "ename": "ModuleNotFoundError",
     "evalue": "No module named 'file_B'",
     "output_type": "error",
     "traceback": [
      "\u001b[0;31m---------------------------------------------------------------------------\u001b[0m",
      "\u001b[0;31mModuleNotFoundError\u001b[0m                       Traceback (most recent call last)",
      "\u001b[0;32m<ipython-input-6-612d870a2143>\u001b[0m in \u001b[0;36m<module>\u001b[0;34m\u001b[0m\n\u001b[1;32m      1\u001b[0m \u001b[0;32mimport\u001b[0m \u001b[0msys\u001b[0m\u001b[0;34m\u001b[0m\u001b[0;34m\u001b[0m\u001b[0m\n\u001b[1;32m      2\u001b[0m \u001b[0msys\u001b[0m\u001b[0;34m.\u001b[0m\u001b[0mpath\u001b[0m\u001b[0;34m.\u001b[0m\u001b[0mappend\u001b[0m\u001b[0;34m(\u001b[0m\u001b[0;34m'../'\u001b[0m\u001b[0;34m)\u001b[0m\u001b[0;34m\u001b[0m\u001b[0;34m\u001b[0m\u001b[0m\n\u001b[0;32m----> 3\u001b[0;31m \u001b[0;32mimport\u001b[0m \u001b[0mfile_B\u001b[0m\u001b[0;34m\u001b[0m\u001b[0;34m\u001b[0m\u001b[0m\n\u001b[0m",
      "\u001b[0;31mModuleNotFoundError\u001b[0m: No module named 'file_B'"
     ]
    }
   ],
   "source": [
    "import sys\n",
    "sys.path.append('../')\n",
    "import file_B"
   ]
  },
  {
   "cell_type": "markdown",
   "metadata": {
    "slideshow": {
     "slide_type": "slide"
    }
   },
   "source": [
    "The functions from `file_B.py` can now be used within `file_D.py`\n",
    "\n",
    "e.g.\n",
    "\n",
    "    file_B.print_a_number()"
   ]
  },
  {
   "cell_type": "markdown",
   "metadata": {
    "slideshow": {
     "slide_type": "slide"
    }
   },
   "source": [
    "Notice the addition to the list when we append a directory to the path"
   ]
  },
  {
   "cell_type": "code",
   "execution_count": null,
   "metadata": {},
   "outputs": [],
   "source": [
    "import sys\n",
    "print(sys.path, end=\"\\n\\n\")\n",
    "\n",
    "# # Add a directory\n",
    "sys.path.append('../')\n",
    "print(sys.path, end=\"\\n\\n\")\n",
    "\n",
    "# Remove a directory\n",
    "sys.path.remove('../')\n",
    "print(sys.path)"
   ]
  },
  {
   "cell_type": "markdown",
   "metadata": {
    "slideshow": {
     "slide_type": "slide"
    }
   },
   "source": [
    "The path allows us to import code located anywhere on the compter.\n",
    "\n",
    "<img src=\"img/fileEFG.png\" alt=\"Drawing\" style=\"width: 700px;\"/>\n",
    "\n",
    "\n",
    "- to import code from file_E.py to file_C.py, <br>in file_C.py:\n",
    "> `sys.path.append('../../another_example')`\n"
   ]
  },
  {
   "cell_type": "markdown",
   "metadata": {
    "slideshow": {
     "slide_type": "slide"
    }
   },
   "source": [
    "<img src=\"img/fileEFG.png\" alt=\"Drawing\" style=\"width: 700px;\"/>\n",
    "\n",
    "\n",
    "\n",
    "- to import code from file_G.py to file_B.py, <br>in file_B.p:\n",
    "> `sys.path.append('../thesis)`"
   ]
  },
  {
   "cell_type": "markdown",
   "metadata": {
    "slideshow": {
     "slide_type": "slide"
    }
   },
   "source": [
    "Another way to add a location to the Python path is to use the __full file path__.\n",
    "\n",
    "__Full file path :__ The path to the file you want to use from your computers Home directory."
   ]
  },
  {
   "cell_type": "markdown",
   "metadata": {
    "slideshow": {
     "slide_type": "slide"
    }
   },
   "source": [
    "##### Windows computer \n",
    "\n",
    "The full file path usually begins with the letter name of the drive.\n",
    "\n",
    "e.g.\n",
    "\n",
    ">`C:\\Desktop\\my_folder\\my_sub_folder`\n",
    "\n",
    "Folder `my_sub_folder` is on the `C` drive.\n",
    "\n",
    "We can import this location to a program using:\n",
    "\n",
    "`sys.path.append('C:\\Desktop\\my_folder\\my_sub_folder')`"
   ]
  },
  {
   "cell_type": "markdown",
   "metadata": {
    "slideshow": {
     "slide_type": "slide"
    }
   },
   "source": [
    "You can find the path by right clicking on the file and choosing:\n",
    "    \n",
    ">`Properties`\n",
    "\n",
    "<img src=\"img/properties1.jpg\" alt=\"Drawing\" style=\"width: 400px;\"/>\n",
    "\n",
    "\n",
    "\n"
   ]
  },
  {
   "cell_type": "markdown",
   "metadata": {
    "slideshow": {
     "slide_type": "slide"
    }
   },
   "source": [
    "Then copy and paste the file `Location`\n",
    "\n",
    "<img src=\"img/properties2.jpg\" alt=\"Drawing\" style=\"width: 600px;\"/>"
   ]
  },
  {
   "cell_type": "markdown",
   "metadata": {
    "slideshow": {
     "slide_type": "slide"
    }
   },
   "source": [
    "Or you can press + hold 'Shift' *and* right click on the file and choose:\n",
    "\n",
    ">`Copy as path`\n",
    "\n",
    "<img src=\"img/copyaspath.jpg\" alt=\"Drawing\" style=\"width: 400px;\"/>"
   ]
  },
  {
   "cell_type": "markdown",
   "metadata": {
    "slideshow": {
     "slide_type": "slide"
    }
   },
   "source": [
    "##### Mac \n",
    "\n",
    "\n",
    "The full file path usually begins at the `Users` directory.\n",
    "\n",
    "e.g.\n",
    "\n",
    ">`/Users/Hemma/Desktop/my_folder/my_sub_folder`\n",
    "\n",
    "Folder `my_sub_folder` belongs to the user, `Hemma`.\n",
    "\n",
    "\n",
    "We can import this location to a program using:\n",
    "\n",
    "`sys.path.append('/Users/Hemma/Desktop/my_folder/my_sub_folder')`"
   ]
  },
  {
   "cell_type": "markdown",
   "metadata": {
    "slideshow": {
     "slide_type": "slide"
    }
   },
   "source": [
    "You can find the path by right clicking on the file and choosing:\n",
    "    \n",
    ">`Get info`\n",
    "\n",
    "<img src=\"img/getinfo.jpeg\" alt=\"Drawing\" style=\"width: 600px;\"/>\n",
    "\n",
    "\n",
    "\n"
   ]
  },
  {
   "cell_type": "markdown",
   "metadata": {
    "slideshow": {
     "slide_type": "slide"
    }
   },
   "source": [
    "Then copy and paste the file `Where`\n",
    "\n",
    "<img src=\"img/where.jpg\" alt=\"Drawing\" style=\"width: 600px;\"/>"
   ]
  },
  {
   "cell_type": "markdown",
   "metadata": {
    "slideshow": {
     "slide_type": "slide"
    }
   },
   "source": [
    "Or you can drag the file into a terminal and the path will appear.\n",
    "\n",
    "\n",
    "<img src=\"img/dragterm.jpg\" alt=\"Drawing\" style=\"width: 400px;\"/>"
   ]
  },
  {
   "cell_type": "markdown",
   "metadata": {
    "slideshow": {
     "slide_type": "slide"
    }
   },
   "source": [
    "<a id='__init__.py'></a>\n",
    "## 3.4 `__init__.py`\n",
    "\n",
    "\n",
    "The Python interpreter will only check directories that contain a file with the name `__init__.py`.\n",
    "\n",
    "You should create an empty file with the name `__init__.py` within any directory you wish to import.\n",
    "\n",
    "The purpose of this is to prevent other python files with the same name (e.g. other projects) from being mistakenly imported. "
   ]
  },
  {
   "cell_type": "markdown",
   "metadata": {
    "slideshow": {
     "slide_type": "slide"
    }
   },
   "source": [
    "As mentioned earlier, the examples in this tutorial will probably work without `__init__.py`.\n",
    "\n",
    "It is best practise to use `__init__.py`.\n",
    "\n",
    "Create an empty file with the name `__init__.py` in folders:\n",
    "- `functions_example`\n",
    "- `sibling_folder`"
   ]
  },
  {
   "cell_type": "markdown",
   "metadata": {
    "slideshow": {
     "slide_type": "slide"
    }
   },
   "source": [
    "### Adding Modules to the 'site-packages'.\n",
    "<a id='AddingModulessite-packages'></a>\n",
    "\n",
    "`site-packages` is the name of the directory of manually insalled python packages. \n",
    "\n",
    "You can find the location of `site-packages` by running:\n",
    ">`print(sys.path)`\n",
    "\n",
    "Installed packages such as `Pygame` are found here.\n",
    "\n",
    "\n",
    "\n"
   ]
  },
  {
   "cell_type": "markdown",
   "metadata": {
    "slideshow": {
     "slide_type": "slide"
    }
   },
   "source": [
    "If you add a module to this directory, it will be universally accessible within the home directory of your computer system.\n",
    "\n",
    "i.e. You can call it from anywhere by using `import` just as for Pygame or any other installed package. "
   ]
  },
  {
   "cell_type": "markdown",
   "metadata": {
    "slideshow": {
     "slide_type": "slide"
    }
   },
   "source": [
    "<a id='VariableScope'></a>\n",
    "# 4. Variable Scope\n",
    "\n",
    "In Python, global variables are global *within a module, not across all modules*.\n",
    "<br>This can cause problems..."
   ]
  },
  {
   "cell_type": "markdown",
   "metadata": {
    "slideshow": {
     "slide_type": "slide"
    }
   },
   "source": [
    "For example, import a global varibale from file_B.py to file_A.py and change its value:\n",
    "\n",
    "```python\n",
    "from file_B import number_B\n",
    "number_B = 0\n",
    "```\n",
    "<br>\n",
    "\n",
    "The value of `number_B` in file_A.py :\n",
    "```python\n",
    "print(number_B);\n",
    "```\n",
    "__`>> 0`__\n",
    "\n",
    "<br>\n",
    "\n",
    "The value of `number_B` in file_B.py :\n",
    "```python\n",
    "print(number_B);\n",
    "```\n",
    "__`>> 2`__ (the original value)\n",
    "\n",
    "<br>\n",
    "\n",
    "In other words, the global variable does *not* update across all files. "
   ]
  },
  {
   "cell_type": "markdown",
   "metadata": {
    "slideshow": {
     "slide_type": "slide"
    }
   },
   "source": [
    "###### The most common way to share global variables across different modules. \n",
    "\n",
    "One module (.py file) is used to store the global variables.\n",
    "\n",
    "This module is imported to __all__ other modules (that need to access the global varoables).\n",
    "\n",
    "Let's look at the same example again. Notice the slight difference in how we import `number_B` from `file_B.py`..."
   ]
  },
  {
   "cell_type": "markdown",
   "metadata": {
    "slideshow": {
     "slide_type": "slide"
    }
   },
   "source": [
    "Let's edit our files : `file_A.py`, `file_B.py` and `file_C.py` such that:\n",
    "- `file_A.py` : main program\n",
    "- `file_B.py` : all functions\n",
    "- `file_C.py` : all variables"
   ]
  },
  {
   "cell_type": "markdown",
   "metadata": {
    "slideshow": {
     "slide_type": "slide"
    }
   },
   "source": [
    "__`file_C.py`__\n",
    "\n",
    "```python\n",
    "number_B = 2\n",
    "```"
   ]
  },
  {
   "cell_type": "markdown",
   "metadata": {
    "slideshow": {
     "slide_type": "slide"
    }
   },
   "source": [
    "__`file_B.py`__\n",
    "\n",
    "```python\n",
    "import sibling_folder.file_C as file_C\n",
    "\n",
    "def print_a_number():\n",
    "    # print(number_B)  \n",
    "    print(file_C.number_B)    \n",
    "    \n",
    "def type_interrogate(data):\n",
    "    print(type(data))\n",
    "\n",
    "```"
   ]
  },
  {
   "cell_type": "markdown",
   "metadata": {
    "slideshow": {
     "slide_type": "slide"
    }
   },
   "source": [
    "__`file_A.py`__\n",
    "\n",
    "```python\n",
    "import sibling_folder.file_C as file_C\n",
    "import file_B\n",
    "\n",
    "file_B.print_a_number()\n",
    "\n",
    "file_C.number_B = 0\n",
    "\n",
    "print(file_C.number_B)\n",
    "        \n",
    "file_B.print_a_number()\n",
    "\n",
    "```\n",
    "\n"
   ]
  },
  {
   "cell_type": "markdown",
   "metadata": {
    "slideshow": {
     "slide_type": "slide"
    }
   },
   "source": [
    "When we run `file_A.py` we see that when we change the value of `file_C.number_B` in `file_A.py`, the variable is updateed in:\n",
    "\n",
    "file_C.py :\n",
    "```python\n",
    "print(file_C.number_B)\n",
    "```\n",
    "__`>> 0`__\n",
    "\n",
    "<br>\n",
    "\n",
    "file_B.py :\n",
    "```python\n",
    "file_B.print_a_number()\n",
    "```\n",
    "__`>> 0`__ \n",
    "\n",
    "<br>\n",
    "\n",
    "This time, the global variable updates across all files. "
   ]
  },
  {
   "cell_type": "markdown",
   "metadata": {
    "slideshow": {
     "slide_type": "slide"
    }
   },
   "source": [
    "The module that contains the global variables (in this case `file_C`) is called the __configuration module__.\n",
    "\n",
    "When changing the variable or using the variable, it is *always* prefixed with the configuration module name.\n",
    "\n",
    "The prefixed variable can be accessed and updated by all other modules.\n",
    "\n",
    "To identify which is the configuration module and remind us to import it, it is often called `config.py` or `cfg.py`.\n",
    "\n"
   ]
  },
  {
   "cell_type": "markdown",
   "metadata": {
    "slideshow": {
     "slide_type": "slide"
    }
   },
   "source": [
    "#### Remember... \n",
    "*Do not* use a `from ... import` *unless* the variable is intended to be a constant (i.e. it's value will not change during the program). \n",
    "\n",
    "__Example:__\n",
    "`from file_C import number_B` in file_A.py creates a new global variable with scope within file_A.py only.  "
   ]
  },
  {
   "cell_type": "markdown",
   "metadata": {
    "slideshow": {
     "slide_type": "slide"
    }
   },
   "source": [
    "Check if really need to make a variable global. It may be that you only use it within one file.\n",
    "\n",
    "If that is the case, you do not need to make it global across all files. "
   ]
  },
  {
   "cell_type": "markdown",
   "metadata": {
    "slideshow": {
     "slide_type": "slide"
    }
   },
   "source": [
    "<a id='ImportExport'></a>\n",
    "# 5. Import and Export \n",
    "\n",
    "<br> &emsp;&emsp; <a href='#WritingFiles'>5.1 Writing Files</a>\n",
    "<br> &emsp;&emsp; <a href='#AppendingFiles'>5.2 Appending Files</a> \n",
    "<br> &emsp;&emsp; <a href='#ReadingFiles'>5.3 Reading Files</a> \n",
    "<br> &emsp;&emsp; <a href='#AutomaticallyClosingFileswith'>5.4 Automatically Closing Files using `with`</a> \n",
    "\n",
    "Until now, we have only considered data that remains within the Python program.\n",
    "\n",
    "This data is lost when the program closes."
   ]
  },
  {
   "cell_type": "markdown",
   "metadata": {
    "slideshow": {
     "slide_type": "slide"
    }
   },
   "source": [
    "## Reading and Writing Text Files\n",
    "<a id='ReadingWritingTextFiles'></a>\n",
    "Python has a collection of easy to use functions for reading and writing to external files: \n",
    "- `open()`\n",
    "- `read()`\n",
    "- `write()`\n",
    "- `close()` \n",
    "\n",
    "This is a way to store data so that it can be accessed, for example the next tie the program is run. "
   ]
  },
  {
   "cell_type": "markdown",
   "metadata": {
    "slideshow": {
     "slide_type": "slide"
    }
   },
   "source": [
    "Before a file can be read or written to, it must be opened using the `open()` function. \n",
    "\n",
    "__Function arguments:__\n",
    "1. Path to the file (filename and location)\n",
    "2. The *mode specifier* with which to open the file:\n",
    "\n",
    "\n",
    "    \n",
    " \n",
    "\n"
   ]
  },
  {
   "cell_type": "markdown",
   "metadata": {
    "slideshow": {
     "slide_type": "slide"
    }
   },
   "source": [
    "\n",
    "- `r`: open an existing file to read\n",
    "\n",
    "<br>   \n",
    "- `w`: open an existing file to write to. <br>If no file exists: creates a new file.<br>If file exists : over-writes previous contents.\n",
    "\n",
    "<br>    \n",
    "- `a`: open an existing file to write to. <br>If no file exists: creates a new file.<br>If file exists : appends text to end of file."
   ]
  },
  {
   "cell_type": "markdown",
   "metadata": {
    "slideshow": {
     "slide_type": "slide"
    }
   },
   "source": [
    "- `r+`: open a text file to read from __or__ write to. <br>File must already exist.<br>If file exists : over-writes previous contents.\n",
    "\n",
    "\n",
    "- `w+`: open a text file to read from __or__ write to.<br>If no file exists: creates a new file.<br>If file exists : over-writes previous contents.\n",
    "\n",
    "\n",
    "- `a+` : open a text file to read from __or__ write to.<br>If no file exists: creates a new file.<br>If file exists : appends text to end of file.\n"
   ]
  },
  {
   "cell_type": "markdown",
   "metadata": {
    "slideshow": {
     "slide_type": "slide"
    }
   },
   "source": [
    "Once the file is open, it creates a *file object*.  \n",
    "\n",
    "We can interrogate the file for various details including whether it is open or closed:\n",
    "\n",
    " - `name`: Name of the opened file\n",
    " - `mode`: Mode specifier with which the file was opened  \n",
    " - `closed`: Boolean True or False\n",
    " - `readable( )`: Read permission, Boolean True or False\n",
    " - `writable( )`: Write permission, Boolean True or False"
   ]
  },
  {
   "cell_type": "markdown",
   "metadata": {
    "slideshow": {
     "slide_type": "slide"
    }
   },
   "source": [
    "__Example__\n",
    "\n",
    "Once a file has been opened it's contents can be read, overwritten, or added to, depnding on the mode specifier used to open it. \n",
    "\n",
    "We are going to open an example file as if we were going to *write* some data to it. \n",
    "<br>(Note, if the file does not already exist, running this line will create the file). \n",
    "\n",
    "The mode specifier is `w`."
   ]
  },
  {
   "cell_type": "code",
   "execution_count": null,
   "metadata": {
    "slideshow": {
     "slide_type": "-"
    }
   },
   "outputs": [],
   "source": [
    "file = open(\"Examples/pong_scores.txt\", \"w\" )"
   ]
  },
  {
   "cell_type": "markdown",
   "metadata": {
    "slideshow": {
     "slide_type": "slide"
    }
   },
   "source": [
    "Once the file is open, we can *interrogate* it for information."
   ]
  },
  {
   "cell_type": "code",
   "execution_count": null,
   "metadata": {
    "slideshow": {
     "slide_type": "-"
    }
   },
   "outputs": [],
   "source": [
    "# Interrrogate the file:\n",
    "print( \"File Name:\",  file.name )\n",
    "\n",
    "print( \"Open Mode:\",  file.mode )\n",
    "\n",
    "print( \"Readable:\",  file.readable())\n",
    "\n",
    "print( \"Writable:\",  file.writable())"
   ]
  },
  {
   "cell_type": "markdown",
   "metadata": {
    "slideshow": {
     "slide_type": "slide"
    }
   },
   "source": [
    "An open file must then always be closed again by calling the close() method.\n",
    "\n",
    "Let's first write a function to show us if a file is open or closed."
   ]
  },
  {
   "cell_type": "code",
   "execution_count": null,
   "metadata": {},
   "outputs": [],
   "source": [
    "# Write a function to determine the file's status:\n",
    "def get_status( f ):\n",
    "    if ( f.closed != False ) :\n",
    "        return \"Closed\"\n",
    "    else :\n",
    "        return \"Open\""
   ]
  },
  {
   "cell_type": "markdown",
   "metadata": {
    "slideshow": {
     "slide_type": "slide"
    }
   },
   "source": [
    "##### Why do we need to close a file? \n",
    "1. Python does not automatically close the file. Leaving it open means that you risk overwriting information.\n",
    "1. Closing the file saves any changes to it.\n",
    "1. Depending on your computer's operating system, you may not be able to open a file simultaneously for reading and writing. <br>__Example:__ If a program attempts to open a file that is already open (has not been closed), an error may be generated.\n",
    "\n"
   ]
  },
  {
   "cell_type": "markdown",
   "metadata": {
    "slideshow": {
     "slide_type": "slide"
    }
   },
   "source": [
    "Let's try out our function."
   ]
  },
  {
   "cell_type": "code",
   "execution_count": null,
   "metadata": {
    "slideshow": {
     "slide_type": "-"
    }
   },
   "outputs": [],
   "source": [
    "print( \"File Status:\" , get_status(file))  \n",
    "\n",
    "file.close()\n",
    "\n",
    "print( \"File Status:\" , get_status(file))"
   ]
  },
  {
   "cell_type": "markdown",
   "metadata": {
    "slideshow": {
     "slide_type": "slide"
    }
   },
   "source": [
    "<a id='WritingFiles'></a>\n",
    "## 5.1 Writing Files\n",
    "\n",
    "Data can be written to a files in a number of ways.\n",
    "\n",
    "This time, let's actually write some data to the file."
   ]
  },
  {
   "cell_type": "markdown",
   "metadata": {
    "slideshow": {
     "slide_type": "slide"
    }
   },
   "source": [
    "Let's first create a string to write to a text file:\n",
    "\n",
    "The inclusion of `\\n` anywhere in the string creates a line break."
   ]
  },
  {
   "cell_type": "code",
   "execution_count": null,
   "metadata": {
    "slideshow": {
     "slide_type": "-"
    }
   },
   "outputs": [],
   "source": [
    "name = input(\"Enter player name : \")\n",
    "\n",
    "score = 10\n",
    "\n",
    "score_entry =  f'{name} {str(score)}\\n' \n",
    "\n",
    "print(type(score_entry))"
   ]
  },
  {
   "cell_type": "markdown",
   "metadata": {
    "slideshow": {
     "slide_type": "slide"
    }
   },
   "source": [
    "A string my be *concatenated* (stuck together end to end) using the `+=` arithmetic operator.\n",
    "\n",
    "This allows us to build the string over the course of the program."
   ]
  },
  {
   "cell_type": "code",
   "execution_count": null,
   "metadata": {
    "slideshow": {
     "slide_type": "-"
    }
   },
   "outputs": [],
   "source": [
    "text = 'name : '\n",
    "\n",
    "text += \"Hemma\\n\" \n",
    "\n",
    "text += \"score : 10\\n\"\n",
    "\n",
    "print(text)"
   ]
  },
  {
   "cell_type": "markdown",
   "metadata": {
    "slideshow": {
     "slide_type": "slide"
    }
   },
   "source": [
    "Create an object to __write__ the string to a file:  "
   ]
  },
  {
   "cell_type": "code",
   "execution_count": null,
   "metadata": {},
   "outputs": [],
   "source": [
    "file = open(\"Examples/pong_scores.txt\", \"w\" )"
   ]
  },
  {
   "cell_type": "markdown",
   "metadata": {
    "slideshow": {
     "slide_type": "slide"
    }
   },
   "source": [
    "Write the string to the file, then close it."
   ]
  },
  {
   "cell_type": "code",
   "execution_count": null,
   "metadata": {},
   "outputs": [],
   "source": [
    "file.write(score_entry)\n",
    "\n",
    "file.close()"
   ]
  },
  {
   "cell_type": "markdown",
   "metadata": {
    "slideshow": {
     "slide_type": "slide"
    }
   },
   "source": [
    "You can open the file using a text editor to confirm it's contents."
   ]
  },
  {
   "cell_type": "markdown",
   "metadata": {
    "slideshow": {
     "slide_type": "slide"
    }
   },
   "source": [
    "<a id='AppendingFiles'></a>\n",
    "## 5.2 Appending Files \n",
    "\n",
    "Notice, if we write another score to the `pong_scores.txt` file, it *overwrites* the previous information..."
   ]
  },
  {
   "cell_type": "code",
   "execution_count": null,
   "metadata": {},
   "outputs": [],
   "source": [
    "name = input(\"Enter player name : \")\n",
    "score = 20\n",
    "score_entry = f'{name} {str(score)}\\n' \n",
    "\n",
    "file = open(\"Examples/pong_scores.txt\", \"w\" )\n",
    "file.write(score_entry)\n",
    "file.close()"
   ]
  },
  {
   "cell_type": "markdown",
   "metadata": {
    "slideshow": {
     "slide_type": "slide"
    }
   },
   "source": [
    "__Appending__ the file writes new information to the file *without* overwriting the previous contents.\n"
   ]
  },
  {
   "cell_type": "code",
   "execution_count": null,
   "metadata": {},
   "outputs": [],
   "source": [
    "name = input(\"Enter player name : \")\n",
    "score = 20\n",
    "score_entry = f'{name} {str(score)}\\n' \n",
    "\n",
    "\n",
    "file = open(\"Examples/pong_scores.txt\", \"a\" )\n",
    "file.write(score_entry)\n",
    "file.close()"
   ]
  },
  {
   "cell_type": "markdown",
   "metadata": {
    "slideshow": {
     "slide_type": "slide"
    }
   },
   "source": [
    "The changes should have now been saved an will appear if you re-open the file in a text editor. "
   ]
  },
  {
   "cell_type": "markdown",
   "metadata": {
    "slideshow": {
     "slide_type": "slide"
    }
   },
   "source": [
    "This means you can update the same file by writing data at multiple points in your program."
   ]
  },
  {
   "cell_type": "code",
   "execution_count": null,
   "metadata": {},
   "outputs": [],
   "source": [
    "# File append 1\n",
    "file = open(\"Examples/pong_scores.txt\", \"a\" )\n",
    "file.write(\"Hemma 4\\n\")\n",
    "file.close()\n",
    "\n",
    "# File append 2\n",
    "file = open(\"Examples/pong_scores.txt\", \"a\" )\n",
    "file.write(\"Farhad 15\\n\")\n",
    "file.close()\n",
    "\n",
    "# File append 3\n",
    "file = open(\"Examples/pong_scores.txt\", \"a\" )\n",
    "file.write(\"Sajid 2\\n\")\n",
    "file.close()"
   ]
  },
  {
   "cell_type": "code",
   "execution_count": null,
   "metadata": {
    "slideshow": {
     "slide_type": "slide"
    }
   },
   "outputs": [],
   "source": [
    "# File append 1\n",
    "file = open(\"sample_data/appended_file.csv\", \"a\" )\n",
    "file.write('word\\n')\n",
    "file.close()\n",
    "\n",
    "# File append 2\n",
    "file = open(\"sample_data/test_now2.csv\", \"a\" )\n",
    "file.write('1, 3, 5\\n')\n",
    "file.close()\n",
    "\n",
    "# File append 3\n",
    "file = open(\"sample_data/test_now2.csv\", \"a\" )\n",
    "file.write('word\\n')\n",
    "file.write('1, 3, 5')\n",
    "file.close()"
   ]
  },
  {
   "cell_type": "markdown",
   "metadata": {
    "slideshow": {
     "slide_type": "slide"
    }
   },
   "source": [
    "<a id='ReadingFiles'></a>\n",
    "\n",
    "## 5.3 Reading Files\n",
    "\n",
    "Create an object to __read__ the string from the containing file.\n",
    "<br>(Note: As we have finished using the object name `file` to open `pong_scores.txt` for writing we can recycle it to open the file for reading)."
   ]
  },
  {
   "cell_type": "code",
   "execution_count": null,
   "metadata": {},
   "outputs": [],
   "source": [
    "file = open(\"Examples/pong_scores.txt\", \"r\" )"
   ]
  },
  {
   "cell_type": "markdown",
   "metadata": {
    "slideshow": {
     "slide_type": "slide"
    }
   },
   "source": [
    "Read everything in the file:"
   ]
  },
  {
   "cell_type": "code",
   "execution_count": null,
   "metadata": {},
   "outputs": [],
   "source": [
    "print(file.read())\n",
    "file.close()"
   ]
  },
  {
   "cell_type": "markdown",
   "metadata": {
    "slideshow": {
     "slide_type": "slide"
    }
   },
   "source": [
    "Iteration can be used to quickly and efficiently read file contents line by line.\n",
    "\n",
    "In a `for` loop, the lines of a file are treated like the elements of a list.\n",
    "\n",
    "i.e. In the example below, `file` and `line` can be replaced with any variable name.\n",
    "\n"
   ]
  },
  {
   "cell_type": "code",
   "execution_count": null,
   "metadata": {},
   "outputs": [],
   "source": [
    "file = open(\"Examples/pong_scores.txt\", \"r\" )\n",
    "\n",
    "for line in file:\n",
    "    print(line, end=\"\")\n",
    "    \n",
    "file.close()"
   ]
  },
  {
   "cell_type": "markdown",
   "metadata": {
    "slideshow": {
     "slide_type": "slide"
    }
   },
   "source": [
    "We can also look at individual words of a file using `split()`.\n",
    "\n",
    "We can split the whole file:"
   ]
  },
  {
   "cell_type": "code",
   "execution_count": null,
   "metadata": {},
   "outputs": [],
   "source": [
    "file = open(\"Examples/pong_scores.txt\", \"r\" )\n",
    "\n",
    "print(file.read().split())\n",
    "\n",
    "file.close()"
   ]
  },
  {
   "cell_type": "markdown",
   "metadata": {
    "slideshow": {
     "slide_type": "-"
    }
   },
   "source": [
    "The items are returned as a list, so we can use a for loop to print each word in a more readable format."
   ]
  },
  {
   "cell_type": "code",
   "execution_count": null,
   "metadata": {
    "slideshow": {
     "slide_type": "slide"
    }
   },
   "outputs": [],
   "source": [
    "file = open(\"sample_data/poem.txt\", \"r\" )\n",
    "\n",
    "for word in file.read().split() :\n",
    "    print(word, end=\" \")\n",
    "    \n",
    "file.close()"
   ]
  },
  {
   "cell_type": "markdown",
   "metadata": {
    "slideshow": {
     "slide_type": "slide"
    }
   },
   "source": [
    "##### What does this code do?\n",
    ">`print(word, end=\" \")` \n",
    "\n",
    "Note that the default ending for each print statement is changed to a space. <br>Otherwise each word prints on a new line."
   ]
  },
  {
   "cell_type": "markdown",
   "metadata": {
    "slideshow": {
     "slide_type": "slide"
    }
   },
   "source": [
    "We can also split each line.\n",
    "\n",
    "For example, we can split the name from the score:"
   ]
  },
  {
   "cell_type": "code",
   "execution_count": null,
   "metadata": {},
   "outputs": [],
   "source": [
    "file = open(\"Examples/pong_scores.txt\", \"r\" )\n",
    "\n",
    "for line in file:\n",
    "    print(line.split(), end=\"\")\n",
    "    \n",
    "file.close()"
   ]
  },
  {
   "cell_type": "markdown",
   "metadata": {
    "slideshow": {
     "slide_type": "slide"
    }
   },
   "source": [
    "##### Example  Highest scoring player: \n",
    "Find the highest score and print a message to show the highest scoring player:"
   ]
  },
  {
   "cell_type": "code",
   "execution_count": null,
   "metadata": {},
   "outputs": [],
   "source": [
    "file = open(\"Examples/pong_scores.txt\", \"r\" )\n",
    "\n",
    "names = []\n",
    "scores = []\n",
    "\n",
    "for line in file:\n",
    "    i = line.split()         # split the line into names and scores\n",
    "    names.append(i[0])       # add name to names list\n",
    "    scores.append(int(i[1])) # add score to scores list\n",
    "    \n",
    "file.close()\n",
    "\n",
    "\n",
    "index = scores.index(max(scores)) # find index of highest score\n",
    "\n",
    "# Print a message \n",
    "print(f\"Highest scoring player : {names[index]}, {scores[index]} points!!!\")\n",
    "    \n"
   ]
  },
  {
   "cell_type": "markdown",
   "metadata": {
    "slideshow": {
     "slide_type": "slide"
    }
   },
   "source": [
    "`split` is also useful when we use the `input` function."
   ]
  },
  {
   "cell_type": "code",
   "execution_count": null,
   "metadata": {},
   "outputs": [],
   "source": [
    "user_input = input(\"enter 3 words : \")\n",
    "split_input = user_input.split()\n",
    "split_input"
   ]
  },
  {
   "cell_type": "markdown",
   "metadata": {
    "slideshow": {
     "slide_type": "slide"
    }
   },
   "source": [
    "\n",
    "The words are treated as a single string.\n",
    "\n",
    "e.g. element 0 is the first character"
   ]
  },
  {
   "cell_type": "code",
   "execution_count": null,
   "metadata": {},
   "outputs": [],
   "source": [
    "print(user_input[0])"
   ]
  },
  {
   "cell_type": "markdown",
   "metadata": {
    "slideshow": {
     "slide_type": "slide"
    }
   },
   "source": [
    "`split` allows us to access the individual words."
   ]
  },
  {
   "cell_type": "code",
   "execution_count": null,
   "metadata": {},
   "outputs": [],
   "source": [
    "for word in user_input.split() :\n",
    "    print(word, end=\" \")"
   ]
  },
  {
   "cell_type": "code",
   "execution_count": null,
   "metadata": {},
   "outputs": [],
   "source": []
  },
  {
   "cell_type": "markdown",
   "metadata": {
    "slideshow": {
     "slide_type": "slide"
    }
   },
   "source": [
    "<a id='AutomaticallyClosingFileswith'></a>\n",
    "\n",
    "##  5.4 Automatically Closing Files Using `with`.\n",
    "\n",
    "\n",
    "Notice what happens to the file `pong_scores.txt` when we run the next two lines of code:"
   ]
  },
  {
   "cell_type": "code",
   "execution_count": null,
   "metadata": {},
   "outputs": [],
   "source": [
    "# File append 1\n",
    "file = open(\"Examples/pong_scores.txt\", \"a\" )\n",
    "file.write(\"Hemma 4\\n\")"
   ]
  },
  {
   "cell_type": "markdown",
   "metadata": {
    "slideshow": {
     "slide_type": "slide"
    }
   },
   "source": [
    "Notice that if you open `pong_scores.txt` in a text editor at this stage, your changes have not appeared yet.\n",
    "\n",
    "The file contents are not updated until we run:"
   ]
  },
  {
   "cell_type": "code",
   "execution_count": null,
   "metadata": {},
   "outputs": [],
   "source": [
    "file.close()"
   ]
  },
  {
   "cell_type": "markdown",
   "metadata": {
    "slideshow": {
     "slide_type": "slide"
    }
   },
   "source": [
    "## `with`\n",
    "\n",
    "It is good practice to use the Python `with` keyword when opening a file."
   ]
  },
  {
   "cell_type": "code",
   "execution_count": null,
   "metadata": {},
   "outputs": [],
   "source": [
    "with open(\"Examples/pong_scores.txt\" , \"w\" ) as file :  \n",
    "    file.write(\"Hemma 4\\n\")"
   ]
  },
  {
   "cell_type": "markdown",
   "metadata": {},
   "source": [
    "Indented lines are executed.\n",
    "\n",
    "Then the file is closed. "
   ]
  },
  {
   "cell_type": "code",
   "execution_count": null,
   "metadata": {
    "slideshow": {
     "slide_type": "slide"
    }
   },
   "outputs": [],
   "source": [
    "with open(\"Examples/pong_scores.txt\" , \"w\" ) as file :  \n",
    "    file.write(\"Hemma 4\\n\")\n",
    "    print(f\"File Now Closed?: {file.closed}\")\n",
    "    \n",
    "print(f\"File Now Closed?: {file.closed}\")\n"
   ]
  },
  {
   "cell_type": "markdown",
   "metadata": {
    "slideshow": {
     "slide_type": "slide"
    }
   },
   "source": [
    "##### Example  Highest scoring player: \n",
    "Find the highest score and print a message to show the highest scoring player.\n",
    "\n",
    "This examples also makes use of the method `count` which counts the number of instances of an element in a list.\n",
    "\n",
    "__`my_list.count(element) = instance_of_elment`__\n",
    "\n",
    "e.g.\n",
    "```python\n",
    "my_list = [1, 1, 1, 2, 2]\n",
    "```\n",
    "\n",
    "```python\n",
    "my_list.count( 1 )\n",
    "```\n",
    "__`>> 3`__\n",
    "\n",
    "\n",
    "```python\n",
    "my_list.count( 2 )\n",
    "```\n",
    "__`>> 2`__\n",
    "\n",
    "\n",
    "```python\n",
    "my_list.count( 3 )\n",
    "```\n",
    "__`>> 0`__"
   ]
  },
  {
   "cell_type": "code",
   "execution_count": null,
   "metadata": {
    "slideshow": {
     "slide_type": "slide"
    }
   },
   "outputs": [],
   "source": [
    "new_high_score = None\n",
    "l_score = 1\n",
    "r_score = 0\n",
    "\n",
    "# write scores to file\n",
    "with open(\"Examples/07_pong_import/scores.txt\" , \"a\" ) as file :  \n",
    "    file.write(f\"{l_score} {r_score}\\n\")\n",
    "\n",
    "# read all previous scores\n",
    "with open(\"Examples/07_pong_import/scores.txt\" , \"r\" ) as file :  \n",
    "    scores = file.read().split()\n",
    "\n",
    "# convert scores to integer values               \n",
    "scores = [int(s) for s in scores]\n",
    "\n",
    "\n",
    "\n",
    "# Check if l_score or r_score are a) highest recorded score b) unique \n",
    "if l_score == max(scores) and scores.count(l_score) == 1:\n",
    "    new_high_score = l_score\n",
    "elif r_score == max(scores) and scores.count(r_score) == 1:\n",
    "    new_high_score = r_score\n",
    "\n",
    "# Print a message if new highest score\n",
    "if new_high_score:\n",
    "    winner = \"left\" if l_score > r_score else \"right\"\n",
    "    print(f\"{winner} player, new highest score! {new_high_score} points!!!\")\n",
    "    \n"
   ]
  },
  {
   "cell_type": "markdown",
   "metadata": {
    "slideshow": {
     "slide_type": "slide"
    }
   },
   "source": [
    "<a id='CreatingApplication'></a>\n",
    "# 5. Creating an Application. \n",
    "\n",
    "Often, we write a program to be used by other people. \n",
    "\n",
    "You may want to send your game to a friend.  \n",
    "\n",
    "However, if your friend is not taking this class they may not have Python installed on their computer so the command `python filename.py` will not work. "
   ]
  },
  {
   "cell_type": "markdown",
   "metadata": {
    "slideshow": {
     "slide_type": "slide"
    }
   },
   "source": [
    "We are all used to launching applications on our personal computers. \n",
    "\n",
    "For example, we launch the Anaconda application at the start of each class. \n",
    "\n",
    "We will learn to save a game so that it can be launched as an application without installing python. "
   ]
  },
  {
   "cell_type": "markdown",
   "metadata": {
    "slideshow": {
     "slide_type": "slide"
    }
   },
   "source": [
    "We need to install a package called cx-Freeze.\n",
    "\n",
    "Open a terminal window and type the following:\n",
    "\n",
    "`pip install cx_Freeze`\n",
    "\n",
    "Press enter. cx_Freeze should install. "
   ]
  },
  {
   "cell_type": "markdown",
   "metadata": {
    "slideshow": {
     "slide_type": "slide"
    }
   },
   "source": [
    "Now we can create an application:\n",
    "\n",
    "1. Make a folder\n",
    "1. Place a copy of your game (all .py files) and any imported files (e.g. sounds, images) in the folder.\n",
    "1. Create a new file in the folder called `setup.py`:\n",
    "\n",
    "```python\n",
    "import cx_Freeze\n",
    "\n",
    "executables = [cx_Freeze.Executable(\"filename.py\")] # input your game file name\n",
    "\n",
    "cx_Freeze.setup(\n",
    "    name=\"App Name\", # input a name for your app\n",
    "                           # input any imported packages as a list of strings\n",
    "    options={\"build_exe\": {\"packages\":[\"pygame\"], \n",
    "                           # input any imported files e.g. sounds, images\n",
    "                           \"include_files\":[\"racecar.png\"]}}, \n",
    "    executables = executables\n",
    "\n",
    "    )\n",
    "```"
   ]
  },
  {
   "cell_type": "markdown",
   "metadata": {
    "slideshow": {
     "slide_type": "slide"
    }
   },
   "source": [
    "For example, the folder for the space game may look like:\n",
    "<img src=\"img/space_folder_.png\" alt=\"Drawing\" style=\"width: 900px;\"/>\n",
    "\n",
    "The corresponding `setup.py` file:"
   ]
  },
  {
   "cell_type": "markdown",
   "metadata": {
    "slideshow": {
     "slide_type": "slide"
    }
   },
   "source": [
    "```python\n",
    "import cx_Freeze\n",
    "\n",
    "executables = [cx_Freeze.Executable(\"05_space_game.py\")]\n",
    "\n",
    "cx_Freeze.setup(\n",
    "    name=\"Space\",\n",
    "    options={\"build_exe\": {\"packages\":[\"pygame\", \"sys\", \"random\", \"math\"],\n",
    "                           \n",
    "                           \"include_files\":[\"space.jpg\",\n",
    "                                            \"saucer.png\",\n",
    "                                            \"fire.png\",\n",
    "                                            \"monster.png\",\n",
    "                                            \"battleThemeB.mp3\",\n",
    "                                            \"zap8a.ogg\"\n",
    "                                         ]}},\n",
    "    executables = executables\n",
    "    )\n",
    "```"
   ]
  },
  {
   "cell_type": "markdown",
   "metadata": {
    "slideshow": {
     "slide_type": "slide"
    }
   },
   "source": [
    "In the terminal, navigate to inside the folder you created using `cd`.\n",
    "\n",
    "Run the command:\n",
    "```python\n",
    "python setup.py build`\n",
    "```\n",
    "\n",
    "A folder called `build` will be created inside your folder. \n",
    "\n",
    "<img src=\"img/build_.png\" alt=\"Drawing\" style=\"width: 600px;\"/>\n",
    "\n",
    "\n",
    "\n"
   ]
  },
  {
   "cell_type": "markdown",
   "metadata": {
    "slideshow": {
     "slide_type": "slide"
    }
   },
   "source": [
    "Within `build` there will be a folder name beginning with `exe`.\n",
    "\n",
    "<img src=\"img/in_build.png\" alt=\"Drawing\" style=\"width: 900px;\"/>"
   ]
  },
  {
   "cell_type": "markdown",
   "metadata": {
    "slideshow": {
     "slide_type": "slide"
    }
   },
   "source": [
    "Within this folder is an executable file with the same name as your game. \n",
    "\n",
    "<img src=\"img/in_exe.png\" alt=\"Drawing\" style=\"width: 900px;\"/>\n",
    "\n",
    "When you double click on the executable, it will launch your game. "
   ]
  },
  {
   "cell_type": "markdown",
   "metadata": {
    "slideshow": {
     "slide_type": "slide"
    }
   },
   "source": [
    "However, all the other files used in the game (images, sounds etc) must be located in the folder for the game to run. \n",
    "\n",
    "This is inconvenient, for example when sending your game to a friend. \n",
    "\n",
    "\n",
    "Instead, we can build an __installer__.\n",
    "\n",
    "The installer is a single file that is used to install all files needed to run an application in a convenient location on a computer where the application will be used. \n",
    "\n",
    "\n"
   ]
  },
  {
   "cell_type": "markdown",
   "metadata": {
    "slideshow": {
     "slide_type": "slide"
    }
   },
   "source": [
    "In the terminal, run the command:\n",
    "##### Windows\n",
    "This creates a windows app.\n",
    "```python\n",
    "python setup.py bdist_msi\n",
    "```\n",
    "\n",
    "\n",
    "\n",
    "\n",
    "##### Mac\n",
    "This creates a mac app.\n",
    "```python\n",
    "python setup.py bdist_dmg\n",
    "```\n",
    "\n",
    "\n"
   ]
  },
  {
   "cell_type": "markdown",
   "metadata": {
    "slideshow": {
     "slide_type": "slide"
    }
   },
   "source": [
    "A folder called `dist` will be created inside your folder. \n",
    "\n",
    "<img src=\"img/dist_.png\" alt=\"Drawing\" style=\"width: 800px;\"/>\n",
    "\n",
    "Within dist, is the installer.\n",
    "\n",
    "<img src=\"img/installer.png\" alt=\"Drawing\" style=\"width: 800px;\"/>\n",
    "\n",
    "The installer can be sent, e.g. by email, and it will install all files needed to run the game application. "
   ]
  },
  {
   "cell_type": "markdown",
   "metadata": {
    "slideshow": {
     "slide_type": "slide"
    }
   },
   "source": [
    "When you double click on the installer, an installation wizard will launch. \n",
    "\n",
    "<table><tr><td> \n",
    "<img src='img/installation_directory.png' style=\"width: 500px;\"> </td><td> \n",
    "<img src='img/install.png' style=\"width: 500px;\"> </td><td> \n",
    "<img src='img/finish_install.png' style=\"width: 500px;\"> </td></tr>\n",
    "</table>\n",
    "\n",
    "Click through the wizard to choose where to install the program (e.g. Program files on Windows).\n",
    "\n"
   ]
  },
  {
   "cell_type": "markdown",
   "metadata": {
    "slideshow": {
     "slide_type": "slide"
    }
   },
   "source": [
    "When the installation is complete you can launch the application like any other, by:\n",
    "1. Navigating to where you installed the program and double clicking on the executable.\n",
    "<img src=\"img/in_program_files.png\" alt=\"Drawing\" style=\"width: 800px;\"/>\n",
    "1. By creating a shortcut e.g. on the desktop (you can rename the shortcut if you wish)\n",
    "<img src=\"img/create_shortcut.png\" alt=\"Drawing\" style=\"width: 800px;\"/>\n",
    "<table><tr><td> \n",
    "<img src='img/shortcut.png' style=\"width: 100px;\"> </td><td> \n",
    "<img src='img/rename_shortcut.png' style=\"width: 100px;\"> </td><td> \n",
    "</table>"
   ]
  },
  {
   "cell_type": "markdown",
   "metadata": {
    "collapsed": true,
    "slideshow": {
     "slide_type": "slide"
    }
   },
   "source": [
    "# Summary\n",
    "<a id='Summary'></a>\n",
    "- Storing functions and variables in seperate files and importing them for use can keep your program organised and tidy.\n",
    "- The keyword `import` is used to call functions and variables from other files in your program.\n",
    "- Files in the same directory can be 'seen' by the file and imported directly.\n",
    "- Files in other directories must be added to the Python path. \n"
   ]
  },
  {
   "cell_type": "markdown",
   "metadata": {
    "slideshow": {
     "slide_type": "slide"
    }
   },
   "source": [
    "<a id='ReviewExercises'></a>\n",
    "# 6. Review Exercises\n",
    "\n",
    "Compete the exercises below.\n"
   ]
  },
  {
   "cell_type": "markdown",
   "metadata": {
    "slideshow": {
     "slide_type": "slide"
    }
   },
   "source": [
    "# Review Exercise 1: Function Library\n",
    "\n",
    "Save the function you wrote last week to draw a tree/house in a seperate .py to the file in which you use/call the function.\n",
    "\n",
    "i.e. create a new .py file, copy and paste the tree/house function to it, comment out the tree/house function in the original file.\n",
    "\n",
    "What happens when you try to run the original file? \n",
    "\n",
    "Using the material from today's class, edit your code to import the function from the new .py file and use it in the original file to draw a tree/house. \n",
    "\n"
   ]
  },
  {
   "cell_type": "markdown",
   "metadata": {
    "slideshow": {
     "slide_type": "slide"
    }
   },
   "source": [
    "# Review Exercise 2: Importing and Exporting\n",
    "\n",
    "Create a new .txt file.\n",
    "\n",
    "Edit your code from the previous question to print the string `tree` or `house` to the text file every time you run the program that draws a tree/house. "
   ]
  },
  {
   "cell_type": "markdown",
   "metadata": {
    "slideshow": {
     "slide_type": "slide"
    }
   },
   "source": [
    "# Review Exercise 3: Importing and Exporting\n",
    "The pong game stores the points scored by each player as variables `l_score` and `r_score`.\n",
    "\n",
    "The winner is the first player to reach 5 points. \n",
    "<br>The program is terminated when either player reaches 5 points. \n",
    "\n",
    "Another way to decide the winner is the player who scores the most points in a given time period e.g. 2 minutes. \n",
    "\n",
    "`pygame.time.get_ticks()` returns the time in (milliseconds) since `pygame.init()` was called in the program. \n",
    "\n",
    "__A__\n",
    "<br>Edit the pong game so that the program exits when 2 minutes is reached. \n",
    "<br>*Hint : edit the code shown below*\n",
    "```python\n",
    "if cfg.l_score >= 5 or cfg.r_score >= 5:\n",
    "    game_over = True\n",
    "```\n",
    "\n",
    "__B__\n",
    "<br>Create a new file `scores.txt` in the same directory as the program.\n",
    "<br>Before the program exits, `append` the values of `l_score` and `r_score` to the file. \n",
    "\n",
    "__C__\n",
    "<br>Before the program exits, check to see if a new highest score has been achieved by reading the file `scores.txt`.\n",
    "\n",
    "__D__\n",
    "<br>If a new highest score is achieved, print a message to the game screen before exiting. \n",
    "<br>Remember all drawing and displaying text should be done in the *same section* : `# 7. Draw everything`\n",
    "\n"
   ]
  },
  {
   "cell_type": "markdown",
   "metadata": {
    "slideshow": {
     "slide_type": "slide"
    }
   },
   "source": [
    "# Review Exercise 4: Launching an Application\n",
    "\n",
    "Save the space game as an application and email the installer to:\n",
    "1. me (philamore.hemms.5s@kyoto-u.ac.jp)\n",
    "2. a friend\n",
    "\n"
   ]
  },
  {
   "cell_type": "markdown",
   "metadata": {
    "slideshow": {
     "slide_type": "slide"
    }
   },
   "source": [
    "# Review Exercise 5 (Extension): User-defined Library\n",
    "This exercise is a tutorial.\n",
    "<br>You will create:\n",
    "- A user-defined library of functions to import to the Pong game\n",
    "- A file to store all the global variables used in the program. \n",
    "\n",
    "__1.__ Open the pong program in Spyder. \n",
    "\n",
    "__2.__ Create two new files called `cfg.py` (to store variables) and `pong_funcs.py` (to store functions) in the same folder as the pong program.\n",
    "\n",
    "__3.__ Move the functions you have written in the pong program to `pong_funcs.py`.\n",
    "\n",
    "__4.__ In the current program, the variables `window` and `pressed` are *initialised* (assigned an initial value) using a function:\n",
    "\n",
    "- `window = pygame.display.set_mode((win_width, win_height))`\n",
    "- `pressed = pygame.key.get_pressed()`\n",
    "\n",
    "To avoid calling functions in `cfg.py`, create two new variables in `cfg.py` and initialise them with empty values:\n",
    "```python\n",
    "pressed = ()\n",
    "window = False \n",
    "```\n",
    "\n",
    "__5.__ Move the variables in the pong program to `cfg.py`.\n",
    "\n",
    "__6.__ Import libraries to `pong_funcs.py`\n",
    "```python\n",
    "import pygame \n",
    "import sys\n",
    "import random\n",
    "import math\n",
    "\n",
    "import pygame.mixer as mix\n",
    "mix.init()\n",
    "```\n",
    "\n",
    "__7.__ Import `cfg.py` to `pong_funcs.py` *and* the main pong program.\n",
    "\n",
    "```python\n",
    "import cfg\n",
    "\n",
    "```\n",
    "__8.__ Import __all__ constants from `cfg.py` to `pong_funcs.py` *and* the main pong program.\n",
    "```python\n",
    "from cfg import x, y\n",
    "from cfg import black, white, red, green, blue, win_width, win_height, radius, pad_width, pad_height\n",
    "```\n",
    "\n",
    "__9.__ Import __all__ functions from `pong_funcs.py` to the main pong program.\n",
    "```python\n",
    "from pong_funcs import *\n",
    "```\n",
    "\n",
    "__10.__ In  `pong_funcs.py` *and* the main pong program prefix __all variables imported from__  functions from `cfg.py` to the main pong program with `cfg.`.\n",
    "\n",
    "__Example:__\n",
    "\n",
    "__Original code__\n",
    "```python\n",
    "# 6.1.3 Reverse direction of travel if edge is reached\n",
    "if ball_pos[y] > (win_height-radius) or ball_pos[y] < radius:\n",
    "        ball_vel[y] *= -1\n",
    "        ```\n",
    "__New code with imported variables__        \n",
    "```python\n",
    "        \n",
    "# 6.1.3 Reverse direction of travel if edge is reached\n",
    "if cfg.ball_pos[y] > (win_height-radius) or cfg.ball_pos[y] < radius:\n",
    "        cfg.ball_vel[y] *= -1\n",
    "        ```\n",
    "Note: it is not necessary to prefix `win_height` and `radius` with `.cfg` as they are constants that we imported at the start of the program.  \n",
    "\n"
   ]
  },
  {
   "cell_type": "code",
   "execution_count": null,
   "metadata": {},
   "outputs": [],
   "source": []
  }
 ],
 "metadata": {
  "celltoolbar": "Slideshow",
  "kernelspec": {
   "display_name": "Python 3",
   "language": "python",
   "name": "python3"
  },
  "language_info": {
   "codemirror_mode": {
    "name": "ipython",
    "version": 3
   },
   "file_extension": ".py",
   "mimetype": "text/x-python",
   "name": "python",
   "nbconvert_exporter": "python",
   "pygments_lexer": "ipython3",
   "version": "3.7.4"
  }
 },
 "nbformat": 4,
 "nbformat_minor": 2
}
