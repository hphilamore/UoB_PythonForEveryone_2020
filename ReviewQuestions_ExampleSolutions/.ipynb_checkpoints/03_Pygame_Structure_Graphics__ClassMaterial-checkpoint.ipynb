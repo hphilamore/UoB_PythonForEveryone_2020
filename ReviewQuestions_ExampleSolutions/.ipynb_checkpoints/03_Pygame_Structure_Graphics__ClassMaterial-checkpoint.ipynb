{
 "cells": [
  {
   "cell_type": "markdown",
   "metadata": {
    "collapsed": true,
    "slideshow": {
     "slide_type": "slide"
    }
   },
   "source": [
    "# 03 Program Structure and Graphics\n",
    "# Review Exercises - Solutions\n",
    " \n",
    "\n",
    "\n"
   ]
  },
  {
   "cell_type": "markdown",
   "metadata": {},
   "source": [
    "### Review Exercise 1: Aquarium.\n",
    "Try animating a another object in your aquarium.\n",
    "\n",
    "__First__ try writing out the code to move the object.\n",
    "\n",
    "__Second__ try using *loops* and *lists* to tidy up your code"
   ]
  },
  {
   "cell_type": "code",
   "execution_count": 1,
   "metadata": {},
   "outputs": [],
   "source": [
    "# Review Exercise : Aquarium"
   ]
  },
  {
   "cell_type": "code",
   "execution_count": 2,
   "metadata": {},
   "outputs": [],
   "source": [
    "# Revew Exercise : Aquarium\n",
    "# Example solution : See Examples >> 03_aquarium_animated.py and 03_aquarium_animated_3D_effect.py"
   ]
  },
  {
   "cell_type": "markdown",
   "metadata": {
    "slideshow": {
     "slide_type": "slide"
    }
   },
   "source": [
    "### Review Exercise 2: Game Set-up. \n",
    "\n",
    "Create a new python file in spyder.\n",
    "\n",
    "__We will use this code to build a game next week!__\n",
    "\n",
    "Use what you have learnt today to set up the objects shown in the picture:\n",
    "- 2 rectangles\n",
    "- 1 circle\n",
    "\n",
    "Use the dimensions (in pixels) shown. You can choose the colours. \n",
    "\n",
    "<img src=\"img/pong_setup.png\" alt=\"Drawing\" style=\"width: 400px;\"/>\n",
    "\n",
    "Give the circle a starting velocity of:\n",
    "- x direction: 3 pixels per timestep\n",
    "- y direction: -2 pixels per timestep\n",
    "\n",
    "Invert the velocity of the circle if it collides with the edge of the window.\n",
    "\n",
    "##### Optional Extension...\n",
    "\n",
    "Use the `random` library to generate a random starting velocity for the circle. "
   ]
  },
  {
   "cell_type": "code",
   "execution_count": null,
   "metadata": {},
   "outputs": [],
   "source": []
  }
 ],
 "metadata": {
  "celltoolbar": "Slideshow",
  "kernelspec": {
   "display_name": "Python 3",
   "language": "python",
   "name": "python3"
  },
  "language_info": {
   "codemirror_mode": {
    "name": "ipython",
    "version": 3
   },
   "file_extension": ".py",
   "mimetype": "text/x-python",
   "name": "python",
   "nbconvert_exporter": "python",
   "pygments_lexer": "ipython3",
   "version": "3.7.4"
  }
 },
 "nbformat": 4,
 "nbformat_minor": 2
}
