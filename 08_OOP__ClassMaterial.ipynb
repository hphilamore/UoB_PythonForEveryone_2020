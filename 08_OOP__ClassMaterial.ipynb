{
 "cells": [
  {
   "cell_type": "markdown",
   "metadata": {
    "slideshow": {
     "slide_type": "slide"
    }
   },
   "source": [
    "<img src=\"img/full-colour-logo-UoB.png\" alt=\"Drawing\" style=\"width: 200px;\"/>\n",
    "\n",
    "# Introduction to Programming for Everyone\n",
    "\n",
    "## Python 3\n",
    "\n",
    "\n"
   ]
  },
  {
   "cell_type": "markdown",
   "metadata": {
    "collapsed": true,
    "slideshow": {
     "slide_type": "slide"
    }
   },
   "source": [
    "# 08 Object Oriented Programming (OOP)\n",
    "## CLASS MATERIAL\n",
    "\n",
    "<br> <a href='#Classes'>1. Classes</a>\n",
    "<br> <a href='#Methods'>2. Methods</a> \n",
    "<br> <a href='#References'>3. References</a> \n",
    "<br><a href='#Inheritance'>4. Inheritance</a> \n",
    "<br><a href='#StaticVariablesInstanceVariables'>5. Static Variables vs. Instance Variables</a>\n",
    "<br> <a href='#ReviewExercises'>6. Review Exercises</a>"
   ]
  },
  {
   "cell_type": "markdown",
   "metadata": {
    "slideshow": {
     "slide_type": "slide"
    }
   },
   "source": [
    "### Lesson Goal\n",
    "Create object types with associated variables and mehtods.\n",
    "\n",
    "### Fundamental programming concepts\n",
    " - Writing and using classes\n",
    " - Pointers/references \n",
    " \n",
    " "
   ]
  },
  {
   "cell_type": "markdown",
   "metadata": {
    "slideshow": {
     "slide_type": "slide"
    }
   },
   "source": [
    "<a id='Classes'></a>\n",
    "# 1. Classes\n",
    "\n",
    "<br> <a href='#DefiningClass'>1.1 Defining a Class</a>\n",
    "<br> <a href='#AnatomyClass'>1.2 Anatomy of a Class</a> \n",
    "<br> <a href='#Constructor'>1.3 The Constructor </a> \n",
    "\n",
    "__Class__ : a “classification” of an object. \n",
    "<br>e.g.“person” or “image.” \n",
    "\n",
    "__Object__ : a particular *instance* of a class. \n",
    "<br>e.g. \"Hemma\" is an instance of “Person.”\n",
    "\n"
   ]
  },
  {
   "cell_type": "markdown",
   "metadata": {
    "slideshow": {
     "slide_type": "slide"
    }
   },
   "source": [
    "Objects have:\n",
    "- attributes\n",
    "- methods\n",
    "\n",
    "__Attributes__ : *Variables* that belong an object.\n",
    "<br>e.g. person's name, height, and age. \n",
    "\n",
    "__Methods__ : *Functions* belong to an object i.e. actions that an object can do.\n",
    "<br>e.g. run, jump, sit.\n",
    "\n"
   ]
  },
  {
   "cell_type": "markdown",
   "metadata": {
    "slideshow": {
     "slide_type": "slide"
    }
   },
   "source": [
    "Each object in a game needs data: a name, location, velocity ... \n",
    "\n",
    "Without classes, our Python code to store this data so far looks like a set of variables:\n",
    "\n",
    "```python\n",
    "# 2.3 ball\n",
    "radius = 20 \n",
    "ball_vel = [0,0]\n",
    "ball_pos = [0,0]\n",
    "\n",
    "# 2.4 paddles\n",
    "pad_width = 40\n",
    "pad_height = 120\n",
    "pad1_vel = [0,0]\n",
    "pad2_vel = [0,0]\n",
    "pad1_pos = [0,10]                       \n",
    "pad2_pos = [20,100] \n",
    "\n",
    "pad_pos = [pad1_pos, pad2_pos]\n",
    "pad_vel = [pad1_vel, pad2_vel]\n",
    "\n",
    "# 2.5 scores\n",
    "l_score = 0\n",
    "r_score = 0 \n",
    "```"
   ]
  },
  {
   "cell_type": "markdown",
   "metadata": {
    "slideshow": {
     "slide_type": "slide"
    }
   },
   "source": [
    "To use these variables to create an object, they are passed to a function, for example:\n",
    "\n",
    "```python\n",
    "pygame.draw.circle(window, red, (int(ball_pos[x]), int(ball_pos[y])), radius)\n",
    "pygame.draw.rect(window, white, pygame.Rect(int(pad1_pos[x]), int(pad1_pos[y]), pad_width, pad_height))\n",
    "pygame.draw.rect(window, white, pygame.Rect(int(pad2_pos[x]), int(pad2_pos[y]), pad_width, pad_height))\n",
    "```"
   ]
  },
  {
   "cell_type": "markdown",
   "metadata": {
    "slideshow": {
     "slide_type": "slide"
    }
   },
   "source": [
    "If a program that has a set of variables like this for each shape / character / monster etc, then we can see that as the number of the objects in the game increases, the amount of data makes the code very long and very confusing. "
   ]
  },
  {
   "cell_type": "markdown",
   "metadata": {
    "slideshow": {
     "slide_type": "slide"
    }
   },
   "source": [
    "The code can also become very repetitive. \n",
    "\n",
    "For example, a certain type of character, e.g. monsters might all share the same value of `max_speed` for example.  "
   ]
  },
  {
   "cell_type": "markdown",
   "metadata": {
    "slideshow": {
     "slide_type": "slide"
    }
   },
   "source": [
    "In a large computer game, there may be hundreds of functions that deal with the main character. \n",
    "\n",
    "Adding a new variable to the character could potentially require the developer to go through *every* function and add it to the list of arguments. \n",
    "\n",
    "That would be a lot of work!\n",
    "\n"
   ]
  },
  {
   "cell_type": "markdown",
   "metadata": {
    "slideshow": {
     "slide_type": "slide"
    }
   },
   "source": [
    "Classes provide a better way to package data fields into *object types* so they can be managed easily.\n",
    "\n",
    "As such, this is called Object Oriented Programming (OOP)."
   ]
  },
  {
   "cell_type": "markdown",
   "metadata": {
    "slideshow": {
     "slide_type": "slide"
    }
   },
   "source": [
    "<a id='DefiningClass'></a>\n",
    "## 1.1 Defining a Class\n",
    "\n",
    "\n",
    "\n",
    "Example : Define a class representing the paddles in the Pong game:\n",
    "\n",
    "<img src=\"img/pong_setup.png\" alt=\"Drawing\" style=\"width: 400px;\"/>"
   ]
  },
  {
   "cell_type": "markdown",
   "metadata": {
    "slideshow": {
     "slide_type": "slide"
    }
   },
   "source": [
    "```python\n",
    "class Paddle():\n",
    "    \"\"\" This is a class that represents rectangular paddles. \"\"\"\n",
    "    def __init__(self):\n",
    "        \"\"\" This method sets up the class attributes. \"\"\"\n",
    "        self.name = \"Paddle\"\n",
    "        self.width = 40\n",
    "        self.height = 120\n",
    "        self.vel = [0, 0]\n",
    "        self.pos = [0, win_height//2 - pad_height//2]\n",
    "        ```"
   ]
  },
  {
   "cell_type": "markdown",
   "metadata": {
    "slideshow": {
     "slide_type": "slide"
    }
   },
   "source": [
    "Here's another example, we define a class to hold all the fields for an address:"
   ]
  },
  {
   "cell_type": "markdown",
   "metadata": {
    "slideshow": {
     "slide_type": "slide"
    }
   },
   "source": [
    "<a id='AnatomyClass'></a>\n",
    "## 1.2 Anatomy of a Class\n",
    "\n",
    "\n",
    "\n",
    "\n",
    "\n",
    "Unlike functions and variables, class names __should__ begin with an upper case letter. \n",
    "<br>While it is possible to begin a class with a lower case letter, it is not considered good practice. \n",
    "\n",
    "The class attributes are set using a `.` dot. \n",
    "\n",
    "`self.` behaves like the pronoun 'my'. \n",
    "\n",
    "Inside the class, we are talking about my name, my city, etc so we use `self.`\n",
    "\n",
    "Outside of the class, we don't use `self.` because just like the pronoun 'my', or it means someone totally different when said by someone else. "
   ]
  },
  {
   "cell_type": "code",
   "execution_count": 1,
   "metadata": {
    "slideshow": {
     "slide_type": "-"
    }
   },
   "outputs": [],
   "source": [
    "class Address():\n",
    "    \"\"\" Hold all the fields for a mailing address. \"\"\"\n",
    "    def __init__(self):\n",
    "        \"\"\" This method sets up the class attributes. \"\"\"\n",
    "        self.name = None\n",
    "        self.line1 = None\n",
    "        self.line2 = None\n",
    "        self.ward = None\n",
    "        self.city = None\n",
    "        self.code = None"
   ]
  },
  {
   "cell_type": "markdown",
   "metadata": {
    "slideshow": {
     "slide_type": "slide"
    }
   },
   "source": [
    "<a id='Constructor'></a>\n",
    "## 1.3 The Constructor \n",
    "\n",
    "\n",
    "\n",
    "`def __init__(self)` : a special function called a constructor that is run automatically when a class object is created.\n",
    "\n",
    "\n",
    "\n",
    "- It must be named __`init`__\n",
    "- It must be called on the second line of the class.\n",
    "- It must have __two__ underscores before it *and* after it. \n",
    "- It must take `self` as an input parameter. \n",
    "\n"
   ]
  },
  {
   "cell_type": "markdown",
   "metadata": {
    "slideshow": {
     "slide_type": "slide"
    }
   },
   "source": [
    "The class definition does not create an *instance* of the class. \n",
    "\n",
    "Just like defining a function does not call the function. \n",
    "\n",
    "e.g. We don't actually have an address object in the program yet.  "
   ]
  },
  {
   "cell_type": "markdown",
   "metadata": {
    "slideshow": {
     "slide_type": "slide"
    }
   },
   "source": [
    "To create an instance of the class, we give it a name, like a variable:"
   ]
  },
  {
   "cell_type": "code",
   "execution_count": 2,
   "metadata": {
    "slideshow": {
     "slide_type": "slide"
    }
   },
   "outputs": [],
   "source": [
    "# Create an address\n",
    "office_address = Address()"
   ]
  },
  {
   "cell_type": "markdown",
   "metadata": {
    "slideshow": {
     "slide_type": "slide"
    }
   },
   "source": [
    "The class attributes are set using a `.` dot. \n",
    "\n",
    "`self.` behaves like the pronoun 'my'. \n",
    "\n",
    "Outside of the class, we don't use `self.` because just like the pronoun “my,” it means someone totally different when said by someone else. "
   ]
  },
  {
   "cell_type": "code",
   "execution_count": 3,
   "metadata": {
    "slideshow": {
     "slide_type": "slide"
    }
   },
   "outputs": [
    {
     "name": "stdout",
     "output_type": "stream",
     "text": [
      "Dr Philamore\n"
     ]
    }
   ],
   "source": [
    "# Set the parameters OUTSIDE of the class\n",
    "office_address.name = \"Dr Philamore\"\n",
    "office_address.line1 = \"Mechatronics Lab, Room d1S12\"\n",
    "office_address.line2 = \"C Cluster, Kyotodaigaku Katsura,\"\n",
    "office_address.ward = \"Nishikyoku\"\n",
    "office_address.city = \"Kyoto\"\n",
    "office_address.code = \"615-8410\"\n",
    "\n",
    "print(office_address.name)"
   ]
  },
  {
   "cell_type": "markdown",
   "metadata": {
    "slideshow": {
     "slide_type": "slide"
    }
   },
   "source": [
    "An *instance* of the address class is created in line 2: the class Address name followed by parentheses. \n",
    "\n",
    "The __variable__ `office_address` is a *reference* to the `Address` class object that has just been created. \n",
    "\n",
    "The object name can be anything that follows normal naming rules (cannot begin with a number etc...)."
   ]
  },
  {
   "cell_type": "code",
   "execution_count": 4,
   "metadata": {},
   "outputs": [],
   "source": [
    "home_address = Address()  # Create an address"
   ]
  },
  {
   "cell_type": "code",
   "execution_count": 5,
   "metadata": {},
   "outputs": [
    {
     "name": "stdout",
     "output_type": "stream",
     "text": [
      "None\n"
     ]
    }
   ],
   "source": [
    "name = \"Hemma Philamore\" # This does not set the address's name!\n",
    "print(home_address.name)"
   ]
  },
  {
   "cell_type": "code",
   "execution_count": 6,
   "metadata": {},
   "outputs": [
    {
     "name": "stdout",
     "output_type": "stream",
     "text": [
      "None\n"
     ]
    }
   ],
   "source": [
    "Address.name = \"Hemmma Philamore\" # This does not set the address's name!\n",
    "print(home_address.name)"
   ]
  },
  {
   "cell_type": "code",
   "execution_count": 7,
   "metadata": {},
   "outputs": [
    {
     "name": "stdout",
     "output_type": "stream",
     "text": [
      "Hemma Philamore\n"
     ]
    }
   ],
   "source": [
    "home_address.name = \"Hemma Philamore\" # This sets the address's name.\n",
    "print(home_address.name)"
   ]
  },
  {
   "cell_type": "code",
   "execution_count": 8,
   "metadata": {
    "slideshow": {
     "slide_type": "slide"
    }
   },
   "outputs": [
    {
     "name": "stdout",
     "output_type": "stream",
     "text": [
      "Hemma Philamore\n",
      "Dr Philamore\n"
     ]
    }
   ],
   "source": [
    "print(home_address.name)\n",
    "\n",
    "print(office_address.name)"
   ]
  },
  {
   "cell_type": "code",
   "execution_count": 9,
   "metadata": {},
   "outputs": [
    {
     "name": "stdout",
     "output_type": "stream",
     "text": [
      "Address personal mail to Hemma Philamore\n",
      "Address official mail to Dr Philamore\n"
     ]
    }
   ],
   "source": [
    "print(f\"Address personal mail to {home_address.name}\" )\n",
    "print(f\"Address official mail to {office_address.name}\")"
   ]
  },
  {
   "cell_type": "markdown",
   "metadata": {
    "slideshow": {
     "slide_type": "slide"
    }
   },
   "source": [
    "Storing lots of data in a class makes it easy to pass the data into and out of a function."
   ]
  },
  {
   "cell_type": "code",
   "execution_count": 10,
   "metadata": {},
   "outputs": [],
   "source": [
    "# Print an address to the screen\n",
    "def print_address(address):\n",
    "    print(address.name)\n",
    "    \n",
    "    # If there is a line1 in the address, print it\n",
    "    if address.line1:\n",
    "        print(address.line1)\n",
    "        \n",
    "    # If there is a line2 in the address, print it\n",
    "    if address.line2:\n",
    "        print( address.line2 )\n",
    "        \n",
    "    print(f\"city : {address.city}\")\n"
   ]
  },
  {
   "cell_type": "code",
   "execution_count": 11,
   "metadata": {
    "slideshow": {
     "slide_type": "slide"
    }
   },
   "outputs": [
    {
     "name": "stdout",
     "output_type": "stream",
     "text": [
      "Hemma Philamore\n",
      "city : None\n",
      "\n",
      "Dr Philamore\n",
      "Mechatronics Lab, Room d1S12\n",
      "C Cluster, Kyotodaigaku Katsura,\n",
      "city : Kyoto\n"
     ]
    }
   ],
   "source": [
    "print_address(home_address)\n",
    "print()\n",
    "print_address(office_address)"
   ]
  },
  {
   "cell_type": "markdown",
   "metadata": {
    "slideshow": {
     "slide_type": "slide"
    }
   },
   "source": [
    "<a id='Methods'></a>\n",
    "# 2. Methods\n",
    "\n",
    "\n",
    "\n",
    "\n",
    "\n",
    "A method is a function that exists *inside* of a class. \n",
    "\n",
    "Consider a function:\n",
    "\n",
    "```python\n",
    "def move_pads(up, down, vel):\n",
    "    \"\"\" Moves the paddles when keyboard keys are pressed \"\"\"\n",
    "    if pressed[ up ] & pressed[ down ]: \n",
    "        vel[y] = 0\n",
    "    elif pressed[ up ]: \n",
    "        vel[y] = -8\n",
    "    elif pressed[ down ]: \n",
    "        vel[y] = 8\n",
    "    else: \n",
    "        vel[y] = 0\n",
    "        ```\n",
    "\n",
    "__Inputs__ : up key, down key, paddle velocity."
   ]
  },
  {
   "cell_type": "markdown",
   "metadata": {
    "slideshow": {
     "slide_type": "slide"
    }
   },
   "source": [
    "Expanding the earlier example of a Paddle class:\n",
    "\n",
    "```python\n",
    "class Paddle():\n",
    "    \"\"\" This is a class that represents rectangular paddles. \"\"\"\n",
    "    def __init__(self):\n",
    "        \"\"\" This method sets up the class attributes. \"\"\"\n",
    "        self.name = \"Paddle\"\n",
    "        self.width = 40\n",
    "        self.height = 120\n",
    "        self.vel = [0, 0]\n",
    "        self.pos = [0, win_height//2 - self.height]\n",
    "        self.up = None\n",
    "        self.down = None\n",
    "        \n",
    "    def move_pad(self):\n",
    "    \"\"\" Moves the paddles when keyboard keys are pressed \"\"\"\n",
    "        if pressed[ self.up ] & pressed[ self.down = None ]: \n",
    "            self.vel[y] = 0\n",
    "        elif pressed[ self.up ]: \n",
    "            self.vel[y] = -8\n",
    "        elif pressed[ self.down ]: \n",
    "            self.vel[y] = 8\n",
    "        else: \n",
    "            self.vel[y] = 0\n",
    "        ```"
   ]
  },
  {
   "cell_type": "markdown",
   "metadata": {
    "slideshow": {
     "slide_type": "slide"
    }
   },
   "source": [
    "Method definitions in a class look almost exactly like function definitions. \n",
    "\n",
    "The key difference is that the first input parameter is *always* `self`.  <br>This parameter is required even if it is not used in the function. \n",
    "\n",
    "Notice also the addition of `self` before any parameter that is a __class attribute__. \n",
    "\n",
    "`x`, `y` and `win_height` are global variables. \n"
   ]
  },
  {
   "cell_type": "markdown",
   "metadata": {
    "slideshow": {
     "slide_type": "slide"
    }
   },
   "source": [
    "Important points when creating methods for classes:\n",
    "\n",
    "- Attributes should be listed first, followed by methods.  \n",
    "- The first parameter of any method must be `self`.\n",
    "- Method definitions are indented by one tab space. "
   ]
  },
  {
   "cell_type": "markdown",
   "metadata": {
    "slideshow": {
     "slide_type": "slide"
    }
   },
   "source": [
    "Methods may be called in a manner similar to referencing attributes from an object.\n",
    "\n",
    "Note that even through the method `move_pad` has one parameter, `self`, the call does not pass any arguments.\n",
    "\n",
    "We do not need to pass `self` when calling a method. \n",
    "\n",
    "```python \n",
    "# create a paddle object\n",
    "paddle1 = Paddle()\n",
    "\n",
    "# set the keys to control up and down motion of the paddle\n",
    "paddle1.up = pygame.K_UP\n",
    "paddle1.down = pygame.K_DOWN\n",
    "\n",
    "# change the paddle velocity according to if the up or down key has been pressed\n",
    "paddle1.move_pad()\n",
    "```"
   ]
  },
  {
   "cell_type": "markdown",
   "metadata": {
    "slideshow": {
     "slide_type": "slide"
    }
   },
   "source": [
    "All other parameters (with the exception of default arguments), must be passed to the method."
   ]
  },
  {
   "cell_type": "code",
   "execution_count": 12,
   "metadata": {},
   "outputs": [],
   "source": [
    "class MyAddress():\n",
    "    \"\"\" Hold all the fields for a mailing address. \"\"\"\n",
    "    def __init__(self):\n",
    "        \"\"\" This method sets up the class attributes. \"\"\"\n",
    "        self.name = \"Dr Philamore\"\n",
    "        self.line1 = \"Mechatronics Lab, Room d1S12\"\n",
    "        self.line2 = \"C Cluster, Kyotodaigaku Katsura\"\n",
    "        self.ward = \"Nishikyoku\"\n",
    "        self.city = \"Kyoto\"\n",
    "        self.code = \"615-8410\"\n",
    "        \n",
    "    def format_print(self, delimiter='\\n'):\n",
    "        print(self.name + delimiter + \n",
    "              self.line1 + delimiter + \n",
    "              self.line2 + delimiter + \n",
    "              self.ward + delimiter + \n",
    "              self.city + delimiter + \n",
    "              self.code)"
   ]
  },
  {
   "cell_type": "code",
   "execution_count": 13,
   "metadata": {
    "slideshow": {
     "slide_type": "slide"
    }
   },
   "outputs": [
    {
     "name": "stdout",
     "output_type": "stream",
     "text": [
      "Dr Philamore\n",
      "Mechatronics Lab, Room d1S12\n",
      "C Cluster, Kyotodaigaku Katsura\n",
      "Nishikyoku\n",
      "Kyoto\n",
      "615-8410\n",
      "\n",
      "Dr Philamore,Mechatronics Lab, Room d1S12,C Cluster, Kyotodaigaku Katsura,Nishikyoku,Kyoto,615-8410\n"
     ]
    }
   ],
   "source": [
    "my_address = MyAddress()\n",
    "\n",
    "my_address.format_print()\n",
    "\n",
    "print()\n",
    "\n",
    "my_address.format_print(',')"
   ]
  },
  {
   "cell_type": "markdown",
   "metadata": {
    "slideshow": {
     "slide_type": "slide"
    }
   },
   "source": [
    "The constructor can also take input parameters. \n",
    "\n",
    "These input parameters are used to initialise the class:"
   ]
  },
  {
   "cell_type": "code",
   "execution_count": 14,
   "metadata": {},
   "outputs": [],
   "source": [
    "class MyAddress():\n",
    "    \"\"\" Hold all the fields for a mailing address. \"\"\"\n",
    "    def __init__(self, new_name):\n",
    "        \"\"\" This method sets up the class attributes. \"\"\"\n",
    "        self.name = new_name\n",
    "        self.line1 = \"Mechatronics Lab, Room d1S12\"\n",
    "        self.line2 = \"C Cluster, Kyotodaigaku Katsura\"\n",
    "        self.ward = \"Nishikyoku\"\n",
    "        self.city = \"Kyoto\"\n",
    "        self.code = \"615-8410\""
   ]
  },
  {
   "cell_type": "code",
   "execution_count": 15,
   "metadata": {
    "slideshow": {
     "slide_type": "slide"
    }
   },
   "outputs": [
    {
     "name": "stdout",
     "output_type": "stream",
     "text": [
      "Hemma\n"
     ]
    },
    {
     "ename": "TypeError",
     "evalue": "__init__() missing 1 required positional argument: 'new_name'",
     "output_type": "error",
     "traceback": [
      "\u001b[0;31m---------------------------------------------------------------------------\u001b[0m",
      "\u001b[0;31mTypeError\u001b[0m                                 Traceback (most recent call last)",
      "\u001b[0;32m<ipython-input-15-a0898e13a43c>\u001b[0m in \u001b[0;36m<module>\u001b[0;34m\u001b[0m\n\u001b[1;32m      7\u001b[0m \u001b[0;31m# This line will give an error because\u001b[0m\u001b[0;34m\u001b[0m\u001b[0;34m\u001b[0m\u001b[0;34m\u001b[0m\u001b[0m\n\u001b[1;32m      8\u001b[0m \u001b[0;31m# a name is not passed in.\u001b[0m\u001b[0;34m\u001b[0m\u001b[0;34m\u001b[0m\u001b[0;34m\u001b[0m\u001b[0m\n\u001b[0;32m----> 9\u001b[0;31m \u001b[0mher_address\u001b[0m \u001b[0;34m=\u001b[0m \u001b[0mMyAddress\u001b[0m\u001b[0;34m(\u001b[0m\u001b[0;34m)\u001b[0m\u001b[0;34m\u001b[0m\u001b[0;34m\u001b[0m\u001b[0m\n\u001b[0m",
      "\u001b[0;31mTypeError\u001b[0m: __init__() missing 1 required positional argument: 'new_name'"
     ]
    }
   ],
   "source": [
    "# This creates an address\n",
    "my_address = MyAddress(\"Hemma\")\n",
    " \n",
    "# Print the name to verify it was set\n",
    "print(my_address.name)\n",
    " \n",
    "# This line will give an error because\n",
    "# a name is not passed in.\n",
    "her_address = MyAddress()"
   ]
  },
  {
   "cell_type": "markdown",
   "metadata": {
    "slideshow": {
     "slide_type": "slide"
    }
   },
   "source": [
    "<a id='References'></a>\n",
    "# 3. References\n",
    "\n",
    "<br> <a href='#FunctionsReferences'>3.1 Functions and References</a>\n",
    "\n",
    "\n",
    "Recall, we create an *instance* of a class using the class name followed by parentheses. \n",
    "\n",
    "e.g. `my_address = MyAddress()`\n",
    "\n",
    "The variable `my_address` is a __reference__ to the `Address` class object that has just been created. \n",
    "\n",
    "What does this mean in a practical sense? "
   ]
  },
  {
   "cell_type": "markdown",
   "metadata": {
    "slideshow": {
     "slide_type": "slide"
    }
   },
   "source": [
    "Conside the example below:"
   ]
  },
  {
   "cell_type": "code",
   "execution_count": null,
   "metadata": {},
   "outputs": [],
   "source": [
    "class Student():\n",
    "    def __init__(self):\n",
    "        self.name = \"\"\n",
    "        self.score = 0"
   ]
  },
  {
   "cell_type": "code",
   "execution_count": null,
   "metadata": {
    "slideshow": {
     "slide_type": "slide"
    }
   },
   "outputs": [],
   "source": [
    "# create a reference to a Student object\n",
    "farhad = Student()\n",
    "farhad.name = \"Farhad\"\n",
    "farhad.score = 100\n",
    "\n",
    "# create a reference to ANOTHER Student object\n",
    "ayako = Student()\n",
    "ayako.name = \"Ayako\"\n",
    " \n",
    "print(farhad.name, \"has\", farhad.score, \"points.\")\n",
    "print(ayako.name, \"has\", ayako.score, \"points.\")"
   ]
  },
  {
   "cell_type": "markdown",
   "metadata": {
    "slideshow": {
     "slide_type": "slide"
    }
   },
   "source": [
    "The example below is almost the same, but has an important difference:"
   ]
  },
  {
   "cell_type": "code",
   "execution_count": null,
   "metadata": {},
   "outputs": [],
   "source": [
    "# create a reference to a Student object\n",
    "farhad = Student()\n",
    "farhad.name = \"Farhad\"\n",
    "farhad.score = 100\n",
    "\n",
    "# create a reference to THE SAME Student object\n",
    "ayako = farhad\n",
    "ayako.name = \"Ayako\"\n",
    " \n",
    "print(farhad.name, \"has\", farhad.score, \"points.\")\n",
    "print(ayako.name, \"has\", ayako.score, \"points.\")"
   ]
  },
  {
   "cell_type": "markdown",
   "metadata": {
    "slideshow": {
     "slide_type": "slide"
    }
   },
   "source": [
    "A common error when working with objects is to assume that the variable bob *is* the Person object. \n",
    "\n",
    "This is not the case. \n",
    "\n",
    "The variable `farhad` is a __reference__ to the `Student` object. \n",
    "\n",
    "The variable `ayako` copies the reference, so is a reference to __the same__ `Student` object. \n",
    "\n",
    "<img src=\"img/references.png\" alt=\"Drawing\" style=\"width: 400px;\"/>\n",
    "\n",
    "\n",
    "\n",
    "\n",
    "\n"
   ]
  },
  {
   "cell_type": "markdown",
   "metadata": {
    "slideshow": {
     "slide_type": "slide"
    }
   },
   "source": [
    "The reference stores the *memory address* of where the object is, and *not* the object itself.\n",
    "\n",
    "The address refers to the place in computer memory for where the object is stored. \n",
    "\n",
    "This address is a hexadecimal number which, if printed out, might look something like 0x1e504.\n",
    "\n",
    "The reference is also known as an *address*, *pointer* or *handle*. "
   ]
  },
  {
   "cell_type": "markdown",
   "metadata": {
    "slideshow": {
     "slide_type": "slide"
    }
   },
   "source": [
    "If `farhad` actually was the object, then:\n",
    "-  `ayako = farhad` would create a copy of the `farhad` object and there would be two objects. \n",
    "- The output of the program would show `Farhad` and `Ayako` having 100 dollars *not* `Ayako` and `Ayako` having 100 dollars. "
   ]
  },
  {
   "cell_type": "markdown",
   "metadata": {
    "slideshow": {
     "slide_type": "slide"
    }
   },
   "source": [
    "<a id='FunctionsReferences'></a>\n",
    "## 3.1 Functions and References"
   ]
  },
  {
   "cell_type": "markdown",
   "metadata": {
    "slideshow": {
     "slide_type": "slide"
    }
   },
   "source": [
    "Look at the example below. \n",
    "\n",
    "Line 1 creates a function that takes a number as an input parameter. \n",
    "\n",
    "`score` is a variable that contains a copy of the data that was passed in. \n",
    "\n",
    "Adding 100 to that number does not change the number stored in `farhad.score`. "
   ]
  },
  {
   "cell_type": "code",
   "execution_count": null,
   "metadata": {},
   "outputs": [],
   "source": [
    "def add_points1(score):\n",
    "    score += 100\n",
    "    \n",
    "add_points1(farhad.score)\n",
    "\n",
    "print(farhad.score)"
   ]
  },
  {
   "cell_type": "markdown",
   "metadata": {
    "slideshow": {
     "slide_type": "slide"
    }
   },
   "source": [
    "The print therefore prints `100`, not `200`.\n",
    "\n",
    "A local variable `score` is created within `add_points1`.\n",
    "\n",
    "<img src=\"img/add_points1.png\" alt=\"Drawing\" style=\"width: 400px;\"/>"
   ]
  },
  {
   "cell_type": "markdown",
   "metadata": {
    "slideshow": {
     "slide_type": "slide"
    }
   },
   "source": [
    "Alternatively, the code below __does__ increase `farhad.score`"
   ]
  },
  {
   "cell_type": "code",
   "execution_count": null,
   "metadata": {},
   "outputs": [],
   "source": [
    "def add_points2(student):\n",
    "    student.score += 100\n",
    "    \n",
    "add_points2(farhad)\n",
    "\n",
    "print(farhad.score)"
   ]
  },
  {
   "cell_type": "markdown",
   "metadata": {
    "slideshow": {
     "slide_type": "slide"
    }
   },
   "source": [
    "### What does this code do?\n",
    "\n",
    "The parameter `student` contains a *copy* of the memory address of the object, *not* the actual object. \n",
    "\n",
    "Data structures (lists) work the same way. \n",
    "\n",
    "A function that takes in a list as a parameter can modify elements of the list using the list index. \n",
    "\n",
    "The index is *reference/pointer* to the element. "
   ]
  },
  {
   "cell_type": "code",
   "execution_count": null,
   "metadata": {},
   "outputs": [],
   "source": [
    "def change_my_list(my_list):\n",
    "    \"\"\" Add 2 to each item in the list \"\"\"\n",
    "    for i in list(range(len(my_list))):\n",
    "        my_list[i]+=2\n",
    "        \n",
    "a_list = [0, 1, 2]\n",
    "\n",
    "change_my_list(a_list)\n",
    "\n",
    "print(a_list)"
   ]
  },
  {
   "cell_type": "markdown",
   "metadata": {
    "slideshow": {
     "slide_type": "slide"
    }
   },
   "source": [
    "<a id='Inheritance'></a>\n",
    "# 4. Inheritance\n",
    "\n",
    "<br> <a href='#super'>4.1 `super`</a>\n",
    "<br> <a href='#Overriding'>4.2 Overriding</a>\n",
    "\n",
    "It is possible to create a class and inherit all of the attributes and methods of a parent class.\n",
    "\n",
    "For example, a class called `Person` could have all the attributes needed to represent a person in a game."
   ]
  },
  {
   "cell_type": "code",
   "execution_count": null,
   "metadata": {
    "slideshow": {
     "slide_type": "slide"
    }
   },
   "outputs": [],
   "source": [
    "class Person():\n",
    "    def __init__(self):\n",
    "        self.name = \"\"\n",
    "        self.age = None\n",
    "        self.is_sitting = True\n",
    " \n",
    "    def sit(self):\n",
    "        if self.is_sitting:\n",
    "            print(\"You are already sitting.\")\n",
    "        else:\n",
    "            self.is_sitting = True\n",
    "            print(\"Sitting down\")\n",
    "            \n",
    "    def stand(self):\n",
    "        if not self.is_sitting:\n",
    "            print(\"You are already standing.\")\n",
    "        else:\n",
    "            self.is_sitting = False\n",
    "            print(\"Standing up\")"
   ]
  },
  {
   "cell_type": "code",
   "execution_count": null,
   "metadata": {
    "slideshow": {
     "slide_type": "slide"
    }
   },
   "outputs": [],
   "source": [
    "p = Person()\n",
    "p.stand()\n",
    "p.stand()\n",
    "p.sit()\n",
    "p.sit()\n"
   ]
  },
  {
   "cell_type": "markdown",
   "metadata": {
    "slideshow": {
     "slide_type": "slide"
    }
   },
   "source": [
    "Now let's create a student. A student can do everything a person can do, *and additionally* a student can study. \n",
    "\n",
    "Without inheritance we have two options:\n",
    "- add the `study()` method to a `Person` object. <br>This can confuse things as not all people study. \n",
    "\n",
    "- create a copy of the `Person` class and call it `Student`. We add the `study()` method to the `Student` class. <br>This can cause problems if we make changes to the `Person` class. A developer would need to remember that they need to change not only the `Person` class, but also the `Student` class. Maintaining this synchronicity is time consuming and error-prone."
   ]
  },
  {
   "cell_type": "markdown",
   "metadata": {
    "slideshow": {
     "slide_type": "slide"
    }
   },
   "source": [
    "Inheritance allows us to create child classes that __inherit__ all attributes and methods of the parent class. \n",
    "\n",
    "We can then add attributes and methods that are specific to the child class. \n",
    "\n",
    "If the parent class is changed, the child class will automatically inherit the changes. "
   ]
  },
  {
   "cell_type": "code",
   "execution_count": null,
   "metadata": {},
   "outputs": [],
   "source": [
    "class Student(Person):            \n",
    "    def study(self):\n",
    "        print(\"You are studying.\")"
   ]
  },
  {
   "cell_type": "code",
   "execution_count": null,
   "metadata": {
    "slideshow": {
     "slide_type": "slide"
    }
   },
   "outputs": [],
   "source": [
    "student = Student()\n",
    "\n",
    "student.study()\n",
    "\n",
    "student.sit()"
   ]
  },
  {
   "cell_type": "markdown",
   "metadata": {
    "slideshow": {
     "slide_type": "slide"
    }
   },
   "source": [
    "`student` has inherited all attributes and methods from the `Person` class. \n",
    "\n",
    "The method `study` was added to `Student`. \n",
    "\n",
    "But what if we have a method in both the child and parent class?\n",
    "\n",
    "For example, to add initialisation variables to the child class we need an `__init__` methid. "
   ]
  },
  {
   "cell_type": "markdown",
   "metadata": {
    "slideshow": {
     "slide_type": "slide"
    }
   },
   "source": [
    "<a id='super'></a>\n",
    "## 4.1 `super`\n",
    "Using `super()` followed by a dot `.` and then a method name allows you to call the parent's version of the method.\n",
    "\n",
    "If you are writing a method for a child and want to call a parent method, normally it will be the first statement in the child method.\n",
    "Let's look at some examples:"
   ]
  },
  {
   "cell_type": "markdown",
   "metadata": {
    "slideshow": {
     "slide_type": "slide"
    }
   },
   "source": [
    "`Employee` calls the `__init__` function from parent class `Person` and adds the attribute, `job_title`:"
   ]
  },
  {
   "cell_type": "code",
   "execution_count": null,
   "metadata": {},
   "outputs": [],
   "source": [
    "class Employee(Person):\n",
    "    def __init__(self):\n",
    "        # Call the parent/super class constructor first\n",
    "        super().__init__()\n",
    " \n",
    "        # Variables specific to the child class\n",
    "        self.job_title = \"\""
   ]
  },
  {
   "cell_type": "markdown",
   "metadata": {
    "slideshow": {
     "slide_type": "slide"
    }
   },
   "source": [
    "`Customer`:\n",
    "- calls the `__init__` function from parent class `Person` and adds the attribute, `email`.\n",
    "- calls the `sit` function from parent class `Person` and adds a print statement. "
   ]
  },
  {
   "cell_type": "code",
   "execution_count": null,
   "metadata": {},
   "outputs": [],
   "source": [
    "class Customer(Person):\n",
    "    def __init__(self):\n",
    "        super().__init__()\n",
    "        self.email = \"\"\n",
    " \n",
    "    def stand(self):\n",
    "        # Run the parent sit:\n",
    "        super().stand()\n",
    "        # Add more actions to the end \n",
    "        print(\"Customer e-mail:\", self.email)"
   ]
  },
  {
   "cell_type": "markdown",
   "metadata": {
    "slideshow": {
     "slide_type": "slide"
    }
   },
   "source": [
    "<a id='Overriding'></a>\n",
    "## 4.2 Overriding\n",
    "Methods can be overridden by a child class to achive different functionality. "
   ]
  },
  {
   "cell_type": "code",
   "execution_count": null,
   "metadata": {},
   "outputs": [],
   "source": [
    "class Baby(Person):\n",
    "    def __init__(self):\n",
    "        # Call the parent/super class constructor first\n",
    "        super().__init__()\n",
    " \n",
    "    def stand(self):\n",
    "        # Here we override stand and do something else\n",
    "        print(f\"Well done baby {self.name}, you learned to stand!\")"
   ]
  },
  {
   "cell_type": "code",
   "execution_count": null,
   "metadata": {
    "slideshow": {
     "slide_type": "slide"
    }
   },
   "outputs": [],
   "source": [
    "john = Person()\n",
    "john.name = \"John Smith\"\n",
    " \n",
    "sam = Employee()\n",
    "sam.name = \"Sam Smith\"\n",
    "sam.job_title = \"Web Developer\"\n",
    " \n",
    "louis = Customer()\n",
    "louis.name = \"Louis Pearl\"\n",
    "louis.email = \"lpearl@spam.com\"\n",
    "\n",
    "mia = Baby()\n",
    "mia.name = \"Baby Mia\""
   ]
  },
  {
   "cell_type": "code",
   "execution_count": null,
   "metadata": {
    "slideshow": {
     "slide_type": "-"
    }
   },
   "outputs": [],
   "source": [
    "john.stand() # Person"
   ]
  },
  {
   "cell_type": "code",
   "execution_count": null,
   "metadata": {
    "slideshow": {
     "slide_type": "-"
    }
   },
   "outputs": [],
   "source": [
    "sam.stand() # Employee"
   ]
  },
  {
   "cell_type": "code",
   "execution_count": null,
   "metadata": {},
   "outputs": [],
   "source": [
    "louis.stand() # Customer"
   ]
  },
  {
   "cell_type": "code",
   "execution_count": null,
   "metadata": {},
   "outputs": [],
   "source": [
    "mia.stand() # Baby"
   ]
  },
  {
   "cell_type": "markdown",
   "metadata": {
    "slideshow": {
     "slide_type": "slide"
    }
   },
   "source": [
    "<a id='StaticVariablesInstanceVariables'></a>\n",
    "# 5. Static Variables vs. Instance Variables\n",
    "\n",
    "\n",
    "\n",
    "The difference between static and instance variables can be confusing. \n",
    "\n",
    "__Instance Variable__ : <br>The type of class variable we've used so far. <br>Each instance of the class gets its own value. \n",
    "<br>For example, each person has their own age. \n",
    "<br>With instance variables, we can't just use the variable `age`. We need to specify whose age we are talking about. <br>Also, if there are no people, then referring to an age will not make sense.\n",
    "\n",
    "__Static Variable__ : <br>The value is the same for every single instance of the class. <br>Even if there are no instances, there still is a value for a static variable. <br>For example, we could have a `count` static variable for the number of `Person` objects in existence. If there are no people, this value is zero, but it still exists."
   ]
  },
  {
   "cell_type": "code",
   "execution_count": null,
   "metadata": {
    "slideshow": {
     "slide_type": "slide"
    }
   },
   "outputs": [],
   "source": [
    "# Example of an instance variable\n",
    "class ClassA():\n",
    "    def __init__(self):\n",
    "        self.y = 3\n",
    " \n",
    "# Example of a static variable\n",
    "class ClassB():\n",
    "    x = 7\n",
    " \n",
    "# Create class instances\n",
    "a = ClassA()\n",
    "b = ClassB()\n",
    " \n",
    "# Two ways to print the static variable.\n",
    "# The second way is the proper way to do it.\n",
    "print(b.x)\n",
    "print(ClassB.x)\n",
    " \n",
    "# One way to print an instance variable.\n",
    "# The second generates an error, because we don't know what instance\n",
    "# to reference.\n",
    "print(a.y)\n",
    "print(ClassA.y)"
   ]
  },
  {
   "cell_type": "markdown",
   "metadata": {
    "slideshow": {
     "slide_type": "slide"
    }
   },
   "source": [
    "It is possible to have a static variable, and an instance variable with the same name. "
   ]
  },
  {
   "cell_type": "code",
   "execution_count": null,
   "metadata": {},
   "outputs": [],
   "source": [
    "# Class with a static variable\n",
    "class ClassB():\n",
    "    x = 7\n",
    " \n",
    "# Create a class instance\n",
    "b = ClassB()\n",
    " \n",
    "# This prints 7\n",
    "print(b.x)\n",
    " \n",
    "# This also prints 7\n",
    "print(ClassB.x)"
   ]
  },
  {
   "cell_type": "code",
   "execution_count": null,
   "metadata": {
    "slideshow": {
     "slide_type": "slide"
    }
   },
   "outputs": [],
   "source": [
    "# Set x to a new value using the class name\n",
    "ClassB.x = 8\n",
    " \n",
    "# This also prints 8\n",
    "print(b.x)\n",
    " \n",
    "# This prints 8\n",
    "print(ClassB.x)"
   ]
  },
  {
   "cell_type": "code",
   "execution_count": null,
   "metadata": {
    "slideshow": {
     "slide_type": "slide"
    }
   },
   "outputs": [],
   "source": [
    "# Set x to a new value using the instance b.\n",
    "# It creates a new attribute instance, x. \n",
    "# The static variable is also called x.\n",
    "# But they are two different variables. \n",
    "b.x = 9\n",
    " \n",
    "# This prints 9\n",
    "print(b.x)\n",
    " \n",
    "\n",
    "# This prints 8. NOT 9!!!\n",
    "print(ClassB.x)"
   ]
  },
  {
   "cell_type": "markdown",
   "metadata": {
    "collapsed": true,
    "slideshow": {
     "slide_type": "slide"
    }
   },
   "source": [
    "# Summary\n",
    "<a id='Summary'></a>\n",
    "- __Class__ : a “classification” of an object. \n",
    "<br>e.g.“person” or “image.” \n",
    "\n",
    "- __Object__ : a particular *instance* of a class. \n",
    "<br>e.g. \"Hemma\" is an instance of “Person.”\n",
    "\n",
    "- __Attributes__ : *Variables* that belong an object.\n",
    "<br>e.g. person's name, height, and age. \n",
    "\n",
    "- __Methods__ : *Functions* belong to an object i.e. actions that an object can do.\n",
    "<br>e.g. run, jump, sit.\n",
    "\n",
    "- Class names should begin with a capital letter e.g. Fish, Person\n",
    "\n",
    "- Every class should have a constructor method called `__init__` to set up the class attributes. \n",
    "\n",
    "- Inheritance allows us to create child classes that __inherit__ all attributes and methods of the parent class. \n",
    "\n",
    "- Using `super()` followed by a dot `.` and then a method name allows you to call the parent's version of the method.\n",
    "\n",
    "- If `super` is not used, the parent methid can be overwritten with a new methid of the same name. \n",
    "\n",
    "- __Instance Variable__ : Each instance of the class gets its own value. \n",
    "\n",
    "- __Static Variable__ : The value is the same for every single instance of the class. "
   ]
  },
  {
   "cell_type": "markdown",
   "metadata": {
    "slideshow": {
     "slide_type": "slide"
    }
   },
   "source": [
    "<a id='ReviewExercises'></a>\n",
    "# 6. Review Exercises\n",
    "\n",
    "Compete the exercises below.\n",
    "\n",
    "Save your answers as .py files and email them to:\n",
    "<br>philamore.hemma.5s@kyoto-u.ac.jp"
   ]
  },
  {
   "cell_type": "markdown",
   "metadata": {
    "slideshow": {
     "slide_type": "slide"
    }
   },
   "source": [
    "# Review Exercise 1: An instance of a class\n",
    "In the cell below, write code to create an instance of this class and set its attributes. "
   ]
  },
  {
   "cell_type": "code",
   "execution_count": null,
   "metadata": {},
   "outputs": [],
   "source": [
    "# Review Exercise 1: An instance of a class\n",
    "class Cat():\n",
    "    def __init__(self):\n",
    "        self.age = None\n",
    "        self.name = None\n",
    "        self.weight = None"
   ]
  },
  {
   "cell_type": "markdown",
   "metadata": {
    "slideshow": {
     "slide_type": "slide"
    }
   },
   "source": [
    "# Review Exercise 2: Multiple objects \n",
    "Write code to create two different instances of this class and set attributes for both objects. \n",
    "\n",
    "*Hint: While a phone number is a number BUT it should be stored as string to keep leading zeros and dashes*."
   ]
  },
  {
   "cell_type": "code",
   "execution_count": null,
   "metadata": {},
   "outputs": [],
   "source": [
    "# Review Exercise 2: Multiple objects \n",
    "class Person():\n",
    "    def __init__(self):\n",
    "        self.name = \"\"\n",
    "        self.cell_phone = \"\"\n",
    "        self.email = \"\""
   ]
  },
  {
   "cell_type": "markdown",
   "metadata": {},
   "source": [
    "# Review Exercise 3: Write a Class\n",
    "\n",
    "For the code below, write a class that has the appropriate class name and attributes that will allow the code to work."
   ]
  },
  {
   "cell_type": "code",
   "execution_count": null,
   "metadata": {},
   "outputs": [],
   "source": [
    "# Review Exercise 3: Write a Class\n",
    "my_fish = Fish()\n",
    "my_fish.color = \"green\"\n",
    "my_fish.name = \"Eric\"\n",
    "my_fish.breed = \"Saba\""
   ]
  },
  {
   "cell_type": "markdown",
   "metadata": {},
   "source": [
    "# Review Exercise 4: Write your own Class\n",
    "\n",
    "In the cell below, define a class to represent a character in a simple game. \n",
    "\n",
    "Include attributes for:\n",
    "- position\n",
    "- name\n",
    "- strength"
   ]
  },
  {
   "cell_type": "code",
   "execution_count": null,
   "metadata": {},
   "outputs": [],
   "source": [
    "# Review Exercise 4: Write your own Class\n",
    "\n"
   ]
  },
  {
   "cell_type": "markdown",
   "metadata": {},
   "source": [
    "# Review Exercise 5: Correct the Errors\n",
    "\n",
    "Find and correct the errors in the code below:\n",
    "\n",
    "a) The code should give the person `hemma` 100 units of money.\n",
    "\n",
    "b) The code should print `Farhad has 0 yen`. "
   ]
  },
  {
   "cell_type": "code",
   "execution_count": null,
   "metadata": {},
   "outputs": [],
   "source": [
    "# Review Exercise 5a: Correct the Errors\n",
    "class Person():\n",
    "    def __init__(self):\n",
    "        self.name = \"\"\n",
    "        self.money = 0\n",
    " \n",
    "hemma = Person()\n",
    "name = \"Hemma\"\n",
    "money = 100\n",
    "print(hemma.money)"
   ]
  },
  {
   "cell_type": "code",
   "execution_count": null,
   "metadata": {},
   "outputs": [],
   "source": [
    "# Review Exercise 5b: Correct the Errors\n",
    "class Human():\n",
    "    def __init__(self):\n",
    "        self.name = \"\"\n",
    "        self.money = 0\n",
    " \n",
    "farhad = Human()\n",
    "print(farhad.name, \"has\", money, \"yen\")"
   ]
  },
  {
   "cell_type": "code",
   "execution_count": null,
   "metadata": {},
   "outputs": [],
   "source": []
  }
 ],
 "metadata": {
  "celltoolbar": "Slideshow",
  "kernelspec": {
   "display_name": "Python 3",
   "language": "python",
   "name": "python3"
  },
  "language_info": {
   "codemirror_mode": {
    "name": "ipython",
    "version": 3
   },
   "file_extension": ".py",
   "mimetype": "text/x-python",
   "name": "python",
   "nbconvert_exporter": "python",
   "pygments_lexer": "ipython3",
   "version": "3.7.4"
  }
 },
 "nbformat": 4,
 "nbformat_minor": 2
}
