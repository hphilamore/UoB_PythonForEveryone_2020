{
 "cells": [
  {
   "cell_type": "markdown",
   "metadata": {
    "slideshow": {
     "slide_type": "slide"
    }
   },
   "source": [
    "<img src=\"img/full-colour-logo-UoB.png\" alt=\"Drawing\" style=\"width: 200px;\"/>\n",
    "\n",
    "# Introduction to Programming for Everyone\n",
    "\n",
    "## Python 3\n",
    "\n",
    "\n"
   ]
  },
  {
   "cell_type": "markdown",
   "metadata": {
    "collapsed": true,
    "slideshow": {
     "slide_type": "slide"
    }
   },
   "source": [
    "# 06 Functions\n",
    "## CLASS MATERIAL\n",
    "\n",
    "<br> <a href='#Function'>1. What is a Function?</a>\n",
    "<br> <a href='#AnatomyFunction'>2. The Anatomy of a Function</a> \n",
    "<br> <a href='#WritingFunctionsCodeReadable'>3. Writing Functions to make Code more Readable</a> \n",
    "<br> <a href='#WritingFunctionsAvoidRepetition'>4. Writing Functions to Avoid Repetition</a> \n",
    "<br> <a href='#Scope'>5. Scope</a>\n",
    "<br> <a href='#ReviewExercises'>6. Review Exercises</a>"
   ]
  },
  {
   "cell_type": "markdown",
   "metadata": {
    "slideshow": {
     "slide_type": "slide"
    }
   },
   "source": [
    "<a id='Summary'></a>\n",
    "# Supplementary Material Summary \n",
    "For more information refer to the Primer Notebook for this class 06_Functions__SupplementaryMaterial.ipynb\n",
    "\n",
    "\n",
    " - Functions are defined using the `def` keyword.\n",
    " - Functions contain indented statements to execute when the function is called.\n",
    " - Global variables can be used eveywhere.\n",
    " - Local variables can be used within the function in which they are defined.\n",
    " - Function arguments (inputs) are declared between () parentheses, seperated by commas.\n",
    " - Function arguments muct be specified each time a function is called. \n",
    " - Default arguments do not need to be specified when a function is called unless different values are to be used. \n",
    " - The keyword used to define the function outputs is `return`"
   ]
  },
  {
   "cell_type": "markdown",
   "metadata": {
    "slideshow": {
     "slide_type": "slide"
    }
   },
   "source": [
    "### Lesson Goal\n",
    "\n",
    "1. Learn the format to construct a function \n",
    "2. Re-write the Pong program using functions\n",
    "\n",
    "### Fundamental programming concepts\n",
    " - Re-using code by encapsuating it in user-defined functions\n",
    " - File hierarchy"
   ]
  },
  {
   "cell_type": "markdown",
   "metadata": {
    "slideshow": {
     "slide_type": "slide"
    }
   },
   "source": [
    "Let’s start by finding out what a function is…"
   ]
  },
  {
   "cell_type": "markdown",
   "metadata": {
    "slideshow": {
     "slide_type": "slide"
    }
   },
   "source": [
    "<a id='Function'></a>\n",
    "# 1.What is a Function?\n",
    "\n",
    "Functions are one of the most important concepts in programming.\n",
    "\n",
    "__Function__: A named section of a code that performs a specific task."
   ]
  },
  {
   "cell_type": "markdown",
   "metadata": {
    "slideshow": {
     "slide_type": "slide"
    }
   },
   "source": [
    "In mathematics, a function is a relation between __inputs__ and a set of permissible __outputs__.\n",
    "\n",
    "Example: The *function* relating $x$ to $x^2$ is:\n",
    "$$ \n",
    "f(x) = x \\cdot x\n",
    "$$"
   ]
  },
  {
   "cell_type": "markdown",
   "metadata": {
    "slideshow": {
     "slide_type": "slide"
    }
   },
   "source": [
    "In programming, a function behaves in a similar way. \n",
    "\n",
    "A function can take data as __input(s)__ and return __output(s)__.\n",
    "\n",
    "A simple function example:\n",
    " - Inputs: the coordinates of the vertices of a triangle.\n",
    " - Output: the area of the triangle. "
   ]
  },
  {
   "cell_type": "markdown",
   "metadata": {
    "slideshow": {
     "slide_type": "slide"
    }
   },
   "source": [
    "Note : Not all functions take inputs and not all functions return outputs as we will see...\n",
    "\n",
    " \n"
   ]
  },
  {
   "cell_type": "markdown",
   "metadata": {
    "slideshow": {
     "slide_type": "slide"
    }
   },
   "source": [
    "You are already familiar with some *built in* Python functions..."
   ]
  },
  {
   "cell_type": "markdown",
   "metadata": {
    "collapsed": true,
    "slideshow": {
     "slide_type": "slide"
    }
   },
   "source": [
    "`print()` \n",
    " \n",
    " __Input:__ a value or variable name specified within the parentheses\n",
    " \n",
    " __Output:__ a visible representation\n",
    "  "
   ]
  },
  {
   "cell_type": "code",
   "execution_count": 1,
   "metadata": {},
   "outputs": [
    {
     "name": "stdout",
     "output_type": "stream",
     "text": [
      "Today we will learn about functions\n"
     ]
    }
   ],
   "source": [
    "print(\"Today we will learn about functions\")"
   ]
  },
  {
   "cell_type": "markdown",
   "metadata": {
    "collapsed": true,
    "slideshow": {
     "slide_type": "slide"
    }
   },
   "source": [
    "`len()` \n",
    "  \n",
    "__Input:__ a data structure or variable name (asigned to a data structure) specified within the parentheses.\n",
    "\n",
    "__Output:__ the number of items in the data structure (in one dimension).\n",
    "  "
   ]
  },
  {
   "cell_type": "code",
   "execution_count": 2,
   "metadata": {},
   "outputs": [
    {
     "name": "stdout",
     "output_type": "stream",
     "text": [
      "35\n"
     ]
    }
   ],
   "source": [
    "print(len(\"Today we will learn about functions\"))"
   ]
  },
  {
   "cell_type": "markdown",
   "metadata": {
    "slideshow": {
     "slide_type": "slide"
    }
   },
   "source": [
    "`sorted()` \n",
    "\n",
    "__Input:__ a data structure or variable name (asigned to a data structure) specified within the parentheses. \n",
    "\n",
    "__Output:__ the data structure sorted by a rule determined by the data type.\n",
    "   "
   ]
  },
  {
   "cell_type": "code",
   "execution_count": 3,
   "metadata": {},
   "outputs": [
    {
     "name": "stdout",
     "output_type": "stream",
     "text": [
      "[' ', ' ', ' ', ' ', ' ', 'T', 'a', 'a', 'a', 'b', 'c', 'd', 'e', 'e', 'f', 'i', 'i', 'l', 'l', 'l', 'n', 'n', 'n', 'o', 'o', 'o', 'r', 's', 't', 't', 'u', 'u', 'w', 'w', 'y']\n"
     ]
    }
   ],
   "source": [
    "print(sorted(\"Today we will learn about functions\"))"
   ]
  },
  {
   "cell_type": "markdown",
   "metadata": {
    "slideshow": {
     "slide_type": "slide"
    }
   },
   "source": [
    "Most Python programs contain a number of *custom functions*. \n",
    "\n",
    "These are functions, created by the programmer (you!) to perform a specific task."
   ]
  },
  {
   "cell_type": "markdown",
   "metadata": {
    "slideshow": {
     "slide_type": "slide"
    }
   },
   "source": [
    "<a id='AnatomyFunction'></a>\n",
    "# 2. The Anatomy of a Function\n",
    "\n",
    "\n",
    "\n",
    "\n",
    "\n",
    "Here is a python function:\n",
    "```python\n",
    "def sum_and_increment(a, b):    \n",
    "    c = a + b + 1\n",
    "    return c\n",
    "```\n",
    "            \n",
    "\n"
   ]
  },
  {
   "cell_type": "markdown",
   "metadata": {
    "slideshow": {
     "slide_type": "slide"
    }
   },
   "source": [
    "### Function Checklist\n",
    "<a id='FunctionChecklist'></a>\n",
    "A function is __declared__ using:\n",
    "1. The definition keyword, __`def`__.\n",
    "1. A __function name__ of your choice.\n",
    "1. __() parentheses__ which optionally contain __arguments__ (the *inputs* to the function)\n",
    "1. __: a colon__ character\n",
    "1. A __documentation string__ that says what the function does.\n",
    "1. The __body code__ to be executed when the function is *called*.\n",
    "1. An optional __return__ statement (the *output* of the function)\n",
    "\n",
    "<img src=\"img/function_anotated.png\" alt=\"Drawing\" style=\"width: 600px;\"/>\n"
   ]
  },
  {
   "cell_type": "code",
   "execution_count": 4,
   "metadata": {},
   "outputs": [],
   "source": [
    "def sum_and_increment(a, b):    \n",
    "    c = a + b + 1\n",
    "    return c\n",
    "\n",
    "d =sum_and_increment(2, 3)"
   ]
  },
  {
   "cell_type": "markdown",
   "metadata": {
    "slideshow": {
     "slide_type": "slide"
    }
   },
   "source": [
    "To execute (*call*) the function, type:\n",
    " - a variable to store the output if the function `return`s a value\n",
    " - the function name\n",
    " - any arguments \n",
    " \n",
    " ```d =sum_and_increment(2, 3)```"
   ]
  },
  {
   "cell_type": "markdown",
   "metadata": {
    "slideshow": {
     "slide_type": "slide"
    }
   },
   "source": [
    "<a id='Function'></a>\n",
    "## Why use Functions?\n",
    "\n",
    "There are two main reasons for using functions:\n",
    "\n",
    "1. To make the code more easy-to-read/understand\n",
    "1. To avoid repetition"
   ]
  },
  {
   "cell_type": "markdown",
   "metadata": {
    "slideshow": {
     "slide_type": "slide"
    }
   },
   "source": [
    "The section of the code that the name refers to is stored elsewhereso the main body of the code is neater and easier to read. "
   ]
  },
  {
   "cell_type": "markdown",
   "metadata": {
    "slideshow": {
     "slide_type": "slide"
    }
   },
   "source": [
    "Computer code can be re-used multiple times, sometimes with different input data. \n",
    "\n",
    "Re-using code reduces the risk of making mistakes or errors. "
   ]
  },
  {
   "cell_type": "code",
   "execution_count": 5,
   "metadata": {},
   "outputs": [
    {
     "name": "stdout",
     "output_type": "stream",
     "text": [
      "6\n",
      "6\n",
      "11\n"
     ]
    }
   ],
   "source": [
    "print(sum_and_increment(2, 3))\n",
    "print(sum_and_increment(1, 4))\n",
    "print(sum_and_increment(3, 7))"
   ]
  },
  {
   "cell_type": "code",
   "execution_count": 6,
   "metadata": {
    "slideshow": {
     "slide_type": "slide"
    }
   },
   "outputs": [
    {
     "name": "stdout",
     "output_type": "stream",
     "text": [
      "8\n",
      "21\n",
      "12\n"
     ]
    }
   ],
   "source": [
    "m = sum_and_increment(3, 4)\n",
    "print(m)  # Expect 8\n",
    "\n",
    "m = 10\n",
    "n = sum_and_increment(m, m)\n",
    "print(n)  # Expect 21\n",
    "\n",
    "l = 5\n",
    "m = 6\n",
    "n = sum_and_increment(m, l)\n",
    "print(n) # Expect 12"
   ]
  },
  {
   "cell_type": "markdown",
   "metadata": {
    "slideshow": {
     "slide_type": "slide"
    }
   },
   "source": [
    "<a id='WritingFunctionsCodeReadable'></a>\n",
    "# 3. Writing Functions to Make Code More Readable\n",
    "\n",
    "Writing functions allows us to group lines of code that belong to a single operation.\n",
    "\n",
    "Let's do an example using the pygame library...\n"
   ]
  },
  {
   "cell_type": "markdown",
   "metadata": {
    "slideshow": {
     "slide_type": "slide"
    }
   },
   "source": [
    "### Example : Drawing Objects with Multiple Shapes\n",
    "<a id='ExampleDrawingObjectsMultipleShapes'></a>\n",
    "We begin with the basic code you need to write a game.\n",
    "\n",
    "Open : Templates/game_template.py\n",
    "\n",
    "Select File >> Save as...\n",
    "\n",
    "Save your file as tree.py"
   ]
  },
  {
   "cell_type": "code",
   "execution_count": 7,
   "metadata": {
    "slideshow": {
     "slide_type": "slide"
    }
   },
   "outputs": [
    {
     "name": "stdout",
     "output_type": "stream",
     "text": [
      "pygame 1.9.6\n",
      "Hello from the pygame community. https://www.pygame.org/contribute.html\n"
     ]
    },
    {
     "ename": "SystemExit",
     "evalue": "",
     "output_type": "error",
     "traceback": [
      "An exception has occurred, use %tb to see the full traceback.\n",
      "\u001b[0;31mSystemExit\u001b[0m\n"
     ]
    },
    {
     "name": "stderr",
     "output_type": "stream",
     "text": [
      "/opt/anaconda3/lib/python3.7/site-packages/IPython/core/interactiveshell.py:3334: UserWarning: To exit: use 'exit', 'quit', or Ctrl-D.\n",
      "  warn(\"To exit: use 'exit', 'quit', or Ctrl-D.\", stacklevel=1)\n"
     ]
    }
   ],
   "source": [
    "# 0. Import libraries\n",
    "import pygame as pg\n",
    "import sys\n",
    "from pygame.draw import rect, polygon\n",
    "\n",
    "\n",
    "\n",
    "# 1. Initailise the pygame library\n",
    "pg.init()\n",
    "\n",
    "# 2. Variables\n",
    "black = (0,0,0)\n",
    "white = (255, 255, 255)\n",
    "\n",
    "# 3. Launch a game window\n",
    "window = pg.display.set_mode((600, 400))\n",
    "\n",
    "# 4. Set up the main game loop\n",
    "while True:\n",
    "    event = pg.event.poll()\n",
    "\n",
    "    if event.type == pg.QUIT:        \n",
    "        pg.quit()\n",
    "        sys.exit()  \n",
    "      \n",
    "# 7. Draw\n",
    "window.fill(blue)\n",
    "\n",
    "# 8. Update display\n",
    "pg.display.update()\n",
    "\n",
    "# 9. Frame rate\n",
    "clock = pg.time.Clock().tick(60)"
   ]
  },
  {
   "cell_type": "markdown",
   "metadata": {
    "slideshow": {
     "slide_type": "slide"
    }
   },
   "source": [
    "Add the following three lines to Section `7. Draw`:"
   ]
  },
  {
   "cell_type": "code",
   "execution_count": null,
   "metadata": {},
   "outputs": [],
   "source": [
    "rect(window, black, [160, 300, 30, 45])\n",
    "polygon(window, green, [[250, 300], [175, 150], [100, 300]])\n",
    "polygon(window, green, [[240, 250], [175, 130], [110, 250]])"
   ]
  },
  {
   "cell_type": "markdown",
   "metadata": {
    "slideshow": {
     "slide_type": "slide"
    }
   },
   "source": [
    "The whole section should look like this:\n",
    "<br>(You can choose any colour you want)."
   ]
  },
  {
   "cell_type": "code",
   "execution_count": null,
   "metadata": {},
   "outputs": [],
   "source": [
    "# 7. Draw\n",
    "window.fill(white)\n",
    "\n",
    "rect(window, black, [160, 300, 30, 45])\n",
    "polygon(window, green, [[250, 300], [175, 150], [100, 300]])\n",
    "polygon(window, green, [[240, 250], [175, 130], [110, 250]])"
   ]
  },
  {
   "cell_type": "markdown",
   "metadata": {
    "slideshow": {
     "slide_type": "slide"
    }
   },
   "source": [
    "Run the code using Spyder."
   ]
  },
  {
   "cell_type": "markdown",
   "metadata": {
    "slideshow": {
     "slide_type": "slide"
    }
   },
   "source": [
    "The code draws a tree.\n",
    "\n",
    "<img src=\"img/tree.png\" alt=\"Drawing\" style=\"width: 300px;\"/>\n",
    "\n",
    "However, this is not obvious from looking at the code."
   ]
  },
  {
   "cell_type": "markdown",
   "metadata": {
    "slideshow": {
     "slide_type": "slide"
    }
   },
   "source": [
    "Therefore, it can be useful to *write a function* to draw a tree.\n",
    "\n",
    "1. The definition keyword, __`def`__.\n",
    "1. A __function name__ of your choice.\n",
    "1. __() parentheses__ which optionally contain __arguments__ - NOT NEEDED HERE\n",
    "1. __: a colon__ character\n",
    "1. Docstring\n",
    "1. The __body code__ to be executed when the function is *called*.\n",
    "1. An optional __return__ statement (the *output* of the function) - NOT NEEDED HERE"
   ]
  },
  {
   "cell_type": "code",
   "execution_count": null,
   "metadata": {},
   "outputs": [],
   "source": [
    "# A function to draw a tree\n",
    "\n",
    "# original code\n",
    "def tree():\n",
    "    \"\"\"\n",
    "    Draws a tree\n",
    "    \"\"\"\n",
    "    rect(window, black, [160, 300, 30, 45])\n",
    "    polygon(window, green, [[250, 300], [175, 150], [100, 300]])\n",
    "    polygon(window, green, [[240, 250], [175, 130], [110, 250]])\n",
    "    "
   ]
  },
  {
   "cell_type": "markdown",
   "metadata": {
    "slideshow": {
     "slide_type": "slide"
    }
   },
   "source": [
    "Functions should be defined at the top of a program before or after variables."
   ]
  },
  {
   "cell_type": "markdown",
   "metadata": {
    "slideshow": {
     "slide_type": "slide"
    }
   },
   "source": [
    "\n",
    "\n",
    "The top of your program should now look like this:\n",
    "\n",
    "    # 0. Import libraries\n",
    "    import pygame \n",
    "\n",
    "    # 1. Initailise the pygame library\n",
    "    pygame.init()\n",
    "\n",
    "    ############# FUNCTION DEFINITIONS #################  \n",
    "    def tree():\n",
    "        \"Draws a tree\"\n",
    "        rect(window, black, [160, 300, 30, 45])\n",
    "        polygon(window, green, [[250, 300], [175, 150], [100, 300]])\n",
    "        polygon(window, green, [[240, 250], [175, 130], [110, 250]])\n",
    "        \n",
    "        \n",
    "    # 2. Variables\n",
    "    black = (0,0,0)\n",
    "    white = (255, 255, 255)\n"
   ]
  },
  {
   "cell_type": "markdown",
   "metadata": {
    "slideshow": {
     "slide_type": "slide"
    }
   },
   "source": [
    "You can now replace the code in the main body of the program:"
   ]
  },
  {
   "cell_type": "code",
   "execution_count": null,
   "metadata": {},
   "outputs": [],
   "source": [
    "# 7. Draw\n",
    "window.fill(white)\n",
    "\n",
    "# rect(window, black, [160, 300, 30, 45])\n",
    "# polygon(window, green, [[250, 300], [175, 150], [100, 300]])\n",
    "# polygon(window, green, [[240, 250], [175, 130], [110, 250]])\n",
    "\n",
    "tree()"
   ]
  },
  {
   "cell_type": "markdown",
   "metadata": {
    "slideshow": {
     "slide_type": "slide"
    }
   },
   "source": [
    "A more complete program might therefore include code that looks something like:\n",
    "    \n",
    "        draw_tree()\n",
    "        draw_house()\n",
    "        draw_car()"
   ]
  },
  {
   "cell_type": "markdown",
   "metadata": {
    "slideshow": {
     "slide_type": "slide"
    }
   },
   "source": [
    "<a id='WritingFunctionsAvoidRepetition'></a>\n",
    "# 4. Writing Functions to Avoid Repetition\n",
    "\n",
    "As you begin to write longer code, the benefit of using functions becomes more apparent.\n",
    "\n",
    "In the seminar on Control Flow we studied `if` and `else`..."
   ]
  },
  {
   "cell_type": "markdown",
   "metadata": {
    "slideshow": {
     "slide_type": "slide"
    }
   },
   "source": [
    "In the example below, the program repeats the series of `if-elif-else` statements for values in the range 0 to 3."
   ]
  },
  {
   "cell_type": "code",
   "execution_count": null,
   "metadata": {},
   "outputs": [],
   "source": [
    "for x in range(3):   \n",
    "    if x > 10:\n",
    "        print(0)\n",
    "    elif x > 5:\n",
    "        print(x*x)\n",
    "    elif x > 0:\n",
    "        print(x**3)\n",
    "    else:\n",
    "        print(x)"
   ]
  },
  {
   "cell_type": "markdown",
   "metadata": {
    "slideshow": {
     "slide_type": "slide"
    }
   },
   "source": [
    "We can encapsulate the code that we want to repeat in a function"
   ]
  },
  {
   "cell_type": "code",
   "execution_count": null,
   "metadata": {},
   "outputs": [],
   "source": [
    "def process_value(x):\n",
    "    \"Return a value that depends on the input value x \"\n",
    "    if x > 10:\n",
    "        print(0)\n",
    "    elif x > 5:\n",
    "        print(x*x)\n",
    "    elif x > 0:\n",
    "        print(x**3)\n",
    "    else:\n",
    "        print(x)"
   ]
  },
  {
   "cell_type": "markdown",
   "metadata": {
    "slideshow": {
     "slide_type": "slide"
    }
   },
   "source": [
    "To call the function\n",
    "<br>e.g. for the input argument 3"
   ]
  },
  {
   "cell_type": "code",
   "execution_count": null,
   "metadata": {},
   "outputs": [],
   "source": [
    "process_value(5)"
   ]
  },
  {
   "cell_type": "markdown",
   "metadata": {
    "slideshow": {
     "slide_type": "slide"
    }
   },
   "source": [
    "... which makes our original code that applies the `if-elif-else` statements to all values in the range 0 to 3: shorter and much more readable:"
   ]
  },
  {
   "cell_type": "code",
   "execution_count": null,
   "metadata": {},
   "outputs": [],
   "source": [
    "# calling the function within a for loop...\n",
    "for x in range(3):\n",
    "    process_value(x)"
   ]
  },
  {
   "cell_type": "markdown",
   "metadata": {
    "slideshow": {
     "slide_type": "slide"
    }
   },
   "source": [
    "The benefit of using a function is more obvious where it removes the need to write out code multiple times.\n",
    "\n",
    "e.g. repeating the `if-elif-else` statement every time we want to use it. \n",
    "\n"
   ]
  },
  {
   "cell_type": "code",
   "execution_count": null,
   "metadata": {
    "slideshow": {
     "slide_type": "slide"
    }
   },
   "outputs": [],
   "source": [
    "x = 2\n",
    "\n",
    "if x > 10:\n",
    "    print(0)\n",
    "elif x > 5:\n",
    "    print(x*x)\n",
    "elif x > 0:\n",
    "    print(x**3)\n",
    "else:\n",
    "    print(x)\n",
    "    \n",
    "x *= 6\n",
    "\n",
    "if x > 10:\n",
    "    print(0)\n",
    "elif x > 5:\n",
    "    print(x*x)\n",
    "elif x > 0:\n",
    "    print(x**3)\n",
    "else:\n",
    "    print(x)"
   ]
  },
  {
   "cell_type": "code",
   "execution_count": null,
   "metadata": {
    "slideshow": {
     "slide_type": "slide"
    }
   },
   "outputs": [],
   "source": [
    "x = 2\n",
    "\n",
    "process_value(x)\n",
    "    \n",
    "x *= 6\n",
    "\n",
    "process_value(x)"
   ]
  },
  {
   "cell_type": "markdown",
   "metadata": {
    "slideshow": {
     "slide_type": "slide"
    }
   },
   "source": [
    "A scenario where we might want to use a block of code multiple times is when drawing an object (e.g. a tree) at multiple locations.\n",
    "\n",
    "<img src='img/trees.png' style=\"width: 300px;\"> \n",
    "\n",
    "We can specify where we want to place the trees using function arguments..."
   ]
  },
  {
   "cell_type": "markdown",
   "metadata": {
    "slideshow": {
     "slide_type": "slide"
    }
   },
   "source": [
    "<a id='Scope'></a>\n",
    "# 5. Scope \n",
    "\n",
    "The area of your program in which a variable can be used is referred to as scope. \n",
    "\n",
    "Variables have global (throughout whole program) or local (within a function) scope depending on where they are defined.\n",
    "\n",
    "For further explanation, refer to the primer for this class. \n",
    "\n",
    "We are now going to study an example demonstrating the difference between local and global scope. \n"
   ]
  },
  {
   "cell_type": "markdown",
   "metadata": {
    "slideshow": {
     "slide_type": "slide"
    }
   },
   "source": [
    "### Example : Use of Local Scope\n",
    "<a id='ExampleLocalScope'></a>\n",
    "In a problem concerning 2D geometry, intuitively, the variable names __`X`__ and __`Y`__ are useful for describing positions in 2D space. \n",
    "\n"
   ]
  },
  {
   "cell_type": "markdown",
   "metadata": {
    "slideshow": {
     "slide_type": "slide"
    }
   },
   "source": [
    "An example of this is the function `trees` that we used earlier to draw trees at locations given as a list if lists. \n",
    "```python\n",
    "def draw_trees(trees):\n",
    "    \"Draws trees\"\n",
    "\n",
    "    for t in trees:\n",
    "\n",
    "        x = t[0]\n",
    "        y = t[1]\n",
    "\n",
    "        rect(window, black, [160+x, 300+y, 30, 45])\n",
    "        polygon(window, green, \n",
    "                            [[250+x, 300+y], [175+x, 150+y], [100+x, 300+y]])\n",
    "        polygon(window, green, \n",
    "                            [[240+x, 250+y], [175+x, 130+y], [110+x, 250+y]])\n",
    "            ```"
   ]
  },
  {
   "cell_type": "code",
   "execution_count": null,
   "metadata": {
    "slideshow": {
     "slide_type": "slide"
    }
   },
   "outputs": [],
   "source": [
    "def draw_trees(trees):\n",
    "    \"Draws trees\"  \n",
    "    \n",
    "    for t in trees:\n",
    "        \n",
    "        x = t[0]\n",
    "        y = t[1]\n",
    "        \n",
    "        rect(window, black, [160+x, 300+y, 30, 45])\n",
    "        polygon(window, green, \n",
    "                            [[250+x, 300+y], [175+x, 150+y], [100+x, 300+y]])\n",
    "        polygon(window, green, \n",
    "                            [[240+x, 250+y], [175+x, 130+y], [110+x, 250+y]])"
   ]
  },
  {
   "cell_type": "code",
   "execution_count": null,
   "metadata": {},
   "outputs": [],
   "source": [
    "all_trees = [[0,1], [10, 60], [100, 50]]\n",
    "\n",
    "draw_trees(all_trees)"
   ]
  },
  {
   "cell_type": "markdown",
   "metadata": {
    "slideshow": {
     "slide_type": "slide"
    }
   },
   "source": [
    "## Example : Using Functions to Optimise your Code. \n",
    "<a id='ExampleFunctionsOptimiseCode'></a>\n",
    "In the following examples we will use these 7 steps to create functions from existing code:\n",
    "1. `def` and `:`\n",
    "1. define input arguments in parentheses\n",
    "1. indent code inside of function\n",
    "1. doc string\n",
    "1. move global variable assignment outside of the function where necessary\n",
    "1. define return arguments \n",
    "1. move function to the top of the program\n",
    "1. call function"
   ]
  },
  {
   "cell_type": "markdown",
   "metadata": {
    "slideshow": {
     "slide_type": "slide"
    }
   },
   "source": [
    "### Pong\n",
    "In the program we wrote in the last class (04_Physical_User_Interaction), we learned to use loops to avoid repeatedly writing code.\n",
    "\n",
    "For example, the following code block...\n"
   ]
  },
  {
   "cell_type": "code",
   "execution_count": null,
   "metadata": {},
   "outputs": [],
   "source": [
    "# 6.4 Update paddle position  \n",
    "if ((pad1_pos[y] > 0 and pad1_pos[y] < win_height - pad_height) or\n",
    "   (pad1_pos[y] >= win_height - pad_height and pad1_vel[y] < 0) or \n",
    "   (pad1_pos[y] <= 0 and pad1_vel[y] > 0)):\n",
    "       pad1_pos[y] += pad1_vel[y]\n",
    "\n",
    "if ((pad2_pos[y] > 0 and pad2_pos[y] < win_height - pad_height) or\n",
    "   (pad2_pos[y] >= win_height - pad_height and pad2_vel[y] < 0) or \n",
    "   (pad2_pos[y] <= 0 and pad2_vel[y] > 0)):\n",
    "       pad2_pos[y] += pad2_vel[y]"
   ]
  },
  {
   "cell_type": "markdown",
   "metadata": {
    "slideshow": {
     "slide_type": "slide"
    }
   },
   "source": [
    "...can be simplified using the following steps:\n",
    "\n",
    "1. create a `for` loop\n",
    "1. iterate through items in lists `pad_pos` (paddle positions) and `vel` (paddle velocity).\n",
    "1. indent code to loop through\n",
    "1. replace all variables in code with `pos` and `col` variable names used within loop\n",
    "1. delete repeated code"
   ]
  },
  {
   "cell_type": "code",
   "execution_count": null,
   "metadata": {},
   "outputs": [],
   "source": [
    "# 6.4 Update paddle position  \n",
    "for pos, vel in zip(pad_pos, pad_vel):\n",
    "    if ((pos[y] > 0 and pos[y] < win_height - pad_height) or\n",
    "        (pos[y] >= win_height - pad_height and vel[y] < 0) or \n",
    "        (pos[y] <= 0 and vel[y] > 0)):\n",
    "            pos[y] += vel[y]"
   ]
  },
  {
   "cell_type": "markdown",
   "metadata": {
    "slideshow": {
     "slide_type": "slide"
    }
   },
   "source": [
    "The indented code can be encapsulated as a function to:\n",
    "1. give the block of code a meaningful name\n",
    "1. keep the main game loop short, concise and readable"
   ]
  },
  {
   "cell_type": "markdown",
   "metadata": {
    "slideshow": {
     "slide_type": "slide"
    }
   },
   "source": [
    "To. make a function from exisiting code:\n",
    "\n",
    "1. `def` and `:`\n",
    "1. define input arguments in parentheses\n",
    "1. indent code inside of function\n",
    "1. doc string\n",
    "1. move global variable assignment outside of the function where necessary\n",
    "1. define return arguments \n",
    "1. move function to the top of the program\n",
    "1. call function"
   ]
  },
  {
   "cell_type": "code",
   "execution_count": null,
   "metadata": {
    "slideshow": {
     "slide_type": "slide"
    }
   },
   "outputs": [],
   "source": [
    "#original code\n",
    "\n",
    "# 6.4 Update paddle position    \n",
    "def update_pad_pos(pos, vel):\n",
    "    \"\"\"Updates paddle position\"\"\"\n",
    "    if ((pos[y] > 0 and pos[y] < win_height - pad_height) or\n",
    "        (pos[y] >= win_height - pad_height and vel[y] < 0) or \n",
    "        (pos[y] <= 0 and vel[y] > 0)):\n",
    "            pos[y] += vel[y]\n",
    "            \n",
    "for pos, vel in zip(pad_pos, pad_vel):\n",
    "    update_pad_pos(pos, vel)\n",
    "            \n",
    "# OR\n",
    "\n",
    "def update_pad_pos(pad_pos, pad_vel):\n",
    "    \"\"\"Updates paddle position\"\"\"\n",
    "    for pos, vel in zip(pad_pos, pad_vel):\n",
    "        if ((pos[y] > 0 and pos[y] < win_height - pad_height) or\n",
    "            (pos[y] >= win_height - pad_height and vel[y] < 0) or \n",
    "            (pos[y] <= 0 and vel[y] > 0)):\n",
    "                pos[y] += vel[y]\n",
    "                \n",
    "update_pad_pos(pad_pos, pad_vel)\n",
    "                \n",
    "                \n",
    "# pad_po and pad_vel are global so we can also so\n",
    "def update_pad_pos():\n",
    "    \"\"\"Updates the paddle position\"\"\"\n",
    "    for pos, vel in zip(pad_pos, pad_vel):\n",
    "        if ((pos[y] > 0 and pos[y] < win_height - pad_height) or\n",
    "            (pos[y] >= win_height - pad_height and vel[y] < 0) or \n",
    "            (pos[y] <= 0 and vel[y] > 0)):\n",
    "                pos[y] += vel[y]\n",
    "                \n",
    "update_pad_pos(pad_pos, pad_vel)"
   ]
  },
  {
   "cell_type": "markdown",
   "metadata": {
    "slideshow": {
     "slide_type": "slide"
    }
   },
   "source": [
    "This example is shown in the file sample_data/pong_example_func.py"
   ]
  },
  {
   "cell_type": "markdown",
   "metadata": {
    "slideshow": {
     "slide_type": "slide"
    }
   },
   "source": [
    "As a general rule we should try to eliminate repetition in our programs wherever possible using functions.\n",
    "\n"
   ]
  },
  {
   "cell_type": "markdown",
   "metadata": {
    "slideshow": {
     "slide_type": "slide"
    }
   },
   "source": [
    "<a id='ReviewExercises'></a>\n",
    "# 6. Review Exercises\n",
    "\n",
    "Complete the exercises below.\n",
    "\n",
    "Save your answers as .py files and email them to:\n",
    "<br>philamore.hemma.5s@kyoto-u.ac.jp"
   ]
  },
  {
   "cell_type": "markdown",
   "metadata": {
    "slideshow": {
     "slide_type": "subslide"
    }
   },
   "source": [
    "## Review Exercise 1: Writing Functions (House)\n",
    "<img src=\"img/house.jpg\" alt=\"Drawing\" style=\"width: 300px;\"/>\n",
    "\n",
    "In the file `tree.py`, write a function to draw a house using basic shapes.\n",
    "\n",
    "The input arguments should be use to define the position of the house in the game window.\n",
    "\n",
    "\n",
    "\n"
   ]
  },
  {
   "cell_type": "markdown",
   "metadata": {},
   "source": [
    "## Review Exercise 2: Using loops to avoid repetition\n",
    "\n",
    "<p align=\"center\">\n",
    "  <img src=\"img/pong.gif\" alt=\"Drawing\" style=\"width: 300px;\"/>\n",
    "</p>"
   ]
  },
  {
   "cell_type": "markdown",
   "metadata": {
    "slideshow": {
     "slide_type": "slide"
    }
   },
   "source": [
    "\n",
    "\n",
    "In the Pong program we wrote last week, we made the ball bounce in the opposite direction when it hits a paddle. \n",
    "```python\n",
    "    # 6.1.1 Collision with left paddle\n",
    "    if (ball_pos[x] <= (radius + pad_width) and \n",
    "       pad1_pos[y] < ball_pos[y] < pad1_pos[y] + pad_height):\n",
    "        ball_vel[x] = -ball_vel[x]\n",
    "        ball_vel[0] *= 1.1\n",
    "        ball_vel[1] *= 1.1\n",
    "        \n",
    "        \n",
    "    # 6.1.2 Collision with right paddle    \n",
    "    if (ball_pos[x] >= win_width - (radius + pad_width) and \n",
    "       pad2_pos[y] < ball_pos[y] < pad2_pos[y] + pad_height):\n",
    "        ball_vel[x] = -ball_vel[x]\n",
    "        ball_vel[0] *= 1.1\n",
    "        ball_vel[1] *= 1.1\n",
    "        ```\n",
    "    \n"
   ]
  },
  {
   "cell_type": "markdown",
   "metadata": {},
   "source": [
    "We reduced repetition in the code by using a `for` loop.\n",
    "<br>__Example:__\n",
    "```python\n",
    "# 6.1 Collisions\n",
    "collision = [(ball_pos[x] <= (radius + pad_width)), \n",
    "             (ball_pos[x] >= win_width - (radius + pad_width))]\n",
    "\n",
    "for pos, col in zip(pad_pos, collision): \n",
    "    if (col and \n",
    "        pos[y] < ball_pos[y] < pos[y] + pad_height):\n",
    "        ball_vel[x] = -ball_vel[x]\n",
    "        ball_vel[0] *= 1.1\n",
    "        ball_vel[1] *= 1.1\n",
    "            ```"
   ]
  },
  {
   "cell_type": "markdown",
   "metadata": {},
   "source": [
    "Using the examples in today's class write a function so that the code block `6.1 Collisions` can be replaced with the function call:\n",
    "\n",
    "```\n",
    "                        collision_with_pad()\n",
    "```"
   ]
  },
  {
   "cell_type": "markdown",
   "metadata": {},
   "source": [
    "## Review Exercise 3:  Using functions to avoid repetition\n",
    "\n",
    "In the Pong game program, the code used __when the ball is created:__\n",
    "\n",
    "```python\n",
    "# 2.3 ball\n",
    "...\n",
    "\n",
    "ball_vel = [random.randrange(2,4), random.randrange(1,3)]\n",
    "if random.randrange(0,2) == 0:\n",
    "    ball_vel[x] *= -1\n",
    "if random.randrange(0,2) == 0: # determines x component of ball velocity \n",
    "    ball_vel[y] *= -1\n",
    "ball_pos = [win_width//2, win_height//2]\n",
    "```\n",
    "\n",
    "...is almost the same as the code used __to retrieve the ball when it goes off-screen:__ \n",
    "\n",
    "```python\n",
    "# 6.2 Reset ball position if ball goes off screen\n",
    "...\n",
    "ball_vel = [random.randrange(2,4), random.randrange(1,3)]    \n",
    "if random.randrange(0,2) == 0:\n",
    "    ball_vel[y] *= -1\n",
    "if ball_pos[x] < 0: # determines x component of ball velocity \n",
    "    ball_vel[x] *= -1\n",
    "ball_pos = [win_width//2, win_height//2]\n",
    "        ```"
   ]
  },
  {
   "cell_type": "markdown",
   "metadata": {},
   "source": [
    "The only difference is the __x component__ of the ball velocity is determined by which player won the last round (rather than random, as it was initially)."
   ]
  },
  {
   "cell_type": "markdown",
   "metadata": {},
   "source": [
    "In your program, write a *single* function called `set_ball` that can be called:\n",
    "\n",
    "- __when the ball is created__\n",
    "- __to retrieve the ball when it goes off-screen__\n",
    "\n",
    "<br>The function should take an *argument* (input). \n",
    "<br>The argument should adapt the function that `determines x component of ball velocity` \n",
    "\n"
   ]
  },
  {
   "cell_type": "markdown",
   "metadata": {},
   "source": [
    "The function will need to access global variables `ball_vel` and `ball_pos`.\n",
    "\n",
    "Remember to change the value of a __global__ variable within a function, we use the keyword `global`:\n",
    "\n",
    "```python\n",
    "# global variables\n",
    "ball_vel = [10, 10]\n",
    "ball_pos = [0, 0]\n",
    "\n",
    "def my_func():\n",
    "    global ball_vel, ball_pos\n",
    "    ball_pos[x] += ball_vel[x]\n",
    "    ball_pos[y] += ball_vel[y]\n",
    "   \n",
    "\n",
    "```"
   ]
  },
  {
   "cell_type": "code",
   "execution_count": null,
   "metadata": {},
   "outputs": [],
   "source": [
    "# global variables\n",
    "ball_vel = [10, 10]\n",
    "ball_pos = [0, 0]\n",
    "\n",
    "def my_func():\n",
    "    global ball_vel, ball_pos\n",
    "    ball_pos[0] += ball_vel[0]\n",
    "    ball_pos[1] += ball_vel[1]\n",
    "    \n",
    "print(\"Before function call, var =\", ball_vel, ball_pos)\n",
    "\n",
    "# Call the function.\n",
    "my_func()\n",
    "\n",
    "print(\"After function call, var =\", ball_vel, ball_pos)"
   ]
  },
  {
   "cell_type": "code",
   "execution_count": null,
   "metadata": {},
   "outputs": [],
   "source": []
  }
 ],
 "metadata": {
  "celltoolbar": "Slideshow",
  "kernelspec": {
   "display_name": "Python 3",
   "language": "python",
   "name": "python3"
  },
  "language_info": {
   "codemirror_mode": {
    "name": "ipython",
    "version": 3
   },
   "file_extension": ".py",
   "mimetype": "text/x-python",
   "name": "python",
   "nbconvert_exporter": "python",
   "pygments_lexer": "ipython3",
   "version": "3.7.4"
  }
 },
 "nbformat": 4,
 "nbformat_minor": 2
}
