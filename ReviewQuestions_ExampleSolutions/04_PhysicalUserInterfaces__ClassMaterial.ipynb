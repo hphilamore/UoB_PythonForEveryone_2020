{
 "cells": [
  {
   "cell_type": "markdown",
   "metadata": {
    "collapsed": true,
    "slideshow": {
     "slide_type": "slide"
    }
   },
   "source": [
    "# 04 Physical User Interfaces\n",
    "# Review Exercises - Solutions"
   ]
  },
  {
   "cell_type": "markdown",
   "metadata": {
    "slideshow": {
     "slide_type": "slide"
    }
   },
   "source": [
    "\n",
    "\n",
    "Complete the following exercises to finish building the game of Pong.\n",
    "\n",
    "The questions are to help you practise:\n",
    "- using `for` loops to:\n",
    "    - avoid repetition\n",
    "    - make your code more efficient\n",
    "\n",
    "Refer to the examples we studied in class to help you complete the exercises.\n",
    "\n",
    "You will also add some finishing touches to the game."
   ]
  },
  {
   "cell_type": "markdown",
   "metadata": {
    "slideshow": {
     "slide_type": "slide"
    }
   },
   "source": [
    "## Review Exercise 1 : Collisions Between Objects\n",
    "<a id='CollisionsBetweenObjects'></a>\n",
    "Until now, we have considered *only* what happens when an object collides with the sides of the game window.\n",
    "\n",
    "In the game of pong the ball should bounce when it hits:\n",
    "- the top of the window\n",
    "- the bottom of the window\n",
    "- the left paddle\n",
    "- the right paddle\n",
    "\n",
    "<p align=\"center\">\n",
    "  <img src=\"img/pong.gif\" alt=\"Drawing\" style=\"width: 300px;\"/>\n",
    "</p>"
   ]
  },
  {
   "cell_type": "markdown",
   "metadata": {
    "slideshow": {
     "slide_type": "slide"
    }
   },
   "source": [
    "### Using the Paddles to Stop the Ball. \n",
    "<a id='UsingPaddlesStopBall'></a>\n",
    "Notice that the ball does not bounce off the paddles in your game; it goes straight through them.\n",
    "\n",
    "Let's add some code to make the ball bounce when a collision with a paddle happens.\n",
    "\n"
   ]
  },
  {
   "cell_type": "markdown",
   "metadata": {
    "slideshow": {
     "slide_type": "slide"
    }
   },
   "source": [
    "We do this in exactly the same way as when detecting collisions between an object and the environment.\n",
    "\n",
    "However, there is one important difference..."
   ]
  },
  {
   "cell_type": "markdown",
   "metadata": {
    "slideshow": {
     "slide_type": "slide"
    }
   },
   "source": [
    "As the two objects *move* relative to one another in the xy plane, we must consider both the x and y coordinates of each object in order to detect the collision."
   ]
  },
  {
   "cell_type": "markdown",
   "metadata": {
    "slideshow": {
     "slide_type": "slide"
    }
   },
   "source": [
    "Copy the code from the box below and paste it into your program:"
   ]
  },
  {
   "cell_type": "code",
   "execution_count": 1,
   "metadata": {
    "slideshow": {
     "slide_type": "slide"
    }
   },
   "outputs": [
    {
     "ename": "NameError",
     "evalue": "name 'ball_pos' is not defined",
     "output_type": "error",
     "traceback": [
      "\u001b[0;31m---------------------------------------------------------------------------\u001b[0m",
      "\u001b[0;31mNameError\u001b[0m                                 Traceback (most recent call last)",
      "\u001b[0;32m<ipython-input-1-a09232788a05>\u001b[0m in \u001b[0;36m<module>\u001b[0;34m\u001b[0m\n\u001b[1;32m      2\u001b[0m \u001b[0;31m# 6.1 Collisions\u001b[0m\u001b[0;34m\u001b[0m\u001b[0;34m\u001b[0m\u001b[0;34m\u001b[0m\u001b[0m\n\u001b[1;32m      3\u001b[0m \u001b[0;31m# 6.1.1 Collision with left paddle\u001b[0m\u001b[0;34m\u001b[0m\u001b[0;34m\u001b[0m\u001b[0;34m\u001b[0m\u001b[0m\n\u001b[0;32m----> 4\u001b[0;31m if (ball_pos[x] <= (radius + pad_width) and \n\u001b[0m\u001b[1;32m      5\u001b[0m    pad1_pos[y] < ball_pos[y] < pad1_pos[y] + pad_height):\n\u001b[1;32m      6\u001b[0m     \u001b[0mball_vel\u001b[0m\u001b[0;34m[\u001b[0m\u001b[0mx\u001b[0m\u001b[0;34m]\u001b[0m \u001b[0;34m=\u001b[0m \u001b[0;34m-\u001b[0m\u001b[0mball_vel\u001b[0m\u001b[0;34m[\u001b[0m\u001b[0mx\u001b[0m\u001b[0;34m]\u001b[0m\u001b[0;34m\u001b[0m\u001b[0;34m\u001b[0m\u001b[0m\n",
      "\u001b[0;31mNameError\u001b[0m: name 'ball_pos' is not defined"
     ]
    }
   ],
   "source": [
    "# 6. Calculations     \n",
    "# 6.1 Collisions\n",
    "# 6.1.1 Collision with left paddle\n",
    "if (ball_pos[x] <= (radius + pad_width) and \n",
    "   pad1_pos[y] < ball_pos[y] < pad1_pos[y] + pad_height):\n",
    "    ball_vel[x] = -ball_vel[x]\n",
    "        \n",
    "        \n",
    "# 6.1.2 Collision with right paddle    \n",
    "if (ball_pos[x] >= win_width - (radius + pad_width) and \n",
    "   pad2_pos[y] < ball_pos[y] < pad2_pos[y] + pad_height):\n",
    "    ball_vel[x] = -ball_vel[x]\n"
   ]
  },
  {
   "cell_type": "markdown",
   "metadata": {
    "slideshow": {
     "slide_type": "slide"
    }
   },
   "source": [
    "##### What does this code do?\n",
    "\n",
    ">`if (ball_pos[x] >= win_width - (radius + pad_width) and \n",
    "   pad2_pos[y] < ball_pos[y] < pad2_pos[y] + pad_height):`\n",
    "\n",
    "Look carefully at this code.\n",
    "\n",
    "Comparison operators are used to check if the ball edge has collided with the paddle edge by comparing the x *and* y positions... \n",
    "\n",
    ">`ball_vel[x] = -ball_vel[x]`\n",
    "\n",
    "...and reverses the direction of travel if there has been a collision."
   ]
  },
  {
   "cell_type": "markdown",
   "metadata": {
    "slideshow": {
     "slide_type": "slide"
    }
   },
   "source": [
    "*There is a slight inaccuracy in that, for simplicity of coding, only collision of paddle with the left-most/right-most point of the ball is detected in this example.*"
   ]
  },
  {
   "cell_type": "markdown",
   "metadata": {
    "slideshow": {
     "slide_type": "slide"
    }
   },
   "source": [
    "To make the game more interesting, we could also increase the velocity of the ball, every time it hits a paddle.\n",
    "\n",
    "This makes the game more difficult the longer it goes on.\n",
    "\n",
    "In the example below, the ball velocity increases by 10% in the x and y direction. "
   ]
  },
  {
   "cell_type": "code",
   "execution_count": 2,
   "metadata": {
    "slideshow": {
     "slide_type": "slide"
    }
   },
   "outputs": [
    {
     "ename": "NameError",
     "evalue": "name 'ball_pos' is not defined",
     "output_type": "error",
     "traceback": [
      "\u001b[0;31m---------------------------------------------------------------------------\u001b[0m",
      "\u001b[0;31mNameError\u001b[0m                                 Traceback (most recent call last)",
      "\u001b[0;32m<ipython-input-2-814d70a66e29>\u001b[0m in \u001b[0;36m<module>\u001b[0;34m\u001b[0m\n\u001b[1;32m      1\u001b[0m \u001b[0;31m# 6.1.1 Collision with left paddle\u001b[0m\u001b[0;34m\u001b[0m\u001b[0;34m\u001b[0m\u001b[0;34m\u001b[0m\u001b[0m\n\u001b[0;32m----> 2\u001b[0;31m if (ball_pos[x] <= (radius + pad_width) and \n\u001b[0m\u001b[1;32m      3\u001b[0m    pad1_pos[y] < ball_pos[y] < pad1_pos[y] + pad_height):\n\u001b[1;32m      4\u001b[0m     \u001b[0mball_vel\u001b[0m\u001b[0;34m[\u001b[0m\u001b[0mx\u001b[0m\u001b[0;34m]\u001b[0m \u001b[0;34m=\u001b[0m \u001b[0;34m-\u001b[0m\u001b[0mball_vel\u001b[0m\u001b[0;34m[\u001b[0m\u001b[0mx\u001b[0m\u001b[0;34m]\u001b[0m\u001b[0;34m\u001b[0m\u001b[0;34m\u001b[0m\u001b[0m\n\u001b[1;32m      5\u001b[0m     \u001b[0mball_vel\u001b[0m\u001b[0;34m[\u001b[0m\u001b[0;36m0\u001b[0m\u001b[0;34m]\u001b[0m \u001b[0;34m*=\u001b[0m \u001b[0;36m1.1\u001b[0m \u001b[0;31m# increse ball velocity\u001b[0m\u001b[0;34m\u001b[0m\u001b[0;34m\u001b[0m\u001b[0m\n",
      "\u001b[0;31mNameError\u001b[0m: name 'ball_pos' is not defined"
     ]
    }
   ],
   "source": [
    "# 6.1.1 Collision with left paddle\n",
    "if (ball_pos[x] <= (radius + pad_width) and \n",
    "   pad1_pos[y] < ball_pos[y] < pad1_pos[y] + pad_height):\n",
    "    ball_vel[x] = -ball_vel[x]\n",
    "    ball_vel[0] *= 1.1 # increse ball velocity\n",
    "    ball_vel[1] *= 1.1\n",
    "\n",
    "\n",
    "# 6.1.2 Collision with right paddle    \n",
    "if (ball_pos[x] >= win_width - (radius + pad_width) and \n",
    "   pad2_pos[y] < ball_pos[y] < pad2_pos[y] + pad_height):\n",
    "    ball_vel[x] = -ball_vel[x]\n",
    "    ball_vel[0] *= 1.1\n",
    "    ball_vel[1] *= 1.1"
   ]
  },
  {
   "cell_type": "markdown",
   "metadata": {},
   "source": [
    "Notice that the code is repetitive; almost identical code is run for each paddle.\n",
    "\n",
    "We can reduce repetition using a `for` loop. \n",
    "\n",
    "Look at the example we studied earlier __Example : Optimising Code by Looping__.\n",
    "\n",
    "Follow this example to avoid repetition in code blocks 6.1.1 and 6.1.2:\n",
    "1. create a `for` loop\n",
    "1. iterate through items in lists `pad_pos` (paddle positions) and `collision` (x direction collisions).\n",
    "1. indent code to loop through\n",
    "1. replace all variables in code with `pos` and `col` variable names used within loop\n",
    "1. create a new list to store the conditional expressions defining a collision\n",
    "1. delete repeated code\n",
    "1. (move the list to the list of variables)\n",
    "\n"
   ]
  },
  {
   "cell_type": "code",
   "execution_count": 3,
   "metadata": {
    "slideshow": {
     "slide_type": "-"
    }
   },
   "outputs": [
    {
     "ename": "NameError",
     "evalue": "name 'pad1_pos' is not defined",
     "output_type": "error",
     "traceback": [
      "\u001b[0;31m---------------------------------------------------------------------------\u001b[0m",
      "\u001b[0;31mNameError\u001b[0m                                 Traceback (most recent call last)",
      "\u001b[0;32m<ipython-input-3-63fee8e17ef9>\u001b[0m in \u001b[0;36m<module>\u001b[0;34m\u001b[0m\n\u001b[1;32m      2\u001b[0m \u001b[0;31m# Example solution:\u001b[0m\u001b[0;34m\u001b[0m\u001b[0;34m\u001b[0m\u001b[0;34m\u001b[0m\u001b[0m\n\u001b[1;32m      3\u001b[0m \u001b[0;34m\u001b[0m\u001b[0m\n\u001b[0;32m----> 4\u001b[0;31m \u001b[0mpad_pos\u001b[0m \u001b[0;34m=\u001b[0m \u001b[0;34m[\u001b[0m\u001b[0mpad1_pos\u001b[0m\u001b[0;34m,\u001b[0m \u001b[0mpad2_pos\u001b[0m\u001b[0;34m]\u001b[0m\u001b[0;34m\u001b[0m\u001b[0;34m\u001b[0m\u001b[0m\n\u001b[0m\u001b[1;32m      5\u001b[0m \u001b[0;34m\u001b[0m\u001b[0m\n\u001b[1;32m      6\u001b[0m \u001b[0;31m# collision = [(ball_pos[x] <= (radius + pad_width),\u001b[0m\u001b[0;34m\u001b[0m\u001b[0;34m\u001b[0m\u001b[0;34m\u001b[0m\u001b[0m\n",
      "\u001b[0;31mNameError\u001b[0m: name 'pad1_pos' is not defined"
     ]
    }
   ],
   "source": [
    "# Review Exercise 1 : Collisions Between Objects\n",
    "# Example solution: \n",
    "\n",
    "pad_pos = [pad1_pos, pad2_pos]\n",
    "\n",
    "# collision = [(ball_pos[x] <= (radius + pad_width),\n",
    "#             (ball_pos[x] >= win_width - (radius + pad_width)))]\n",
    "\n",
    "# for pos, col in zip(pad_pos, collision):\n",
    "\n",
    "# # 6.1.1 Collision with left paddle\n",
    "#     if (col and \n",
    "#        pad_pos[y] < ball_pos[y] < pad_pos[y] + pad_height):\n",
    "#         ball_vel[x] = -ball_vel[x]\n",
    "#         ball_vel[0] *= 1.1\n",
    "#         ball_vel[1] *= 1.1\n",
    "        \n",
    "        \n",
    "collision = [(ball_pos[x] <= (radius + pad_width)), \n",
    "             (ball_pos[x] >= win_width - (radius + pad_width))]\n",
    "\n",
    "for pos, col in zip(pad_pos, collision): \n",
    "    if (col and \n",
    "        pos[y] < ball_pos[y] < pos[y] + pad_height):\n",
    "        ball_vel[x] = -ball_vel[x]\n",
    "        ball_vel[0] *= 1.1\n",
    "        ball_vel[1] *= 1.1"
   ]
  },
  {
   "cell_type": "markdown",
   "metadata": {
    "slideshow": {
     "slide_type": "slide"
    }
   },
   "source": [
    "## Review Exercise 2: Letting the Ball Move through the Left and Right Walls.\n",
    "<a id='LeftRithgWalls'></a>\n",
    "So that we can see when a round has been won, the ball should \n",
    "- bounce off the top and bottom of the window\n",
    "- go through the left and right wall\n",
    "\n"
   ]
  },
  {
   "cell_type": "markdown",
   "metadata": {
    "slideshow": {
     "slide_type": "slide"
    }
   },
   "source": [
    "Find this block of code in your program.\n",
    "```python\n",
    "    6.1.3 Reverse direction of travel if edge is reached\n",
    "    if ball_pos[x] > (win_width-radius) or ball_pos[x] < radius:\n",
    "        ball_vel[x] *= -1\n",
    "    if ball_pos[y] > (win_height-radius) or ball_pos[y] < radius:\n",
    "        ball_vel[y] *= -1\n",
    "        ```"
   ]
  },
  {
   "cell_type": "markdown",
   "metadata": {
    "slideshow": {
     "slide_type": "slide"
    }
   },
   "source": [
    "We need to REMOVE the `if` statement that makes the ball bounce off the left and right walls.\n",
    "\n",
    "We need to KEEP the `if` statement that makes the ball bounce off the left and right walls.\n",
    "\n",
    "Which  `if` statement should we remove?\n",
    "\n",
    "Remove or comment out the correct `if` statement in your Pong game."
   ]
  },
  {
   "cell_type": "code",
   "execution_count": 4,
   "metadata": {
    "slideshow": {
     "slide_type": "-"
    }
   },
   "outputs": [
    {
     "ename": "SyntaxError",
     "evalue": "invalid syntax (<ipython-input-4-19b001cb47f0>, line 4)",
     "output_type": "error",
     "traceback": [
      "\u001b[0;36m  File \u001b[0;32m\"<ipython-input-4-19b001cb47f0>\"\u001b[0;36m, line \u001b[0;32m4\u001b[0m\n\u001b[0;31m    6.1.3 Reverse direction of travel if edge is reached\u001b[0m\n\u001b[0m        ^\u001b[0m\n\u001b[0;31mSyntaxError\u001b[0m\u001b[0;31m:\u001b[0m invalid syntax\n"
     ]
    }
   ],
   "source": [
    "# Review Exercise 2: Letting the Ball Move through the Left and Right Walls.\n",
    "# Example solution:\n",
    "\n",
    "6.1.3 Reverse direction of travel if edge is reached\n",
    "# if ball_pos[x] > (win_width-radius) or ball_pos[x] < radius:\n",
    "#     ball_vel[x] *= -1\n",
    "if ball_pos[y] > (win_height-radius) or ball_pos[y] < radius:\n",
    "    ball_vel[y] *= -1"
   ]
  },
  {
   "cell_type": "markdown",
   "metadata": {
    "slideshow": {
     "slide_type": "slide"
    }
   },
   "source": [
    "Save your code in Spyder (if running it from the terminal).\n",
    "\n",
    "Run your code again to check that the ball goes off the screen if not deflected by a paddle. "
   ]
  },
  {
   "cell_type": "markdown",
   "metadata": {
    "slideshow": {
     "slide_type": "slide"
    }
   },
   "source": [
    "## Review Exercise 3 :Retrieving the Ball.\n",
    "<a id='RetrievingBall'></a>\n",
    "Now that your program allows the ball to leave the screen, the final thing you need to do is write a code section to retrieve the ball.\n",
    "\n",
    "We can use two more `if` statements to:\n",
    "- check of the ball has exited the screen via the left or right side.\n",
    "- return it to the centre\n",
    "\n",
    "Copy and paste the following code block to your Pong game program:"
   ]
  },
  {
   "cell_type": "code",
   "execution_count": 5,
   "metadata": {
    "scrolled": true
   },
   "outputs": [
    {
     "ename": "NameError",
     "evalue": "name 'ball_pos' is not defined",
     "output_type": "error",
     "traceback": [
      "\u001b[0;31m---------------------------------------------------------------------------\u001b[0m",
      "\u001b[0;31mNameError\u001b[0m                                 Traceback (most recent call last)",
      "\u001b[0;32m<ipython-input-5-ad3a6f49c1ff>\u001b[0m in \u001b[0;36m<module>\u001b[0;34m\u001b[0m\n\u001b[1;32m      1\u001b[0m \u001b[0;31m# 6.2 Reset ball position if bal goes off screen\u001b[0m\u001b[0;34m\u001b[0m\u001b[0;34m\u001b[0m\u001b[0;34m\u001b[0m\u001b[0m\n\u001b[0;32m----> 2\u001b[0;31m \u001b[0;32mif\u001b[0m \u001b[0;34m(\u001b[0m\u001b[0mball_pos\u001b[0m\u001b[0;34m[\u001b[0m\u001b[0mx\u001b[0m\u001b[0;34m]\u001b[0m \u001b[0;34m<\u001b[0m \u001b[0;34m-\u001b[0m\u001b[0mradius\u001b[0m\u001b[0;34m)\u001b[0m \u001b[0;32mor\u001b[0m \u001b[0;34m(\u001b[0m\u001b[0mball_pos\u001b[0m\u001b[0;34m[\u001b[0m\u001b[0mx\u001b[0m\u001b[0;34m]\u001b[0m \u001b[0;34m>\u001b[0m \u001b[0mwin_width\u001b[0m \u001b[0;34m+\u001b[0m \u001b[0mradius\u001b[0m\u001b[0;34m)\u001b[0m\u001b[0;34m:\u001b[0m\u001b[0;34m\u001b[0m\u001b[0;34m\u001b[0m\u001b[0m\n\u001b[0m\u001b[1;32m      3\u001b[0m \u001b[0;34m\u001b[0m\u001b[0m\n\u001b[1;32m      4\u001b[0m     \u001b[0mball_vel\u001b[0m \u001b[0;34m=\u001b[0m \u001b[0;34m[\u001b[0m\u001b[0mrandom\u001b[0m\u001b[0;34m.\u001b[0m\u001b[0mrandrange\u001b[0m\u001b[0;34m(\u001b[0m\u001b[0;36m2\u001b[0m\u001b[0;34m,\u001b[0m\u001b[0;36m4\u001b[0m\u001b[0;34m)\u001b[0m\u001b[0;34m,\u001b[0m \u001b[0mrandom\u001b[0m\u001b[0;34m.\u001b[0m\u001b[0mrandrange\u001b[0m\u001b[0;34m(\u001b[0m\u001b[0;36m1\u001b[0m\u001b[0;34m,\u001b[0m\u001b[0;36m3\u001b[0m\u001b[0;34m)\u001b[0m\u001b[0;34m]\u001b[0m\u001b[0;34m\u001b[0m\u001b[0;34m\u001b[0m\u001b[0m\n\u001b[1;32m      5\u001b[0m     \u001b[0;32mif\u001b[0m \u001b[0mrandom\u001b[0m\u001b[0;34m.\u001b[0m\u001b[0mrandrange\u001b[0m\u001b[0;34m(\u001b[0m\u001b[0;36m0\u001b[0m\u001b[0;34m,\u001b[0m\u001b[0;36m2\u001b[0m\u001b[0;34m)\u001b[0m \u001b[0;34m==\u001b[0m \u001b[0;36m0\u001b[0m\u001b[0;34m:\u001b[0m\u001b[0;34m\u001b[0m\u001b[0;34m\u001b[0m\u001b[0m\n",
      "\u001b[0;31mNameError\u001b[0m: name 'ball_pos' is not defined"
     ]
    }
   ],
   "source": [
    "# 6.2 Reset ball position if bal goes off screen\n",
    "if (ball_pos[x] < -radius) or (ball_pos[x] > win_width + radius):\n",
    "\n",
    "    ball_vel = [random.randrange(2,4), random.randrange(1,3)]    \n",
    "    if random.randrange(0,2) == 0:\n",
    "        ball_vel[y] *= -1\n",
    "    # if player on left loses, ball starts by firing to the left\n",
    "    if ball_pos[x] < 0:\n",
    "        ball_vel[x] *= -1\n",
    "\n",
    "    ball_pos = [win_width//2, win_height//2]"
   ]
  },
  {
   "cell_type": "markdown",
   "metadata": {
    "slideshow": {
     "slide_type": "slide"
    }
   },
   "source": [
    "##### What does this code do?\n",
    "\n",
    ">`if (ball_pos[x] <= -radius) or (ball_pos[x] > win_width + radius):`\n",
    "\n",
    "The `if` statement checks if the ball has moved off the screen...\n",
    "\n"
   ]
  },
  {
   "cell_type": "markdown",
   "metadata": {
    "slideshow": {
     "slide_type": "slide"
    }
   },
   "source": [
    "...In the case that it has, the code used to set-up the ball in at the start of the program is repeated.\n",
    "\n",
    "```python\n",
    "# 2.3 ball\n",
    "...\n",
    "\n",
    "ball_vel = [random.randrange(2,4), random.randrange(1,3)]\n",
    "if random.randrange(0,2) == 0:\n",
    "    ball_vel[x] *= -1\n",
    "if random.randrange(0,2) == 0:\n",
    "    ball_vel[y] *= -1\n",
    "ball_pos = [win_width//2, win_height//2]\n",
    "```\n",
    "\n"
   ]
  },
  {
   "cell_type": "markdown",
   "metadata": {},
   "source": [
    "The only difference is the x component of the ball velocity is determined by which player won the last round (rather than random, as it was initially). \n",
    "\n",
    "```python\n",
    "# 6.2 Reset ball position if ball goes off screen\n",
    "...\n",
    "ball_pos = [win_width//2, win_height//2]\n",
    "ball_vel = [random.randrange(2,4), random.randrange(1,3)]    \n",
    "if random.randrange(0,2) == 0:\n",
    "    ball_vel[y] *= -1\n",
    "if ball_pos[x] < 0:\n",
    "    ball_vel[x] *= -1\n",
    "ball_pos = [win_width//2, win_height//2]\n",
    "        ```"
   ]
  },
  {
   "cell_type": "markdown",
   "metadata": {
    "slideshow": {
     "slide_type": "slide"
    }
   },
   "source": [
    "You should now have a working game of pong. \n",
    "\n",
    "<p align=\"center\">\n",
    "  <img src=\"img/pong.gif\" alt=\"Drawing\" style=\"width: 300px;\"/>\n",
    "</p>\n",
    "\n",
    "Try playing it with the person sitting next to you."
   ]
  },
  {
   "cell_type": "code",
   "execution_count": null,
   "metadata": {},
   "outputs": [],
   "source": []
  }
 ],
 "metadata": {
  "celltoolbar": "Slideshow",
  "kernelspec": {
   "display_name": "Python 3",
   "language": "python",
   "name": "python3"
  },
  "language_info": {
   "codemirror_mode": {
    "name": "ipython",
    "version": 3
   },
   "file_extension": ".py",
   "mimetype": "text/x-python",
   "name": "python",
   "nbconvert_exporter": "python",
   "pygments_lexer": "ipython3",
   "version": "3.7.4"
  }
 },
 "nbformat": 4,
 "nbformat_minor": 2
}
