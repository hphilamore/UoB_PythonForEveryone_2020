{
 "cells": [
  {
   "cell_type": "markdown",
   "metadata": {
    "collapsed": true,
    "slideshow": {
     "slide_type": "slide"
    }
   },
   "source": [
    "# 07 User-Defined Libraries, Import & Export\n",
    "# Review Exercises - Solutions"
   ]
  },
  {
   "cell_type": "markdown",
   "metadata": {
    "slideshow": {
     "slide_type": "slide"
    }
   },
   "source": [
    "# Review Exercise 1: User-defined Library\n",
    "This exercise is a tutorial.\n",
    "<br>You will create:\n",
    "- A user-defined library of functions to import to the Pong game\n",
    "- A file to store all the global variables used in the program. \n",
    "\n",
    "__1.__ Open the pong program in Spyder. \n",
    "\n",
    "__2.__ Create two new files called `cfg.py` (to store variables) and `pong_funcs.py` (to store functions) in the same folder as the pong program.\n",
    "\n",
    "__3.__ Move the functions you have written in the pong program to `pong_funcs.py`.\n",
    "\n",
    "__4.__ In the current program, the variables `window` and `pressed` are *initialised* (assigned an initial value) using a function:\n",
    "\n",
    "- `window = pygame.display.set_mode((win_width, win_height))`\n",
    "- `pressed = pygame.key.get_pressed()`\n",
    "\n",
    "To avoid calling functions in `cfg.py`, create two new variables in `cfg.py` and initialise them with empty values:\n",
    "```python\n",
    "pressed = ()\n",
    "window = False \n",
    "```\n",
    "\n",
    "__5.__ Move the variables in the pong program to `cfg.py`.\n",
    "\n",
    "__6.__ Import libraries to `pong_funcs.py`\n",
    "```python\n",
    "import pygame \n",
    "import sys\n",
    "import random\n",
    "import math\n",
    "\n",
    "import pygame.mixer as mix\n",
    "mix.init()\n",
    "```\n",
    "\n",
    "__7.__ Import `cfg.py` to `pong_funcs.py` *and* the main pong program.\n",
    "\n",
    "```python\n",
    "import cfg\n",
    "\n",
    "```\n",
    "__8.__ Import __all__ constants from `cfg.py` to `pong_funcs.py` *and* the main pong program.\n",
    "```python\n",
    "from cfg import x, y\n",
    "from cfg import black, white, red, green, blue, win_width, win_height, radius, pad_width, pad_height\n",
    "```\n",
    "\n",
    "__9.__ Import __all__ functions from `pong_funcs.py` to the main pong program.\n",
    "```python\n",
    "from pong_funcs import *\n",
    "```\n",
    "\n",
    "__10.__ In  `pong_funcs.py` *and* the main pong program prefix __all variables imported from__  functions from `cfg.py` to the main pong program with `cfg.`.\n",
    "\n",
    "__Example:__\n",
    "\n",
    "__Original code__\n",
    "```python\n",
    "# 6.1.3 Reverse direction of travel if edge is reached\n",
    "if ball_pos[y] > (win_height-radius) or ball_pos[y] < radius:\n",
    "        ball_vel[y] *= -1\n",
    "        ```\n",
    "__New code with imported variables__        \n",
    "```python\n",
    "        \n",
    "# 6.1.3 Reverse direction of travel if edge is reached\n",
    "if cfg.ball_pos[y] > (win_height-radius) or cfg.ball_pos[y] < radius:\n",
    "        cfg.ball_vel[y] *= -1\n",
    "        ```\n",
    "Note: it is not necessary to prefix `win_height` and `radius` with `.cfg` as they are constants that we imported at the start of the program.  \n",
    "\n"
   ]
  },
  {
   "cell_type": "code",
   "execution_count": 1,
   "metadata": {},
   "outputs": [],
   "source": [
    "# Review Exercise 1: User-defined Library\n",
    "# Example Solution: See Examples >> 07_pong_import"
   ]
  },
  {
   "cell_type": "markdown",
   "metadata": {
    "slideshow": {
     "slide_type": "slide"
    }
   },
   "source": [
    "# Review Exercise 2: Importing and Exporting\n",
    "The pong game stores the points scored by each player as variables `l_score` and `r_score`.\n",
    "\n",
    "The winner is the first player to reach 5 points. \n",
    "<br>The program is terminated when either player reaches 5 points. \n",
    "\n",
    "Another way to decide the winner is the player who scores the most points in a given time period e.g. 2 minutes. \n",
    "\n",
    "`pygame.time.get_ticks()` returns the time in (milliseconds) since `pygame.init()` was called in the program. \n",
    "\n",
    "__A__\n",
    "<br>Edit the pong game so that the program exits when 2 minutes is reached. \n",
    "<br>*Hint : edit the code shown below*\n",
    "```python\n",
    "if cfg.l_score >= 5 or cfg.r_score >= 5:\n",
    "    game_over = True\n",
    "```\n",
    "\n",
    "__B__\n",
    "<br>Create a new file `scores.txt` in the same directory as the program.\n",
    "<br>Before the program exits, `append` the values of `l_score` and `r_score` to the file. \n",
    "\n",
    "__C__\n",
    "<br>Before the program exits, check to see if a new highest score has been achieved by reading the file `scores.txt`.\n",
    "\n",
    "__D__\n",
    "<br>If a new highest score is achieved, print a message to the game screen before exiting. \n",
    "<br>Remember all drawing and displaying text should be done in the *same section* : `# 7. Draw everything`\n",
    "\n"
   ]
  },
  {
   "cell_type": "code",
   "execution_count": 2,
   "metadata": {},
   "outputs": [],
   "source": [
    "# Review Exercise 2: Importing and Exporting\n",
    "# Example Solution: See Examples >> 07_pong_import"
   ]
  },
  {
   "cell_type": "markdown",
   "metadata": {},
   "source": [
    "# Review Exercise 3: Launching an Application\n",
    "\n",
    "Save the space game as an application and email the installer to:\n",
    "1. me (philamore.hemms.5s@kyoto-u.ac.jp)\n",
    "2. a friend\n",
    "\n"
   ]
  },
  {
   "cell_type": "code",
   "execution_count": 3,
   "metadata": {},
   "outputs": [],
   "source": [
    "# Review Exercise 3: Launching an Application\n",
    "# Example Solution: See Examples >> 07_space_application"
   ]
  }
 ],
 "metadata": {
  "celltoolbar": "Slideshow",
  "kernelspec": {
   "display_name": "Python 3",
   "language": "python",
   "name": "python3"
  },
  "language_info": {
   "codemirror_mode": {
    "name": "ipython",
    "version": 3
   },
   "file_extension": ".py",
   "mimetype": "text/x-python",
   "name": "python",
   "nbconvert_exporter": "python",
   "pygments_lexer": "ipython3",
   "version": "3.7.4"
  }
 },
 "nbformat": 4,
 "nbformat_minor": 2
}
