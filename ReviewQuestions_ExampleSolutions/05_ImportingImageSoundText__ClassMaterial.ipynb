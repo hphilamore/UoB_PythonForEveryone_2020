{
 "cells": [
  {
   "cell_type": "markdown",
   "metadata": {
    "collapsed": true,
    "slideshow": {
     "slide_type": "slide"
    }
   },
   "source": [
    "# 05 Importing Data: Images, Sound and Text\n",
    "\n",
    "# Review Exercises - Solutions\n",
    "\n"
   ]
  },
  {
   "cell_type": "markdown",
   "metadata": {
    "slideshow": {
     "slide_type": "slide"
    }
   },
   "source": [
    "\n",
    "\n",
    "\n",
    "\n",
    "__Exercise 1__ is a tutorial to finish building the space game.\n",
    "\n",
    "__Exercise 2__ is a tutorial about adding text and sounds to the Pong game.\n",
    "\n",
    "__Exercise 3__ is a tutorial about using conditionals to decide when the game has finished (e.g. based on player score). \n"
   ]
  },
  {
   "cell_type": "markdown",
   "metadata": {
    "slideshow": {
     "slide_type": "slide"
    }
   },
   "source": [
    "# Review Exercise 1: Interaction Between Images\n",
    "<a id='InteractionBetweenImages'></a>\n",
    "Work through the tutorial to shoot fireballs at the alien from the spaceship. \n",
    "\n",
    "Run the program after __each step__ to check for any errors. \n",
    "\n",
    "<table><tr><td> \n",
    "<img src='img/battle1.png' style=\"width: 200px;\"> </td><td> \n",
    "<img src='img/battle2.png' style=\"width: 200px;\"> </td><td> \n",
    "<img src='img/battle3.png' style=\"width: 200px;\"> </td></tr>\n",
    "</table>\n",
    "\n",
    "How does the program detect and respond to interaction (e.g. collision) between two objects?"
   ]
  },
  {
   "cell_type": "markdown",
   "metadata": {
    "slideshow": {
     "slide_type": "slide"
    }
   },
   "source": [
    "We have studied this process for user-defined geometric shapes.\n",
    "\n",
    "The process for imported imeages is similar, we treat the imported image as a rectangle.\n",
    "\n",
    "In this example, we will also consider how we deal with mutliple images by __iterating__ through a __list__.\n"
   ]
  },
  {
   "cell_type": "markdown",
   "metadata": {
    "slideshow": {
     "slide_type": "slide"
    }
   },
   "source": [
    "##### Example : Interaction Between Images\n",
    "\n",
    "To learn about interaction, we will use the following example...\n",
    "\n",
    "We are going to make a fireball shoot out the top of the saucer when we click the mouse.\n",
    "\n",
    "The fireball will shoot out in the direction the saucer is pointing.\n",
    "\n",
    "If the fireball hits the monster, the monster will disappear.\n",
    "\n",
    "<table><tr><td> \n",
    "<img src='img/battle1.png' style=\"width: 200px;\"> </td><td> \n",
    "<img src='img/battle2.png' style=\"width: 200px;\"> </td><td> \n",
    "<img src='img/battle3.png' style=\"width: 200px;\"> </td></tr>\n",
    "</table>"
   ]
  },
  {
   "cell_type": "markdown",
   "metadata": {},
   "source": [
    "######  Step 1: Import image of fireball and find its size:\n",
    "        # 3.1 Import images\n",
    "        fire = pygame.image.load(\"../img/fire.png\")\n",
    "        f_size = fire.get_rect().size"
   ]
  },
  {
   "cell_type": "markdown",
   "metadata": {
    "slideshow": {
     "slide_type": "subslide"
    }
   },
   "source": [
    "######  Step 2: Process __mouse click__ event:\n",
    "        # 5.4 Mouse click\n",
    "        if event.type==pygame.MOUSEBUTTONDOWN:\n",
    "            mouse_click = True\n",
    "        else:\n",
    "            mouse_click = False"
   ]
  },
  {
   "cell_type": "markdown",
   "metadata": {
    "slideshow": {
     "slide_type": "subslide"
    }
   },
   "source": [
    "###### Step 3: List to store all shots:\n",
    "        # 2.4 List to store shots \n",
    "        shots = []"
   ]
  },
  {
   "cell_type": "markdown",
   "metadata": {
    "slideshow": {
     "slide_type": "subslide"
    }
   },
   "source": [
    "###### Step 4: Every time a shot is fired...\n",
    "1. the `zap` sound effect is played\n",
    "1. the list of shots is `appended` with the location of the spaceship when the shot was made. \n",
    "\n",
    "```python\n",
    "# 6.5 Fire a shot\n",
    "if mouse_click:\n",
    "    \n",
    "    # 6.5.1 play sound effect\n",
    "    zap.play()   \n",
    "      \n",
    "    # 6.5.2 add shot to the list of shots\n",
    "    shot_pos = [saucer_pos[x] + s_size[x]/2 - f_size[x]/2, \n",
    "                saucer_pos[y] + s_size[y]/2 - f_size[y]/2]\n",
    "\n",
    "    shots.append([angle, shot_pos])\n",
    "    ```"
   ]
  },
  {
   "cell_type": "markdown",
   "metadata": {
    "slideshow": {
     "slide_type": "subslide"
    }
   },
   "source": [
    "###### What does this code do?\n",
    ">`shot_pos = [saucer_pos[x] + s_size[x]/2 - f_size[x]/2, \n",
    "            saucer_pos[y] + s_size[y]/2 - f_size[y]/2]`\n",
    "\n",
    "The fire shot top-left corner:\n",
    "- $x_s = x_f + \\frac{w_s}{2} - \\frac{w_f}{2}$\n",
    "- $y_s = y_f + \\frac{h_s}{2} - \\frac{h_f}{2}$\n",
    "\n",
    "where $w$ and $h$ denote width and height respectively.\n",
    "\n",
    "<img src=\"img/centeredfire.png\" alt=\"Drawing\" style=\"width: 200px;\"/>"
   ]
  },
  {
   "cell_type": "markdown",
   "metadata": {
    "slideshow": {
     "slide_type": "subslide"
    }
   },
   "source": [
    "###### What does this code do?\n",
    ">`shots.append([angle, shot_pos])`\n",
    "\n",
    "Adds the shot to the list of all shots fired."
   ]
  },
  {
   "cell_type": "markdown",
   "metadata": {
    "slideshow": {
     "slide_type": "subslide"
    }
   },
   "source": [
    "<a id='enumerate'></a>\n",
    "### `enumerate()`\n",
    "The function `enumerate` can be used to return the index of each element.\n",
    "<br>This information is cast as a list to allow us to read it.\n",
    "\n",
    "An example is shown below:"
   ]
  },
  {
   "cell_type": "code",
   "execution_count": 1,
   "metadata": {
    "slideshow": {
     "slide_type": "subslide"
    }
   },
   "outputs": [
    {
     "name": "stdout",
     "output_type": "stream",
     "text": [
      "<enumerate object at 0x105c5a8c0>\n",
      "[(0, 'Sara'), (1, 'Mari'), (2, 'Quang'), (3, 'Sam'), (4, 'Ryo'), (5, 'Nao'), (6, 'Takashi')]\n"
     ]
    }
   ],
   "source": [
    "lab_group0 = [\"Sara\", \"Mari\", \"Quang\", \"Sam\", \"Ryo\", \"Nao\", \"Takashi\"]\n",
    "a = enumerate(lab_group0)\n",
    "b = list(enumerate(lab_group0))\n",
    "print(a)\n",
    "print(b)\n",
    "\n"
   ]
  },
  {
   "cell_type": "markdown",
   "metadata": {
    "slideshow": {
     "slide_type": "subslide"
    }
   },
   "source": [
    "`enumerate` can be useful for numbering each iteration of a loop:\n",
    "###### Step 4: Iterate over all shots.\n",
    "```python\n",
    "# 6.6 Iterate over all shots, giving each one a number\n",
    "for n, shot in enumerate(shots):\n",
    "    print(n)\n",
    "    speed = 20\n",
    "    shot_vel = [math.cos(shot[0]) *speed, \n",
    "                -math.sin(shot[0])*speed] # y direction down=positive\n",
    "    ```\n",
    "        \n",
    "###### Update position.       \n",
    "```python\n",
    "    # 6.6.1 Update fireball position\n",
    "    shot[1][x] += shot_vel[x]\n",
    "    shot[1][y] += shot_vel[y]\n",
    "```\n",
    "        \n",
    "##### Remove any shots that have left the screen. \n",
    "```python\n",
    "    # 6.6.2 If the fireball leaves the screen, remove it from the list of shots\n",
    "    shot_len = max(f_size[x],f_size[y])\n",
    "    if (shot[1][x] > b_size[x] + shot_len or \n",
    "        shot[1][x] < - shot_len or \n",
    "        shot[1][y] > b_size[y] + shot_len or \n",
    "        shot[1][y] < - shot_len):\n",
    "        shots.pop(n)\n",
    "    ```"
   ]
  },
  {
   "cell_type": "markdown",
   "metadata": {
    "slideshow": {
     "slide_type": "subslide"
    }
   },
   "source": [
    "###### Step 5: Draw the shots\n",
    "```python\n",
    "# 7.2 Draw features\n",
    "        \n",
    "for shot in shots:\n",
    "    shot_r = pygame.transform.rotate(fire, math.degrees(shot[0]) - 90)\n",
    "    window.blit(shot_r, shot[1])\n",
    "        ```"
   ]
  },
  {
   "cell_type": "markdown",
   "metadata": {
    "slideshow": {
     "slide_type": "subslide"
    }
   },
   "source": [
    "###### Step 6: If a shot hits the monster, make it disappear\n",
    "\n",
    "<img src='img/battle3.png' style=\"width: 200px;\"> </td>\n",
    "\n",
    "Create a variable called `monster_exists`.\n",
    "```python\n",
    "    monster_exists = True\n",
    "```\n"
   ]
  },
  {
   "cell_type": "markdown",
   "metadata": {
    "slideshow": {
     "slide_type": "subslide"
    }
   },
   "source": [
    "If the monster is hit, we \"turn off\" the monster.\n",
    "```python\n",
    "# 6.6.3. Monster hit, turn off monster\n",
    "if ((monster_pos[x]  <  shot[1][x]  <  monster_pos[x] + m_size[x])\n",
    "    and \n",
    "    (monster_pos[y]  <  shot[1][y]  <  monster_pos[y] + m_size[y])):\n",
    "     monster_exists = False\n",
    "            ```"
   ]
  },
  {
   "cell_type": "markdown",
   "metadata": {
    "slideshow": {
     "slide_type": "subslide"
    }
   },
   "source": [
    "In `# 5. Draw`, change:\n",
    "\n",
    "    window.blit(monster, monster_pos)\n",
    "    \n",
    "to:\n",
    "        \n",
    "    if monster:\n",
    "        window.blit(monster, monster_pos)\n",
    "        \n",
    "The monster will only be drawn if `monster==True`."
   ]
  },
  {
   "cell_type": "code",
   "execution_count": 2,
   "metadata": {},
   "outputs": [],
   "source": [
    "# Review Exercise 1: Interaction Between Images\n",
    "# Example Solution : See Examples >> 05_space_game.py"
   ]
  },
  {
   "cell_type": "markdown",
   "metadata": {},
   "source": [
    "# Review Exercise 2: Adding Text and Sound\n",
    "Open the Pong game you write in previous classes. \n",
    "\n",
    "Using what you have learnt in today's class:\n",
    "\n",
    "<br>A) Add background music to the Pong game.\n",
    "\n",
    "<br>B) Add a sound effect that is played when the ball hits a paddle. \n",
    "\n",
    "<br>C) Add text that displays the current score of each player\n",
    "1. Create two variables to store the score for each player: `l_score`, `r_score`.  \n",
    "1. If the ball goes off the screen, add 1 to the score of the winner `# 6.2.1 Update scores`.\n",
    "1. Display the current score on the screen as shown in the picture:\n",
    "\n",
    "<img src='img/scores.png' style=\"width: 350px;\"> </td>\n",
    "\n",
    "\n"
   ]
  },
  {
   "cell_type": "code",
   "execution_count": 3,
   "metadata": {},
   "outputs": [],
   "source": [
    "# Review Exercise 2: Adding Text and Sound\n",
    "# Example Solution : See Examples >> 05_pong_scores.py"
   ]
  },
  {
   "cell_type": "markdown",
   "metadata": {
    "slideshow": {
     "slide_type": "slide"
    }
   },
   "source": [
    "# Review Exercise 3: Conditionals "
   ]
  },
  {
   "cell_type": "markdown",
   "metadata": {},
   "source": [
    "In addition to checking if the user has quit the game, we can now quit the Pong game when either player reaches a particular score, in this case, 5.\n",
    "\n",
    "```python\n",
    "# 5.1 Check if the user has quit the game\n",
    "if event.type == pygame.QUIT:        \n",
    "    pygame.quit()\n",
    "    sys.exit()  \n",
    "\n",
    "if l_score >= 5 or r_score >= 5:\n",
    "    pygame.quit()\n",
    "    sys.exit() \n",
    "    ```"
   ]
  },
  {
   "cell_type": "markdown",
   "metadata": {},
   "source": [
    "Another way to handle this is to create a variable e.g. `game_over`:\n",
    "\n",
    "```python\n",
    "game_over = False\n",
    "\n",
    "# 5.1 Check if the user has quit the game\n",
    "if event.type == pygame.QUIT:        \n",
    "    pygame.quit()\n",
    "    sys.exit() \n",
    "    \n",
    "if game_over:\n",
    "    pygame.quit()\n",
    "    sys.exit()\n",
    "\n",
    "if l_score >= 5 or r_score >= 5:\n",
    "    game_over = True\n",
    "    ```"
   ]
  },
  {
   "cell_type": "markdown",
   "metadata": {},
   "source": [
    "Open the space game again. Using the example above,edit your code to quit the game when a fireball hits the monster (*hint : when `monster_exists == False`*). \n",
    "\n",
    "If you want the program to pause before exiting, you can use: \n",
    "<br>`pygame.time.delay( ms )`\n",
    "<br>where `ms` is the time to pause in milliseconds (1000 milliseconds = 1 second) "
   ]
  },
  {
   "cell_type": "code",
   "execution_count": 4,
   "metadata": {},
   "outputs": [
    {
     "ename": "NameError",
     "evalue": "name 'monster_exists' is not defined",
     "output_type": "error",
     "traceback": [
      "\u001b[0;31m---------------------------------------------------------------------------\u001b[0m",
      "\u001b[0;31mNameError\u001b[0m                                 Traceback (most recent call last)",
      "\u001b[0;32m<ipython-input-4-6621d3cc4925>\u001b[0m in \u001b[0;36m<module>\u001b[0;34m\u001b[0m\n\u001b[1;32m      2\u001b[0m \u001b[0;31m# Example Solution\u001b[0m\u001b[0;34m\u001b[0m\u001b[0;34m\u001b[0m\u001b[0;34m\u001b[0m\u001b[0m\n\u001b[1;32m      3\u001b[0m \u001b[0;34m\u001b[0m\u001b[0m\n\u001b[0;32m----> 4\u001b[0;31m \u001b[0;32mif\u001b[0m \u001b[0;32mnot\u001b[0m \u001b[0mmonster_exists\u001b[0m\u001b[0;34m:\u001b[0m\u001b[0;34m\u001b[0m\u001b[0;34m\u001b[0m\u001b[0m\n\u001b[0m\u001b[1;32m      5\u001b[0m     \u001b[0mpygame\u001b[0m\u001b[0;34m.\u001b[0m\u001b[0mtime\u001b[0m\u001b[0;34m.\u001b[0m\u001b[0mdelay\u001b[0m\u001b[0;34m(\u001b[0m\u001b[0;36m1000\u001b[0m\u001b[0;34m)\u001b[0m\u001b[0;34m\u001b[0m\u001b[0;34m\u001b[0m\u001b[0m\n\u001b[1;32m      6\u001b[0m     \u001b[0mpygame\u001b[0m\u001b[0;34m.\u001b[0m\u001b[0mquit\u001b[0m\u001b[0;34m(\u001b[0m\u001b[0;34m)\u001b[0m\u001b[0;34m\u001b[0m\u001b[0;34m\u001b[0m\u001b[0m\n",
      "\u001b[0;31mNameError\u001b[0m: name 'monster_exists' is not defined"
     ]
    }
   ],
   "source": [
    "# Review Exercise 3: Conditionals\n",
    "# Example Solution\n",
    "\n",
    "if not monster_exists:\n",
    "    pygame.time.delay(1000)\n",
    "    pygame.quit()\n",
    "    sys.exit() \n",
    "    \n",
    "    \n",
    "# or\n",
    "\n",
    "if game_over:\n",
    "    pygame.time.delay(1000)\n",
    "    pygame.quit()\n",
    "    sys.exit() \n",
    "\n",
    "if not monster_exists:\n",
    "    game_over = True "
   ]
  },
  {
   "cell_type": "code",
   "execution_count": null,
   "metadata": {},
   "outputs": [],
   "source": []
  },
  {
   "cell_type": "code",
   "execution_count": null,
   "metadata": {},
   "outputs": [],
   "source": []
  }
 ],
 "metadata": {
  "celltoolbar": "Slideshow",
  "kernelspec": {
   "display_name": "Python 3",
   "language": "python",
   "name": "python3"
  },
  "language_info": {
   "codemirror_mode": {
    "name": "ipython",
    "version": 3
   },
   "file_extension": ".py",
   "mimetype": "text/x-python",
   "name": "python",
   "nbconvert_exporter": "python",
   "pygments_lexer": "ipython3",
   "version": "3.7.4"
  }
 },
 "nbformat": 4,
 "nbformat_minor": 2
}
