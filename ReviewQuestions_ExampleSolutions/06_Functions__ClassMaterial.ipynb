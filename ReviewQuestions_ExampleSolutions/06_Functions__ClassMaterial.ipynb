{
 "cells": [
  {
   "cell_type": "markdown",
   "metadata": {
    "collapsed": true,
    "slideshow": {
     "slide_type": "slide"
    }
   },
   "source": [
    "# 06 Functions\n",
    "# Review Exercises - Solutions"
   ]
  },
  {
   "cell_type": "markdown",
   "metadata": {
    "slideshow": {
     "slide_type": "subslide"
    }
   },
   "source": [
    "## Review Exercise 1: Writing Functions (House)\n",
    "<img src=\"img/house.jpg\" alt=\"Drawing\" style=\"width: 300px;\"/>\n",
    "\n",
    "In the file `tree.py`, write a function to draw a house using basic shapes.\n",
    "\n",
    "The input arguments should be use to define the position of the house in the game window.\n",
    "\n",
    "\n",
    "\n"
   ]
  },
  {
   "cell_type": "markdown",
   "metadata": {},
   "source": [
    "## Review Exercise 2: Using loops to avoid repetition\n",
    "\n",
    "<p align=\"center\">\n",
    "  <img src=\"img/pong.gif\" alt=\"Drawing\" style=\"width: 300px;\"/>\n",
    "</p>"
   ]
  },
  {
   "cell_type": "markdown",
   "metadata": {
    "slideshow": {
     "slide_type": "slide"
    }
   },
   "source": [
    "\n",
    "\n",
    "In the Pong program we wrote last week, we made the ball bounce in the opposite direction when it hits a paddle. \n",
    "```python\n",
    "    # 6.1.1 Collision with left paddle\n",
    "    if (ball_pos[x] <= (radius + pad_width) and \n",
    "       pad1_pos[y] < ball_pos[y] < pad1_pos[y] + pad_height):\n",
    "        ball_vel[x] = -ball_vel[x]\n",
    "        ball_vel[0] *= 1.1\n",
    "        ball_vel[1] *= 1.1\n",
    "        \n",
    "        \n",
    "    # 6.1.2 Collision with right paddle    \n",
    "    if (ball_pos[x] >= win_width - (radius + pad_width) and \n",
    "       pad2_pos[y] < ball_pos[y] < pad2_pos[y] + pad_height):\n",
    "        ball_vel[x] = -ball_vel[x]\n",
    "        ball_vel[0] *= 1.1\n",
    "        ball_vel[1] *= 1.1\n",
    "        ```\n",
    "    \n"
   ]
  },
  {
   "cell_type": "markdown",
   "metadata": {},
   "source": [
    "We reduced repetition in the code by using a `for` loop.\n",
    "<br>__Example:__\n",
    "```python\n",
    "# 6.1 Collisions\n",
    "collision = [(ball_pos[x] <= (radius + pad_width)), \n",
    "             (ball_pos[x] >= win_width - (radius + pad_width))]\n",
    "\n",
    "for pos, col in zip(pad_pos, collision): \n",
    "    if (col and \n",
    "        pos[y] < ball_pos[y] < pos[y] + pad_height):\n",
    "        ball_vel[x] = -ball_vel[x]\n",
    "        ball_vel[0] *= 1.1\n",
    "        ball_vel[1] *= 1.1\n",
    "            ```"
   ]
  },
  {
   "cell_type": "markdown",
   "metadata": {},
   "source": [
    "Using the examples in today's class write a function so that the code block `6.1 Collisions` can be replaced with the function call:\n",
    "\n",
    "```\n",
    "                        collision_with_pad()\n",
    "```"
   ]
  },
  {
   "cell_type": "code",
   "execution_count": 1,
   "metadata": {},
   "outputs": [],
   "source": [
    "# Review Exercise 2: Using loops to avoid repetition\n",
    "# Example solution : See Examples >> 06_pong_func.py"
   ]
  },
  {
   "cell_type": "markdown",
   "metadata": {},
   "source": [
    "## Review Exercise 3:  Using functions to avoid repetition\n",
    "\n",
    "In the Pong game program, the code used __when the ball is created:__\n",
    "\n",
    "```python\n",
    "# 2.3 ball\n",
    "...\n",
    "\n",
    "ball_vel = [random.randrange(2,4), random.randrange(1,3)]\n",
    "if random.randrange(0,2) == 0:\n",
    "    ball_vel[x] *= -1\n",
    "if random.randrange(0,2) == 0: # determines x component of ball velocity \n",
    "    ball_vel[y] *= -1\n",
    "ball_pos = [win_width//2, win_height//2]\n",
    "```\n",
    "\n",
    "...is almost the same as the code used __to retrieve the ball when it goes off-screen:__ \n",
    "\n",
    "```python\n",
    "# 6.2 Reset ball position if ball goes off screen\n",
    "...\n",
    "ball_vel = [random.randrange(2,4), random.randrange(1,3)]    \n",
    "if random.randrange(0,2) == 0:\n",
    "    ball_vel[y] *= -1\n",
    "if ball_pos[x] < 0: # determines x component of ball velocity \n",
    "    ball_vel[x] *= -1\n",
    "ball_pos = [win_width//2, win_height//2]\n",
    "        ```"
   ]
  },
  {
   "cell_type": "markdown",
   "metadata": {},
   "source": [
    "The only difference is the __x component__ of the ball velocity is determined by which player won the last round (rather than random, as it was initially)."
   ]
  },
  {
   "cell_type": "markdown",
   "metadata": {},
   "source": [
    "In your program, write a *single* function called `set_ball` that can be called:\n",
    "\n",
    "- __when the ball is created__\n",
    "- __to retrieve the ball when it goes off-screen__\n",
    "\n",
    "<br>The function should take an *argument* (input). \n",
    "<br>The argument should adapt the function that `determines x component of ball velocity` \n",
    "\n"
   ]
  },
  {
   "cell_type": "markdown",
   "metadata": {},
   "source": [
    "The function will need to access global variables `ball_vel` and `ball_pos`.\n",
    "\n",
    "Remember to change the value of a __global__ variable within a function, we use the keyword `global`:\n",
    "\n",
    "```python\n",
    "# global variables\n",
    "ball_vel = [10, 10]\n",
    "ball_pos = [0, 0]\n",
    "\n",
    "def my_func():\n",
    "    global ball_vel, ball_pos\n",
    "    ball_pos[x] += ball_vel[x]\n",
    "    ball_pos[y] += ball_vel[y]\n",
    "   \n",
    "\n",
    "```"
   ]
  },
  {
   "cell_type": "code",
   "execution_count": 2,
   "metadata": {},
   "outputs": [
    {
     "name": "stdout",
     "output_type": "stream",
     "text": [
      "Before function call, var = [10, 10] [0, 0]\n",
      "After function call, var = [10, 10] [10, 10]\n"
     ]
    }
   ],
   "source": [
    "# global variables\n",
    "ball_vel = [10, 10]\n",
    "ball_pos = [0, 0]\n",
    "\n",
    "def my_func():\n",
    "    global ball_vel, ball_pos\n",
    "    ball_pos[0] += ball_vel[0]\n",
    "    ball_pos[1] += ball_vel[1]\n",
    "    \n",
    "print(\"Before function call, var =\", ball_vel, ball_pos)\n",
    "\n",
    "# Call the function.\n",
    "my_func()\n",
    "\n",
    "print(\"After function call, var =\", ball_vel, ball_pos)"
   ]
  },
  {
   "cell_type": "code",
   "execution_count": 3,
   "metadata": {},
   "outputs": [],
   "source": [
    "# Review Exercise 3:  Using functions to avoid repetition\n",
    "# Example solution : See Examples >> 06_pong_func.py"
   ]
  }
 ],
 "metadata": {
  "celltoolbar": "Slideshow",
  "kernelspec": {
   "display_name": "Python 3",
   "language": "python",
   "name": "python3"
  },
  "language_info": {
   "codemirror_mode": {
    "name": "ipython",
    "version": 3
   },
   "file_extension": ".py",
   "mimetype": "text/x-python",
   "name": "python",
   "nbconvert_exporter": "python",
   "pygments_lexer": "ipython3",
   "version": "3.7.4"
  }
 },
 "nbformat": 4,
 "nbformat_minor": 2
}
