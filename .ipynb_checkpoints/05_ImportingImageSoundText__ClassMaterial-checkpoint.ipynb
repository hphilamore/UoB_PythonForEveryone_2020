{
 "cells": [
  {
   "cell_type": "markdown",
   "metadata": {
    "slideshow": {
     "slide_type": "slide"
    }
   },
   "source": [
    "<img src=\"img/full-colour-logo-UoB.png\" alt=\"Drawing\" style=\"width: 200px;\"/>\n",
    "\n",
    "# Introduction to Programming for Everyone\n",
    "\n",
    "## Python 3\n",
    "\n",
    "\n"
   ]
  },
  {
   "cell_type": "markdown",
   "metadata": {
    "collapsed": true,
    "slideshow": {
     "slide_type": "slide"
    }
   },
   "source": [
    "# 05 Importing Data: Images, Sound and Text\n",
    "\n",
    "<br> <a href='#ImportingObjects'>1. Importing Objects</a>\n",
    "<br> <a href='#ImportingImages'>2. Importing Images</a> \n",
    "<br> <a href='#MovingImage'>3. Moving an Image</a> \n",
    "<br> <a href='#RotatingImage'>4. Rotating an Image</a> \n",
    "<br> <a href='#ImportingSound'>5. Importing Sound</a> \n",
    "<br> <a href='#ReviewExercises'>6. Review Exercises</a>\n",
    "\n"
   ]
  },
  {
   "cell_type": "markdown",
   "metadata": {
    "slideshow": {
     "slide_type": "slide"
    }
   },
   "source": [
    "### Lesson Goal\n",
    "\n",
    "1. Importing files such as images, sound and text for use in your programs.\n",
    "1. Apply skills learnt so far to add manipulate imported sound, text and image data within a Python program.\n",
    "\n",
    "### Fundamental programming concepts\n",
    " - Using data from different types of file within a Python program "
   ]
  },
  {
   "cell_type": "markdown",
   "metadata": {
    "slideshow": {
     "slide_type": "slide"
    }
   },
   "source": [
    "#### Importing Objects\n",
    "Sometimes we want to use information in a program that isn't generated using pure code.\n",
    "\n",
    "Often this allows us to add features to a program that would be very time-consuming or difficult to produce in code, for example an image or a sound."
   ]
  },
  {
   "cell_type": "markdown",
   "metadata": {
    "slideshow": {
     "slide_type": "slide"
    }
   },
   "source": [
    "Be aware of copyright laws and only use sound and images that are liscenced for public use, particularly if you plan to share your programs with other people."
   ]
  },
  {
   "cell_type": "markdown",
   "metadata": {
    "slideshow": {
     "slide_type": "slide"
    }
   },
   "source": [
    "Open `templates/game_template.py` and save it with a __new name__, `space_game.py`."
   ]
  },
  {
   "cell_type": "markdown",
   "metadata": {
    "slideshow": {
     "slide_type": "slide"
    }
   },
   "source": [
    "<a id='ImportingObjects'></a>\n",
    "# 1. Importing Objects\n",
    "\n",
    "It's important to note that there are multiple ways to imoprt and use non-Python data such as sound and images in a python file.\n",
    "\n",
    "As usual, we will be using Pygame.\n",
    "\n"
   ]
  },
  {
   "cell_type": "code",
   "execution_count": 1,
   "metadata": {
    "slideshow": {
     "slide_type": "slide"
    }
   },
   "outputs": [
    {
     "name": "stdout",
     "output_type": "stream",
     "text": [
      "pygame 1.9.6\n",
      "Hello from the pygame community. https://www.pygame.org/contribute.html\n"
     ]
    }
   ],
   "source": [
    "# 0. Import libraries\n",
    "import pygame as pg\n",
    "import sys\n",
    "import random\n",
    "import math"
   ]
  },
  {
   "cell_type": "markdown",
   "metadata": {
    "slideshow": {
     "slide_type": "slide"
    }
   },
   "source": [
    "Some alternative libraries for working with:\n",
    "- sound\n",
    "     - https://wiki.python.org/moin/Audio/\n",
    "- images\n",
    "     - http://opencv-python-tutroals.readthedocs.io/en/latest/py_tutorials/py_gui/py_image_display/py_image_display.html\n",
    "     - https://pillow.readthedocs.io/en/3.1.x/reference/Image.html\n",
    "     - http://docs.python-guide.org/en/latest/scenarios/imaging/"
   ]
  },
  {
   "cell_type": "markdown",
   "metadata": {
    "slideshow": {
     "slide_type": "slide"
    }
   },
   "source": [
    "<a id='ImportingImages'></a>\n",
    "# 2. Importing Images\n",
    "\n",
    "Any images used in a game should already be sized for how it should appear on the screen. \n",
    "\n",
    "For example don't try to import a  5000x5000 pixel image to a 800x600 pixel window. \n",
    "\n",
    "A graphics program (even MS Paint) may be used to resize/crop an image before using it in your Python program.\n",
    "\n",
    "    "
   ]
  },
  {
   "cell_type": "markdown",
   "metadata": {
    "slideshow": {
     "slide_type": "slide"
    }
   },
   "source": [
    "Copy and paste the example code to `space_game.py`.  \n",
    "  \n",
    "```python\n",
    "\n",
    "# 0. Import libraries\n",
    "from pygame.image import load\n",
    "\n",
    "# 3.1 Import images\n",
    "background = load(\"../img/space.jpg\").convert()\n",
    "```\n",
    "\n",
    "*The file import path used in all examples in this tutorial is for a file located in the `img`sample data folder within the `ILAS_PyEv2019 `repository.*"
   ]
  },
  {
   "cell_type": "markdown",
   "metadata": {
    "slideshow": {
     "slide_type": "slide"
    }
   },
   "source": [
    "To reference the imported image within the program we assign it to a variable, `background`.\n",
    "\n",
    "The image needs to be converted to a format Pygame can work with using the method `convert()`.\n",
    "\n",
    "```python\n",
    "# 3.1 Import images\n",
    "background = load(\"../img/space.jpg\").convert()\n",
    "```"
   ]
  },
  {
   "cell_type": "markdown",
   "metadata": {
    "slideshow": {
     "slide_type": "slide"
    }
   },
   "source": [
    "When loading a file, we give the filename *and* the file location are specified. \n",
    "\n",
    "Filename : `space.jpg`\n",
    "Location : `img` folder\n",
    "\n",
    "We are writing the program in the `Examples` folder. \n",
    "<br>`Examples` and `img` are located in the  same folder, `ILAS_PyEv2019`.\n",
    "<br>To show this we place `../` before `img` when stating the location of the file. \n",
    "\n",
    "```python\n",
    "# 3.1 Import images\n",
    "background = load(\"../img/space.jpg\").convert()\n",
    "```\n",
    "\n"
   ]
  },
  {
   "cell_type": "markdown",
   "metadata": {
    "slideshow": {
     "slide_type": "slide"
    }
   },
   "source": [
    "We will learn about file locations when importing and exporting in next week's class. "
   ]
  },
  {
   "cell_type": "markdown",
   "metadata": {
    "slideshow": {
     "slide_type": "slide"
    }
   },
   "source": [
    "`background.get_rect()` draws a rectangle around the imported image \n",
    "\n",
    "`background.get_rect().size` returns the dimensions of the rectangle. \n",
    "\n",
    "```python\n",
    "b_size = background.get_rect().size\n",
    "print('b_size=', b_size)\n",
    "```\n",
    "__`>> b_size= (959, 732)`__\n",
    "\n",
    "The size of the imported image of space is 959x732 pixels.\n",
    "\n",
    "<img src=\"img/space.jpg\" alt=\"Drawing\" style=\"width: 400px;\"/>\n",
    "\n"
   ]
  },
  {
   "cell_type": "markdown",
   "metadata": {
    "slideshow": {
     "slide_type": "slide"
    }
   },
   "source": [
    "The game window should be approximately the same size.\n",
    "\n",
    "If the game window is smaller than the image, the image will be cropped to the size of the window. \n",
    "\n",
    "For example, let's set the new window size:\n",
    "\n",
    "```python\n",
    "# 2.2 window\n",
    "win_width = 800\n",
    "win_height = 600\n",
    "```\n"
   ]
  },
  {
   "cell_type": "markdown",
   "metadata": {
    "slideshow": {
     "slide_type": "slide"
    }
   },
   "source": [
    "Importing the image should be done *before* the main game loop as we only need to import the image once.\n",
    "\n",
    "We now need to *display* the image."
   ]
  },
  {
   "cell_type": "markdown",
   "metadata": {
    "slideshow": {
     "slide_type": "slide"
    }
   },
   "source": [
    "### Displaying an Image\n",
    "<a id='DisplayingImage'></a>\n",
    "To display an image we use the command `blit`.\n",
    "\n",
    "\n",
    "```python \n",
    "# 7. Draw\n",
    "# 7.1 Draw background\n",
    "# window.fill(blue)\n",
    "window.blit(background, [0, 0])\n",
    "```\n",
    "This displays the background image starting at coordinate (0,0)\n",
    "\n",
    "Note: this command is used instead of : `window.fill(blue)`\n",
    "<br>(When an image is used as the game window background, there is no need to use `window.fill`)"
   ]
  },
  {
   "cell_type": "markdown",
   "metadata": {
    "slideshow": {
     "slide_type": "slide"
    }
   },
   "source": [
    "We can also display images on top of the background for use in your game.\n",
    "\n",
    "Let's import some more images:\n",
    "```python\n",
    "# 3.1 Import images\n",
    "saucer = load(\"../img/saucer.png\")\n",
    "s_size = saucer.get_rect().size\n",
    "\n",
    "monster = load(\"../img/monster.png\")\n",
    "m_size = monster.get_rect().size\n",
    "```\n",
    "And display the image at the coordinates (100, 100):\n",
    "```python\n",
    "# 7.2 Draw features\n",
    "window.blit(saucer, (100,100))\n",
    "```"
   ]
  },
  {
   "cell_type": "markdown",
   "metadata": {
    "slideshow": {
     "slide_type": "slide"
    }
   },
   "source": [
    "#### Note\n",
    "\n",
    "The *order* in which images are \"drawn\" is important.\n",
    "\n",
    "Images appear in layers in the order they are drawn. \n",
    "\n",
    "If the saucer is drawn *before* the background, the background will obscure the saucer."
   ]
  },
  {
   "cell_type": "markdown",
   "metadata": {
    "slideshow": {
     "slide_type": "slide"
    }
   },
   "source": [
    "If we open the file `saucer.png`, and `monster.png` we see that the images have no background.\n",
    "\n",
    "<img src=\"img/saucer.png\" alt=\"Drawing\" style=\"width: 200px;\"/>\n",
    "\n",
    "<img src=\"img/monster.gif\" alt=\"Drawing\" style=\"width: 200px;\"/>"
   ]
  },
  {
   "cell_type": "markdown",
   "metadata": {
    "slideshow": {
     "slide_type": "slide"
    }
   },
   "source": [
    "If we open the file `monster_.png`, we see that this image has a solid white background. \n",
    "\n",
    "<img src=\"img/white_background.png\" alt=\"Drawing\" style=\"width: 200px;\"/>\n",
    "\n",
    "Unless the game window background is also white this looks a bit strange. \n",
    "\n",
    "Make sure your images have no background or remove background using an image processing program. "
   ]
  },
  {
   "cell_type": "markdown",
   "metadata": {
    "slideshow": {
     "slide_type": "slide"
    }
   },
   "source": [
    "<a id='MovingImage'></a>\n",
    "# 3. Moving an Image\n",
    "\n",
    "We move an imported image in exactly the same way as an image drawn using shapes; by changing the location of the image."
   ]
  },
  {
   "cell_type": "markdown",
   "metadata": {
    "slideshow": {
     "slide_type": "slide"
    }
   },
   "source": [
    "Let's create variables for the positions of the objects:\n",
    "```python\n",
    "        # 2.3 Position and velocity variables \n",
    "        monster_pos =[200, 200]                   \n",
    "        saucer_pos = [200, 25]\n",
    "```\n",
    "...and draw the objects using these variables:\n",
    "```python\n",
    "        # 7.2 Draw features\n",
    "        window.blit(saucer, saucer_pos)\n",
    "        window.blit(monster, monster_pos)\n",
    "```"
   ]
  },
  {
   "cell_type": "markdown",
   "metadata": {
    "slideshow": {
     "slide_type": "slide"
    }
   },
   "source": [
    "Let's also create variables for velocity:\n",
    " - the saucer does not move \n",
    " - the monster moves with random velocity\n",
    " \n",
    "```python\n",
    "\n",
    "# 2.3 Position and velocity variables \n",
    "saucer_pos = [200, 25] \n",
    "monster_pos =[200, 200]                   \n",
    "saucer_vel = [0, 0]\n",
    "monster_vel = [random.randrange(10,12), random.randrange(10,12)]\n",
    "\n",
    "if random.randrange(0,2) == 0:\n",
    "    monster_vel[x] *= -1\n",
    "if random.randrange(0,2) == 0:\n",
    "    monster_vel[y] *= -1\n",
    "```"
   ]
  },
  {
   "cell_type": "markdown",
   "metadata": {
    "slideshow": {
     "slide_type": "slide"
    }
   },
   "source": [
    "The velocity is used to update the position of each object each time the code loops.\n",
    "```python\n",
    "        # 6 Calculations\n",
    "        # 6.2 Update position\n",
    "        monster_pos[x] += monster_vel[x]\n",
    "        monster_pos[y] += monster_vel[y]\n",
    "        saucer_pos[x] += saucer_vel[x]\n",
    "        saucer_pos[y] += saucer_vel[y]\n",
    "```"
   ]
  },
  {
   "cell_type": "markdown",
   "metadata": {
    "slideshow": {
     "slide_type": "slide"
    }
   },
   "source": [
    "We are now going to recycle two blocks of code we learnt in the pong game:\n",
    "\n",
    "- the saucer position is controlled by the arrow keys\n",
    "- the monster bounces of the sides of the game window"
   ]
  },
  {
   "cell_type": "markdown",
   "metadata": {
    "slideshow": {
     "slide_type": "slide"
    }
   },
   "source": [
    "Remember that if working on a Mac you may need to run your code form the terminal using `pythonw` to access your computer's physical interfaces."
   ]
  },
  {
   "cell_type": "markdown",
   "metadata": {
    "slideshow": {
     "slide_type": "slide"
    }
   },
   "source": [
    "*The saucer position is controlled by the arrow keys.*\n",
    "\n",
    "__Original (Pong) code:__\n",
    "```python\n",
    "    pressed = pygame.key.get_pressed()\n",
    "    if pressed[pygame.K_UP] & pressed[pygame.K_DOWN]: \n",
    "            pad2_vel[y] = 0\n",
    "    elif pressed[pygame.K_UP]: \n",
    "        pad2_vel[y] = -8\n",
    "    elif pressed[pygame.K_DOWN]: \n",
    "        pad2_vel[y] = 8\n",
    "    else: \n",
    "        pad2_vel[y] = 0\n",
    "```            \n",
    "__New code:__            \n",
    "```python    \n",
    "    # 5. Event Processing\n",
    "    # 5.2 Check if any keys have been pressed  \n",
    "    pressed = pg.key.get_pressed()\n",
    "    \n",
    "    if pressed[pg.K_UP] & pressed[pg.K_DOWN]: \n",
    "            saucer_vel[y] = 0\n",
    "    elif pressed[pg.K_UP]: \n",
    "            saucer_vel[y] = -8\n",
    "    elif pressed[pg.K_DOWN]: \n",
    "            saucer_vel[y] = 8\n",
    "    else: \n",
    "            saucer_vel[y] = 0\n",
    "            \n",
    "    if pressed[pg.K_LEFT] & pressed[pg.K_RIGHT]: \n",
    "            saucer_vel[x] = 0\n",
    "    elif pressed[pg.K_LEFT]: \n",
    "            saucer_vel[x] = -8\n",
    "    elif pressed[pg.K_RIGHT]: \n",
    "            saucer_vel[x] = 8\n",
    "    else: \n",
    "            saucer_vel[x] = 0\n",
    "```"
   ]
  },
  {
   "cell_type": "markdown",
   "metadata": {
    "slideshow": {
     "slide_type": "slide"
    }
   },
   "source": [
    "To stop the saucer going outside of the game window you may recyle the code to stop the pads going outside of the window in the pong game."
   ]
  },
  {
   "cell_type": "markdown",
   "metadata": {
    "slideshow": {
     "slide_type": "slide"
    }
   },
   "source": [
    "*The monster bounces of the sides of the game window*\n",
    "\n",
    "__Original (Pong) code:__\n",
    "<br>(Ball bounces off top and bottom of game window)\n",
    "```python\n",
    "    if ball_pos[y] > (win_height-radius) or ball_pos[y] < radius:\n",
    "        ball_vel[y] *= -1\n",
    "```    \n",
    "\n"
   ]
  },
  {
   "cell_type": "markdown",
   "metadata": {
    "slideshow": {
     "slide_type": "slide"
    }
   },
   "source": [
    "### Try re-writing the original Pong code to make the *monster* bounce off the sides of the game window. \n",
    "```python\n",
    "# 6.1 Reverse direction of travel if edge is reached  \n",
    "```\n",
    "\n",
    "__Note__\n",
    "<br>The monster image behaves as a rectangle.\n",
    "<br>It's position is therefore the __top left__ corner of the rectangle.\n"
   ]
  },
  {
   "cell_type": "code",
   "execution_count": 2,
   "metadata": {},
   "outputs": [
    {
     "ename": "NameError",
     "evalue": "name 'monster_pos' is not defined",
     "output_type": "error",
     "traceback": [
      "\u001b[0;31m---------------------------------------------------------------------------\u001b[0m",
      "\u001b[0;31mNameError\u001b[0m                                 Traceback (most recent call last)",
      "\u001b[0;32m<ipython-input-2-e8fd6b8b57dc>\u001b[0m in \u001b[0;36m<module>\u001b[0;34m\u001b[0m\n\u001b[1;32m      2\u001b[0m \u001b[0;34m\u001b[0m\u001b[0m\n\u001b[1;32m      3\u001b[0m \u001b[0;31m# 6.1 Reverse direction of travel if edge is reached\u001b[0m\u001b[0;34m\u001b[0m\u001b[0;34m\u001b[0m\u001b[0;34m\u001b[0m\u001b[0m\n\u001b[0;32m----> 4\u001b[0;31m \u001b[0;32mif\u001b[0m \u001b[0mmonster_pos\u001b[0m\u001b[0;34m[\u001b[0m\u001b[0mx\u001b[0m\u001b[0;34m]\u001b[0m \u001b[0;34m>\u001b[0m \u001b[0;34m(\u001b[0m\u001b[0mwin_width\u001b[0m \u001b[0;34m-\u001b[0m \u001b[0mm_size\u001b[0m\u001b[0;34m[\u001b[0m\u001b[0mx\u001b[0m\u001b[0;34m]\u001b[0m\u001b[0;34m)\u001b[0m \u001b[0;32mor\u001b[0m \u001b[0mmonster_pos\u001b[0m\u001b[0;34m[\u001b[0m\u001b[0mx\u001b[0m\u001b[0;34m]\u001b[0m \u001b[0;34m<\u001b[0m \u001b[0;36m0\u001b[0m\u001b[0;34m:\u001b[0m\u001b[0;34m\u001b[0m\u001b[0;34m\u001b[0m\u001b[0m\n\u001b[0m\u001b[1;32m      5\u001b[0m     \u001b[0mmonster_vel\u001b[0m\u001b[0;34m[\u001b[0m\u001b[0mx\u001b[0m\u001b[0;34m]\u001b[0m \u001b[0;34m*=\u001b[0m \u001b[0;34m-\u001b[0m\u001b[0;36m1\u001b[0m\u001b[0;34m\u001b[0m\u001b[0;34m\u001b[0m\u001b[0m\n\u001b[1;32m      6\u001b[0m \u001b[0;32mif\u001b[0m \u001b[0mmonster_pos\u001b[0m\u001b[0;34m[\u001b[0m\u001b[0my\u001b[0m\u001b[0;34m]\u001b[0m \u001b[0;34m>\u001b[0m \u001b[0;34m(\u001b[0m\u001b[0mwin_height\u001b[0m \u001b[0;34m-\u001b[0m \u001b[0mm_size\u001b[0m\u001b[0;34m[\u001b[0m\u001b[0my\u001b[0m\u001b[0;34m]\u001b[0m\u001b[0;34m)\u001b[0m \u001b[0;32mor\u001b[0m \u001b[0mmonster_pos\u001b[0m\u001b[0;34m[\u001b[0m\u001b[0my\u001b[0m\u001b[0;34m]\u001b[0m \u001b[0;34m<\u001b[0m \u001b[0;36m0\u001b[0m\u001b[0;34m:\u001b[0m\u001b[0;34m\u001b[0m\u001b[0;34m\u001b[0m\u001b[0m\n",
      "\u001b[0;31mNameError\u001b[0m: name 'monster_pos' is not defined"
     ]
    }
   ],
   "source": [
    "# Answer\n",
    "\n",
    "# 6.1 Reverse direction of travel if edge is reached        \n",
    "if monster_pos[x] > (win_width - m_size[x]) or monster_pos[x] < 0:\n",
    "    monster_vel[x] *= -1\n",
    "if monster_pos[y] > (win_height - m_size[y]) or monster_pos[y] < 0:\n",
    "    monster_vel[y] *= -1"
   ]
  },
  {
   "cell_type": "markdown",
   "metadata": {
    "slideshow": {
     "slide_type": "slide"
    }
   },
   "source": [
    "<a id='RotatingImage'></a>\n",
    "# 4. Rotating an Image\n",
    "\n",
    "Unlike user-drawn shapes, imported images can be rotated using built-in Python functions.\n",
    "\n",
    "(To rotate a drawn shape e.g. polygon, you must instead write code to calculate the coordinates of the new rotated points.)"
   ]
  },
  {
   "cell_type": "markdown",
   "metadata": {
    "slideshow": {
     "slide_type": "slide"
    }
   },
   "source": [
    "Let's make the saucer rotate so that the top of it always points towards the mouse position.\n",
    "\n",
    "First we will find the angle we need to rotate the saucer by to allign the top with the mouse."
   ]
  },
  {
   "cell_type": "markdown",
   "metadata": {
    "slideshow": {
     "slide_type": "slide"
    }
   },
   "source": [
    "<img src=\"img/trig.png\" alt=\"Drawing\" style=\"width: 300px;\"/>\n",
    "\n",
    "In the example image the difference between the mouse position and the \"spaceship\" position is: \n",
    "- 400 in x direction\n",
    "- 300 in y direction\n",
    "\n",
    "The rotation angle, z is found by:\n",
    "$$z = \\tan(\\frac{y_{diff}}{x_{diff}}) = \\tan(\\frac{300}{400})$$\n",
    "\n",
    "\n"
   ]
  },
  {
   "cell_type": "markdown",
   "metadata": {
    "slideshow": {
     "slide_type": "slide"
    }
   },
   "source": [
    "<img src=\"img/sohcahtoa.jpg\" alt=\"Drawing\" style=\"width: 800px;\"/>"
   ]
  },
  {
   "cell_type": "markdown",
   "metadata": {
    "slideshow": {
     "slide_type": "slide"
    }
   },
   "source": [
    "$\\theta= tan^{-1}(\\frac{y}{x})$ has two possible solutions. \n",
    "\n",
    "Using the right one can be very important when controlling position.  \n",
    "\n",
    "A divide-by-zero error also occurs where 𝑥=0 !\n",
    "\n",
    "<img src=\"img/tan_problem.png\" alt=\"Drawing\" style=\"width: 400px;\"/>\n"
   ]
  },
  {
   "cell_type": "markdown",
   "metadata": {
    "slideshow": {
     "slide_type": "slide"
    }
   },
   "source": [
    "To ensure we find the correct 𝜃 we use a special version of the tan function.  \n",
    "\n",
    "atan2(y,x) = unique arc tangent of the two numbers x and y. \n",
    "\n",
    "The signs of y and x both are used to determine the quadrant of 𝜃.\n",
    "<br>𝜃 ∈(−𝜋, 𝜋]\n",
    "\n",
    "In the graph, the green arrows point to the results of \n",
    "atan2(-1,-1) and atan2(1,1).\n",
    "\n",
    "Division by 𝑥=0 error is also avoided.\n",
    "\n",
    "<img src=\"img/atan2_graph.png\" alt=\"Drawing\" style=\"width: 400px;\"/>\n"
   ]
  },
  {
   "cell_type": "markdown",
   "metadata": {
    "slideshow": {
     "slide_type": "slide"
    }
   },
   "source": [
    "The `atan2` was first developed to solve this type of problem in computing but it can be expressed mathematically as:\n",
    "\n",
    "<img src=\"img/atan2_math.png\" alt=\"Drawing\" style=\"width: 400px;\"/>"
   ]
  },
  {
   "cell_type": "markdown",
   "metadata": {
    "slideshow": {
     "slide_type": "slide"
    }
   },
   "source": [
    "The library, `math` has a function to compute this equation, `atan2`.\n",
    "\n",
    "This function gives not only the correct angle, but the correct *orientation*.  \n",
    "\n",
    "If the saucer position is at the origin and the mouse is somewhere on the yellow circle, we want to find the the *orientation* angle.\n",
    "\n",
    "<img src=\"img/180_deg_axes_w_saucer.png\" alt=\"Drawing\" style=\"width: 500px;\"/>\n"
   ]
  },
  {
   "cell_type": "markdown",
   "metadata": {
    "slideshow": {
     "slide_type": "slide"
    }
   },
   "source": [
    "We can find the orientation angle by:\n",
    "```python\n",
    "# Angle between mouse and saucer\n",
    "angle = atan2(-(mouse_pos[y] - (saucer_center[y]),\n",
    "               (mouse_pos[x] - (saucer_center[x]))\n",
    "``` \n",
    "\n",
    "`y` increases in the downwards vertical direction.\n",
    "<br>Therefore `-y` is used to caculate the angle in the usual cartesian coordinate axes.\n",
    "\n",
    "<img src=\"img/saucer_center.png\" alt=\"Drawing\" style=\"width: 600px;\"/>"
   ]
  },
  {
   "cell_type": "markdown",
   "metadata": {
    "slideshow": {
     "slide_type": "slide"
    }
   },
   "source": [
    "However, the position of the image of the saucer is given as the top left hand corner. \n",
    "\n",
    "So we first find the position of the centre.\n",
    "\n",
    "```python\n",
    "# Angle between mouse and saucer\n",
    "angle = atan2(-(mouse_pos[y] - (saucer_pos[y] + s_size[y]/2),\n",
    "               (mouse_pos[x] - (saucer_pos[x] + s_size[x]/2))\n",
    "``` \n",
    "\n",
    "<img src=\"img/saucer_pos.png\" alt=\"Drawing\" style=\"width: 600px;\"/>"
   ]
  },
  {
   "cell_type": "markdown",
   "metadata": {
    "slideshow": {
     "slide_type": "slide"
    }
   },
   "source": [
    "Let's write this in python code.\n",
    "\n",
    "We first get the mouse postion in the __event processing loop__:\n",
    "```python\n",
    "# 5.3 Mouse position  \n",
    "mouse_pos = pygame.mouse.get_pos()\n",
    "```"
   ]
  },
  {
   "cell_type": "markdown",
   "metadata": {
    "slideshow": {
     "slide_type": "slide"
    }
   },
   "source": [
    "Then we find the angle between the saucer and the mouse using a triginometric function from the `math` package:\n",
    "```python\n",
    "# 6.3 Angle between mouse and saucer\n",
    "angle = math.atan2(-(mouse_pos[y] - (saucer_pos[y] + s_size[y]/2)),\n",
    "                    (mouse_pos[x] - (saucer_pos[x] + s_size[x]/2)))\n",
    "```                  \n",
    "`y` increases in the downwards vertical direction.\n",
    "<br>Therefore `-y` is used to caculate the angle in the usual cartesian coordinate axes.\n",
    "\n",
    "<img src=\"img/180_deg_axes.gif\" alt=\"Drawing\" style=\"width: 200px;\"/>"
   ]
  },
  {
   "cell_type": "markdown",
   "metadata": {
    "slideshow": {
     "slide_type": "slide"
    }
   },
   "source": [
    "We rotate the saucer:\n",
    "```python  \n",
    "\n",
    "# 0. Import libraries\n",
    "from pygame.transform import rotate\n",
    "\n",
    "\n",
    "# 6.4 Rotate the saucer\n",
    "saucer_r = rotate(saucer, math.degrees(angle) - 90)\n",
    "```\n",
    "    \n",
    "We add 90 degrees to make *top* of the saucer align with the mouse cursor.\n",
    "<br>Otherise the right side of the spaceship will align with the mouse curser instead. "
   ]
  },
  {
   "cell_type": "markdown",
   "metadata": {
    "slideshow": {
     "slide_type": "slide"
    }
   },
   "source": [
    "Lastly, we draw the rotated image *instead of* the original image:\n",
    "\n",
    "```python\n",
    "# 7.2 Draw features\n",
    "# window.blit(saucer, saucer_pos)\n",
    "window.blit(saucer_r, saucer_pos)\n",
    "```\n",
    "    \n",
    "    "
   ]
  },
  {
   "cell_type": "markdown",
   "metadata": {
    "slideshow": {
     "slide_type": "slide"
    }
   },
   "source": [
    "We will finish building the space game at the end of the class. \n",
    "<br>We will make the spaceship shoot fireballs at the monster.\n",
    "\n",
    "Before that, we are going to learn how to import and use sound files in our program. "
   ]
  },
  {
   "cell_type": "markdown",
   "metadata": {
    "slideshow": {
     "slide_type": "slide"
    }
   },
   "source": [
    "<a id='ImportingSound'></a>\n",
    "# 5. Importing Sound\n",
    "\n",
    "Python has a number of dedicated sound libraries, as mentioned at the start of this class.\n",
    "\n",
    "Today we will be using Pygame to add sounds to a program."
   ]
  },
  {
   "cell_type": "code",
   "execution_count": null,
   "metadata": {
    "slideshow": {
     "slide_type": "-"
    }
   },
   "outputs": [],
   "source": [
    "import pygame.mixer as mix"
   ]
  },
  {
   "cell_type": "markdown",
   "metadata": {
    "slideshow": {
     "slide_type": "slide"
    }
   },
   "source": [
    "Use sounds with Pygame, we first need to initialise the Pygame audio mixer. \n",
    "\n",
    "To do this, include the following line before using any pygame.mixer functions in your code. \n",
    "\n",
    "\n",
    "        \n",
    "        "
   ]
  },
  {
   "cell_type": "code",
   "execution_count": null,
   "metadata": {},
   "outputs": [],
   "source": [
    "mix.init()"
   ]
  },
  {
   "cell_type": "markdown",
   "metadata": {
    "slideshow": {
     "slide_type": "slide"
    }
   },
   "source": [
    "Uncompressed sound files usually end in .wav. \n",
    "\n",
    "Uncompressed files are, by nature, larger than other formats - no algorithm has been run on them to make them smaller.\n",
    "\n",
    ".wav files can be used with Pygame but some, especially large .wav files, are incompatible with pygame. \n",
    "\n",
    ".mp3 and .ogg file formats are smaller and more reliable for use with pygame.\n",
    "\n"
   ]
  },
  {
   "cell_type": "markdown",
   "metadata": {
    "slideshow": {
     "slide_type": "slide"
    }
   },
   "source": [
    "Free sources of online sounds can be used to source audio for your games and other prgrams e.g.:\n",
    "<br>https://opengameart.org/content/battle-theme-b-for-rpg\n",
    "\n",
    "Some example sounds can be found in the `Sounds` folder in the `ILAS_PyEv2019` folder."
   ]
  },
  {
   "cell_type": "markdown",
   "metadata": {
    "slideshow": {
     "slide_type": "slide"
    }
   },
   "source": [
    "### Loading A Sound File \n",
    "<a id='LoadingSoundFile'></a>\n",
    "\n",
    "Like images, sounds must be loaded before they are used. <br>This should be done once sometime before the main program loop. \n",
    "\n",
    "\n",
    "\n"
   ]
  },
  {
   "cell_type": "markdown",
   "metadata": {
    "slideshow": {
     "slide_type": "slide"
    }
   },
   "source": [
    "### Background Music\n",
    "<a id='BackgroundMusic'></a>\n",
    "Background music and sounds are loaded using `pygame.mixer.music`.\n",
    "\n",
    ".mp3 and .wav files may be imported."
   ]
  },
  {
   "cell_type": "code",
   "execution_count": null,
   "metadata": {},
   "outputs": [],
   "source": [
    "mix.music.load(\"Sounds/battleThemeB.mp3\")\n",
    "mix.music.load(\"Sounds/JuhaniJunkalaRetroGameMusicPackTitleScreen.wav\")"
   ]
  },
  {
   "cell_type": "markdown",
   "metadata": {
    "slideshow": {
     "slide_type": "slide"
    }
   },
   "source": [
    "To play the most recently loaded song:"
   ]
  },
  {
   "cell_type": "code",
   "execution_count": null,
   "metadata": {},
   "outputs": [],
   "source": [
    "#mix.music.play()           # Play once, same as : mix.music.play(0, 0.0)   \n",
    "mix.music.play(-1, 0.0)  # Loop infinitely"
   ]
  },
  {
   "cell_type": "markdown",
   "metadata": {},
   "source": [
    "Arguments:\n",
    "\n",
    "    - number of times to repeat song\n",
    "    - track start position (s)"
   ]
  },
  {
   "cell_type": "markdown",
   "metadata": {
    "slideshow": {
     "slide_type": "slide"
    }
   },
   "source": [
    "`pygame.mixer.music` has many functions for manipulating the sound, such as..."
   ]
  },
  {
   "cell_type": "code",
   "execution_count": null,
   "metadata": {
    "slideshow": {
     "slide_type": "slide"
    }
   },
   "outputs": [],
   "source": [
    "mix.music.set_volume(0.5)"
   ]
  },
  {
   "cell_type": "markdown",
   "metadata": {},
   "source": [
    "*Volume: Takes an argument between 0.0 (silent) and 1.0 (loud)*"
   ]
  },
  {
   "cell_type": "code",
   "execution_count": null,
   "metadata": {
    "slideshow": {
     "slide_type": "slide"
    }
   },
   "outputs": [],
   "source": [
    "mix.music.fadeout(2000)"
   ]
  },
  {
   "cell_type": "markdown",
   "metadata": {
    "slideshow": {
     "slide_type": "-"
    }
   },
   "source": [
    "*Music fades out over specified time (ms)*"
   ]
  },
  {
   "cell_type": "markdown",
   "metadata": {
    "slideshow": {
     "slide_type": "slide"
    }
   },
   "source": [
    "To start playing another song immediately after a song is finished, you can queue songs."
   ]
  },
  {
   "cell_type": "code",
   "execution_count": null,
   "metadata": {},
   "outputs": [],
   "source": [
    "mix.music.queue('Sounds/Übermensch.wav')"
   ]
  },
  {
   "cell_type": "markdown",
   "metadata": {
    "slideshow": {
     "slide_type": "slide"
    }
   },
   "source": [
    "To stop a song:"
   ]
  },
  {
   "cell_type": "code",
   "execution_count": null,
   "metadata": {
    "slideshow": {
     "slide_type": "-"
    }
   },
   "outputs": [],
   "source": [
    "mix.music.stop()"
   ]
  },
  {
   "cell_type": "markdown",
   "metadata": {},
   "source": [
    "This also deletes the queue."
   ]
  },
  {
   "cell_type": "markdown",
   "metadata": {
    "slideshow": {
     "slide_type": "slide"
    }
   },
   "source": [
    "### Sound Effects\n",
    "<a id='SoundEffects'></a>\n",
    "`pygame.mixer.Sound` can be used to load .ogg and .wav files.\n",
    "\n",
    "These can be played *over* the background music of your program.\n",
    "\n",
    "For example, these sounds can be triggered by events in the program."
   ]
  },
  {
   "cell_type": "markdown",
   "metadata": {
    "slideshow": {
     "slide_type": "slide"
    }
   },
   "source": [
    "To trigger a sound effect, we first assign it to a variable name, allowing it to be referenced in the rest of the program:"
   ]
  },
  {
   "cell_type": "code",
   "execution_count": null,
   "metadata": {},
   "outputs": [],
   "source": [
    "teleport = mix.Sound(\"Sounds/teleport.ogg\")\n",
    "zap = mix.Sound(\"Sounds/zap8a.ogg\")"
   ]
  },
  {
   "cell_type": "markdown",
   "metadata": {
    "slideshow": {
     "slide_type": "slide"
    }
   },
   "source": [
    "The volume of the sounds can be set:"
   ]
  },
  {
   "cell_type": "code",
   "execution_count": null,
   "metadata": {},
   "outputs": [],
   "source": [
    "teleport.set_volume(1.0)\n",
    "zap.set_volume(1.0)"
   ]
  },
  {
   "cell_type": "markdown",
   "metadata": {
    "slideshow": {
     "slide_type": "slide"
    }
   },
   "source": [
    "Sounds can be played by calling the variable name:"
   ]
  },
  {
   "cell_type": "code",
   "execution_count": null,
   "metadata": {},
   "outputs": [],
   "source": [
    "teleport.play()"
   ]
  },
  {
   "cell_type": "code",
   "execution_count": null,
   "metadata": {},
   "outputs": [],
   "source": [
    "zap.play()"
   ]
  },
  {
   "cell_type": "markdown",
   "metadata": {
    "slideshow": {
     "slide_type": "slide"
    }
   },
   "source": [
    "Let's play some background music with sound effects, triggered by user input, over the top:"
   ]
  },
  {
   "cell_type": "code",
   "execution_count": null,
   "metadata": {
    "slideshow": {
     "slide_type": "slide"
    }
   },
   "outputs": [],
   "source": [
    "mix.music.load(\"Sounds/moonlight.wav\")\n",
    "mix.music.set_volume(0.5)\n",
    "mix.music.play()"
   ]
  },
  {
   "cell_type": "code",
   "execution_count": null,
   "metadata": {
    "slideshow": {
     "slide_type": "slide"
    }
   },
   "outputs": [],
   "source": [
    "while 1:\n",
    "    \n",
    "    play = input(\"Play teleport (T), play zap (Z) or break (B) \")\n",
    "    \n",
    "    if play == \"T\" or play == \"t\":\n",
    "        teleport.play()\n",
    "        \n",
    "    elif play == \"Z\" or play == \"z\":\n",
    "        zap.play()\n",
    "        \n",
    "    elif play == \"B\" or play == \"b\":\n",
    "        print(\"break selected, breaking out...\")\n",
    "        break\n",
    "        \n",
    "    else:\n",
    "        print(\"invalid selection, breaking out...\")\n",
    "        break\n",
    "        "
   ]
  },
  {
   "cell_type": "code",
   "execution_count": null,
   "metadata": {
    "slideshow": {
     "slide_type": "slide"
    }
   },
   "outputs": [],
   "source": [
    "mix.music.stop()"
   ]
  },
  {
   "cell_type": "markdown",
   "metadata": {
    "slideshow": {
     "slide_type": "slide"
    }
   },
   "source": [
    "Let's add some background music and sound effects to the space game.\n",
    "\n",
    "Import the library\n",
    "\n",
    "\n",
    "```python\n",
    "import pygame.mixer as mix\n",
    "```"
   ]
  },
  {
   "cell_type": "markdown",
   "metadata": {
    "slideshow": {
     "slide_type": "slide"
    }
   },
   "source": [
    "Add the following lines of code after initialising the pygame library:\n",
    "\n",
    "\n",
    "```python\n",
    "# 1. Initailise the pygame library\n",
    "pygame.init()\n",
    "\n",
    "mix.init() # initialise music player\n",
    "mix.music.load(\"../Sounds/battleThemeB.mp3\") # load music\n",
    "mix.music.set_volume(0.3) # set volume\n",
    "mix.music.play(-1, 0.0) # play music on repeat\n",
    "```"
   ]
  },
  {
   "cell_type": "markdown",
   "metadata": {
    "slideshow": {
     "slide_type": "slide"
    }
   },
   "source": [
    "Import a sound effect. We will use this later.\n",
    "```python\n",
    "# 3.2 Import sounds\n",
    "zap = mix.Sound(\"../Sounds/zap8a.ogg\")\n",
    "```"
   ]
  },
  {
   "cell_type": "markdown",
   "metadata": {
    "slideshow": {
     "slide_type": "slide"
    }
   },
   "source": [
    "<a id='ImportingText'></a>\n",
    "# 6. Importing Text\n",
    "\n",
    "Lastly, we will look at how to display text within the game window.\n",
    "\n",
    "e.g. displaying a player score or \"GAME OVER\" screen.\n",
    "\n",
    "You can define the font, colour, size, etc of the text."
   ]
  },
  {
   "cell_type": "markdown",
   "metadata": {
    "slideshow": {
     "slide_type": "slide"
    }
   },
   "source": [
    "To display a list of all fonts available on your computer:"
   ]
  },
  {
   "cell_type": "code",
   "execution_count": null,
   "metadata": {},
   "outputs": [],
   "source": [
    "\n",
    "print(pygame.font.get_fonts())\n",
    "\n"
   ]
  },
  {
   "cell_type": "markdown",
   "metadata": {
    "slideshow": {
     "slide_type": "slide"
    }
   },
   "source": [
    "Let's add some text to the space game! \n",
    "\n",
    "First select a font:\n",
    "\n",
    "```python\n",
    "# 7.3 Draw text on screen\n",
    "font_size = 26\n",
    "#font = pygame.font.SysFont(None, font_size) # default font\n",
    "font = pg.font.SysFont('helveticaneuedeskinterface', font_size)\n",
    "```"
   ]
  },
  {
   "cell_type": "markdown",
   "metadata": {
    "slideshow": {
     "slide_type": "slide"
    }
   },
   "source": [
    "Next choose the text to display and the colour:\n",
    "\n",
    "```python\n",
    "space_green = (0,250,154)\n",
    "text = font.render(\"Space Game!\", True, space_green)\n",
    "```"
   ]
  },
  {
   "cell_type": "markdown",
   "metadata": {
    "slideshow": {
     "slide_type": "slide"
    }
   },
   "source": [
    "Lastly, add the text to the game window:\n",
    "\n",
    "```python\n",
    "window.blit(text,         # text to print\n",
    "            (250, 550))   # x, y position of text\n",
    "```   \n",
    "    "
   ]
  },
  {
   "cell_type": "markdown",
   "metadata": {
    "slideshow": {
     "slide_type": "slide"
    }
   },
   "source": [
    "Full code for drawing text:\n",
    "\n",
    "```python\n",
    "# 7.3 Draw text on screen\n",
    "font_size = 26\n",
    "#font = pygame.font.SysFont(None, font_size) # default font\n",
    "font = pg.font.SysFont('helveticaneuedeskinterface', font_size)\n",
    "space_green = (0,250,154)\n",
    "text = font.render(\"Space Game!\", True, space_green)\n",
    "window.blit(text,         # text to print\n",
    "            (250, 550))   # x, y position of text\n",
    "```\n"
   ]
  },
  {
   "cell_type": "markdown",
   "metadata": {
    "slideshow": {
     "slide_type": "slide"
    }
   },
   "source": [
    "# Summary\n",
    "<a id='Summary'></a>\n",
    " - There are mutliple libraries, including Pygame, available for importing and working with external sources of data such as sound, images, and fonts.\n",
    "\n",
    "\n",
    "__Importing Images__\n",
    " - The order in which images are \"drawn\" (`blit`) is important, for example drawing a background *after* an image will cover the image.\n",
    " - Images to appear on top of a backgrond should be imported without a solid background in the image. For .if files the background can be removed withing the program.\n",
    " - Images can be rotated using the function `pygame.transform.rotate`.\n",
    " - The built-in function, `enumerate` is useful for numbering the items of a list, e.g. when iterating using a for loop.\n",
    " \n",
    " \n",
    "  "
   ]
  },
  {
   "cell_type": "markdown",
   "metadata": {},
   "source": [
    "__Importing Sound__\n",
    " - .mp3 and .wav files may be imported for use as music in Pygame, .wav amd .ogg may be imported for sound effects.\n",
    " - `pygame.mixer.music` privides a range of function for manipulating imoprted sound files within a program.\n",
    " \n",
    " \n",
    "__Importing Text__\n",
    " - You can access the fonts available from your computer system to create font objects within a game window. "
   ]
  },
  {
   "cell_type": "markdown",
   "metadata": {
    "slideshow": {
     "slide_type": "slide"
    }
   },
   "source": [
    "<a id='ReviewExercises'></a>\n",
    "# 6. Review Exercises\n",
    "\n",
    "Compete the exercises below.\n",
    "\n",
    "__Exercise 1__ is a tutorial to finish building the space game.\n",
    "\n",
    "__Exercise 2__ is a tutorial about adding text and sounds to the Pong game.\n",
    "\n",
    "__Exercise 3__ is a tutorial about using conditionals to decide when the game has finished (e.g. based on player score). \n"
   ]
  },
  {
   "cell_type": "markdown",
   "metadata": {
    "slideshow": {
     "slide_type": "slide"
    }
   },
   "source": [
    "# Review Exercise 1: Interaction Between Images\n",
    "<a id='InteractionBetweenImages'></a>\n",
    "Work through the tutorial to shoot fireballs at the alien from the spaceship. \n",
    "\n",
    "Run the program after __each step__ to check for any errors. \n",
    "\n",
    "<table><tr><td> \n",
    "<img src='img/battle1.png' style=\"width: 200px;\"> </td><td> \n",
    "<img src='img/battle2.png' style=\"width: 200px;\"> </td><td> \n",
    "<img src='img/battle3.png' style=\"width: 200px;\"> </td></tr>\n",
    "</table>\n",
    "\n",
    "How does the program detect and respond to interaction (e.g. collision) between two objects?"
   ]
  },
  {
   "cell_type": "markdown",
   "metadata": {
    "slideshow": {
     "slide_type": "slide"
    }
   },
   "source": [
    "We have studied this process for user-defined geometric shapes.\n",
    "\n",
    "The process for imported imeages is similar, we treat the imported image as a rectangle.\n",
    "\n",
    "In this example, we will also consider how we deal with mutliple images by __iterating__ through a __list__.\n"
   ]
  },
  {
   "cell_type": "markdown",
   "metadata": {
    "slideshow": {
     "slide_type": "slide"
    }
   },
   "source": [
    "##### Example : Interaction Between Images\n",
    "\n",
    "To learn about interaction, we will use the following example...\n",
    "\n",
    "We are going to make a fireball shoot out the top of the saucer when we click the mouse.\n",
    "\n",
    "The fireball will shoot out in the direction the saucer is pointing.\n",
    "\n",
    "If the fireball hits the monster, the monster will disappear.\n",
    "\n",
    "<table><tr><td> \n",
    "<img src='img/battle1.png' style=\"width: 200px;\"> </td><td> \n",
    "<img src='img/battle2.png' style=\"width: 200px;\"> </td><td> \n",
    "<img src='img/battle3.png' style=\"width: 200px;\"> </td></tr>\n",
    "</table>"
   ]
  },
  {
   "cell_type": "markdown",
   "metadata": {},
   "source": [
    "######  Step 1: Import image of fireball and find its size:\n",
    "        # 3.1 Import images\n",
    "        fire = load(\"../img/fire.png\")\n",
    "        f_size = fire.get_rect().size"
   ]
  },
  {
   "cell_type": "markdown",
   "metadata": {
    "slideshow": {
     "slide_type": "subslide"
    }
   },
   "source": [
    "######  Step 2: Process __mouse click__ event:\n",
    "        # 5.4 Mouse click\n",
    "        if event.type==pygame.MOUSEBUTTONDOWN:\n",
    "            mouse_click = True\n",
    "        else:\n",
    "            mouse_click = False"
   ]
  },
  {
   "cell_type": "markdown",
   "metadata": {
    "slideshow": {
     "slide_type": "subslide"
    }
   },
   "source": [
    "###### Step 3: List to store all shots:\n",
    "        # 2.4 List to store shots \n",
    "        shots = []"
   ]
  },
  {
   "cell_type": "markdown",
   "metadata": {
    "slideshow": {
     "slide_type": "subslide"
    }
   },
   "source": [
    "###### Step 4: Every time a shot is fired...\n",
    "1. the `zap` sound effect is played\n",
    "1. the list of shots is `appended` with the location of the spaceship when the shot was made. \n",
    "\n",
    "```python\n",
    "# 6.5 Fire a shot\n",
    "if mouse_click:\n",
    "    \n",
    "    # 6.5.1 play sound effect\n",
    "    zap.play()   \n",
    "      \n",
    "    # 6.5.2 add shot to the list of shots\n",
    "    shot_pos = [saucer_pos[x] + s_size[x]/2 - f_size[x]/2, \n",
    "                saucer_pos[y] + s_size[y]/2 - f_size[y]/2]\n",
    "\n",
    "    shots.append([angle, shot_pos])\n",
    "    ```"
   ]
  },
  {
   "cell_type": "markdown",
   "metadata": {
    "slideshow": {
     "slide_type": "subslide"
    }
   },
   "source": [
    "###### What does this code do?\n",
    ">`shot_pos = [saucer_pos[x] + s_size[x]/2 - f_size[x]/2, \n",
    "            saucer_pos[y] + s_size[y]/2 - f_size[y]/2]`\n",
    "\n",
    "The fire shot top-left corner:\n",
    "- $x_s = x_f + \\frac{w_s}{2} - \\frac{w_f}{2}$\n",
    "- $y_s = y_f + \\frac{h_s}{2} - \\frac{h_f}{2}$\n",
    "\n",
    "where $w$ and $h$ denote width and height respectively.\n",
    "\n",
    "<img src=\"img/centeredfire.png\" alt=\"Drawing\" style=\"width: 200px;\"/>"
   ]
  },
  {
   "cell_type": "markdown",
   "metadata": {
    "slideshow": {
     "slide_type": "subslide"
    }
   },
   "source": [
    "###### What does this code do?\n",
    ">`shots.append([angle, shot_pos])`\n",
    "\n",
    "Adds the shot to the list of all shots fired."
   ]
  },
  {
   "cell_type": "markdown",
   "metadata": {
    "slideshow": {
     "slide_type": "subslide"
    }
   },
   "source": [
    "<a id='enumerate'></a>\n",
    "### `enumerate()`\n",
    "The function `enumerate` can be used to return the index of each element.\n",
    "<br>This information is cast as a list to allow us to read it.\n",
    "\n",
    "An example is shown below:"
   ]
  },
  {
   "cell_type": "code",
   "execution_count": null,
   "metadata": {
    "slideshow": {
     "slide_type": "subslide"
    }
   },
   "outputs": [],
   "source": [
    "lab_group0 = [\"Sara\", \"Mari\", \"Quang\", \"Sam\", \"Ryo\", \"Nao\", \"Takashi\"]\n",
    "a = enumerate(lab_group0)\n",
    "b = list(enumerate(lab_group0))\n",
    "print(a)\n",
    "print(b)\n",
    "\n"
   ]
  },
  {
   "cell_type": "markdown",
   "metadata": {
    "slideshow": {
     "slide_type": "subslide"
    }
   },
   "source": [
    "`enumerate` can be useful for numbering each iteration of a loop:\n",
    "###### Step 4: Iterate over all shots.\n",
    "```python\n",
    "# 6.6 Iterate over all shots, giving each one a number\n",
    "for n, shot in enumerate(shots):\n",
    "    print(n)\n",
    "    speed = 20\n",
    "    shot_vel = [math.cos(shot[0]) *speed, \n",
    "                -math.sin(shot[0])*speed] # y direction down=positive\n",
    "    ```\n",
    "        \n",
    "###### Update position.       \n",
    "```python\n",
    "    # 6.6.1 Update fireball position\n",
    "    shot[1][x] += shot_vel[x]\n",
    "    shot[1][y] += shot_vel[y]\n",
    "```\n",
    "        \n",
    "##### Remove any shots that have left the screen. \n",
    "```python\n",
    "    # 6.6.2 If the fireball leaves the screen, remove it from the list of shots\n",
    "    shot_len = max(f_size[x],f_size[y])\n",
    "    if (shot[1][x] > b_size[x] + shot_len or \n",
    "        shot[1][x] < - shot_len or \n",
    "        shot[1][y] > b_size[y] + shot_len or \n",
    "        shot[1][y] < - shot_len):\n",
    "        shots.pop(n)\n",
    "    ```"
   ]
  },
  {
   "cell_type": "markdown",
   "metadata": {
    "slideshow": {
     "slide_type": "subslide"
    }
   },
   "source": [
    "###### Step 5: Draw the shots\n",
    "```python\n",
    "# 7.2 Draw features\n",
    "        \n",
    "for shot in shots:\n",
    "    shot_r = pygame.transform.rotate(fire, math.degrees(shot[0]) - 90)\n",
    "    window.blit(shot_r, shot[1])\n",
    "        ```"
   ]
  },
  {
   "cell_type": "markdown",
   "metadata": {
    "slideshow": {
     "slide_type": "subslide"
    }
   },
   "source": [
    "###### Step 6: If a shot hits the monster, make it disappear\n",
    "\n",
    "<img src='img/battle3.png' style=\"width: 200px;\"> </td>\n",
    "\n",
    "Create a variable called `monster_exists`.\n",
    "```python\n",
    "    monster_exists = True\n",
    "```\n"
   ]
  },
  {
   "cell_type": "markdown",
   "metadata": {
    "slideshow": {
     "slide_type": "subslide"
    }
   },
   "source": [
    "If the monster is hit, we \"turn off\" the monster.\n",
    "```python\n",
    "# 6.6.3. Monster hit, turn off monster\n",
    "if ((monster_pos[x]  <  shot[1][x]  <  monster_pos[x] + m_size[x])\n",
    "    and \n",
    "    (monster_pos[y]  <  shot[1][y]  <  monster_pos[y] + m_size[y])):\n",
    "     monster_exists = False\n",
    "            ```"
   ]
  },
  {
   "cell_type": "markdown",
   "metadata": {
    "slideshow": {
     "slide_type": "subslide"
    }
   },
   "source": [
    "In `# 5. Draw`, change:\n",
    "\n",
    "    window.blit(monster, monster_pos)\n",
    "    \n",
    "to:\n",
    "        \n",
    "    if monster:\n",
    "        window.blit(monster, monster_pos)\n",
    "        \n",
    "The monster will only be drawn if `monster==True`."
   ]
  },
  {
   "cell_type": "markdown",
   "metadata": {},
   "source": [
    "# Review Exercise 2: Adding Text and Sound\n",
    "Open the Pong game you write in previous classes. \n",
    "\n",
    "Using what you have learnt in today's class:\n",
    "\n",
    "<br>A) Add background music to the Pong game.\n",
    "\n",
    "<br>B) Add a sound effect that is played when the ball hits a paddle. \n",
    "\n",
    "<br>C) Add text that displays the current score of each player\n",
    "1. Create two variables to store the score for each player: `l_score`, `r_score`.  \n",
    "1. If the ball goes off the screen, add 1 to the score of the winner `# 6.2.1 Update scores`.\n",
    "1. Display the current score on the screen as shown in the picture:\n",
    "\n",
    "<img src='img/scores.png' style=\"width: 350px;\"> </td>\n",
    "\n",
    "\n"
   ]
  },
  {
   "cell_type": "markdown",
   "metadata": {
    "slideshow": {
     "slide_type": "slide"
    }
   },
   "source": [
    "# Review Exercise 3: Conditionals "
   ]
  },
  {
   "cell_type": "markdown",
   "metadata": {},
   "source": [
    "In addition to checking if the user has quit the game, we can now quit the Pong game when either player reaches a particular score, in this case, 5.\n",
    "\n",
    "```python\n",
    "# 5.1 Check if the user has quit the game\n",
    "if event.type == pg.QUIT:        \n",
    "    pg.quit()\n",
    "    sys.exit() \n",
    "\n",
    "if game_over:\n",
    "    pg.time.delay(1000)\n",
    "    pg.quit()\n",
    "    sys.exit() \n",
    "    ```"
   ]
  },
  {
   "cell_type": "markdown",
   "metadata": {},
   "source": [
    "Another way to handle this is to create a variable e.g. `game_over`:\n",
    "\n",
    "```python\n",
    "game_over = False\n",
    "\n",
    "# 5.1 Check if the user has quit the game\n",
    "if event.type == pg.QUIT:        \n",
    "    pg.quit()\n",
    "    sys.exit() \n",
    "\n",
    "if game_over:\n",
    "    pg.time.delay(1000)\n",
    "    pg.quit()\n",
    "    sys.exit() \n",
    "\n",
    "if l_score >= 5 or r_score >= 5:\n",
    "    game_over = True\n",
    "    ```"
   ]
  },
  {
   "cell_type": "markdown",
   "metadata": {},
   "source": [
    "Open the space game again. Using the example above,edit your code to quit the game when a fireball hits the monster (*hint : when `monster_exists == False`*). \n",
    "\n",
    "If you want the program to pause before exiting, you can use: \n",
    "<br>`pygame.time.delay( ms )`\n",
    "<br>where `ms` is the time to pause in milliseconds (1000 milliseconds = 1 second) "
   ]
  },
  {
   "cell_type": "code",
   "execution_count": null,
   "metadata": {},
   "outputs": [],
   "source": []
  }
 ],
 "metadata": {
  "celltoolbar": "Slideshow",
  "kernelspec": {
   "display_name": "Python 3",
   "language": "python",
   "name": "python3"
  },
  "language_info": {
   "codemirror_mode": {
    "name": "ipython",
    "version": 3
   },
   "file_extension": ".py",
   "mimetype": "text/x-python",
   "name": "python",
   "nbconvert_exporter": "python",
   "pygments_lexer": "ipython3",
   "version": "3.7.4"
  }
 },
 "nbformat": 4,
 "nbformat_minor": 2
}
