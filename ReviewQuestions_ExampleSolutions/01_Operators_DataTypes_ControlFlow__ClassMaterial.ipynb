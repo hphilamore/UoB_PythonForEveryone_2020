{
 "cells": [
  {
   "cell_type": "markdown",
   "metadata": {
    "slideshow": {
     "slide_type": "slide"
    }
   },
   "source": [
    "# 01 Operators, Data Types & Control Flow\n",
    "# Review Exercises - Solutions"
   ]
  },
  {
   "cell_type": "markdown",
   "metadata": {
    "slideshow": {
     "slide_type": "slide"
    }
   },
   "source": [
    "## Review Exercise : Adventure Game\n",
    "Earlier, we studied a very basic, text based adventure game.\n",
    "\n",
    "<p align=\"center\">\n",
    "  <img src=\"img/flow_diag_adventure_game.png\" alt=\"Drawing\" style=\"width: 400px;\"/>\n",
    "</p>\n",
    "\n",
    "Using the conditionals and loops you have learnt today, write your own adventure game. \n",
    "\n",
    "Try to include at least 5 different outcomes/endings. "
   ]
  },
  {
   "cell_type": "code",
   "execution_count": null,
   "metadata": {},
   "outputs": [],
   "source": [
    "# Review Exercise : Adventure Game"
   ]
  },
  {
   "cell_type": "code",
   "execution_count": 25,
   "metadata": {},
   "outputs": [
    {
     "name": "stdout",
     "output_type": "stream",
     "text": [
      "You approach a castle. \n",
      "The castle door is closed. \n",
      "You find a key.\n",
      "Do you pick the key up?  (Yes/No) no\n",
      "Do you bend down to look more closely at the key?  (Yes/No) no\n",
      "The key turns into a prize. \n",
      "You win!\n"
     ]
    }
   ],
   "source": [
    "# Review Exercise : Adventure Game\n",
    "# Example Solution\n",
    "\n",
    "print(\"You approach a castle. \\nThe castle door is closed. \\nYou find a key.\")\n",
    "\n",
    "\n",
    "\n",
    "answer = input(\"Do you pick the key up?  (Yes/No) \")\n",
    "if answer == 'Yes':\n",
    "    \n",
    "    answer = input(\"Do you enter the castle?  (Yes/No) \")\n",
    "    \n",
    "    if answer == 'Yes':\n",
    "        \n",
    "        print(\"Inside the castle you see a giant spider.\")\n",
    "        answer = input(\"Do you fight the spider?  (Yes/No) \")\n",
    "        \n",
    "        if answer == 'Yes':\n",
    "            print(\"you defeat the spider. \\nYou win!\")\n",
    "        else:\n",
    "            print(\"The spider eats you. \\nYou lose!\")\n",
    "            \n",
    "    else:\n",
    "        print(\"You notice a path around the castle wall.\")\n",
    "        answer = input(\"Do you walk along the path?  (Yes/No) \")\n",
    "        \n",
    "        if answer == 'Yes':\n",
    "            print(\"Find treasure. \\nYou win!\")\n",
    "        else:\n",
    "            print(\"No treasure. \\nYou lose!\")\n",
    "\n",
    "else:   \n",
    "    \n",
    "\n",
    "    answer = input(\"Do you bend down to look more closely at the key?  (Yes/No) \")\n",
    "    \n",
    "    if answer == 'Yes':\n",
    "        print(\"The key explodes. \\nYou die!\")\n",
    "    else:\n",
    "        print(\"The key turns into a prize. \\nYou win!\")"
   ]
  },
  {
   "cell_type": "code",
   "execution_count": null,
   "metadata": {},
   "outputs": [],
   "source": []
  },
  {
   "cell_type": "code",
   "execution_count": null,
   "metadata": {},
   "outputs": [],
   "source": []
  }
 ],
 "metadata": {
  "celltoolbar": "Slideshow",
  "kernelspec": {
   "display_name": "Python 3",
   "language": "python",
   "name": "python3"
  },
  "language_info": {
   "codemirror_mode": {
    "name": "ipython",
    "version": 3
   },
   "file_extension": ".py",
   "mimetype": "text/x-python",
   "name": "python",
   "nbconvert_exporter": "python",
   "pygments_lexer": "ipython3",
   "version": "3.7.4"
  }
 },
 "nbformat": 4,
 "nbformat_minor": 2
}
