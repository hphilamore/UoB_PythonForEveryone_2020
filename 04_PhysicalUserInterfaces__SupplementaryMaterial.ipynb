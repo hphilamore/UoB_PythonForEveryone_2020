{
 "cells": [
  {
   "cell_type": "markdown",
   "metadata": {
    "slideshow": {
     "slide_type": "slide"
    }
   },
   "source": [
    "<img src=\"img/full-colour-logo-UoB.png\" alt=\"Drawing\" style=\"width: 200px;\"/>\n",
    "\n",
    "# Introduction to Programming for Everyone\n",
    "\n",
    "## Python 3\n",
    "\n",
    "\n"
   ]
  },
  {
   "cell_type": "markdown",
   "metadata": {
    "collapsed": true,
    "slideshow": {
     "slide_type": "slide"
    }
   },
   "source": [
    "# 04 Physical User Interfaces\n",
    "## SUPPLEMENTARY MATERIAL\n"
   ]
  },
  {
   "cell_type": "markdown",
   "metadata": {
    "slideshow": {
     "slide_type": "slide"
    }
   },
   "source": [
    "Write a program to:\n",
    "1. draw the game layout shown below\n",
    "1. give the circle a starting velocity of:\n",
    "    - x direction: 3 pixels per timestep\n",
    "    - y direction: -2 pixels per timestep\n",
    "    <br>(The extension task was to give the circle random starting velocity). \n",
    "1. Invert the velocity of the circle if it collides with the edge of the window.\n",
    "\n",
    "<p align=\"center\">\n",
    "<img src=\"img/pong_setup.png\" alt=\"Drawing\" style=\"width: 400px;\"/>\n",
    "</p>"
   ]
  },
  {
   "cell_type": "markdown",
   "metadata": {
    "slideshow": {
     "slide_type": "slide"
    }
   },
   "source": [
    "## Running Code when using Physical Interfaces\n",
    "\n",
    "In this class we will use the physical interfaces (keyboard) of the computer to control the game.\n",
    "\n",
    "Whe running the code it is necessary to access the part of the computer operating system which controls operations relating to interactive user interfaces.\n",
    "\n",
    "This is different for Windows and Linux users than for Mac. \n",
    "\n",
    "\n",
    "##### If using Windows or Linux...\n",
    "You can run your code in spyder.\n",
    "\n",
    "##### If using Mac...\n",
    "You must run your code from the terminal using the command:\n",
    ">`pythonw filename.py`\n",
    "\n",
    "where `filename` is the name you have given your file."
   ]
  },
  {
   "cell_type": "markdown",
   "metadata": {
    "slideshow": {
     "slide_type": "slide"
    }
   },
   "source": [
    "<br>Using `pythonw` will allow you to access the WindowManager library on the OSX operating system which is needed to run operations relating to interactive user interfaces.\n",
    "\n",
    "###### Note : \n",
    "`pythonw` is not available on Linux or Windows.\n",
    "<br>\n",
    "\n",
    "Instructions for this are given below..."
   ]
  },
  {
   "cell_type": "markdown",
   "metadata": {
    "slideshow": {
     "slide_type": "slide"
    }
   },
   "source": [
    "### Instructions for running your code from the terminal on mac\n",
    "__(Not needed if using windows)__\n",
    "\n",
    "### Step 1 : Navigate to the directory where your files are stored.  \n",
    "Open a terminal. \n",
    "\n",
    "Using `cd`, navigate to *inside* the folder where you have stored the file you are working on in Spyder.\n",
    "\n",
    "### Step 2 : Run the code.\n",
    "Type:\n",
    ">`pythonw filename.py`\n",
    "\n",
    "where `filename` is the name you have given your file."
   ]
  },
  {
   "cell_type": "code",
   "execution_count": null,
   "metadata": {},
   "outputs": [],
   "source": []
  }
 ],
 "metadata": {
  "kernelspec": {
   "display_name": "Python 3",
   "language": "python",
   "name": "python3"
  },
  "language_info": {
   "codemirror_mode": {
    "name": "ipython",
    "version": 3
   },
   "file_extension": ".py",
   "mimetype": "text/x-python",
   "name": "python",
   "nbconvert_exporter": "python",
   "pygments_lexer": "ipython3",
   "version": "3.7.4"
  }
 },
 "nbformat": 4,
 "nbformat_minor": 2
}
